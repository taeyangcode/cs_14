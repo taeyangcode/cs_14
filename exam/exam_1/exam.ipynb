{
 "cells": [
  {
   "cell_type": "code",
   "execution_count": 1,
   "metadata": {},
   "outputs": [
    {
     "name": "stdout",
     "output_type": "stream",
     "text": [
      "The equivalent temperature in fahrenheit is: 104.0\n"
     ]
    }
   ],
   "source": [
    "# Question 1\n",
    "\n",
    "# Ask for temperature in celsius\n",
    "celsius_temperature = float(input(\"Please enter a temperature in celsius:\"))\n",
    "\n",
    "# Convert to fahrenheit\n",
    "fahrenheit_temperature = (9 / 5) * celsius_temperature + 32\n",
    "\n",
    "# Display fahrenheit temperature\n",
    "print(f\"The equivalent temperature in fahrenheit is: {fahrenheit_temperature}\")"
   ]
  },
  {
   "cell_type": "code",
   "execution_count": 3,
   "metadata": {},
   "outputs": [
    {
     "name": "stdin",
     "output_type": "stream",
     "text": [
      "Enter the length of the row in feet: 20\n",
      "Enter the space used by an end-post assembly in feet: 1\n",
      "Enter the amount of space between the vines in feet: 2\n"
     ]
    },
    {
     "name": "stdout",
     "output_type": "stream",
     "text": [
      "The amount of grapevines in the row is: 9.0\n"
     ]
    }
   ],
   "source": [
    "# Question 2\n",
    "\n",
    "# Ask user for length of row\n",
    "row_length = float(input(\"Enter the length of the row in feet:\"))\n",
    "\n",
    "# Ask user for amount of space used by an end-post assembly\n",
    "end_post_space = float(input(\"Enter the space used by an end-post assembly in feet:\"))\n",
    "\n",
    "# Ask user for amount of space between the vines\n",
    "space_between_vines = float(input(\"Enter the amount of space between the vines in feet:\"))\n",
    "\n",
    "# Display amount of grapevines in row\n",
    "print(f\"The amount of grapevines in the row is: {(row_length - 2 * end_post_space) / space_between_vines}\")"
   ]
  },
  {
   "cell_type": "code",
   "execution_count": 4,
   "metadata": {},
   "outputs": [
    {
     "name": "stdin",
     "output_type": "stream",
     "text": [
      "Enter the amount of principal originally deposited into the account: 10000\n",
      "Enter the annual interest rate paid by the account: 5\n",
      "Enter The number of times per year that the interest is compounded: 4\n",
      "Enter the number of years the account will be left to earn interest: 5\n"
     ]
    },
    {
     "name": "stdout",
     "output_type": "stream",
     "text": [
      "The balance of your account will be: 202500.0\n"
     ]
    }
   ],
   "source": [
    "# Question 3\n",
    "\n",
    "# Ask user for: The amount of principal originally deposited into the account\n",
    "principal_amount = float(input(\"Enter the amount of principal originally deposited into the account:\"))\n",
    "\n",
    "# Ask user for: The annual interest rate paid by the account\n",
    "annual_interest_rate = float(input(\"Enter the annual interest rate paid by the account:\"))\n",
    "# Convert annual interest rate from percent into decimal\n",
    "annual_interest_rate /= 100\n",
    "\n",
    "# Ask user for: The number of times per year that the interest is compounded\n",
    "annual_compound_times = float(input(\"Enter The number of times per year that the interest is compounded:\"))\n",
    "\n",
    "# Ask user for: The number of years the account will be left to earn interest\n",
    "years = float(input(\"Enter the number of years the account will be left to earn interest:\"))\n",
    "\n",
    "# Display the balalnce of account after the specified number of years\n",
    "print(f\"The balance of your account will be: {principal_amount * (1 + annual_interest_rate / annual_compound_times) * annual_compound_times * years}\")"
   ]
  },
  {
   "cell_type": "code",
   "execution_count": 5,
   "metadata": {},
   "outputs": [],
   "source": [
    "# Question 4\n",
    "\n",
    "import turtle\n",
    "\n",
    "# Set turtle to lightspeed\n",
    "\n",
    "turtle.speed(0)\n",
    "\n",
    "# Draw border\n",
    "\n",
    "turtle.goto(-25, 0)\n",
    "turtle.goto(25, 0)\n",
    "turtle.goto(25, 100)\n",
    "turtle.goto(-25, 100)\n",
    "turtle.goto(-25, 0)\n",
    "\n",
    "# Draw green light circle\n",
    "\n",
    "# Move to position, make green, draw circle\n",
    "turtle.penup()\n",
    "turtle.goto(0, 10)\n",
    "turtle.pendown()\n",
    "turtle.color(\"green\")\n",
    "turtle.begin_fill()\n",
    "turtle.circle(10)\n",
    "turtle.end_fill()\n",
    "\n",
    "# Draw yellow light circle\n",
    "\n",
    "# Move to position, make yellow, draw circle\n",
    "turtle.penup()\n",
    "turtle.goto(0, 40)\n",
    "turtle.pendown()\n",
    "turtle.color(\"yellow\")\n",
    "turtle.begin_fill()\n",
    "turtle.circle(10)\n",
    "turtle.end_fill()\n",
    "\n",
    "# Draw red light circle\n",
    "\n",
    "# Move to position, make red, draw circle\n",
    "turtle.penup()\n",
    "turtle.goto(0, 70)\n",
    "turtle.pendown()\n",
    "turtle.color(\"red\")\n",
    "turtle.begin_fill()\n",
    "turtle.circle(10)\n",
    "turtle.end_fill()\n",
    "\n",
    "turtle.done()"
   ]
  }
 ],
 "metadata": {
  "kernelspec": {
   "display_name": "Python 3 (ipykernel)",
   "language": "python",
   "name": "python3"
  },
  "language_info": {
   "codemirror_mode": {
    "name": "ipython",
    "version": 3
   },
   "file_extension": ".py",
   "mimetype": "text/x-python",
   "name": "python",
   "nbconvert_exporter": "python",
   "pygments_lexer": "ipython3",
   "version": "3.11.8"
  }
 },
 "nbformat": 4,
 "nbformat_minor": 4
}
