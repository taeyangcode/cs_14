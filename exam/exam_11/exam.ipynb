{
 "cells": [
  {
   "cell_type": "code",
   "execution_count": 2,
   "metadata": {},
   "outputs": [
    {
     "name": "stdout",
     "output_type": "stream",
     "text": [
      "4\n"
     ]
    }
   ],
   "source": [
    "# Choice A\n",
    "\n",
    "\n",
    "def count_letter(string, letter, position):\n",
    "    # if the current position is past the length of the string complete recursion\n",
    "    if position >= len(string):\n",
    "        return 0\n",
    "\n",
    "    # cast the boolean of whether the current letter is the letter we are searching for\n",
    "    # and add it to the result of the recurve at the next position\n",
    "    return int(string[position] == letter) + count_letter(string, letter, position + 1)\n",
    "\n",
    "\n",
    "def main():\n",
    "    string = \"the quick brown fox jumps over the lazy black dog\"\n",
    "    print(count_letter(string, \"o\", 0))\n",
    "\n",
    "\n",
    "main()"
   ]
  },
  {
   "cell_type": "code",
   "execution_count": 5,
   "metadata": {},
   "outputs": [
    {
     "name": "stdout",
     "output_type": "stream",
     "text": [
      "15\n"
     ]
    }
   ],
   "source": [
    "# Choice B\n",
    "\n",
    "\n",
    "def sum_to_number(number):\n",
    "    # check if recursion is complete (number is one)\n",
    "    if number == 1:\n",
    "        return 1\n",
    "\n",
    "    # else add current number to the recursive call of: number - 1\n",
    "    return number + sum_to_number(number - 1)\n",
    "\n",
    "\n",
    "def main():\n",
    "    print(sum_to_number(5))\n",
    "\n",
    "\n",
    "main()"
   ]
  },
  {
   "cell_type": "code",
   "execution_count": 6,
   "metadata": {},
   "outputs": [
    {
     "name": "stdout",
     "output_type": "stream",
     "text": [
      "16\n"
     ]
    }
   ],
   "source": [
    "# Choice C\n",
    "\n",
    "\n",
    "def power(base, exponent):\n",
    "    # complete recursion if base has been repeated exponent times\n",
    "    if exponent == 1:\n",
    "        return base\n",
    "\n",
    "    # else multiple base and continue recursing\n",
    "    return base * power(base, exponent - 1)\n",
    "\n",
    "\n",
    "def main():\n",
    "    print(power(2, 4))\n",
    "\n",
    "\n",
    "main()"
   ]
  }
 ],
 "metadata": {
  "kernelspec": {
   "display_name": "Python 3",
   "language": "python",
   "name": "python3"
  },
  "language_info": {
   "codemirror_mode": {
    "name": "ipython",
    "version": 3
   },
   "file_extension": ".py",
   "mimetype": "text/x-python",
   "name": "python",
   "nbconvert_exporter": "python",
   "pygments_lexer": "ipython3",
   "version": "3.11.8"
  }
 },
 "nbformat": 4,
 "nbformat_minor": 2
}
