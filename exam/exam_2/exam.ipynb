{
 "cells": [
  {
   "cell_type": "code",
   "execution_count": 1,
   "metadata": {},
   "outputs": [
    {
     "name": "stdout",
     "output_type": "stream",
     "text": [
      "BMI Calculator\n"
     ]
    },
    {
     "name": "stdin",
     "output_type": "stream",
     "text": [
      "Enter your weight in pounds: 100\n",
      "Enter your height in inches: 72\n"
     ]
    },
    {
     "name": "stdout",
     "output_type": "stream",
     "text": [
      "Your BMI is: 13.560956790123457 which is underweight.\n"
     ]
    }
   ],
   "source": [
    "# Question 1\n",
    "\n",
    "print(\"BMI Calculator\")\n",
    "\n",
    "# User input\n",
    "weight = float(input(\"Enter your weight in pounds:\"))\n",
    "height = float(input(\"Enter your height in inches:\"))\n",
    "\n",
    "# Perform calculation of BMI, initialize it to variable \"bmi\" and use it to determine the condition of the user using a conditional\n",
    "print(\n",
    "    f'Your BMI is: {(bmi := (weight * 703 / (height * height)))} which is {\"underweight\" if bmi < 18.5 else \"overweight\" if bmi > 25 else \"optimal\"}.'\n",
    ")"
   ]
  },
  {
   "cell_type": "code",
   "execution_count": 2,
   "metadata": {},
   "outputs": [
    {
     "name": "stdout",
     "output_type": "stream",
     "text": [
      "Age Classifier\n"
     ]
    },
    {
     "name": "stdin",
     "output_type": "stream",
     "text": [
      "Enter your age: 15\n"
     ]
    },
    {
     "name": "stdout",
     "output_type": "stream",
     "text": [
      "Your category is: Teenager.\n"
     ]
    }
   ],
   "source": [
    "# Question 2\n",
    "\n",
    "print(\"Age Classifier\")\n",
    "\n",
    "# User input\n",
    "age = float(input(\"Enter your age:\"))\n",
    "\n",
    "# Perform each conditional to determine the category of the user's age\n",
    "print(\n",
    "    f'Your category is: {\"Infant\" if age <= 1 else \"Child\" if age < 13 else \"Teenager\" if age < 20 else \"Adult\"}.'\n",
    ")"
   ]
  },
  {
   "cell_type": "code",
   "execution_count": 3,
   "metadata": {},
   "outputs": [
    {
     "name": "stdin",
     "output_type": "stream",
     "text": [
      "Enter the amount of seconds to convert: 87001\n"
     ]
    },
    {
     "name": "stdout",
     "output_type": "stream",
     "text": [
      "Days: 1.0, Hours: 0.0, Minutes: 10.0, Seconds: 1.0\n"
     ]
    }
   ],
   "source": [
    "# Question 3\n",
    "\n",
    "# User input\n",
    "seconds_input = float(input(\"Enter the amount of seconds to convert:\"))\n",
    "\n",
    "# Get the integer value of each respective time measurement\n",
    "days = seconds_input // 86_400\n",
    "hours = (seconds_input - days * 86_400) // 3_600\n",
    "minutes = (seconds_input - days * 86_400 - hours * 3_600) // 60\n",
    "seconds = seconds_input - days * 86_400 - hours * 3_600 - minutes * 60\n",
    "\n",
    "# If the greatest time measurement is > 0, then print it, else move to the next smallest time measurement\n",
    "if days > 0:\n",
    "    print(f\"Days: {days}, Hours: {hours}, Minutes: {minutes}, Seconds: {seconds}\")\n",
    "elif hours > 0:\n",
    "    print(f\"Hours: {hours}, Minutes: {minutes}, Seconds: {seconds}\")\n",
    "elif seconds_input > 60:\n",
    "    print(f\"Minutes: {minutes}, Seconds: {seconds}\")\n",
    "else:\n",
    "    print(f\"Seconds: {seconds_input}\")"
   ]
  },
  {
   "cell_type": "code",
   "execution_count": 4,
   "metadata": {},
   "outputs": [
    {
     "name": "stdin",
     "output_type": "stream",
     "text": [
      "Enter a year: 1944\n"
     ]
    },
    {
     "name": "stdout",
     "output_type": "stream",
     "text": [
      "1944 is a leap year.\n"
     ]
    }
   ],
   "source": [
    "# Question 4\n",
    "\n",
    "# User input\n",
    "year = int(input(\"Enter a year:\"))\n",
    "\n",
    "# Determine whether the input is a leap year and print respectively\n",
    "print(\n",
    "    f'{year} {\"is\" if ( (year % 100 == 0 and year % 400 == 0) or (year % 100 and year % 4 == 0) ) else \"is not\"} a leap year.'\n",
    ")"
   ]
  }
 ],
 "metadata": {
  "kernelspec": {
   "display_name": "Python 3 (ipykernel)",
   "language": "python",
   "name": "python3"
  },
  "language_info": {
   "codemirror_mode": {
    "name": "ipython",
    "version": 3
   },
   "file_extension": ".py",
   "mimetype": "text/x-python",
   "name": "python",
   "nbconvert_exporter": "python",
   "pygments_lexer": "ipython3",
   "version": "3.11.8"
  }
 },
 "nbformat": 4,
 "nbformat_minor": 4
}
