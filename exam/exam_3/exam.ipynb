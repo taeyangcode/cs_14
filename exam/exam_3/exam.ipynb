{
 "cells": [
  {
   "cell_type": "code",
   "execution_count": 1,
   "metadata": {},
   "outputs": [
    {
     "name": "stdout",
     "output_type": "stream",
     "text": [
      "Year 1: 8000.00$\n",
      "Year 2: 8240.00$\n",
      "Year 3: 8487.20$\n",
      "Year 4: 8741.82$\n",
      "Year 5: 9004.07$\n"
     ]
    }
   ],
   "source": [
    "# Question 1\n",
    "\n",
    "TUITION_INCREASE = 0.03\n",
    "YEARS = 5\n",
    "\n",
    "tuition = 8_000\n",
    "for year in range(1, YEARS + 1):\n",
    "    print(f\"Year {year}: {format(tuition, '.2f')}$\")\n",
    "    # Increase tuition\n",
    "    tuition = tuition + tuition * 0.03"
   ]
  },
  {
   "cell_type": "code",
   "execution_count": 2,
   "metadata": {},
   "outputs": [
    {
     "name": "stdin",
     "output_type": "stream",
     "text": [
      "Enter a positive number (If you are finished enter a negative number): 1\n",
      "Enter a positive number (If you are finished enter a negative number): 2\n",
      "Enter a positive number (If you are finished enter a negative number): 3\n",
      "Enter a positive number (If you are finished enter a negative number): 4\n",
      "Enter a positive number (If you are finished enter a negative number): 5\n",
      "Enter a positive number (If you are finished enter a negative number): 6\n",
      "Enter a positive number (If you are finished enter a negative number): 7\n",
      "Enter a positive number (If you are finished enter a negative number): 8\n",
      "Enter a positive number (If you are finished enter a negative number): 9\n",
      "Enter a positive number (If you are finished enter a negative number): 10\n",
      "Enter a positive number (If you are finished enter a negative number): -1\n"
     ]
    },
    {
     "name": "stdout",
     "output_type": "stream",
     "text": [
      "Sum: 55.0\n"
     ]
    }
   ],
   "source": [
    "# Question 2\n",
    "\n",
    "sum = 0\n",
    "# Continue iteration only while input is a positive number\n",
    "while (\n",
    "    value := float(\n",
    "        input(\"Enter a positive number (If you are finished enter a negative number):\")\n",
    "    )\n",
    ") > 0:\n",
    "    sum += value\n",
    "\n",
    "print(f\"Sum: {sum}\")"
   ]
  },
  {
   "cell_type": "code",
   "execution_count": 3,
   "metadata": {},
   "outputs": [
    {
     "name": "stdin",
     "output_type": "stream",
     "text": [
      "Enter the number of days for iteration: 10\n"
     ]
    },
    {
     "name": "stdout",
     "output_type": "stream",
     "text": [
      "Day 1 pay is $0.01\n",
      "Day 2 pay is $0.02\n",
      "Day 3 pay is $0.04\n",
      "Day 4 pay is $0.08\n",
      "Day 5 pay is $0.16\n",
      "Day 6 pay is $0.32\n",
      "Day 7 pay is $0.64\n",
      "Day 8 pay is $1.28\n",
      "Day 9 pay is $2.56\n",
      "Day 10 pay is $5.12\n"
     ]
    }
   ],
   "source": [
    "# Question 3\n",
    "\n",
    "days = int(input(\"Enter the number of days for iteration:\"))\n",
    "\n",
    "pennies = 1\n",
    "for day in range(1, days + 1):\n",
    "    # Divide current pennies by 100 to get result in dollar unit\n",
    "    print(f\"Day {day} pay is ${format(pennies / 100, '.2f')}\")\n",
    "    pennies *= 2"
   ]
  },
  {
   "cell_type": "code",
   "execution_count": null,
   "metadata": {},
   "outputs": [
    {
     "name": "stdin",
     "output_type": "stream",
     "text": [
      "Enter the starting amount of organisms (non-negative): 2\n"
     ]
    }
   ],
   "source": [
    "# Question 4\n",
    "\n",
    "organisms = float(input(\"Enter the starting amount of organisms (non-negative):\"))\n",
    "while organisms < 0:\n",
    "    organisms = float(input(\"Enter the starting amount of organisms (non-negative):\"))\n",
    "\n",
    "# Get percent increase as input and immediately divide by 100 to get it as decimal\n",
    "average_daily_increase = (\n",
    "    float(input(\"Enter the average daily population increase as a percent (e.g. 30%, non-negative):\"))\n",
    "    / 100\n",
    ")\n",
    "while average_daily_increase < 0:\n",
    "    average_daily_increase = float(input(\"Enter the average daily population increase as a percent (e.g. 30%, non-negative):\"))\n",
    "    \n",
    "days = int(input(\"Enter the number of days for the organisms to multiply (non-negative):\"))\n",
    "while days < 0:\n",
    "    days = int(input(\"Enter the number of days for the organisms to multiply (non-negative):\"))\n",
    "\n",
    "# Column names\n",
    "print(f\"Day     Population\")\n",
    "for day in range(1, days + 1):\n",
    "    # Display data\n",
    "    print(f\"{day}       {organisms}\")\n",
    "    # Increase population for next iteration\n",
    "    organisms = organisms + organisms * average_daily_increase"
   ]
  },
  {
   "cell_type": "code",
   "execution_count": null,
   "metadata": {},
   "outputs": [],
   "source": []
  }
 ],
 "metadata": {
  "kernelspec": {
   "display_name": "Python 3 (ipykernel)",
   "language": "python",
   "name": "python3"
  },
  "language_info": {
   "codemirror_mode": {
    "name": "ipython",
    "version": 3
   },
   "file_extension": ".py",
   "mimetype": "text/x-python",
   "name": "python",
   "nbconvert_exporter": "python",
   "pygments_lexer": "ipython3",
   "version": "3.11.8"
  }
 },
 "nbformat": 4,
 "nbformat_minor": 4
}
