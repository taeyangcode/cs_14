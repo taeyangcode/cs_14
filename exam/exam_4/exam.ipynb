{
 "cells": [
  {
   "cell_type": "code",
   "execution_count": 1,
   "metadata": {},
   "outputs": [
    {
     "name": "stdin",
     "output_type": "stream",
     "text": [
      "Enter a unique number: 10\n",
      "Enter a unique number: 10\n"
     ]
    },
    {
     "name": "stdout",
     "output_type": "stream",
     "text": [
      "You must enter two unique numbers!\n"
     ]
    },
    {
     "name": "stdin",
     "output_type": "stream",
     "text": [
      "Enter a unique number: 20\n",
      "Enter a unique number: 20\n"
     ]
    },
    {
     "name": "stdout",
     "output_type": "stream",
     "text": [
      "You must enter two unique numbers!\n"
     ]
    },
    {
     "name": "stdin",
     "output_type": "stream",
     "text": [
      "Enter a unique number: 7\n",
      "Enter a unique number: 12\n"
     ]
    },
    {
     "name": "stdout",
     "output_type": "stream",
     "text": [
      "The max value is: 12.0\n"
     ]
    }
   ],
   "source": [
    "# Question 1\n",
    "\n",
    "\n",
    "def main():\n",
    "    number_1 = input_number()\n",
    "    number_2 = input_number()\n",
    "\n",
    "    # input validation\n",
    "    while number_1 == number_2:\n",
    "        print(\"You must enter two unique numbers!\")\n",
    "        number_1 = input_number()\n",
    "        number_2 = input_number()\n",
    "\n",
    "    print(f\"The max value is: {max(number_1, number_2)}\")\n",
    "\n",
    "\n",
    "def input_number():\n",
    "    return float(input(\"Enter a unique number:\"))\n",
    "\n",
    "\n",
    "def max(number_1, number_2):\n",
    "    return number_1 if number_1 > number_2 else number_2\n",
    "\n",
    "\n",
    "main()"
   ]
  },
  {
   "cell_type": "code",
   "execution_count": null,
   "metadata": {},
   "outputs": [
    {
     "name": "stdin",
     "output_type": "stream",
     "text": [
      "Press 'Y' to play the guessing game! Y\n",
      "Guess a number: 50\n"
     ]
    },
    {
     "name": "stdout",
     "output_type": "stream",
     "text": [
      "Too low, try again\n"
     ]
    },
    {
     "name": "stdin",
     "output_type": "stream",
     "text": [
      "Guess a number: 75\n"
     ]
    },
    {
     "name": "stdout",
     "output_type": "stream",
     "text": [
      "Too low, try again\n"
     ]
    },
    {
     "name": "stdin",
     "output_type": "stream",
     "text": [
      "Guess a number: 88\n"
     ]
    },
    {
     "name": "stdout",
     "output_type": "stream",
     "text": [
      "Too high, try again.\n"
     ]
    },
    {
     "name": "stdin",
     "output_type": "stream",
     "text": [
      "Guess a number: 82\n"
     ]
    },
    {
     "name": "stdout",
     "output_type": "stream",
     "text": [
      "Too high, try again.\n"
     ]
    },
    {
     "name": "stdin",
     "output_type": "stream",
     "text": [
      "Guess a number: 78\n"
     ]
    },
    {
     "name": "stdout",
     "output_type": "stream",
     "text": [
      "Too high, try again.\n"
     ]
    },
    {
     "name": "stdin",
     "output_type": "stream",
     "text": [
      "Guess a number: 76\n"
     ]
    },
    {
     "name": "stdout",
     "output_type": "stream",
     "text": [
      "Congrautlations! You guessed the correct number.\n"
     ]
    },
    {
     "name": "stdin",
     "output_type": "stream",
     "text": [
      "Press 'Y' to play the guessing game! Y\n",
      "Guess a number: 50\n"
     ]
    },
    {
     "name": "stdout",
     "output_type": "stream",
     "text": [
      "Too high, try again.\n"
     ]
    },
    {
     "name": "stdin",
     "output_type": "stream",
     "text": [
      "Guess a number: 25\n"
     ]
    },
    {
     "name": "stdout",
     "output_type": "stream",
     "text": [
      "Too low, try again\n"
     ]
    },
    {
     "name": "stdin",
     "output_type": "stream",
     "text": [
      "Guess a number: 38\n"
     ]
    },
    {
     "name": "stdout",
     "output_type": "stream",
     "text": [
      "Too high, try again.\n"
     ]
    },
    {
     "name": "stdin",
     "output_type": "stream",
     "text": [
      "Guess a number: 30\n"
     ]
    },
    {
     "name": "stdout",
     "output_type": "stream",
     "text": [
      "Too low, try again\n"
     ]
    },
    {
     "name": "stdin",
     "output_type": "stream",
     "text": [
      "Guess a number: 34\n"
     ]
    },
    {
     "name": "stdout",
     "output_type": "stream",
     "text": [
      "Too low, try again\n"
     ]
    }
   ],
   "source": [
    "# Question 2\n",
    "\n",
    "import random\n",
    "\n",
    "\n",
    "def main():\n",
    "    while (user_input := input(\"Press 'Y' to play the guessing game!\")) == \"Y\":\n",
    "        random_number = random.randint(1, 100)\n",
    "\n",
    "        while (input_number := int(input(\"Guess a number:\"))) != random_number:\n",
    "            print(\n",
    "                \"Too high, try again.\"\n",
    "                if input_number > random_number\n",
    "                else \"Too low, try again\"\n",
    "            )\n",
    "\n",
    "        print(\"Congrautlations! You guessed the correct number.\")\n",
    "    print(\"Thank you for playing!\")\n",
    "\n",
    "\n",
    "main()"
   ]
  },
  {
   "cell_type": "code",
   "execution_count": 8,
   "metadata": {},
   "outputs": [],
   "source": [
    "# Question 3\n",
    "\n",
    "import random\n",
    "\n",
    "\n",
    "def main():\n",
    "    while (user_input := input(\"Press 'Y' to play rock, paper, scissors!\")) == \"Y\":\n",
    "        # convert the user's choice to integer [0, 2]: rock -> 0, paper -> 1, scissors -> 2\n",
    "        user_choice = (\n",
    "            0\n",
    "            if (user_choice := input('Choose \"rock\", \"paper\", or \"scissors\"!'))\n",
    "            == \"rock\"\n",
    "            else 1 if user_choice == \"paper\" else 2\n",
    "        )\n",
    "        # random number in range [0, 2] for computer's choice\n",
    "        computer_choice = random.randint(0, 2)\n",
    "\n",
    "        # the user loses if their choice + 1 equals the computers\n",
    "        # e.g. rock + 1 -> paper, so if the computer chose paper they would lose\n",
    "        # modulo the calculation by 3 to account for choosing scissors (2 + 1 == 3 which is out of range)\n",
    "        # the rest is self-explanatory\n",
    "        if (user_choice + 1) % 3 == computer_choice:\n",
    "            print(f\"You lost to the computer!\")\n",
    "        elif user_choice == computer_choice:\n",
    "            print(\"It's a tie!\")\n",
    "        else:\n",
    "            print(f\"You beat the computer!\")\n",
    "    print(\"Thank you for playing!\")\n",
    "\n",
    "\n",
    "main()"
   ]
  },
  {
   "cell_type": "code",
   "execution_count": null,
   "metadata": {},
   "outputs": [],
   "source": []
  }
 ],
 "metadata": {
  "kernelspec": {
   "display_name": "Python 3 (ipykernel)",
   "language": "python",
   "name": "python3"
  },
  "language_info": {
   "codemirror_mode": {
    "name": "ipython",
    "version": 3
   },
   "file_extension": ".py",
   "mimetype": "text/x-python",
   "name": "python",
   "nbconvert_exporter": "python",
   "pygments_lexer": "ipython3",
   "version": "3.11.8"
  }
 },
 "nbformat": 4,
 "nbformat_minor": 4
}
