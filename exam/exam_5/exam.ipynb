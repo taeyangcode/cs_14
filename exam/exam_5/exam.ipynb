{
 "cells": [
  {
   "cell_type": "code",
   "execution_count": 2,
   "metadata": {},
   "outputs": [
    {
     "name": "stdout",
     "output_type": "stream",
     "text": [
      "Sum: 500500\n"
     ]
    }
   ],
   "source": [
    "# Question 1\n",
    "\n",
    "\n",
    "def main():\n",
    "    # open file in write (automatically closes)\n",
    "    with open(\"numbers.txt\", \"w\") as numbers_f:\n",
    "        for number in range(1, 1000 + 1):\n",
    "            # write each number in range with new line\n",
    "            numbers_f.write(str(number) + \"\\n\")\n",
    "\n",
    "    # open file in read (automatically closes)\n",
    "    with open(\"numbers.txt\", \"r\") as numbers_f:\n",
    "        # initalize running sum variable\n",
    "        sum = 0\n",
    "        # summate each number\n",
    "        for number in numbers_f:\n",
    "            sum += int(number)\n",
    "        # print result\n",
    "        print(f\"Sum: {sum}\")\n",
    "\n",
    "\n",
    "main()"
   ]
  },
  {
   "cell_type": "code",
   "execution_count": 3,
   "metadata": {},
   "outputs": [
    {
     "name": "stdin",
     "output_type": "stream",
     "text": [
      "Enter the amount of numbers the program will create: 10\n"
     ]
    },
    {
     "name": "stdout",
     "output_type": "stream",
     "text": [
      "Thank you for using the program.\n"
     ]
    }
   ],
   "source": [
    "# Question 2\n",
    "\n",
    "import random\n",
    "\n",
    "\n",
    "def main():\n",
    "    # try creating file\n",
    "    try:\n",
    "        random_f = open(\"my_random_numbers.txt\", \"w\")\n",
    "    # handle IO error\n",
    "    except IOError:\n",
    "        print(\"ERROR: IO error occurred\")\n",
    "    else:\n",
    "        # handle automatic closing of file\n",
    "        with random_f:\n",
    "            try:\n",
    "                numbers_count = int(\n",
    "                    input(\"Enter the amount of numbers the program will create:\")\n",
    "                )\n",
    "\n",
    "                # write `numbers_count` amount of random numbers in range [1, 500]\n",
    "                for _ in range(numbers_count):\n",
    "                    random_f.write(str(random.randint(1, 500)) + \"\\n\")\n",
    "            # handle invalid input (non-number)\n",
    "            except ValueError:\n",
    "                print(\"ERROR: non-number supplied\")\n",
    "\n",
    "        # exception handler clause\n",
    "        print(\"Thank you for using the program.\")\n",
    "\n",
    "\n",
    "main()"
   ]
  },
  {
   "cell_type": "code",
   "execution_count": 4,
   "metadata": {},
   "outputs": [
    {
     "name": "stdin",
     "output_type": "stream",
     "text": [
      "Enter the amount of candy items you will enter: 3\n",
      "RECORD 1 Manufacturer: Apple\n",
      "RECORD 1 Name: Apple Scotch\n",
      "RECORD 1 Price: 5.00\n",
      "RECORD 2 Manufacturer: Orange\n",
      "RECORD 2 Name: Orange Scotch\n",
      "RECORD 2 Price: 5.23\n",
      "RECORD 3 Manufacturer: Pear\n",
      "RECORD 3 Name: Pear Scotch\n",
      "RECORD 3 Price: 2.44\n"
     ]
    },
    {
     "name": "stdout",
     "output_type": "stream",
     "text": [
      "Total Worth: $12.67\n"
     ]
    }
   ],
   "source": [
    "# Question 3\n",
    "\n",
    "\n",
    "def main():\n",
    "    # get amount of candy records to enter\n",
    "    candy_items_amount = int(input(\"Enter the amount of candy items you will enter:\"))\n",
    "\n",
    "    # open file with write (automatically close)\n",
    "    with open(\"my_sweetness.txt\", \"w\") as record_f:\n",
    "        # create record for each candy\n",
    "        for index in range(candy_items_amount):\n",
    "            record_f.write(input(f\"RECORD {index + 1} Manufacturer:\") + \"\\n\")\n",
    "            record_f.write(input(f\"RECORD {index + 1} Name:\") + \"\\n\")\n",
    "            record_f.write(input(f\"RECORD {index + 1} Price:\") + \"\\n\")\n",
    "\n",
    "    # open file with read (automatically close)\n",
    "    with open(\"my_sweetness.txt\", \"r\") as record_f:\n",
    "        # running sum of worth\n",
    "        worth = 0.0\n",
    "        for line in record_f:\n",
    "            # if current field is float (price) then add to worth\n",
    "            try:\n",
    "                worth += float(line)\n",
    "            # otherwise continue\n",
    "            except:\n",
    "                pass\n",
    "        # print total worth\n",
    "        print(f\"Total Worth: ${format(worth, '.2f')}\")\n",
    "\n",
    "\n",
    "main()"
   ]
  },
  {
   "cell_type": "code",
   "execution_count": null,
   "metadata": {},
   "outputs": [],
   "source": []
  }
 ],
 "metadata": {
  "kernelspec": {
   "display_name": "Python 3 (ipykernel)",
   "language": "python",
   "name": "python3"
  },
  "language_info": {
   "codemirror_mode": {
    "name": "ipython",
    "version": 3
   },
   "file_extension": ".py",
   "mimetype": "text/x-python",
   "name": "python",
   "nbconvert_exporter": "python",
   "pygments_lexer": "ipython3",
   "version": "3.11.8"
  }
 },
 "nbformat": 4,
 "nbformat_minor": 4
}
