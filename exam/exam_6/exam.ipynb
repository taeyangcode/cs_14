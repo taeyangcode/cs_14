{
 "cells": [
  {
   "cell_type": "code",
   "execution_count": 1,
   "metadata": {},
   "outputs": [
    {
     "name": "stdout",
     "output_type": "stream",
     "text": [
      "[9, 10]\n"
     ]
    }
   ],
   "source": [
    "# Question 1\n",
    "\n",
    "\n",
    "def main():\n",
    "    print(more_than([10, 9, 8, 3, 2, 1], 8))\n",
    "\n",
    "\n",
    "def more_than(numbers, compare):\n",
    "    # create list of numbers greater than compare\n",
    "    greater_numbers = [number for number in numbers if number > compare]\n",
    "    # sort\n",
    "    greater_numbers.sort()\n",
    "    return greater_numbers\n",
    "\n",
    "\n",
    "main()"
   ]
  },
  {
   "cell_type": "code",
   "execution_count": 2,
   "metadata": {},
   "outputs": [
    {
     "name": "stdin",
     "output_type": "stream",
     "text": [
      "Please ask a question: Are Trix for kids?\n"
     ]
    },
    {
     "name": "stdout",
     "output_type": "stream",
     "text": [
      "Yes, of course!\n",
      "\n"
     ]
    }
   ],
   "source": [
    "# Question 2\n",
    "\n",
    "import random\n",
    "\n",
    "\n",
    "def main():\n",
    "    # safely open file in read mode\n",
    "    with open(\"8_ball_responses.txt\", \"r\") as responses_f:\n",
    "        # gather responses into list\n",
    "        responses = responses_f.readlines()\n",
    "\n",
    "        input(\"Please ask a question:\")\n",
    "        # respond with random response\n",
    "        print(responses[random.randint(0, len(responses) - 1)])\n",
    "\n",
    "\n",
    "main()"
   ]
  },
  {
   "cell_type": "code",
   "execution_count": 4,
   "metadata": {},
   "outputs": [
    {
     "name": "stdin",
     "output_type": "stream",
     "text": [
      "Which decade would you like to hear songs from? (1980, 1990, 2000, 2010, ALL) ALL\n",
      "How many songs would you like to listen to? [1, 10] 5\n"
     ]
    },
    {
     "name": "stdout",
     "output_type": "stream",
     "text": [
      "Get Lucky\n",
      "Uptown Funk\n",
      "Rolling in the Deep\n",
      "Royals\n",
      "I Wanna Dance with Somebody\n"
     ]
    },
    {
     "name": "stdin",
     "output_type": "stream",
     "text": [
      "If you would like to have a song specially requested, enter its name ('PASS' to pass): Shape of You\n"
     ]
    },
    {
     "name": "stdout",
     "output_type": "stream",
     "text": [
      "That song is unavailable in your playlist; here are 5 songs from a random decade!\n",
      "Back in Black\n",
      "Billie Jean\n",
      "When Doves Cry\n",
      "Every Breath You Take\n",
      "I Wanna Dance with Somebody\n"
     ]
    }
   ],
   "source": [
    "# Question 3\n",
    "\n",
    "import random\n",
    "\n",
    "HITS_1980S = (\n",
    "    \"Billie Jean\",\n",
    "    \"When Doves Cry\",\n",
    "    \"Sweet Child Of Mine\",\n",
    "    \"Like a Virgin\",\n",
    "    \"Back in Black\",\n",
    "    \"Living on a Prayer\",\n",
    "    \"With or Without You\",\n",
    "    \"Every Breath You Take\",\n",
    "    \"Eye of the Tiger\",\n",
    "    \"I Wanna Dance with Somebody\",\n",
    ")\n",
    "\n",
    "HITS_1990S = (\n",
    "    \"Smells Like Teen Spirit\",\n",
    "    \"Vogue\",\n",
    "    \"Wonderwall\",\n",
    "    \"Black or White\",\n",
    "    \"Enter Sandman\",\n",
    "    \"Creep\",\n",
    "    \"No Diggity\",\n",
    "    \"Waterfalls\",\n",
    "    \"Wannabe\",\n",
    "    \"Tears in Heaven\",\n",
    ")\n",
    "\n",
    "HITS_2000S = (\n",
    "    \"Hey Ya\",\n",
    "    \"Beautiful Day\",\n",
    "    \"Lose Yourself\",\n",
    "    \"Crazy In Love\",\n",
    "    \"Hips Don't Lie\",\n",
    "    \"Rolling in the Deep\",\n",
    "    \"Last Nite\",\n",
    "    \"Hollaback Girl\",\n",
    "    \"SexyBack\",\n",
    "    \"Mr. Brightside\",\n",
    ")\n",
    "\n",
    "HITS_2010S = (\n",
    "    \"Rolling in the Deep\",\n",
    "    \"Uptown Funk\",\n",
    "    \"Shape of You\",\n",
    "    \"Old Town Rock\",\n",
    "    \"Royals\",\n",
    "    \"Get Lucky\",\n",
    "    \"Thinking Out Loud\",\n",
    "    \"Despacito\",\n",
    "    \"Hello\",\n",
    "    \"Somebody That I Used to Know\",\n",
    ")\n",
    "\n",
    "# playlist of songs from all decades\n",
    "HITS_ALL = [\n",
    "    song\n",
    "    for decade in [HITS_1980S, HITS_1990S, HITS_2000S, HITS_2010S]\n",
    "    for song in decade\n",
    "]\n",
    "\n",
    "\n",
    "def main():\n",
    "    # get decade choice\n",
    "    decade_choice = input(\n",
    "        \"Which decade would you like to hear songs from? (1980, 1990, 2000, 2010, ALL)\"\n",
    "    )\n",
    "    # get amount of songs to play\n",
    "    song_amount = int(input(\"How many songs would you like to listen to? [1, 10]\"))\n",
    "\n",
    "    # find decade to show songs from\n",
    "    if decade_choice == \"1980\":\n",
    "        playlist_creation(HITS_1980S, song_amount)\n",
    "    elif decade_choice == \"1990\":\n",
    "        playlist_creation(HITS_1990S, song_amount)\n",
    "    elif decade_choice == \"2000\":\n",
    "        playlist_creation(HITS_2000S, song_amount)\n",
    "    elif decade_choice == \"2010\":\n",
    "        playlist_creation(HITS_2010S, song_amount)\n",
    "    # handle case of user wanting music from all decades\n",
    "    elif decade_choice == \"ALL\":\n",
    "        playlist_creation(HITS_ALL, song_amount)\n",
    "    # handle edge-case\n",
    "    else:\n",
    "        print(\"ERROR: Invalid decade choice.\")\n",
    "\n",
    "\n",
    "def playlist_creation(playlist, song_amount):\n",
    "    # print `song_amount` unique songs from the decade's playlist\n",
    "    for song_name in random.sample(playlist, song_amount):\n",
    "        print(song_name)\n",
    "\n",
    "    special_request = input(\n",
    "        \"If you would like to have a song specially requested, enter its name ('PASS' to pass):\"\n",
    "    )\n",
    "\n",
    "    # handle the case for no special request\n",
    "    if special_request == \"PASS\":\n",
    "        return\n",
    "\n",
    "    # handle case if playlist is from all decades or the song is not in the decade playlist\n",
    "    if len(playlist) > 10 or special_request not in playlist:\n",
    "        # find random playlist if special requested song isn't in playlist\n",
    "        random_playlist = [HITS_1980S, HITS_1990S, HITS_2000S, HITS_2010S][\n",
    "            random.randint(0, 3)\n",
    "        ]\n",
    "        print(\n",
    "            f\"That song is unavailable in your playlist; here are {song_amount} songs from a random decade!\"\n",
    "        )\n",
    "        # print `song_amount` unique songs from the random decade's playlist\n",
    "        for song_name in random.sample(random_playlist, song_amount):\n",
    "            print(song_name)\n",
    "    else:\n",
    "        # otherwise print specially requested song\n",
    "        print(f\"Here is the specially requested: {special_request}\")\n",
    "\n",
    "\n",
    "main()"
   ]
  },
  {
   "cell_type": "code",
   "execution_count": null,
   "metadata": {},
   "outputs": [],
   "source": []
  }
 ],
 "metadata": {
  "kernelspec": {
   "display_name": "Python 3 (ipykernel)",
   "language": "python",
   "name": "python3"
  },
  "language_info": {
   "codemirror_mode": {
    "name": "ipython",
    "version": 3
   },
   "file_extension": ".py",
   "mimetype": "text/x-python",
   "name": "python",
   "nbconvert_exporter": "python",
   "pygments_lexer": "ipython3",
   "version": "3.11.8"
  }
 },
 "nbformat": 4,
 "nbformat_minor": 4
}
