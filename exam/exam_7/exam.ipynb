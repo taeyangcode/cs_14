{
 "cells": [
  {
   "cell_type": "code",
   "execution_count": 3,
   "metadata": {},
   "outputs": [
    {
     "name": "stdout",
     "output_type": "stream",
     "text": [
      "(123)456-7890\n",
      "(123)456-7890\n",
      "(123)456-7890\n",
      "ERROR: Invalid phone number length.\n",
      "ERROR: Invalid phone number length.\n"
     ]
    }
   ],
   "source": [
    "# Question 1\n",
    "\n",
    "\n",
    "def sanitize_phone_number(phone_number: str):\n",
    "    # handle all special characters\n",
    "    sanitize = phone_number.replace(\"-\", \"\")\n",
    "    sanitize = sanitize.replace(\"(\", \"\")\n",
    "    sanitize = sanitize.replace(\")\", \"\")\n",
    "    sanitize = sanitize.replace(\",\", \"\")\n",
    "    sanitize = sanitize.replace(\".\", \"\")\n",
    "\n",
    "    # handle invalid length\n",
    "    if len(sanitize) != 10:\n",
    "        raise RuntimeError(\"ERROR: Invalid phone number length.\")\n",
    "\n",
    "    # format\n",
    "    return \"(\" + sanitize[0:3] + \")\" + sanitize[3:6] + \"-\" + sanitize[-4:]\n",
    "\n",
    "\n",
    "def main():\n",
    "    # valid cases\n",
    "    print(sanitize_phone_number(\"(123)4567890\"))\n",
    "    print(sanitize_phone_number(\"123456.7890\"))\n",
    "    print(sanitize_phone_number(\"123,456,7890\"))\n",
    "\n",
    "    # invalid cases\n",
    "    try:\n",
    "        sanitize_phone_number(\"123,456,78901\")\n",
    "    except RuntimeError as error:\n",
    "        print(error)\n",
    "    try:\n",
    "        sanitize_phone_number(\"456,7890\")\n",
    "    except RuntimeError as error:\n",
    "        print(error)\n",
    "\n",
    "\n",
    "main()"
   ]
  },
  {
   "cell_type": "code",
   "execution_count": 2,
   "metadata": {},
   "outputs": [
    {
     "name": "stdout",
     "output_type": "stream",
     "text": [
      "These are the frequencies and percentages of the vowels in English:\n",
      "A:  70   8.37%\n",
      "E:  115   13.76%\n",
      "I:  55   6.58%\n",
      "O:  43   5.14%\n",
      "U:  26   3.11%\n",
      "These are the frequencies and percentages of the vowels in Quechua:\n",
      "A:  222   20.52%\n",
      "E:  22   2.03%\n",
      "I:  75   6.93%\n",
      "O:  21   1.94%\n",
      "U:  92   8.50%\n"
     ]
    }
   ],
   "source": [
    "english = \"In a small, bustling dental office, Batty, a lively bat, was getting an aching fang removed. Next to him, unexpectedly, was Betty, a worn baseball bat getting a polish on his wooden grain, a procedure strangely similar to a dental cleaning. Despite the oddity of their meeting, they clicked immediately, chatting amiably as they awaited their turns. Before leaving, they exchanged numbers, promising to catch up in a more relaxed setting. A few weeks later, during spring break, they met again in Tulum, a place as sunny and warm as their budding friendship. Sitting by the pool, surrounded by the vibrant hues of the resort and the gentle sound of waves, they felt a deeper connection. As they lounged and gazed at the daytime stars, they decided to make the feeling permanent. They decided to tie the knot right there, cheered on by an unexpected chorus of tunas from the nearby ocean who, quite remarkably, hummed Baby Shark in unison. The sun set behind them, casting a golden glow over the scene, perfecting a moment of surreal, joyful union.\"\n",
    "quechua = \"Huk huch’uy, askha runakunaq kiru hampina oficinapin Batty sutiyoq kawsaq murciélago, nanaq chukchanta horqosharqan. Paypa ladonpin, qonqayllamanta, Betty, huk ususqa bate de béisbol, k’aspi granonpi pulidota hap’iq, chay ruwayqa admirakuypaqmi rikch’akurqan kiru pichayman. Huñunakuyninku extraña kaptinpas, chayllam ñitiykurqaku, turnonkuta suyaspankum sumaqllata rimarqaku. Manaraq ripuchkaspankum numerokunata cambianakurqaku, prometespankum aswan samasqa kaspanku tupanankupaq. Iskay kinsa semanakuna qhepamanmi, primavera vacacionpi, Tulum llaqtapi hukmanta tuparqanku, chayqa intiyoqmi, q’oñitaqmi karqan, imaynan wiñashaq amigonku hina. Estanquepa waqtanpi tiyaspanku, chay samapakuna wasipa kawsaq llimpinkunawan hinaspa olakunapa llampu qapariyninwan muyurisqa kaspankum aswan ukhunchasqa kasqankuta sienterqaku. P’unchay ch’askakunata samarispa qhawashaqtinkun decidirqanku chay sientekusqankuta wiñaypaq kananpaq. Chayllapim nudo watakunankupaq tantearurqaku, chay hichpa lamar quchamanta mana suyasqa coro de atún nisqawan kusisqa, admirakuypaqmi, Baby Shark sutiyuq runata huk kunkallapi qaparirqa. Intiqa qhipankupi chinkaykuspan, quri k’anchayta chay escena hawaman wikch’uykuspa, huk ratu surreal, kusikuywan hukllanakuyta allinta ruwaspa.\"\n",
    "\n",
    "VOWELS = [\"a\", \"e\", \"i\", \"o\", \"u\"]\n",
    "\n",
    "\n",
    "def format_output(language, counts, frequencies):\n",
    "    print(f\"These are the frequencies and percentages of the vowels in {language}:\")\n",
    "    print(f\"A:  {counts['a']}   {format(frequencies['a'] * 100, '.2f')}%\")\n",
    "    print(f\"E:  {counts['e']}   {format(frequencies['e'] * 100, '.2f')}%\")\n",
    "    print(f\"I:  {counts['i']}   {format(frequencies['i'] * 100, '.2f')}%\")\n",
    "    print(f\"O:  {counts['o']}   {format(frequencies['o'] * 100, '.2f')}%\")\n",
    "    print(f\"U:  {counts['u']}   {format(frequencies['u'] * 100, '.2f')}%\")\n",
    "\n",
    "\n",
    "def main():\n",
    "    english_lower = english.lower()\n",
    "    quechua_lower = quechua.lower()\n",
    "\n",
    "    english_vowel_count = {vowel: english_lower.count(vowel) for vowel in VOWELS}\n",
    "    quechua_vowel_count = {vowel: quechua_lower.count(vowel) for vowel in VOWELS}\n",
    "\n",
    "    english_letter_count = len([letter for letter in english_lower if letter.isalpha()])\n",
    "    quechua_letter_count = len([letter for letter in quechua_lower if letter.isalpha()])\n",
    "\n",
    "    english_vowel_frequency = {\n",
    "        vowel: english_vowel_count[vowel] / english_letter_count for vowel in VOWELS\n",
    "    }\n",
    "    quechua_vowel_frequency = {\n",
    "        vowel: quechua_vowel_count[vowel] / quechua_letter_count for vowel in VOWELS\n",
    "    }\n",
    "\n",
    "    format_output(\"English\", english_vowel_count, english_vowel_frequency)\n",
    "    format_output(\"Quechua\", quechua_vowel_count, quechua_vowel_frequency)\n",
    "\n",
    "\n",
    "main()"
   ]
  },
  {
   "cell_type": "code",
   "execution_count": null,
   "metadata": {},
   "outputs": [],
   "source": []
  }
 ],
 "metadata": {
  "kernelspec": {
   "display_name": "Python 3 (ipykernel)",
   "language": "python",
   "name": "python3"
  },
  "language_info": {
   "codemirror_mode": {
    "name": "ipython",
    "version": 3
   },
   "file_extension": ".py",
   "mimetype": "text/x-python",
   "name": "python",
   "nbconvert_exporter": "python",
   "pygments_lexer": "ipython3",
   "version": "3.11.9"
  }
 },
 "nbformat": 4,
 "nbformat_minor": 4
}
