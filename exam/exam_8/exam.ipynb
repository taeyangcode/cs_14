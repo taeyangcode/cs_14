{
 "cells": [
  {
   "cell_type": "code",
   "execution_count": 37,
   "metadata": {},
   "outputs": [
    {
     "name": "stdout",
     "output_type": "stream",
     "text": [
      "All words: {'what', 'changed,', 'deleted.', 'of', 'old', 'print,', 'while', '$1.000', 'and', 'be', 'others', 'program', 'text', 'Conditions', 'for', 'sample,', 'compare', 'file,', 'new', 'offer', 'way,', 'you', 'etc.', 'not.', 'deleted,', 'was', 'your', 'when', 'want', 'Some', 'versus', 'Terms', 'do', 'reading', 'one;', 'or', 'By', 'Apple', 'has', 'this', 'versions', '$1,000', 'in', 'may', 'Android', 'fine', 'to', 'discount', 'the', 'a', 'example,', 'update', 'useful'}\n",
      "String 1 unique words: ['file,', 'deleted.', '$1,000']\n",
      "String 2 unique words: ['etc.', 'of', 'sample,', 'deleted,', '$1.000', 'has']\n",
      "Unique words: ['etc.', 'deleted.', 'of', 'sample,', 'deleted,', '$1.000', 'file,', 'has', '$1,000']\n"
     ]
    }
   ],
   "source": [
    "# Question 1\n",
    "\n",
    "\n",
    "def main():\n",
    "    string_1 = \"By the way, this program may be useful to you when you want to compare old and new versions in a text file, for example, the Terms and Conditions your Apple or Android update versus the old one; what changed, what was deleted. Some versions may offer a $1,000 discount for reading the fine print, while others do not.\"\n",
    "    string_2 = \"By the way, this program may be useful when you want to compare old and new versions in a text sample, for example, the Terms and Conditions of your Apple or Android update versus the old one; what has changed, what was deleted, etc. Some versions may offer a $1.000 discount for reading the fine print, while others do not.\"\n",
    "\n",
    "    # list of all of the words in each string\n",
    "    string_1_words = string_1.split(\" \")\n",
    "    string_2_words = string_2.split(\" \")\n",
    "\n",
    "    # convert lists to sets for easier operations\n",
    "    string_1_set = set(string_1_words)\n",
    "    string_2_set = set(string_2_words)\n",
    "\n",
    "    print(f\"All words: {string_1_set | string_2_set}\")\n",
    "\n",
    "    # display unique words set as list\n",
    "    print(f\"String 1 unique words: {list(string_1_set - string_2_set)}\")\n",
    "\n",
    "    # display unique words set as list\n",
    "    print(f\"String 2 unique words: {list(string_2_set - string_1_set)}\")\n",
    "\n",
    "    # the union of the unique words in each set as a list\n",
    "    print(\n",
    "        f\"Unique words: {list((string_1_set - string_2_set) | (string_2_set - string_1_set))}\"\n",
    "    )\n",
    "\n",
    "\n",
    "main()"
   ]
  },
  {
   "cell_type": "code",
   "execution_count": 32,
   "metadata": {},
   "outputs": [
    {
     "name": "stdout",
     "output_type": "stream",
     "text": [
      "# of unique words: 244\n",
      "{'once': 1, 'upon': 1, 'a': 13, 'time': 1, 'in': 7, 'the': 18, 'small': 1, 'town': 1, 'of': 8, 'maplewood': 1, 'there': 1, 'lived': 1, 'girl': 2, 'named': 1, 'lucy': 12, 'who': 3, 'had': 4, 'passion': 1, 'for': 2, 'baseball': 2, 'unlike': 1, 'any': 1, 'other': 1, 'however': 1, 'peculiar': 1, 'habit': 1, 'that': 7, 'she': 7, 'believed': 1, 'brought': 2, 'her': 24, 'luck': 1, 'decided': 1, 'to': 9, 'keep': 2, 'only': 1, 'left': 1, 'eye': 6, 'open': 1, 'during': 4, 'games': 1, 'decision': 1, 'led': 1, 'both': 1, 'challenges': 1, 'and': 12, 'chuckles': 1, 'strange': 1, 'strategy': 2, 'started': 1, 'one': 6, 'sunny': 1, 'afternoon': 1, 'crucial': 1, 'game': 7, 'against': 1, 'their': 1, 'rivals': 1, 'benson': 1, 'bees': 1, 'believing': 1, 'squinting': 1, 'with': 7, 'would': 2, 'improve': 1, 'focus': 1, 'caught': 1, 'fly': 1, 'ball': 4, 'such': 1, 'precision': 1, 'it': 1, 'turned': 1, 'around': 3, 'from': 2, 'moment': 2, 'superstition': 1, 'took': 2, 'hold': 1, 'vowed': 1, 'shut': 2, 'every': 3, 'at': 3, 'first': 1, 'teammates': 2, 'were': 1, 'amused': 1, 'by': 3, 'unusual': 1, 'tactic': 1, 'they': 3, 'watch': 2, 'mixed': 1, 'horror': 1, 'hilarity': 1, 'as': 2, 'balls': 2, 'approached': 1, 'more': 1, 'often': 1, 'than': 1, 'not': 3, 'depth': 2, 'perception': 2, 'altered': 1, 'monocular': 1, 'view': 1, 'made': 2, 'catching': 2, 'routine': 1, 'pop': 1, 'flies': 1, 'an': 2, 'adventurous': 1, 'if': 1, 'hazardous': 1, 'endeavor': 1, 'memorable': 1, 'was': 4, 'positioned': 1, 'outfield': 1, 'when': 1, 'high': 1, 'hit': 1, 'directly': 1, 'towards': 1, 'right': 2, 'firmly': 1, 'misjudged': 1, 'trajectory': 1, 'few': 1, 'uncertain': 1, 'steps': 1, 'back': 1, 'seemed': 1, 'destined': 1, 'glove': 1, 'but': 4, 'last': 1, 'stumbled': 1, 'landed': 1, 'comical': 1, 'plop': 1, 'on': 1, 'top': 1, 'head': 2, 'crowd': 1, 'erupted': 1, 'laughter': 1, 'even': 1, 'could': 1, 'help': 2, 'join': 1, 'rubbing': 1, 'smiling': 1, 'broadly': 1, 'season': 2, 'continued': 1, 'antics': 1, 'became': 1, 'beloved': 1, 'quirk': 1, 'coach': 1, 'always': 1, 'supportive': 1, 'gave': 1, 'extra': 1, 'practice': 1, 'sessions': 1, 'adjust': 1, 'fielding': 1, 'techniques': 1, 'better': 1, 'suit': 1, 'unique': 1, 'vision': 1, 'choice': 1, 'meanwhile': 1, 'invented': 1, 'new': 1, 'drills': 1, 'involved': 1, 'closing': 1, 'all': 1, 'good': 1, 'fun': 1, 'solidarity': 1, 'quirky': 1, 'celebratory': 1, 'spirit': 1, 'team': 1, 'infectious': 1, \"didn't\": 1, 'win': 1, 'certainly': 1, 'won': 1, 'hearts': 1, 'everyone': 2, 'came': 2, 'them': 1, 'play': 1, 'learned': 1, 'navigate': 1, 'world': 1, 'compromised': 1, 'doing': 1, 'so': 1, 'taught': 1, 'about': 1, 'determination': 1, 'uniqueness': 1, 'joy': 1, 'embracing': 1, 'quirks': 1, 'end': 1, 'become': 1, 'somewhat': 1, 'local': 1, 'legend': 1, 'people': 1, 'towns': 1, 'just': 1, 'see': 1, 'played': 1, 'closed': 1, 'each': 1, 'amusing': 1, 'spectacle': 1, 'unexpected': 1, 'moves': 1, 'heartfelt': 1, 'laughs': 1, 'though': 1, 'trouble': 1, 'never': 1, 'lost': 1, 'sight': 1, 'what': 1, 'happy': 1, 'namely': 1, 'playing': 1, 'sport': 1, 'loved': 1, 'way': 1}\n"
     ]
    }
   ],
   "source": [
    "# Question 2\n",
    "\n",
    "\n",
    "def main():\n",
    "    # remove all punctionation and new lines\n",
    "    unique_words = story_time.replace(\".\", \"\")\n",
    "    unique_words = unique_words.replace(\",\", \"\")\n",
    "    unique_words = unique_words.replace(\"\\n\", \" \")\n",
    "\n",
    "    # make lowercase\n",
    "    unique_words = unique_words.lower()\n",
    "\n",
    "    # split string\n",
    "    unique_words = unique_words.split()\n",
    "\n",
    "    # number of unique words -> len of the set of the list\n",
    "    print(f\"# of unique words: {len(set(unique_words))}\")\n",
    "\n",
    "    # for each word in unique words, add it to the dictionary along with its count (duplicates will be replaced as it's a dictionary)\n",
    "    unique_dictionary = {word: unique_words.count(word) for word in unique_words}\n",
    "\n",
    "    print(unique_dictionary)\n",
    "\n",
    "\n",
    "story_time = \"\"\"\n",
    "Once upon a time in the small town of Maplewood, there lived a girl named Lucy who had a passion for baseball unlike any other. However, Lucy had a peculiar habit that she believed brought her luck. She decided to keep only her left eye open during games, a decision that led to both challenges and chuckles.\n",
    "Lucy and her strange strategy started one sunny afternoon during a crucial game against their rivals, the Benson Bees. Believing that squinting with one eye would improve her focus, she caught a fly ball with such precision that it turned the game around. From that moment, superstition took hold, and Lucy vowed to keep one eye shut during every game.\n",
    "At first, her teammates were amused by her unusual tactic. They would watch in mixed horror and hilarity as balls approached Lucy. More often than not, her depth perception, altered by her monocular view, made catching routine pop flies an adventurous, if not hazardous, endeavor.\n",
    "During one memorable game, Lucy was positioned in the outfield when a high ball was hit directly towards her. With her right eye firmly shut, she misjudged the trajectory and took a few uncertain steps back. The ball seemed destined for her glove but at the last moment, Lucy stumbled, and the ball landed with a comical plop right on top of her head. The crowd erupted in laughter, and even Lucy could not help but join in, rubbing her head but smiling broadly.\n",
    "As the season continued, her antics became a beloved quirk at every game. Her coach, always supportive, gave her extra practice sessions to help adjust her fielding techniques to better suit her unique vision choice. Meanwhile, her teammates invented new drills that involved closing one eye, all in good fun and solidarity with Lucy.\n",
    "The quirky strategy brought a celebratory spirit to the team that was infectious. They didn't win every game, but they certainly won the hearts of everyone who came to watch them play. Lucy learned to navigate her world with her depth perception compromised, and in doing so, she taught everyone around her about determination, uniqueness, and the joy of embracing quirks.\n",
    "By the end of the season, Lucy had become somewhat of a local legend. People came from towns around just to see the girl who played baseball with one eye closed. Each game was an amusing spectacle of unexpected moves and heartfelt laughs. And though she had trouble catching balls, Lucy never lost sight of what made her happy, namely, playing the sport she loved, her way.\n",
    "\"\"\"\n",
    "\n",
    "main()"
   ]
  },
  {
   "cell_type": "code",
   "execution_count": 35,
   "metadata": {},
   "outputs": [
    {
     "name": "stdout",
     "output_type": "stream",
     "text": [
      "she: was not found in the dictionary.\n",
      "Dictionary has been serialized to: \"words_dictionary.dat\"\n"
     ]
    }
   ],
   "source": [
    "import pickle\n",
    "\n",
    "\n",
    "def main():\n",
    "    # remove all punctionation and new lines\n",
    "    unique_words = story_time.replace(\".\", \"\")\n",
    "    unique_words = unique_words.replace(\",\", \"\")\n",
    "    unique_words = unique_words.replace(\"\\n\", \" \")\n",
    "\n",
    "    # make lowercase\n",
    "    unique_words = unique_words.lower()\n",
    "\n",
    "    # split string\n",
    "    unique_words = unique_words.split()\n",
    "\n",
    "    # for each word in unique words, add it to the dictionary along with its count (duplicates will be replaced as it's a dictionary)\n",
    "    unique_dictionary = {word: unique_words.count(word) for word in unique_words}\n",
    "\n",
    "    # handle removing words\n",
    "    while (\n",
    "        removal_word := input('Which word do you want to remove? (\"N\" to finish)')\n",
    "    ) != \"N\":\n",
    "        # remove word\n",
    "        try:\n",
    "            unique_dictionary.pop(removal_word)\n",
    "        # if word does not exist tell user\n",
    "        except KeyError:\n",
    "            print(f\"{removal_word}: was not found in the dictionary.\")\n",
    "\n",
    "    # open file and dump deserialized contents\n",
    "    with open(\"words_dictionary.dat\", \"wb\") as words_f:\n",
    "        pickle.dump(unique_dictionary, words_f)\n",
    "\n",
    "    print('Dictionary has been serialized to: \"words_dictionary.dat\"')\n",
    "\n",
    "\n",
    "main()"
   ]
  }
 ],
 "metadata": {
  "kernelspec": {
   "display_name": "Python 3",
   "language": "python",
   "name": "python3"
  },
  "language_info": {
   "codemirror_mode": {
    "name": "ipython",
    "version": 3
   },
   "file_extension": ".py",
   "mimetype": "text/x-python",
   "name": "python",
   "nbconvert_exporter": "python",
   "pygments_lexer": "ipython3",
   "version": "3.11.9"
  }
 },
 "nbformat": 4,
 "nbformat_minor": 2
}
