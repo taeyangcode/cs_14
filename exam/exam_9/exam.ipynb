{
 "cells": [
  {
   "cell_type": "code",
   "execution_count": 27,
   "metadata": {},
   "outputs": [
    {
     "name": "stdout",
     "output_type": "stream",
     "text": [
      "Item         Description  Units        Price       \n",
      "Item 1       Jacket       12           $59.95      \n",
      "Item 1       Jeans        40           $34.95      \n",
      "Item 1       Shirt        20           $24.95      \n"
     ]
    }
   ],
   "source": [
    "# Question 2\n",
    "\n",
    "# main.py\n",
    "\n",
    "from retail_item import RetailItem  # import class\n",
    "\n",
    "\n",
    "def main():\n",
    "    # create items\n",
    "    item_1 = RetailItem(\"Jacket\", 12, \"$59.95\")\n",
    "    item_2 = RetailItem(\"Jeans\", 40, \"$34.95\")\n",
    "    item_3 = RetailItem(\"Shirt\", 20, \"$24.95\")\n",
    "\n",
    "    # store items in list\n",
    "    items = [item_1, item_2, item_3]\n",
    "\n",
    "    # print data\n",
    "    print(f\"{'Item':<12} {'Description':<12} {'Units':<12} {'Price':<12}\")\n",
    "\n",
    "    index = 1\n",
    "    for item in items:\n",
    "        print(\n",
    "            f\"Item {index:<7} {item.get_description():<12} {item.get_unit_amount():<12} {item.get_price():<12}\"\n",
    "        )\n",
    "\n",
    "\n",
    "main()"
   ]
  },
  {
   "cell_type": "code",
   "execution_count": null,
   "metadata": {},
   "outputs": [],
   "source": []
  }
 ],
 "metadata": {
  "kernelspec": {
   "display_name": "Python 3",
   "language": "python",
   "name": "python3"
  },
  "language_info": {
   "codemirror_mode": {
    "name": "ipython",
    "version": 3
   },
   "file_extension": ".py",
   "mimetype": "text/x-python",
   "name": "python",
   "nbconvert_exporter": "python",
   "pygments_lexer": "ipython3",
   "version": "3.11.8"
  }
 },
 "nbformat": 4,
 "nbformat_minor": 2
}
