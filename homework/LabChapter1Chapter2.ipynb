{
 "cells": [
  {
   "cell_type": "markdown",
   "id": "6b900a7f-c782-4a62-9fe6-a30e141046a6",
   "metadata": {},
   "source": [
    "Exercise1] PersonalAssistant: Have a robotic assistant write a night time routine for you using comments."
   ]
  },
  {
   "cell_type": "code",
   "execution_count": null,
   "id": "bb5b98a4-4a0d-4ac3-892e-76d13f5e27ee",
   "metadata": {},
   "outputs": [],
   "source": [
    "# Dinner\n",
    "print(\"Make sure you finished eating dinner.\")\n",
    "\n",
    "# Homework\n",
    "print(\"Make sure you completed all assignments due today.\")\n",
    "\n",
    "# Sleep\n",
    "print(\"Good night.\")"
   ]
  },
  {
   "cell_type": "markdown",
   "id": "52d749dd-05ae-4b89-8d7c-b1e4432588df",
   "metadata": {},
   "source": [
    "Exercise2] IceCream: Design a shopping cart program that allows the user to choose from 10 different ice cream flavors sold as scoops, and guides the shopper as they pay for their purchase. Present a plan, draw an appropriate flow chart for the main compone, and then implement your design using comments. Assume all ice cream scoops sell for the same price of $1."
   ]
  },
  {
   "cell_type": "code",
   "execution_count": null,
   "id": "2e0add0a-b55e-4832-892c-df39332646fb",
   "metadata": {},
   "outputs": [],
   "source": [
    "# Design:\n",
    "# Begin program\n",
    "# Prompt the user with a welcome message along with the 10 possible ice cream flavors.\n",
    "# Accept input for the types of ice cream they would like, as well as the amount of scoops.\n",
    "# Calculate the final cost based on the user input, and ouptut the final cost.\n",
    "# Prompt user with welcome message\n",
    "# Prompt user with 10 possible ice cream flavors\n",
    "# Accept input for type of ice cream\n",
    "# Accept input for amount of scoops\n",
    "# Calculate total cost\n",
    "# Output total cost\n",
    "# End program"
   ]
  },
  {
   "cell_type": "markdown",
   "id": "01c40abd-985c-4b03-8c51-ee0cc4b8564f",
   "metadata": {},
   "source": [
    "Exercise3] Ask the user to give you their street address number and assign the information to a variable called address_number. Then convert the input to integer. Then ask for the street address name and assign it to a variable called address_name."
   ]
  },
  {
   "cell_type": "code",
   "execution_count": null,
   "id": "0d840e07-3865-47ad-8a00-1692b864ba48",
   "metadata": {},
   "outputs": [],
   "source": [
    "address_number = int(input(\"Please enter your street address number:\"))\n",
    "adress_name = input(\"Please enter your street address name:\")"
   ]
  },
  {
   "cell_type": "markdown",
   "id": "86e3fee9-a57c-44a1-a848-28e901718e64",
   "metadata": {},
   "source": [
    "Exercise4] Write Python code prompting the user to enter their height and assign the height to a variable called height."
   ]
  },
  {
   "cell_type": "code",
   "execution_count": null,
   "id": "402d5b25-adba-4ebd-808a-58087fa2c0ef",
   "metadata": {},
   "outputs": [],
   "source": [
    "height = input(\"Please enter your height:\")"
   ]
  },
  {
   "cell_type": "markdown",
   "id": "79a7c7b2-a8df-404f-aee8-33c2562e0a4e",
   "metadata": {},
   "source": [
    "Exercise5] Assign to the variable var1 the integer value var1 = 10. Now ask Python what data type is var1 by typing type(var1).  Now multiply var1 = 10 * 0.01 and ask Python what type of data var1 is now."
   ]
  },
  {
   "cell_type": "code",
   "execution_count": null,
   "id": "d24a12eb-8fe8-45b1-8b50-7c3caa670b9d",
   "metadata": {},
   "outputs": [],
   "source": [
    "var1 = 10\n",
    "# I expect the type of var1 to be an integer\n",
    "print(type(var1))\n",
    "\n",
    "var1 = 10 * 0.01\n",
    "# As the result is now a floating point number, I expect the type to be a float\n",
    "print(type(var1))"
   ]
  },
  {
   "cell_type": "markdown",
   "id": "30661fe8-b51f-4d5c-a262-fbb903007c36",
   "metadata": {},
   "source": [
    "Exercise6] Write a program that displays the following info:  1] Your name 2] Your (fake) address 3] Your (fake) phone number 4] Your college major"
   ]
  },
  {
   "cell_type": "code",
   "execution_count": null,
   "id": "53cee3a5-a3ac-43a7-9f21-e1d1192add51",
   "metadata": {},
   "outputs": [],
   "source": [
    "# Name\n",
    "print(\"Corey Mostero\")\n",
    "# Address\n",
    "print(\"1902 Orange Street, Applewood CA\")\n",
    "# Phone Number\n",
    "print(\"(310) 123-4567\")\n",
    "# Major\n",
    "print(\"Computer Science/Data Science\")"
   ]
  },
  {
   "cell_type": "markdown",
   "id": "742e659b-b318-4d8e-8434-fc7109b44633",
   "metadata": {},
   "source": [
    "Exercise7] A company has determined that its annual profit is typically 23 percent of total sales. Write a program that asks the user to enter the projected amount of total sales, and displays the profit. Use profit = 0.23 * total sales"
   ]
  },
  {
   "cell_type": "code",
   "execution_count": null,
   "id": "a70eaffb-38bc-41bc-a205-a32dccdd99cf",
   "metadata": {},
   "outputs": [],
   "source": [
    "# Prompt for total sales\n",
    "total_sales = int(input(\"Enter the projected annual amount of total sales:\"))\n",
    "# Calculate profit\n",
    "profit = 0.23 * total_sales\n",
    "# Display proft\n",
    "print(profit)"
   ]
  },
  {
   "cell_type": "markdown",
   "id": "0f350d76-05b4-42c4-b80c-70ac00cac6ab",
   "metadata": {},
   "source": [
    "Exercise8] Ask the user to enter the model year of their car into the variable model_year. Then ask Python to add 1 to car_year as follows: model_year = model_year + 1 What happened and why?"
   ]
  },
  {
   "cell_type": "code",
   "execution_count": null,
   "id": "fe44e438-b728-47aa-9a6b-320f9eb16aa4",
   "metadata": {},
   "outputs": [],
   "source": [
    "model_year = int(input(\"Enter the model year of your car:\"))\n",
    "model_year = model_year + 1"
   ]
  },
  {
   "cell_type": "markdown",
   "id": "f54f8d4f-1665-4389-94a3-05b7885fdf54",
   "metadata": {},
   "source": [
    "Exercise9] I wrote a program to shave 10 years from my age as follows, but something is wrong. What is the problem? \n",
    "true_age = input(\"Hey gorgeous, how old are you? \")\n",
    "print(\"Amazing! You do look\", true_age - 10)"
   ]
  },
  {
   "cell_type": "markdown",
   "id": "3d2f8086-e849-41c1-b838-431ec62a07cb",
   "metadata": {},
   "source": [
    "The type of `true_age` is `string`, and performing mathematical operations on `string`s is not defined behavior (is an error)."
   ]
  },
  {
   "cell_type": "markdown",
   "id": "7cf952b0-0331-4f8f-b20f-40b8b5c00737",
   "metadata": {},
   "source": [
    "Exercise10] Create an algorithm and write its implementation using comments and pseudocode that mimics the process of a person using a remote control to turn on a TV, change the channel, and turn off the TV. Include appropriate variables to hold needed information. Where needed, indicate sections of the algorithm that may need to be repeated, or segments to execute based on decisions."
   ]
  },
  {
   "cell_type": "markdown",
   "id": "0af8dbd4-4151-4353-a1b8-d8c4c9a552b5",
   "metadata": {},
   "source": [
    "```\n",
    "Psuedocode:\n",
    "\n",
    "# Begin program\n",
    "# Initialize remote\n",
    "remote = remote_control()\n",
    "# Change the channel to channel 23\n",
    "remote.change_channel(23)\n",
    "# Turn off TV\n",
    "remote.press_off()\n",
    "```"
   ]
  },
  {
   "cell_type": "markdown",
   "id": "11fa80c7-8913-4b81-bae3-222484643e00",
   "metadata": {},
   "source": [
    "Exercise11] Create an algorithm and write its implementation using comments and pseudocode that will guide an online shopping customer to purchase 3 items. Where needed, indicate sections of the algorithm that may need to be repeated, or segments to execute based on decisions."
   ]
  },
  {
   "cell_type": "markdown",
   "id": "df1bd568-8917-4f43-82bd-6f1062169e22",
   "metadata": {},
   "source": [
    "```\n",
    "Psuedocode:\n",
    "\n",
    "# Initialize online shopping customer\n",
    "customer = online_shopping_customer()\n",
    "# Purchase 3 items\n",
    "For [0, 2]\n",
    "    customer.purchase_item()"
   ]
  },
  {
   "cell_type": "markdown",
   "id": "5fcb6148-ac20-4853-964e-3db38ed4f494",
   "metadata": {},
   "source": [
    "Exercise12] Create an algorithm and write its implementation using comments and pseudocode that will safely navigate a vehicle from the college to your house. Where needed, indicate sections of the algorithm that may need to be repeated, or segments to execute based on decisions. "
   ]
  },
  {
   "cell_type": "markdown",
   "id": "6d93a108-272e-4c75-9633-636a03395916",
   "metadata": {},
   "source": [
    "```\n",
    "Psuedocode:\n",
    "\n",
    "# Initialize vehicle\n",
    "car = vehicle()\n",
    "# Input address into GPS\n",
    "car.set_gps(\"1011 Apple Street, Orange City\")\n",
    "# Drive and follow GPS\n",
    "car.drive(follow_gps = True)\n",
    "```"
   ]
  },
  {
   "cell_type": "markdown",
   "id": "221883de-8044-4f34-8eab-85658bdf345b",
   "metadata": {},
   "source": [
    "Exercise 13] Torch and bridge: Design an algorithm solution for the following problem and write it using Python comments (this is a classic problem; see if you can make figure it out on your own before looking for suggestions online. The point is to have fun while you think of solutions to problems). \n",
    "\n",
    "Four people come to a river in the night. There is a narrow bridge, and it can only hold two people at a time. They have one torch and, because it's night, the torch has to be used when crossing the bridge. Person A can cross the bridge in 1 minute, B in 2 minutes, C in 5 minutes, and D in 8 minutes. When two people cross the bridge together, they must move at the slower person's pace. The question is, can they all get across the bridge if the torch lasts only 15 minutes?"
   ]
  },
  {
   "cell_type": "markdown",
   "id": "ba6a5166-80ea-418d-9895-a3ace1dfd2c9",
   "metadata": {},
   "source": [
    "```\n",
    "Psuedocode:\n",
    "\n",
    "# Initialize persons and torch\n",
    "person_A = person(time = 1)\n",
    "person_B = person(time = 2)\n",
    "person_C = person(time = 5)\n",
    "person_D = person(time = 8)\n",
    "torch = torch()\n",
    "\n",
    "# Give torch to person_A\n",
    "person_A.give(torch)\n",
    "\n",
    "# person_A enters and person_B crosses bridge - total time: 2 minutes\n",
    "person_A.enter_bridge()\n",
    "person_B.cross_bridge()\n",
    "\n",
    "# person_C crosses bridge - total time: 2 + 5 minutes, 7 minutes\n",
    "person_C.cross_bridge()\n",
    "\n",
    "# person_A and person_D crosses bridge - total time: 7 + 8 minutes, 15 minutes\n",
    "person_A.cross_bridge()\n",
    "person_D.cross_bridge()\n",
    "```"
   ]
  },
  {
   "cell_type": "markdown",
   "id": "8806d4ab-bf0d-4385-8f05-244144d0837e",
   "metadata": {},
   "source": [
    "Exercise14] Use the print() function to print your name, once with  \n",
    "\n",
    "single quotes and once with double quotes. \n",
    "\n",
    "Now use the print() function to denote that something (a book?) \n",
    "\n",
    "belongs to you as follows: \n",
    "\n",
    "Jose Alberto's book \n",
    "\n",
    "What happened? When you use the print() function, you have the choice of single or double quotes; choose what you find more appropriate. In the example above, \n",
    "\n",
    "I can use \n",
    "\n",
    "print(\"Jose Alberto's book\")     \n",
    "\n",
    "to get the single quote, but there are other ways to \n",
    "\n",
    "get the job done, as we will see later. OK, here is another way:  \n",
    "\n",
    "print(\"Jose Alberto\\'s book\")     #This uses an escape character,  \\' \n",
    "Now use the len() function to find the number of characters in your name, i.e. \n",
    "\n",
    "len(\"Jose Alberto Macias\") \n",
    "\n",
    "Does the returned value match your expectations? "
   ]
  },
  {
   "cell_type": "code",
   "execution_count": null,
   "id": "ea4dad61-84e6-4603-bcd3-c46f47f101bd",
   "metadata": {},
   "outputs": [],
   "source": [
    "# Print my name\n",
    "print('Corey Mostero')\n",
    "print(\"Corey Mostero\")\n",
    "\n",
    "# Book\n",
    "print(\"Corey's Bible\")\n",
    "\n",
    "# Length of above string\n",
    "assert len(\"Corey's Bible\") == 13"
   ]
  },
  {
   "cell_type": "markdown",
   "id": "a29b43b8-2c3e-41c0-bc8d-28031b8cb0ec",
   "metadata": {},
   "source": [
    "Exercise15] Use the print() function with multiple strings and print your  \n",
    "\n",
    "first, middle, and last names along with your year in school."
   ]
  },
  {
   "cell_type": "code",
   "execution_count": null,
   "id": "c4f14373-bf25-4088-8885-ebdabf068b95",
   "metadata": {},
   "outputs": [],
   "source": [
    "print(\"Corey\", \"Ryan\", \"Mostero\", \"Sophomore\")"
   ]
  },
  {
   "cell_type": "markdown",
   "id": "366bdbd5-6a8e-4a73-b1cb-1c70b5fddf6f",
   "metadata": {},
   "source": [
    "Exercise16] Print the following countdown \n",
    "\n",
    "10…9…8…7…6…5…4…3..2..1…Blast off! \n",
    "\n",
    "but do not just use this statement \n",
    "\n",
    "print('10…9…8…7…6…5…4…3..2..1…Blast off!') "
   ]
  },
  {
   "cell_type": "code",
   "execution_count": null,
   "id": "dde56f5a-f09e-410f-91c8-3aa10cdf7ea8",
   "metadata": {},
   "outputs": [],
   "source": [
    "print(10, 9, 8, 7, 6, 5, 4, 3, 2, 1, \"Blast off!\", sep = \"...\")"
   ]
  },
  {
   "cell_type": "markdown",
   "id": "f81e11ec-a330-4dda-bb8f-f09739f25f6a",
   "metadata": {},
   "source": [
    "Exercise17] Create a variable total = 10 and use it in a print() statement \n",
    "\n",
    "to print the following message. Pay attention to spacing format. \n",
    "\n",
    "Your total is $10. Come again! "
   ]
  },
  {
   "cell_type": "code",
   "execution_count": null,
   "id": "b573eefe-f7e6-4f7b-af50-3d59b013eed1",
   "metadata": {},
   "outputs": [],
   "source": [
    "total = 10\n",
    "print(\"Your total is $\", total, \". Come again!\", sep = \"\")"
   ]
  },
  {
   "cell_type": "markdown",
   "id": "2da9a641-f916-4d0d-853e-8b1dc33ad721",
   "metadata": {},
   "source": [
    "Exercise18] Print the following statements using multiple print()  \n",
    "\n",
    "functions, each print() function containing one single word. \n",
    "\n",
    "The water is just fine! \n",
    "\n",
    "Jump in! "
   ]
  },
  {
   "cell_type": "code",
   "execution_count": null,
   "id": "9eb710d2-2451-405d-96f4-efbdeff0911e",
   "metadata": {},
   "outputs": [],
   "source": [
    "print(\"The\", end = \" \")\n",
    "print(\"water\", end = \" \")\n",
    "print(\"is\", end = \" \")\n",
    "print(\"just\", end = \" \")\n",
    "print(\"fine\", end = \"!\\n\")\n",
    "\n",
    "print(\"Jump\", end = \" \")\n",
    "print(\"in\", end = \"!\")"
   ]
  },
  {
   "cell_type": "markdown",
   "id": "b925350a-e479-44fa-ae9f-e61cc8c4a31d",
   "metadata": {},
   "source": [
    "Exercise19] To prepare you to recognize the versatility of operators  \n",
    "\n",
    "depending on context, try the following: \n",
    "\n",
    "var1 = 10 \n",
    "\n",
    "var2 = 20 \n",
    "\n",
    "var3 = 'ten' \n",
    "\n",
    "var4 = 'twenty' \n",
    "\n",
    "print(var1+var2) \n",
    "\n",
    "print(var3+var4) \n",
    "\n",
    "print(var1*10) \n",
    "\n",
    "print(var3*10) \n",
    "\n",
    "You try it: \n",
    "\n",
    "Write the following calculations in the interactive shell. \n",
    "\n",
    "1] price is 100, sales tax is 5%. How would you calculate the sales tax? \n",
    "\n",
    "2] price is 100, sales tax is 5%. How would you calculate the total amount to pay? "
   ]
  },
  {
   "cell_type": "code",
   "execution_count": null,
   "id": "a5001fd5-9f67-452a-a46f-e6ca733b83db",
   "metadata": {},
   "outputs": [],
   "source": [
    "var1 = 10\n",
    "var2 = 20\n",
    "var3 = \"ten\"\n",
    "var4 = \"twenty\"\n",
    "\n",
    "print(var1 + var2)\n",
    "print(var3 + var4)\n",
    "print(var1 * 10)\n",
    "print(var3 * 10)\n",
    "\n",
    "# Part 1]\n",
    "price = 100\n",
    "sales_tax = 0.05\n",
    "print(price * sales_tax)\n",
    "\n",
    "# Part 2]\n",
    "price = 100\n",
    "sales_tax = 0.05\n",
    "print(price + price * sales_tax)"
   ]
  },
  {
   "cell_type": "markdown",
   "id": "cb58ba27-aa4c-4393-ac31-070cbb517fad",
   "metadata": {},
   "source": [
    "Exercise20] Look at the following definitions \n",
    "\n",
    "P = principal \n",
    "\n",
    "R = interest rate (as a decimal) \n",
    "\n",
    "T = time duration (in years) \n",
    "\n",
    "Simple Interest is (Principal) times (Interest rate) times (Time) \n",
    "\n",
    "Use Python to calculate the simple interest earned in 1 year. Use an initial amount of $10,000 for the principal and use the current prime rate paid by the U.S. government for the rate. (look it up) . Note: do not use P,R, T for variable names. Instead use principal, interest_rate, and so on. "
   ]
  },
  {
   "cell_type": "code",
   "execution_count": null,
   "id": "d4bf2941-26ad-4fdf-9b4e-85061cda0c86",
   "metadata": {},
   "outputs": [],
   "source": [
    "principal = 10_000\n",
    "interest_rate = 0.085\n",
    "time_duration = 1\n",
    "\n",
    "principal * interest_rate * time_duration"
   ]
  },
  {
   "cell_type": "markdown",
   "id": "c84270e0-fa26-4f98-b016-19f7b0de6257",
   "metadata": {},
   "source": [
    "Exercise21] Use the prior problem above and calculate the Amount held after T years, defined as \n",
    "\n",
    "Amount equals Principal times ( 1 plus R times T) "
   ]
  },
  {
   "cell_type": "code",
   "execution_count": null,
   "id": "8e0c2d97-b8d9-42df-89c6-d08609d4bfe0",
   "metadata": {},
   "outputs": [],
   "source": [
    "amount = principal * (1 + interest_rate * time_duration)\n",
    "amount"
   ]
  },
  {
   "cell_type": "markdown",
   "id": "caa3aa20-1051-430d-be99-dc539bbfc89e",
   "metadata": {},
   "source": [
    "Exercise22] HorchataDrinks:Your favorite drink recipe calls for 1 glass of horchata (100 calories) with cinnamon (0 calories) and shots of mezcal (10 calories). Create a formula that will ask the user how many drinks they want, how many mezcal shots per drink, and calculate the number of calories in those drinks. "
   ]
  },
  {
   "cell_type": "code",
   "execution_count": null,
   "id": "bb86529d-9bc5-45e2-a91a-7fb2f8170dab",
   "metadata": {},
   "outputs": [],
   "source": [
    "drink_amount = int(input(\"How many drinks would you like?\"))\n",
    "mezcal_shots = int(input(\"How many mezcal shots would you like per drink?\"))\n",
    "\n",
    "horchata_calories = 100\n",
    "mezcal_shot_calories = 10\n",
    "\n",
    "total_calories = drink_amount * horchata_calories + drink_amount * mezcal_shots * mezcal_shot_calories\n",
    "total_calories"
   ]
  },
  {
   "cell_type": "markdown",
   "id": "54e766a0-985c-4280-bc4a-01762df5c809",
   "metadata": {},
   "source": [
    "Exercise23] Write a program asking the user to supply an integer, then  \n",
    "\n",
    "inform the user the number is odd or even (hint: use the % operator). At this point, feel free to describe the algorithm using comments only. If you already know if-statements, you may write the actual program. "
   ]
  },
  {
   "cell_type": "code",
   "execution_count": null,
   "id": "1736bd11-468c-45b7-b1f6-4e55d43cd6c5",
   "metadata": {},
   "outputs": [],
   "source": [
    "print([\"Your number is even!\", \"Your number is odd!\"][int(input(\"Enter an integer:\")) % 2])\n",
    "\n",
    "# Expanded:\n",
    "# Ask the user for an integer and cast the input to an int\n",
    "# Mod the integer by 2 to receive a result: [0, 1]\n",
    "# Print the value in the array at index result"
   ]
  },
  {
   "cell_type": "markdown",
   "id": "39257e67-8234-4de2-bede-a170de1e5741",
   "metadata": {},
   "source": [
    "Exercise24] PaintCans: You need to purchase cans of paint for your room. Write a program that asks the user for the number of square feet to paint and outputs the number of cans of paint to use (no decimals). To be on the safe side, add 1 can of paint to the calculation (Use the // operator. 1 can = 50 square feet)."
   ]
  },
  {
   "cell_type": "code",
   "execution_count": null,
   "id": "2b48f950-1259-4b8b-ae16-b155523c42fe",
   "metadata": {},
   "outputs": [],
   "source": [
    "print(\"You need to purchase\", int(input(\"How many square feet is your room?\")) // 50 + 1, \"can(s) of paint.\")\n",
    "\n",
    "# Expanded:\n",
    "# Ask the user for the amount of square feet their room is\n",
    "# Perform arithmetic on result and print it amongst the other output"
   ]
  },
  {
   "cell_type": "markdown",
   "id": "6c73ac23-be9d-4f51-9390-a2476b024163",
   "metadata": {},
   "source": [
    "Exercise 25] Guesstimation: We all tend to guesstimate prices when shopping for items. For example, if my total bar tab was \\\\$1243.23, I may say it was \\\\$1243 or \\\\$1244 ( it is a guesstimate, not rounding off). Write a program that asks the user to enter the price for 5 items; each price gets assigned to a different variable. Add the total of the 5 items, calculate the tax on the five items (10% rate), and find the total to pay, but print the total to pay as a guesstimate using integer notation (hint: divide the total by 1 using integer division)."
   ]
  },
  {
   "cell_type": "code",
   "execution_count": null,
   "id": "c58c1a43-d520-41ea-b9ce-6238db269c8e",
   "metadata": {},
   "outputs": [],
   "source": [
    "price_1 = int(input(\"Enter item price:\"))\n",
    "price_2 = int(input(\"Enter item price:\"))\n",
    "price_3 = int(input(\"Enter item price:\"))\n",
    "price_4 = int(input(\"Enter item price:\"))\n",
    "price_5 = int(input(\"Enter item price:\"))\n",
    "\n",
    "total_price = price_1 + price_2 + price_3 + price_4 + price_5\n",
    "\n",
    "rate = 0.1\n",
    "\n",
    "print(\"The guesstimation of the total is about:\", int(total_price + total_price * rate))"
   ]
  },
  {
   "cell_type": "markdown",
   "id": "87e42699-1fb1-4979-a29b-ca2acd51d139",
   "metadata": {},
   "source": [
    "Exercise26] Reformat the output so the result of the following calculation is a dollar amount rounded to the nearest cent. "
   ]
  },
  {
   "cell_type": "code",
   "execution_count": 8,
   "id": "928ef8bb-fe65-40d6-a7ff-a0b639928e77",
   "metadata": {},
   "outputs": [
    {
     "name": "stdout",
     "output_type": "stream",
     "text": [
      "$3.33\n"
     ]
    }
   ],
   "source": [
    "cost_of_ride = 10\n",
    "number_of_passengers = 3\n",
    "cost_per_passenger = cost_of_ride / number_of_passengers\n",
    "print(\"$\", format(cost_per_passenger, \".2f\"), sep = \"\")"
   ]
  },
  {
   "cell_type": "markdown",
   "id": "065d335e-2b1f-4060-8337-1f4f4839048b",
   "metadata": {},
   "source": [
    "Exercise27] Write a program asking the user to enter the age of 3 people you know \n",
    "\n",
    "and map each entered age to a variable. Display the total age of the people \n",
    "\n",
    "using an f-string in a print() function; evaluate the sum within the f-string"
   ]
  },
  {
   "cell_type": "code",
   "execution_count": 2,
   "id": "39fc5b71-dd4c-4de6-be67-5624b50d1c0a",
   "metadata": {},
   "outputs": [
    {
     "name": "stdin",
     "output_type": "stream",
     "text": [
      "Enter the age of a person you know: 5\n",
      "Enter the age of a person you know: 10\n",
      "Enter the age of a person you know: 15\n"
     ]
    },
    {
     "name": "stdout",
     "output_type": "stream",
     "text": [
      "The total age is: 30\n"
     ]
    }
   ],
   "source": [
    "age_1 = int(input(\"Enter the age of a person you know:\"))\n",
    "age_2 = int(input(\"Enter the age of a person you know:\"))\n",
    "age_3 = int(input(\"Enter the age of a person you know:\"))\n",
    "\n",
    "print(f\"The total age is: {age_1 + age_2 + age_3}\")"
   ]
  }
 ],
 "metadata": {
  "kernelspec": {
   "display_name": "Python 3 (ipykernel)",
   "language": "python",
   "name": "python3"
  },
  "language_info": {
   "codemirror_mode": {
    "name": "ipython",
    "version": 3
   },
   "file_extension": ".py",
   "mimetype": "text/x-python",
   "name": "python",
   "nbconvert_exporter": "python",
   "pygments_lexer": "ipython3",
   "version": "3.11.5"
  }
 },
 "nbformat": 4,
 "nbformat_minor": 5
}
