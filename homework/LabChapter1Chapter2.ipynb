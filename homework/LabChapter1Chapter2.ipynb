{
 "cells": [
  {
   "cell_type": "markdown",
   "id": "6b900a7f-c782-4a62-9fe6-a30e141046a6",
   "metadata": {},
   "source": [
    "```\n",
    "Exercise1] PersonalAssistant: Have a robotic assistant write a night time routine for you using comments.\n",
    "```"
   ]
  },
  {
   "cell_type": "code",
   "execution_count": 34,
   "id": "bb5b98a4-4a0d-4ac3-892e-76d13f5e27ee",
   "metadata": {},
   "outputs": [
    {
     "name": "stdout",
     "output_type": "stream",
     "text": [
      "Make sure you finished eating dinner.\n",
      "Make sure you completed all assignments due today.\n",
      "Good night.\n"
     ]
    }
   ],
   "source": [
    "# Dinner\n",
    "print(\"Make sure you finished eating dinner.\")\n",
    "\n",
    "# Homework\n",
    "print(\"Make sure you completed all assignments due today.\")\n",
    "\n",
    "# Sleep\n",
    "print(\"Good night.\")"
   ]
  },
  {
   "cell_type": "markdown",
   "id": "52d749dd-05ae-4b89-8d7c-b1e4432588df",
   "metadata": {},
   "source": [
    "```\n",
    "Exercise2] IceCream: Design a shopping cart program that allows the user to choose from 10 different ice cream flavors sold as scoops, and guides the shopper as they pay for their purchase. Present a plan, draw an appropriate flow chart for the main compone, and then implement your design using comments. Assume all ice cream scoops sell for the same price of $1.\n",
    "```"
   ]
  },
  {
   "cell_type": "code",
   "execution_count": 35,
   "id": "2e0add0a-b55e-4832-892c-df39332646fb",
   "metadata": {},
   "outputs": [],
   "source": [
    "# Design:\n",
    "# Begin program\n",
    "# Prompt the user with a welcome message along with the 10 possible ice cream flavors.\n",
    "# Accept input for the types of ice cream they would like, as well as the amount of scoops.\n",
    "# Calculate the final cost based on the user input, and ouptut the final cost.\n",
    "# Prompt user with welcome message\n",
    "# Prompt user with 10 possible ice cream flavors\n",
    "# Accept input for type of ice cream\n",
    "# Accept input for amount of scoops\n",
    "# Calculate total cost\n",
    "# Output total cost\n",
    "# End program"
   ]
  },
  {
   "cell_type": "markdown",
   "id": "01c40abd-985c-4b03-8c51-ee0cc4b8564f",
   "metadata": {},
   "source": [
    "```\n",
    "Exercise3] Ask the user to give you their street address number and assign the information to a variable called address_number. Then convert the input to integer. Then ask for the street address name and assign it to a variable called address_name.\n",
    "```"
   ]
  },
  {
   "cell_type": "code",
   "execution_count": 36,
   "id": "0d840e07-3865-47ad-8a00-1692b864ba48",
   "metadata": {},
   "outputs": [
    {
     "name": "stdin",
     "output_type": "stream",
     "text": [
      "Please enter your street address number: 10\n",
      "Please enter your street address name: Orange\n"
     ]
    }
   ],
   "source": [
    "address_number = int(input(\"Please enter your street address number:\"))\n",
    "adress_name = input(\"Please enter your street address name:\")"
   ]
  },
  {
   "cell_type": "markdown",
   "id": "86e3fee9-a57c-44a1-a848-28e901718e64",
   "metadata": {},
   "source": [
    "```\n",
    "Exercise4] Write Python code prompting the user to enter their height and assign the height to a variable called height.\n",
    "```"
   ]
  },
  {
   "cell_type": "code",
   "execution_count": 37,
   "id": "402d5b25-adba-4ebd-808a-58087fa2c0ef",
   "metadata": {},
   "outputs": [
    {
     "name": "stdin",
     "output_type": "stream",
     "text": [
      "Please enter your height: 10\n"
     ]
    }
   ],
   "source": [
    "height = input(\"Please enter your height:\")"
   ]
  },
  {
   "cell_type": "markdown",
   "id": "79a7c7b2-a8df-404f-aee8-33c2562e0a4e",
   "metadata": {},
   "source": [
    "```\n",
    "Exercise5] Assign to the variable var1 the integer value var1 = 10. Now ask Python what data type is var1 by typing type(var1).  Now multiply var1 = 10 * 0.01 and ask Python what type of data var1 is now.\n",
    "```"
   ]
  },
  {
   "cell_type": "code",
   "execution_count": 38,
   "id": "d24a12eb-8fe8-45b1-8b50-7c3caa670b9d",
   "metadata": {},
   "outputs": [
    {
     "name": "stdout",
     "output_type": "stream",
     "text": [
      "<class 'int'>\n",
      "<class 'float'>\n"
     ]
    }
   ],
   "source": [
    "var1 = 10\n",
    "# I expect the type of var1 to be an integer\n",
    "print(type(var1))\n",
    "\n",
    "var1 = 10 * 0.01\n",
    "# As the result is now a floating point number, I expect the type to be a float\n",
    "print(type(var1))"
   ]
  },
  {
   "cell_type": "markdown",
   "id": "30661fe8-b51f-4d5c-a262-fbb903007c36",
   "metadata": {},
   "source": [
    "```\n",
    "Exercise6] Write a program that displays the following info:  1] Your name 2] Your (fake) address 3] Your (fake) phone number 4] Your college major\n",
    "```"
   ]
  },
  {
   "cell_type": "code",
   "execution_count": 39,
   "id": "53cee3a5-a3ac-43a7-9f21-e1d1192add51",
   "metadata": {},
   "outputs": [
    {
     "name": "stdout",
     "output_type": "stream",
     "text": [
      "Corey Mostero\n",
      "1902 Orange Street, Applewood CA\n",
      "(310) 123-4567\n",
      "Computer Science/Data Science\n"
     ]
    }
   ],
   "source": [
    "# Name\n",
    "print(\"Corey Mostero\")\n",
    "# Address\n",
    "print(\"1902 Orange Street, Applewood CA\")\n",
    "# Phone Number\n",
    "print(\"(310) 123-4567\")\n",
    "# Major\n",
    "print(\"Computer Science/Data Science\")"
   ]
  },
  {
   "cell_type": "markdown",
   "id": "742e659b-b318-4d8e-8434-fc7109b44633",
   "metadata": {},
   "source": [
    "```\n",
    "Exercise7] A company has determined that its annual profit is typically 23 percent of total sales. Write a program that asks the user to enter the projected amount of total sales, and displays the profit. Use profit = 0.23 * total sales\n",
    "```"
   ]
  },
  {
   "cell_type": "code",
   "execution_count": 40,
   "id": "a70eaffb-38bc-41bc-a205-a32dccdd99cf",
   "metadata": {},
   "outputs": [
    {
     "name": "stdin",
     "output_type": "stream",
     "text": [
      "Enter the projected annual amount of total sales: 200\n"
     ]
    },
    {
     "name": "stdout",
     "output_type": "stream",
     "text": [
      "46.0\n"
     ]
    }
   ],
   "source": [
    "# Prompt for total sales\n",
    "total_sales = int(input(\"Enter the projected annual amount of total sales:\"))\n",
    "# Calculate profit\n",
    "profit = 0.23 * total_sales\n",
    "# Display proft\n",
    "print(profit)"
   ]
  },
  {
   "cell_type": "markdown",
   "id": "0f350d76-05b4-42c4-b80c-70ac00cac6ab",
   "metadata": {},
   "source": [
    "```\n",
    "Exercise8] Ask the user to enter the model year of their car into the variable model_year. Then ask Python to add 1 to car_year as follows: model_year = model_year + 1 What happened and why?\n",
    "```"
   ]
  },
  {
   "cell_type": "code",
   "execution_count": 41,
   "id": "fe44e438-b728-47aa-9a6b-320f9eb16aa4",
   "metadata": {},
   "outputs": [
    {
     "name": "stdin",
     "output_type": "stream",
     "text": [
      "Enter the model year of your car: 10\n"
     ]
    }
   ],
   "source": [
    "model_year = int(input(\"Enter the model year of your car:\"))\n",
    "model_year = model_year + 1"
   ]
  },
  {
   "cell_type": "markdown",
   "id": "f54f8d4f-1665-4389-94a3-05b7885fdf54",
   "metadata": {},
   "source": [
    "```\n",
    "Exercise9] I wrote a program to shave 10 years from my age as follows, but something is wrong. What is the problem? \n",
    "true_age = input(\"Hey gorgeous, how old are you? \")\n",
    "print(\"Amazing! You do look\", true_age - 10)\n",
    "```"
   ]
  },
  {
   "cell_type": "markdown",
   "id": "3d2f8086-e849-41c1-b838-431ec62a07cb",
   "metadata": {},
   "source": [
    "The type of `true_age` is `string`, and performing mathematical operations on `string`s is not defined behavior (is an error)."
   ]
  },
  {
   "cell_type": "markdown",
   "id": "7cf952b0-0331-4f8f-b20f-40b8b5c00737",
   "metadata": {},
   "source": [
    "```\n",
    "Exercise10] Create an algorithm and write its implementation using comments and pseudocode that mimics the process of a person using a remote control to turn on a TV, change the channel, and turn off the TV. Include appropriate variables to hold needed information. Where needed, indicate sections of the algorithm that may need to be repeated, or segments to execute based on decisions.\n",
    "```"
   ]
  },
  {
   "cell_type": "markdown",
   "id": "0af8dbd4-4151-4353-a1b8-d8c4c9a552b5",
   "metadata": {},
   "source": [
    "```\n",
    "Psuedocode:\n",
    "\n",
    "# Begin program\n",
    "# Initialize remote\n",
    "remote = remote_control()\n",
    "# Change the channel to channel 23\n",
    "remote.change_channel(23)\n",
    "# Turn off TV\n",
    "remote.press_off()\n",
    "```"
   ]
  },
  {
   "cell_type": "markdown",
   "id": "11fa80c7-8913-4b81-bae3-222484643e00",
   "metadata": {},
   "source": [
    "```\n",
    "Exercise11] Create an algorithm and write its implementation using comments and pseudocode that will guide an online shopping customer to purchase 3 items. Where needed, indicate sections of the algorithm that may need to be repeated, or segments to execute based on decisions.\n",
    "```"
   ]
  },
  {
   "cell_type": "markdown",
   "id": "df1bd568-8917-4f43-82bd-6f1062169e22",
   "metadata": {},
   "source": [
    "```\n",
    "Psuedocode:\n",
    "\n",
    "# Initialize online shopping customer\n",
    "customer = online_shopping_customer()\n",
    "# Purchase 3 items\n",
    "For [0, 2]\n",
    "    customer.purchase_item()"
   ]
  },
  {
   "cell_type": "markdown",
   "id": "5fcb6148-ac20-4853-964e-3db38ed4f494",
   "metadata": {},
   "source": [
    "```\n",
    "Exercise12] Create an algorithm and write its implementation using comments and pseudocode that will safely navigate a vehicle from the college to your house. Where needed, indicate sections of the algorithm that may need to be repeated, or segments to execute based on decisions. \n",
    "```"
   ]
  },
  {
   "cell_type": "markdown",
   "id": "6d93a108-272e-4c75-9633-636a03395916",
   "metadata": {},
   "source": [
    "```\n",
    "Psuedocode:\n",
    "\n",
    "# Initialize vehicle\n",
    "car = vehicle()\n",
    "# Input address into GPS\n",
    "car.set_gps(\"1011 Apple Street, Orange City\")\n",
    "# Drive and follow GPS\n",
    "car.drive(follow_gps = True)\n",
    "```"
   ]
  },
  {
   "cell_type": "markdown",
   "id": "a6899210-6abd-4982-9e92-2cd1f1ab1aff",
   "metadata": {},
   "source": [
    "```\n",
    "Exercise 13] Torch and bridge: Design an algorithm solution for the following problem and write it using Python comments (this is a classic problem; see if you can make figure it out on your own before looking for suggestions online. The point is to have fun while you think of solutions to problems). \n",
    "\n",
    "Four people come to a river in the night. There is a narrow bridge, and it can only hold two people at a time. They have one torch and, because it's night, the torch has to be used when crossing the bridge. Person A can cross the bridge in 1 minute, B in 2 minutes, C in 5 minutes, and D in 8 minutes. When two people cross the bridge together, they must move at the slower person's pace. The question is, can they all get across the bridge if the torch lasts only 15 minutes?\n",
    "```"
   ]
  },
  {
   "cell_type": "markdown",
   "id": "ba6a5166-80ea-418d-9895-a3ace1dfd2c9",
   "metadata": {},
   "source": [
    "```\n",
    "Psuedocode:\n",
    "\n",
    "# Initialize persons and torch\n",
    "person_A = person(time = 1)\n",
    "person_B = person(time = 2)\n",
    "person_C = person(time = 5)\n",
    "person_D = person(time = 8)\n",
    "torch = torch()\n",
    "\n",
    "# Give torch to person_A\n",
    "person_A.give(torch)\n",
    "\n",
    "# person_A enters and person_B crosses bridge - total time: 2 minutes\n",
    "person_A.enter_bridge()\n",
    "person_B.cross_bridge()\n",
    "\n",
    "# person_C crosses bridge - total time: 2 + 5 minutes, 7 minutes\n",
    "person_C.cross_bridge()\n",
    "\n",
    "# person_A and person_D crosses bridge - total time: 7 + 8 minutes, 15 minutes\n",
    "person_A.cross_bridge()\n",
    "person_D.cross_bridge()\n",
    "```"
   ]
  }
 ],
 "metadata": {
  "kernelspec": {
   "display_name": "Python 3 (ipykernel)",
   "language": "python",
   "name": "python3"
  },
  "language_info": {
   "codemirror_mode": {
    "name": "ipython",
    "version": 3
   },
   "file_extension": ".py",
   "mimetype": "text/x-python",
   "name": "python",
   "nbconvert_exporter": "python",
   "pygments_lexer": "ipython3",
   "version": "3.11.5"
  }
 },
 "nbformat": 4,
 "nbformat_minor": 5
}
