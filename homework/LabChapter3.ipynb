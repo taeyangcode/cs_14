{
 "cells": [
  {
   "cell_type": "markdown",
   "metadata": {},
   "source": [
    "### Exercise 1"
   ]
  },
  {
   "cell_type": "code",
   "execution_count": 3,
   "metadata": {},
   "outputs": [
    {
     "name": "stdout",
     "output_type": "stream",
     "text": [
      "Have a nice day!\n"
     ]
    }
   ],
   "source": [
    "if (int(input(\"What is your age?\")) >= 21):\n",
    "    print(\"You can buy beer.\")\n",
    "print(\"Have a nice day!\")"
   ]
  },
  {
   "cell_type": "markdown",
   "metadata": {},
   "source": [
    "### Exercise 2"
   ]
  },
  {
   "cell_type": "code",
   "execution_count": 7,
   "metadata": {},
   "outputs": [
    {
     "name": "stdout",
     "output_type": "stream",
     "text": [
      "Get into the car!\n"
     ]
    }
   ],
   "source": [
    "print(\"The time is now!\" if input(\"It's time to go on the road trip. Does anyone need to use the restroom?\") == \"Yes\" else \"Get into the car!\")"
   ]
  },
  {
   "cell_type": "markdown",
   "metadata": {},
   "source": [
    "### Exercise 3"
   ]
  },
  {
   "cell_type": "code",
   "execution_count": 10,
   "metadata": {},
   "outputs": [
    {
     "name": "stdout",
     "output_type": "stream",
     "text": [
      "$2000.0\n"
     ]
    }
   ],
   "source": [
    "COMMISSION_RATE = 0.20\n",
    "BONUS = 1_000\n",
    "\n",
    "sales_amount = float(input(\"Enter your sales amount for the month:\"))\n",
    "print(f\"${sales_amount * COMMISSION_RATE + BONUS if sales_amount > 10_000 else sales_amount * COMMISSION_RATE}\")"
   ]
  },
  {
   "cell_type": "markdown",
   "metadata": {},
   "source": [
    "### Exercise 4"
   ]
  },
  {
   "cell_type": "code",
   "execution_count": 13,
   "metadata": {},
   "outputs": [
    {
     "name": "stdout",
     "output_type": "stream",
     "text": [
      "How could you not know!\n",
      "Thanks for playing!\n"
     ]
    }
   ],
   "source": [
    "MY_NUMBER = 5\n",
    "\n",
    "if int(input(\"What number between 1 and 10 am I thinking of?\")) != MY_NUMBER:\n",
    "    print(\"How could you not know!\" )\n",
    "print(\"Thanks for playing!\")"
   ]
  },
  {
   "cell_type": "markdown",
   "metadata": {},
   "source": [
    "### Exercise 5"
   ]
  },
  {
   "cell_type": "code",
   "execution_count": 17,
   "metadata": {},
   "outputs": [
    {
     "name": "stdout",
     "output_type": "stream",
     "text": [
      "Average: 95.03333333333335\n",
      "Congratulations!\n"
     ]
    }
   ],
   "source": [
    "HISTORIC_AVERAGE = 95\n",
    "\n",
    "score_1 = float(input(\"Enter the score of an exam (from 0 to 100 points):\"))\n",
    "score_2 = float(input(\"Enter the score of an exam (from 0 to 100 points):\"))\n",
    "score_3 = float(input(\"Enter the score of an exam (from 0 to 100 points):\"))\n",
    "\n",
    "average = (score_1 + score_2 + score_3) / 3\n",
    "print(f\"Average: {average}\")\n",
    "if average > HISTORIC_AVERAGE:\n",
    "    print(\"Congratulations!\")"
   ]
  },
  {
   "cell_type": "markdown",
   "metadata": {},
   "source": [
    "### Exercise 6"
   ]
  },
  {
   "cell_type": "code",
   "execution_count": 20,
   "metadata": {},
   "outputs": [
    {
     "name": "stdout",
     "output_type": "stream",
     "text": [
      "Drink cold lemonade\n"
     ]
    }
   ],
   "source": [
    "print(\"Drink hot chocolate\" if float(input(\"What is the weather?\")) < 70 else \"Drink cold lemonade\") "
   ]
  },
  {
   "cell_type": "markdown",
   "metadata": {},
   "source": [
    "### Exercise 8"
   ]
  },
  {
   "cell_type": "code",
   "execution_count": 27,
   "metadata": {},
   "outputs": [
    {
     "name": "stdout",
     "output_type": "stream",
     "text": [
      "The dimensions and area of the larger rectangle are: Dimensions: (12.0, 12.0), Area: 144.0\n"
     ]
    }
   ],
   "source": [
    "length_1 = float(input(\"Enter the length of the first rectangle:\"))\n",
    "width_1 = float(input(\"Enter the width of the first rectangle:\"))\n",
    "length_2 = float(input(\"Enter the length of the second rectangle:\"))\n",
    "width_2 = float(input(\"Enter the width of the second rectangle:\"))\n",
    "\n",
    "area_1 = length_1 * width_1\n",
    "area_2 = length_2 * width_2\n",
    "\n",
    "print(f\"The dimensions and area of the larger rectangle are: {f'Dimensions: ({length_1}, {width_1}), Area: {area_1}' if (area_1 > area_2) else f'Dimensions: ({length_2}, {width_2}), Area: {area_2}'}\")"
   ]
  },
  {
   "cell_type": "markdown",
   "metadata": {},
   "source": [
    "### Exercise 9"
   ]
  },
  {
   "cell_type": "code",
   "execution_count": 3,
   "metadata": {},
   "outputs": [
    {
     "name": "stdout",
     "output_type": "stream",
     "text": [
      "You lost!\n"
     ]
    }
   ],
   "source": [
    "import random\n",
    "\n",
    "print(\"You win!\" if ([\"Left\", \"Right\"][random.randint(0, 1)] == input(\"Respond with \\\"Left\\\" or \\\"Right\\\":\")) else \"You lost!\")"
   ]
  },
  {
   "cell_type": "markdown",
   "metadata": {},
   "source": [
    "### Exercise 10"
   ]
  },
  {
   "cell_type": "code",
   "execution_count": 9,
   "metadata": {},
   "outputs": [
    {
     "name": "stdout",
     "output_type": "stream",
     "text": [
      "425.0\n"
     ]
    }
   ],
   "source": [
    "OT_MULTIPLIER = 1.5\n",
    "\n",
    "hours_worked = float(input(\"Enter the amount of hours you worked:\"))\n",
    "hourly_pay_rate = float(input(\"Enter your hourly pay rate:\"))\n",
    "\n",
    "if hours_worked - 40 > 0:\n",
    "    print(hours_worked * hourly_pay_rate + (hours_worked - 40) * hourly_pay_rate * OT_MULTIPLIER)\n",
    "else:\n",
    "    print(hours_worked * hourly_pay_rate)"
   ]
  }
 ],
 "metadata": {
  "kernelspec": {
   "display_name": "Python 3",
   "language": "python",
   "name": "python3"
  },
  "language_info": {
   "codemirror_mode": {
    "name": "ipython",
    "version": 3
   },
   "file_extension": ".py",
   "mimetype": "text/x-python",
   "name": "python",
   "nbconvert_exporter": "python",
   "pygments_lexer": "ipython3",
   "version": "3.11.8"
  }
 },
 "nbformat": 4,
 "nbformat_minor": 2
}
