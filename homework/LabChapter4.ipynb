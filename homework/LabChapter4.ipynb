{
 "cells": [
  {
   "cell_type": "markdown",
   "metadata": {},
   "source": [
    "### Example 1\n"
   ]
  },
  {
   "cell_type": "code",
   "execution_count": 1,
   "metadata": {},
   "outputs": [
    {
     "name": "stdin",
     "output_type": "stream",
     "text": [
      "Enter your age: 21\n"
     ]
    },
    {
     "name": "stdout",
     "output_type": "stream",
     "text": [
      "Drink beer.\n"
     ]
    }
   ],
   "source": [
    "while int(input(\"Enter your age:\")) < 21:\n",
    "    print(\"You are not old enough.\")\n",
    "print(\"Drink beer.\")"
   ]
  },
  {
   "cell_type": "markdown",
   "metadata": {},
   "source": [
    "### Example 2\n"
   ]
  },
  {
   "cell_type": "code",
   "execution_count": 2,
   "metadata": {},
   "outputs": [
    {
     "name": "stdin",
     "output_type": "stream",
     "text": [
      "Are we there yet? no\n",
      "Are we there yet? no\n",
      "Are we there yet? yes\n"
     ]
    },
    {
     "name": "stdout",
     "output_type": "stream",
     "text": [
      "Arrival\n"
     ]
    }
   ],
   "source": [
    "# noop while input == \"no\"\n",
    "while input(\"Are we there yet?\") == \"no\":\n",
    "    _\n",
    "print(\"Arrival\")"
   ]
  },
  {
   "cell_type": "markdown",
   "metadata": {},
   "source": [
    "### Example 3\n"
   ]
  },
  {
   "cell_type": "code",
   "execution_count": 3,
   "metadata": {},
   "outputs": [
    {
     "name": "stdin",
     "output_type": "stream",
     "text": [
      "Enter a number: 20\n"
     ]
    },
    {
     "name": "stdout",
     "output_type": "stream",
     "text": [
      "Product: 20.0\n",
      "Product: 100.0\n",
      "Product: 500.0\n",
      "Final Product: 2500.0\n"
     ]
    }
   ],
   "source": [
    "product = float(input(\"Enter a number:\"))\n",
    "# Continue multiplication while product < 1,000\n",
    "while product < 1_000:\n",
    "    print(f\"Product: {product}\")\n",
    "    product *= 5\n",
    "print(f\"Final Product: {product}\")"
   ]
  },
  {
   "cell_type": "markdown",
   "metadata": {},
   "source": [
    "### Example 4\n"
   ]
  },
  {
   "cell_type": "code",
   "execution_count": 7,
   "metadata": {},
   "outputs": [
    {
     "name": "stdin",
     "output_type": "stream",
     "text": [
      "Would you like to enter two numbers? (Y/N) Y\n",
      "Number 1: 2\n",
      "Number 2: 4\n"
     ]
    },
    {
     "name": "stdout",
     "output_type": "stream",
     "text": [
      "2.0\n",
      "4.0\n",
      "Sum: 6.0\n"
     ]
    },
    {
     "name": "stdin",
     "output_type": "stream",
     "text": [
      "Would you like to enter two numbers? (Y/N) Y\n",
      "Number 1: 4\n",
      "Number 2: 6\n"
     ]
    },
    {
     "name": "stdout",
     "output_type": "stream",
     "text": [
      "4.0\n",
      "6.0\n",
      "Sum: 10.0\n"
     ]
    },
    {
     "name": "stdin",
     "output_type": "stream",
     "text": [
      "Would you like to enter two numbers? (Y/N) N\n"
     ]
    }
   ],
   "source": [
    "while input(\"Would you like to enter two numbers? (Y/N)\") == \"Y\":\n",
    "    # Utilize walrus operator to perform sum calculation\n",
    "    print(\n",
    "        f\"{(number_1 := float(input('Number 1:')))}\",\n",
    "        f\"{(number_2 := float(input('Number 2:')))}\",\n",
    "        f\"Sum: {number_1 + number_2}\",\n",
    "        sep=\"\\n\",\n",
    "    )"
   ]
  },
  {
   "cell_type": "markdown",
   "metadata": {},
   "source": [
    "### Example 5\n"
   ]
  },
  {
   "cell_type": "code",
   "execution_count": 8,
   "metadata": {},
   "outputs": [
    {
     "name": "stdin",
     "output_type": "stream",
     "text": [
      "Enter your budget for the month: 100\n",
      "Enter an expense: (\"STOP\" to stop) 50\n"
     ]
    },
    {
     "name": "stdout",
     "output_type": "stream",
     "text": [
      "Total Expenses: $50.0\n"
     ]
    },
    {
     "name": "stdin",
     "output_type": "stream",
     "text": [
      "Enter an expense: (\"STOP\" to stop) 50\n"
     ]
    },
    {
     "name": "stdout",
     "output_type": "stream",
     "text": [
      "Total Expenses: $100.0\n"
     ]
    },
    {
     "name": "stdin",
     "output_type": "stream",
     "text": [
      "Enter an expense: (\"STOP\" to stop) 50\n"
     ]
    },
    {
     "name": "stdout",
     "output_type": "stream",
     "text": [
      "Total Expenses: $150.0\n"
     ]
    },
    {
     "name": "stdin",
     "output_type": "stream",
     "text": [
      "Enter an expense: (\"STOP\" to stop) STOP\n"
     ]
    },
    {
     "name": "stdout",
     "output_type": "stream",
     "text": [
      "You are over budget by $50.0.\n"
     ]
    }
   ],
   "source": [
    "budget = float(input(\"Enter your budget for the month:\"))\n",
    "expense_total = 0.0\n",
    "\n",
    "# Continue loop while input is not \"STOP\"\n",
    "while (expense := input('Enter an expense: (\"STOP\" to stop)')) != \"STOP\":\n",
    "    # Cast expense input to float to perform calculation\n",
    "    print(f\"Total Expenses: ${(expense_total := expense_total + float(expense))}\")\n",
    "\n",
    "# Print result using conditionals\n",
    "print(\n",
    "    f\"You are {'over' if expense_total > budget else 'on'} budget by ${budget - expense_total if budget - expense_total >= 0 else -(budget - expense_total)}.\"\n",
    ")"
   ]
  },
  {
   "cell_type": "markdown",
   "metadata": {},
   "source": [
    "### Example 6\n"
   ]
  },
  {
   "cell_type": "code",
   "execution_count": 9,
   "metadata": {},
   "outputs": [
    {
     "name": "stdin",
     "output_type": "stream",
     "text": [
      "Enter your credit card limit: 100\n",
      "Enter the cost of the current item: (\"STOP\" to stop) 50\n"
     ]
    },
    {
     "name": "stdout",
     "output_type": "stream",
     "text": [
      "Total expenses: $50.0\n"
     ]
    },
    {
     "name": "stdin",
     "output_type": "stream",
     "text": [
      "Enter the cost of the current item: (\"STOP\" to stop) 50\n"
     ]
    },
    {
     "name": "stdout",
     "output_type": "stream",
     "text": [
      "Total expenses: $100.0\n"
     ]
    },
    {
     "name": "stdin",
     "output_type": "stream",
     "text": [
      "Enter the cost of the current item: (\"STOP\" to stop) 50\n"
     ]
    },
    {
     "name": "stdout",
     "output_type": "stream",
     "text": [
      "You have exceeded your credit card limit by: $50.0\n"
     ]
    }
   ],
   "source": [
    "limit = float(input(\"Enter your credit card limit:\"))\n",
    "total_expenses = 0.0\n",
    "\n",
    "# Continue loop while input is not \"STOP\" and the expenses so far <= limit\n",
    "while (\n",
    "    (expense := input('Enter the cost of the current item: (\"STOP\" to stop)')) != \"STOP\"\n",
    ") and (total_expenses := total_expenses + float(expense)) <= limit:\n",
    "    print(f\"Total expenses: ${total_expenses}\")\n",
    "\n",
    "if total_expenses > limit:\n",
    "    print(f\"You have exceeded your credit card limit by: ${total_expenses - limit}\")"
   ]
  },
  {
   "cell_type": "markdown",
   "metadata": {},
   "source": [
    "### Example 7\n"
   ]
  },
  {
   "cell_type": "code",
   "execution_count": 10,
   "metadata": {},
   "outputs": [
    {
     "name": "stdin",
     "output_type": "stream",
     "text": [
      "Enter an integer in [1, 10]: 10\n"
     ]
    },
    {
     "name": "stdout",
     "output_type": "stream",
     "text": [
      "Guess again!\n"
     ]
    },
    {
     "name": "stdin",
     "output_type": "stream",
     "text": [
      "Enter an integer in [1, 10]: 8\n"
     ]
    },
    {
     "name": "stdout",
     "output_type": "stream",
     "text": [
      "Guess again!\n"
     ]
    },
    {
     "name": "stdin",
     "output_type": "stream",
     "text": [
      "Enter an integer in [1, 10]: 9\n"
     ]
    },
    {
     "name": "stdout",
     "output_type": "stream",
     "text": [
      "Guess again!\n"
     ]
    },
    {
     "name": "stdin",
     "output_type": "stream",
     "text": [
      "Enter an integer in [1, 10]: 7\n"
     ]
    },
    {
     "name": "stdout",
     "output_type": "stream",
     "text": [
      "Guess again!\n"
     ]
    },
    {
     "name": "stdin",
     "output_type": "stream",
     "text": [
      "Enter an integer in [1, 10]: 4\n"
     ]
    },
    {
     "name": "stdout",
     "output_type": "stream",
     "text": [
      "Guess again!\n"
     ]
    },
    {
     "name": "stdin",
     "output_type": "stream",
     "text": [
      "Enter an integer in [1, 10]: 5\n"
     ]
    },
    {
     "name": "stdout",
     "output_type": "stream",
     "text": [
      "Guess again!\n"
     ]
    },
    {
     "name": "stdin",
     "output_type": "stream",
     "text": [
      "Enter an integer in [1, 10]: 2\n"
     ]
    },
    {
     "name": "stdout",
     "output_type": "stream",
     "text": [
      "Guess again!\n"
     ]
    },
    {
     "name": "stdin",
     "output_type": "stream",
     "text": [
      "Enter an integer in [1, 10]: 3\n"
     ]
    },
    {
     "name": "stdout",
     "output_type": "stream",
     "text": [
      "Correct\n"
     ]
    }
   ],
   "source": [
    "import random\n",
    "\n",
    "choice = random.randint(1, 10)\n",
    "while int(input(\"Enter an integer in [1, 10]:\")) != choice:\n",
    "    print(\"Guess again!\")\n",
    "print(\"Correct\")"
   ]
  },
  {
   "cell_type": "markdown",
   "metadata": {},
   "source": [
    "### Example 8\n"
   ]
  },
  {
   "cell_type": "code",
   "execution_count": 11,
   "metadata": {},
   "outputs": [
    {
     "name": "stdin",
     "output_type": "stream",
     "text": [
      "Guess the first integer that multiplies to my hidden composite number: 1\n",
      "And the second: 1\n"
     ]
    },
    {
     "name": "stdout",
     "output_type": "stream",
     "text": [
      "Try again!\n"
     ]
    },
    {
     "name": "stdin",
     "output_type": "stream",
     "text": [
      "Guess the first integer that multiplies to my hidden composite number: 1\n",
      "And the second: 2\n"
     ]
    },
    {
     "name": "stdout",
     "output_type": "stream",
     "text": [
      "Try again!\n"
     ]
    },
    {
     "name": "stdin",
     "output_type": "stream",
     "text": [
      "Guess the first integer that multiplies to my hidden composite number: 1\n",
      "And the second: 3\n"
     ]
    },
    {
     "name": "stdout",
     "output_type": "stream",
     "text": [
      "Try again!\n"
     ]
    },
    {
     "name": "stdin",
     "output_type": "stream",
     "text": [
      "Guess the first integer that multiplies to my hidden composite number: 2\n",
      "And the second: 2\n"
     ]
    },
    {
     "name": "stdout",
     "output_type": "stream",
     "text": [
      "Correct!\n"
     ]
    }
   ],
   "source": [
    "import random\n",
    "\n",
    "composite = random.randint(1, 3) * random.randint(1, 3)\n",
    "# Loop while inputs do not multiply to composite\n",
    "while (\n",
    "    int(input(\"Guess the first integer that multiplies to my hidden composite number:\"))\n",
    "    * int(input(\"And the second:\"))\n",
    "    != composite\n",
    "):\n",
    "    print(\"Try again!\")\n",
    "print(\"Correct!\")"
   ]
  },
  {
   "cell_type": "markdown",
   "metadata": {},
   "source": [
    "### Example 9\n"
   ]
  },
  {
   "cell_type": "code",
   "execution_count": 12,
   "metadata": {},
   "outputs": [
    {
     "name": "stdin",
     "output_type": "stream",
     "text": [
      "Enter password: xyz\n"
     ]
    },
    {
     "name": "stdout",
     "output_type": "stream",
     "text": [
      "Incorrect\n"
     ]
    },
    {
     "name": "stdin",
     "output_type": "stream",
     "text": [
      "Enter password: yzx\n"
     ]
    },
    {
     "name": "stdout",
     "output_type": "stream",
     "text": [
      "Correct\n"
     ]
    }
   ],
   "source": [
    "correct_password = \"yzx\"\n",
    "\n",
    "while input(\"Enter password:\") != correct_password:\n",
    "    print(\"Incorrect\")\n",
    "print(\"Correct\")"
   ]
  },
  {
   "cell_type": "markdown",
   "metadata": {},
   "source": [
    "### Example 10\n"
   ]
  },
  {
   "cell_type": "code",
   "execution_count": 5,
   "metadata": {},
   "outputs": [
    {
     "name": "stdout",
     "output_type": "stream",
     "text": [
      "Launching in 10...\n",
      "Launching in 9...\n",
      "Launching in 8...\n",
      "Launching in 7...\n",
      "Launching in 6...\n",
      "Launching in 5...\n",
      "Launching in 4...\n",
      "Launching in 3...\n",
      "Launching in 2...\n",
      "Launching in 1...\n",
      "Blastoff!\n"
     ]
    }
   ],
   "source": [
    "for second in range(0, 10):\n",
    "    print(f\"Launching in {10 - second}...\")\n",
    "print(\"Blast off!\")"
   ]
  },
  {
   "cell_type": "markdown",
   "metadata": {},
   "source": [
    "### Example 11\n"
   ]
  },
  {
   "cell_type": "code",
   "execution_count": 13,
   "metadata": {},
   "outputs": [
    {
     "name": "stdin",
     "output_type": "stream",
     "text": [
      "Enter the interval of fish should we check: 100000\n"
     ]
    },
    {
     "name": "stdout",
     "output_type": "stream",
     "text": [
      "Fish (Serial #: 100000): Inspection\n",
      "Fish (Serial #: 200000): Inspection\n",
      "Fish (Serial #: 300000): Inspection\n",
      "Fish (Serial #: 400000): Inspection\n",
      "Fish (Serial #: 500000): Inspection\n",
      "Fish (Serial #: 600000): Inspection\n",
      "Fish (Serial #: 700000): Inspection\n",
      "Fish (Serial #: 800000): Inspection\n",
      "Fish (Serial #: 900000): Inspection\n"
     ]
    }
   ],
   "source": [
    "interval = int(input(\"Enter the interval of fish should we check:\"))\n",
    "\n",
    "# Loop in intervals of input\n",
    "for serial_number in range(100_000, 999_999, interval):\n",
    "    print(f\"Fish (Serial #: {serial_number}): Inspection\")"
   ]
  },
  {
   "cell_type": "markdown",
   "metadata": {},
   "source": [
    "### Example 12\n"
   ]
  },
  {
   "cell_type": "code",
   "execution_count": 14,
   "metadata": {},
   "outputs": [
    {
     "name": "stdout",
     "output_type": "stream",
     "text": [
      "The quick brown fox jumps over the lazy black dog"
     ]
    }
   ],
   "source": [
    "string = \"The quick brown fox jumps over the lazy black dog\"\n",
    "\n",
    "for letter in string:\n",
    "    print(letter, end=\"\")"
   ]
  },
  {
   "cell_type": "markdown",
   "metadata": {},
   "source": [
    "### Example 13\n"
   ]
  },
  {
   "cell_type": "code",
   "execution_count": 17,
   "metadata": {},
   "outputs": [
    {
     "name": "stdin",
     "output_type": "stream",
     "text": [
      "Compute the factorial of a whole number: 5\n"
     ]
    },
    {
     "name": "stdout",
     "output_type": "stream",
     "text": [
      "5! = 120\n"
     ]
    }
   ],
   "source": [
    "whole_number = int(input(\"Compute the factorial of a whole number:\"))\n",
    "\n",
    "\n",
    "if whole_number < 0:\n",
    "    print(\"ERROR: enter a whole number\")\n",
    "else:\n",
    "    result = 1\n",
    "    # Factorial calculation: f_n = f_(n-1) * f_(n-2) performed bottom up\n",
    "    for number in range(1, whole_number + 1):\n",
    "        result = result * number\n",
    "    print(f\"{whole_number}! = {result}\")"
   ]
  },
  {
   "cell_type": "markdown",
   "metadata": {},
   "source": [
    "### Example 14\n"
   ]
  },
  {
   "cell_type": "code",
   "execution_count": 63,
   "metadata": {},
   "outputs": [
    {
     "name": "stdout",
     "output_type": "stream",
     "text": [
      "**********            **********            **********\n",
      "**********            **********            **********\n",
      "**********            **********            **********\n",
      "**********            **********            **********\n",
      "**********            **********            **********\n",
      "**********            **********            **********\n",
      "**********            **********            **********\n",
      "**********            **********            **********\n",
      "**********            **********            **********\n",
      "**********            **********            **********\n"
     ]
    }
   ],
   "source": [
    "# For every iteration of 10,\n",
    "for _ in range(10):\n",
    "    # Print 10 stars, 10 spaces, 10 stars, 10 spaces, 10 stars\n",
    "    print(\"*\" * 10, \" \" * 10, \"*\" * 10, \" \" * 10, \"*\" * 10)"
   ]
  },
  {
   "cell_type": "markdown",
   "metadata": {},
   "source": [
    "### Example 15\n"
   ]
  },
  {
   "cell_type": "code",
   "execution_count": 18,
   "metadata": {},
   "outputs": [
    {
     "name": "stdout",
     "output_type": "stream",
     "text": [
      "*\n",
      "**\n",
      "***\n",
      "****\n",
      "*****\n",
      "****\n",
      "***\n",
      "**\n",
      "*\n"
     ]
    }
   ],
   "source": [
    "for count in range(-4, 5):\n",
    "    # f(x) -> -abs(x) has a range that maximizes at y = 0, so shift y by 5 to get part of range in [1, 5] and utilize negation to get 1 -> 5 -> 1\n",
    "    print(\"*\" * (-abs(count) + 5))"
   ]
  },
  {
   "cell_type": "markdown",
   "metadata": {},
   "source": [
    "### Example 16\n"
   ]
  },
  {
   "cell_type": "code",
   "execution_count": 19,
   "metadata": {},
   "outputs": [
    {
     "name": "stdin",
     "output_type": "stream",
     "text": [
      "Enter your birth year: 2003\n"
     ]
    },
    {
     "name": "stdout",
     "output_type": "stream",
     "text": [
      "Even year: 2004\n",
      "Even year: 2006\n",
      "Even year: 2008\n",
      "Even year: 2010\n",
      "Even year: 2012\n",
      "Even year: 2014\n",
      "Even year: 2016\n",
      "Even year: 2018\n",
      "Even year: 2020\n",
      "Even year: 2022\n",
      "Even year: 2024\n"
     ]
    }
   ],
   "source": [
    "birth_year = int(input(\"Enter your birth year:\"))\n",
    "\n",
    "# Add birth year by 1 to make positive if odd, else left alone\n",
    "for year in range(birth_year if birth_year % 2 == 0 else birth_year + 1, 2025, 2):\n",
    "    print(f\"Even year: {year}\")"
   ]
  },
  {
   "cell_type": "markdown",
   "metadata": {},
   "source": [
    "### Example 17\n"
   ]
  },
  {
   "cell_type": "code",
   "execution_count": 20,
   "metadata": {},
   "outputs": [
    {
     "name": "stdin",
     "output_type": "stream",
     "text": [
      "Enter the amount of objects to arrange: 10\n"
     ]
    },
    {
     "name": "stdout",
     "output_type": "stream",
     "text": [
      "There are 3628800 arrangements.\n"
     ]
    }
   ],
   "source": [
    "object_count = int(input(\"Enter the amount of objects to arrange:\"))\n",
    "\n",
    "# Similar to factorial calculation\n",
    "arrangements = 1\n",
    "for number in range(1, object_count + 1):\n",
    "    arrangements = arrangements * number\n",
    "print(f\"There are {arrangements} arrangements.\")"
   ]
  },
  {
   "cell_type": "markdown",
   "metadata": {},
   "source": [
    "### Example 18\n"
   ]
  },
  {
   "cell_type": "code",
   "execution_count": 21,
   "metadata": {},
   "outputs": [
    {
     "name": "stdout",
     "output_type": "stream",
     "text": [
      "Result = 93.84460105853213\n"
     ]
    }
   ],
   "source": [
    "result = 0\n",
    "\n",
    "for number in range(1, 31):\n",
    "    result = result + number / (31 - number)\n",
    "\n",
    "print(f\"Result = {result}\")"
   ]
  },
  {
   "cell_type": "markdown",
   "metadata": {},
   "source": [
    "### Example 19\n"
   ]
  },
  {
   "cell_type": "code",
   "execution_count": 25,
   "metadata": {},
   "outputs": [
    {
     "name": "stdin",
     "output_type": "stream",
     "text": [
      "Enter a nonprime, nonnegative number greater than 1: 10\n",
      "Enter a factor of the number: 1\n"
     ]
    },
    {
     "name": "stdout",
     "output_type": "stream",
     "text": [
      "Factor: 2\n",
      "Factor: 5\n"
     ]
    }
   ],
   "source": [
    "integer = int(input(\"Enter a nonprime, nonnegative number greater than 1:\"))\n",
    "factor = int(input(\"Enter a factor of the number:\"))\n",
    "\n",
    "for number in range(factor + 1, integer):\n",
    "    # If evenly divisible\n",
    "    if integer % number == 0:\n",
    "        print(f\"Factor: {number}\")"
   ]
  },
  {
   "cell_type": "markdown",
   "metadata": {},
   "source": [
    "### Example 20 (Exercise 2)\n"
   ]
  },
  {
   "cell_type": "code",
   "execution_count": 26,
   "metadata": {},
   "outputs": [
    {
     "name": "stdout",
     "output_type": "stream",
     "text": [
      "You burn 42.00000000000001 calories in 10 minutes!\n",
      "You burn 63.00000000000002 calories in 15 minutes!\n",
      "You burn 84.00000000000003 calories in 20 minutes!\n",
      "You burn 105.00000000000004 calories in 25 minutes!\n",
      "You burn 126.00000000000006 calories in 30 minutes!\n"
     ]
    }
   ],
   "source": [
    "CALORIES_BURN_PER_MINUTE = 4.2\n",
    "\n",
    "# Perform each calculation\n",
    "\n",
    "total_10 = 0\n",
    "for _ in range(0, 10):\n",
    "    total_10 += CALORIES_BURN_PER_MINUTE\n",
    "\n",
    "total_15 = 0\n",
    "for _ in range(0, 15):\n",
    "    total_15 += CALORIES_BURN_PER_MINUTE\n",
    "\n",
    "total_20 = 0\n",
    "for _ in range(0, 20):\n",
    "    total_20 += CALORIES_BURN_PER_MINUTE\n",
    "\n",
    "total_25 = 0\n",
    "for _ in range(0, 25):\n",
    "    total_25 += CALORIES_BURN_PER_MINUTE\n",
    "\n",
    "total_30 = 0\n",
    "for _ in range(0, 30):\n",
    "    total_30 += CALORIES_BURN_PER_MINUTE\n",
    "\n",
    "# Print results\n",
    "\n",
    "print(f\"You burn {total_10} calories in 10 minutes!\")\n",
    "print(f\"You burn {total_15} calories in 15 minutes!\")\n",
    "print(f\"You burn {total_20} calories in 20 minutes!\")\n",
    "print(f\"You burn {total_25} calories in 25 minutes!\")\n",
    "print(f\"You burn {total_30} calories in 30 minutes!\")"
   ]
  },
  {
   "cell_type": "markdown",
   "metadata": {},
   "source": [
    "### Example 21 (Exercise 3)\n"
   ]
  },
  {
   "cell_type": "code",
   "execution_count": 27,
   "metadata": {},
   "outputs": [
    {
     "name": "stdin",
     "output_type": "stream",
     "text": [
      "Enter your budget for the month: 100\n",
      "Enter an expense: (\"STOP\" to stop) 50\n"
     ]
    },
    {
     "name": "stdout",
     "output_type": "stream",
     "text": [
      "Total Expenses: $50.0\n"
     ]
    },
    {
     "name": "stdin",
     "output_type": "stream",
     "text": [
      "Enter an expense: (\"STOP\" to stop) 50\n"
     ]
    },
    {
     "name": "stdout",
     "output_type": "stream",
     "text": [
      "Total Expenses: $100.0\n"
     ]
    },
    {
     "name": "stdin",
     "output_type": "stream",
     "text": [
      "Enter an expense: (\"STOP\" to stop) 50\n"
     ]
    },
    {
     "name": "stdout",
     "output_type": "stream",
     "text": [
      "Total Expenses: $150.0\n"
     ]
    },
    {
     "name": "stdin",
     "output_type": "stream",
     "text": [
      "Enter an expense: (\"STOP\" to stop) STOP\n"
     ]
    },
    {
     "name": "stdout",
     "output_type": "stream",
     "text": [
      "You are over budget by $50.0.\n"
     ]
    }
   ],
   "source": [
    "budget = float(input(\"Enter your budget for the month:\"))\n",
    "expense_total = 0.0\n",
    "\n",
    "# Loop while input is not \"STOP\"\n",
    "while (expense := input('Enter an expense: (\"STOP\" to stop)')) != \"STOP\":\n",
    "    # Continue calculation\n",
    "    print(f\"Total Expenses: ${(expense_total := expense_total + float(expense))}\")\n",
    "\n",
    "# Print based on conditional\n",
    "print(\n",
    "    f\"You are {'over' if expense_total > budget else 'on'} budget by ${budget - expense_total if budget - expense_total >= 0 else -(budget - expense_total)}.\"\n",
    ")"
   ]
  },
  {
   "cell_type": "markdown",
   "metadata": {},
   "source": [
    "### Example 22 (Exercise 4)\n"
   ]
  },
  {
   "cell_type": "code",
   "execution_count": 28,
   "metadata": {},
   "outputs": [
    {
     "name": "stdin",
     "output_type": "stream",
     "text": [
      "Enter the speed of the vehicle (mph): 100\n",
      "Enter the amount of hours (whole number): 2\n"
     ]
    },
    {
     "name": "stdout",
     "output_type": "stream",
     "text": [
      "Hour: 1, Distance Traveled: 100.0\n",
      "Hour: 2, Distance Traveled: 200.0\n"
     ]
    }
   ],
   "source": [
    "speed = float(input(\"Enter the speed of the vehicle (mph):\"))\n",
    "hours = int(input(\"Enter the amount of hours (whole number):\"))\n",
    "\n",
    "for hour in range(1, hours + 1):\n",
    "    print(f\"Hour: {hour}, Distance Traveled: {hour * speed}\")"
   ]
  },
  {
   "cell_type": "markdown",
   "metadata": {},
   "source": [
    "### Example 23 (Exercise 6)\n"
   ]
  },
  {
   "cell_type": "code",
   "execution_count": 30,
   "metadata": {},
   "outputs": [
    {
     "name": "stdout",
     "output_type": "stream",
     "text": [
      "Celsius: 0 ≡ Fahrenheit: 32.0\n",
      "Celsius: 1 ≡ Fahrenheit: 33.8\n",
      "Celsius: 2 ≡ Fahrenheit: 35.6\n",
      "Celsius: 3 ≡ Fahrenheit: 37.4\n",
      "Celsius: 4 ≡ Fahrenheit: 39.2\n",
      "Celsius: 5 ≡ Fahrenheit: 41.0\n",
      "Celsius: 6 ≡ Fahrenheit: 42.8\n",
      "Celsius: 7 ≡ Fahrenheit: 44.6\n",
      "Celsius: 8 ≡ Fahrenheit: 46.4\n",
      "Celsius: 9 ≡ Fahrenheit: 48.2\n",
      "Celsius: 10 ≡ Fahrenheit: 50.0\n",
      "Celsius: 11 ≡ Fahrenheit: 51.8\n",
      "Celsius: 12 ≡ Fahrenheit: 53.6\n",
      "Celsius: 13 ≡ Fahrenheit: 55.400000000000006\n",
      "Celsius: 14 ≡ Fahrenheit: 57.2\n",
      "Celsius: 15 ≡ Fahrenheit: 59.0\n",
      "Celsius: 16 ≡ Fahrenheit: 60.8\n",
      "Celsius: 17 ≡ Fahrenheit: 62.6\n",
      "Celsius: 18 ≡ Fahrenheit: 64.4\n",
      "Celsius: 19 ≡ Fahrenheit: 66.2\n",
      "Celsius: 20 ≡ Fahrenheit: 68.0\n"
     ]
    }
   ],
   "source": [
    "for celsius in range(0, 21):\n",
    "    print(f\"Celsius: {celsius} ≡ Fahrenheit: {9 / 5 * celsius + 32}\")"
   ]
  },
  {
   "cell_type": "markdown",
   "metadata": {},
   "source": [
    "### Example 24 (Exercise 9)\n"
   ]
  },
  {
   "cell_type": "code",
   "execution_count": 31,
   "metadata": {},
   "outputs": [
    {
     "name": "stdout",
     "output_type": "stream",
     "text": [
      "Year: 0, Ocean has risen: 0.00mm\n",
      "Year: 1, Ocean has risen: 1.60mm\n",
      "Year: 2, Ocean has risen: 3.20mm\n",
      "Year: 3, Ocean has risen: 4.80mm\n",
      "Year: 4, Ocean has risen: 6.40mm\n",
      "Year: 5, Ocean has risen: 8.00mm\n",
      "Year: 6, Ocean has risen: 9.60mm\n",
      "Year: 7, Ocean has risen: 11.20mm\n",
      "Year: 8, Ocean has risen: 12.80mm\n",
      "Year: 9, Ocean has risen: 14.40mm\n",
      "Year: 10, Ocean has risen: 16.00mm\n",
      "Year: 11, Ocean has risen: 17.60mm\n",
      "Year: 12, Ocean has risen: 19.20mm\n",
      "Year: 13, Ocean has risen: 20.80mm\n",
      "Year: 14, Ocean has risen: 22.40mm\n",
      "Year: 15, Ocean has risen: 24.00mm\n",
      "Year: 16, Ocean has risen: 25.60mm\n",
      "Year: 17, Ocean has risen: 27.20mm\n",
      "Year: 18, Ocean has risen: 28.80mm\n",
      "Year: 19, Ocean has risen: 30.40mm\n",
      "Year: 20, Ocean has risen: 32.00mm\n",
      "Year: 21, Ocean has risen: 33.60mm\n",
      "Year: 22, Ocean has risen: 35.20mm\n",
      "Year: 23, Ocean has risen: 36.80mm\n",
      "Year: 24, Ocean has risen: 38.40mm\n",
      "Year: 25, Ocean has risen: 40.00mm\n"
     ]
    }
   ],
   "source": [
    "RISE = 1.6\n",
    "\n",
    "for year in range(0, 26):\n",
    "    print(f\"Year: {year}, Ocean has risen: {format(year * RISE, '.2f')}mm\")"
   ]
  },
  {
   "cell_type": "markdown",
   "metadata": {},
   "source": [
    "### Example 25 (Exercise 11)\n"
   ]
  },
  {
   "cell_type": "code",
   "execution_count": 32,
   "metadata": {},
   "outputs": [
    {
     "name": "stdin",
     "output_type": "stream",
     "text": [
      "Enter your current weight: 100\n"
     ]
    },
    {
     "name": "stdout",
     "output_type": "stream",
     "text": [
      "After 1 Month(s): 96.0lb\n",
      "After 2 Month(s): 92.0lb\n",
      "After 3 Month(s): 88.0lb\n",
      "After 4 Month(s): 84.0lb\n",
      "After 5 Month(s): 80.0lb\n",
      "After 6 Month(s): 76.0lb\n"
     ]
    }
   ],
   "source": [
    "POUND_LOSS = 4\n",
    "\n",
    "weight = float(input(\"Enter your current weight:\"))\n",
    "\n",
    "for month in range(1, 7):\n",
    "    # weight(start_weight, month) = weight - (month * POUND_LOSS)\n",
    "    print(f\"After {month} Month(s): {weight - month * POUND_LOSS}lb\")"
   ]
  },
  {
   "cell_type": "markdown",
   "metadata": {},
   "source": [
    "### Example 26\n"
   ]
  },
  {
   "cell_type": "code",
   "execution_count": 33,
   "metadata": {},
   "outputs": [
    {
     "name": "stdin",
     "output_type": "stream",
     "text": [
      "How many customers entered in the last minute? (Enter \"STOP\" when finished) 50\n",
      "How many customers entered in the last minute? (Enter \"STOP\" when finished) 20\n",
      "How many customers entered in the last minute? (Enter \"STOP\" when finished) 20\n",
      "How many customers entered in the last minute? (Enter \"STOP\" when finished) STOP\n"
     ]
    },
    {
     "name": "stdout",
     "output_type": "stream",
     "text": [
      "The number of customers is: 90\n"
     ]
    }
   ],
   "source": [
    "customer_total = 0\n",
    "\n",
    "# Continue input/calculation while is not \"STOP\"\n",
    "while (\n",
    "    customers := input(\n",
    "        'How many customers entered in the last minute? (Enter \"STOP\" when finished)'\n",
    "    )\n",
    ") != \"STOP\":\n",
    "    customer_total += int(customers)\n",
    "\n",
    "print(f\"The number of customers is: {customer_total}\")"
   ]
  },
  {
   "cell_type": "markdown",
   "metadata": {},
   "source": [
    "### Example 27\n"
   ]
  },
  {
   "cell_type": "code",
   "execution_count": 34,
   "metadata": {},
   "outputs": [
    {
     "name": "stdin",
     "output_type": "stream",
     "text": [
      "Enter the hours worked this week:  100\n",
      "Enter the hourly pay rate:  10\n"
     ]
    },
    {
     "name": "stdout",
     "output_type": "stream",
     "text": [
      "Gross pay: $ 1,000.00\n"
     ]
    }
   ],
   "source": [
    "# This program displays gross pay.\n",
    "# Get the number of hours worked.\n",
    "\n",
    "hours = int(input(\"Enter the hours worked this week: \"))\n",
    "while not (hours >= 0 and hours <= 112):\n",
    "    print(\"The hours must be in the range [0, 112]!\")\n",
    "    hours = int(input(\"Enter the hours worked this week: \"))\n",
    "\n",
    "\n",
    "# Get the hourly pay rate.\n",
    "\n",
    "pay_rate = float(input(\"Enter the hourly pay rate: \"))\n",
    "\n",
    "\n",
    "# Calculate the gross pay.\n",
    "\n",
    "gross_pay = hours * pay_rate\n",
    "\n",
    "\n",
    "# Display the gross pay.\n",
    "\n",
    "print(\"Gross pay: $\", format(gross_pay, \",.2f\"))"
   ]
  },
  {
   "cell_type": "markdown",
   "metadata": {},
   "source": [
    "### Example 28\n"
   ]
  },
  {
   "cell_type": "code",
   "execution_count": 35,
   "metadata": {},
   "outputs": [
    {
     "name": "stdin",
     "output_type": "stream",
     "text": [
      "Enter the amount of students: 2\n",
      "Enter the grade of student 1 [0, 100]: 30000\n"
     ]
    },
    {
     "name": "stdout",
     "output_type": "stream",
     "text": [
      "The grade must be in the range [0, 100]!\n"
     ]
    },
    {
     "name": "stdin",
     "output_type": "stream",
     "text": [
      "Enter the grade of student 1 [0, 100]: 100\n",
      "Enter the grade of student 2 [0, 100]: 0\n"
     ]
    },
    {
     "name": "stdout",
     "output_type": "stream",
     "text": [
      "The average score is: 50.00\n"
     ]
    }
   ],
   "source": [
    "student_count = int(input(\"Enter the amount of students:\"))\n",
    "student_grade_total = 0\n",
    "\n",
    "# Loop for each student\n",
    "for student_number in range(1, student_count + 1):\n",
    "    # Grade input\n",
    "    student_grade = float(\n",
    "        input(f\"Enter the grade of student {student_number} [0, 100]:\")\n",
    "    )\n",
    "    # If invalid grade repeat input\n",
    "    while student_grade < 0 or student_grade > 100:\n",
    "        print(\"The grade must be in the range [0, 100]!\")\n",
    "        student_grade = float(\n",
    "            input(f\"Enter the grade of student {student_number} [0, 100]:\")\n",
    "        )\n",
    "    # Add result to total\n",
    "    student_grade_total += student_grade\n",
    "\n",
    "# Print average\n",
    "print(f\"The average score is: {format(student_grade_total / student_count, '.2f')}\")"
   ]
  },
  {
   "cell_type": "markdown",
   "metadata": {},
   "source": [
    "### Example 29\n"
   ]
  },
  {
   "cell_type": "code",
   "execution_count": 36,
   "metadata": {},
   "outputs": [
    {
     "name": "stdin",
     "output_type": "stream",
     "text": [
      "Enter the amount of students: 2\n",
      "Enter the score for exam 1: 30\n",
      "Enter the score for exam 2: 60\n",
      "Enter the score for exam 3: 90\n"
     ]
    },
    {
     "name": "stdout",
     "output_type": "stream",
     "text": [
      "Student 1's total: 180.0\n"
     ]
    },
    {
     "name": "stdin",
     "output_type": "stream",
     "text": [
      "Enter the score for exam 1: 40\n",
      "Enter the score for exam 2: 80\n",
      "Enter the score for exam 3: 120\n"
     ]
    },
    {
     "name": "stdout",
     "output_type": "stream",
     "text": [
      "The grade must be in the range [0, 100]!\n"
     ]
    },
    {
     "name": "stdin",
     "output_type": "stream",
     "text": [
      "Enter the score for exam 3: 100\n"
     ]
    },
    {
     "name": "stdout",
     "output_type": "stream",
     "text": [
      "Student 2's total: 220.0\n"
     ]
    }
   ],
   "source": [
    "student_count = int(input(\"Enter the amount of students:\"))\n",
    "\n",
    "# Loop for each student\n",
    "for student_number in range(1, student_count + 1):\n",
    "    # Running total\n",
    "    student_total = 0\n",
    "    # Loop for each of 3 exams\n",
    "    for exam_number in range(1, 4):\n",
    "        score = float(input(f\"Enter the score for exam {exam_number}:\"))\n",
    "        # Repeat input if invalid\n",
    "        while score < 0 or score > 100:\n",
    "            print(\"The grade must be in the range [0, 100]!\")\n",
    "            score = float(input(f\"Enter the score for exam {exam_number}:\"))\n",
    "        # Add result to running total\n",
    "        student_total += score\n",
    "    print(f\"Student {student_number}'s total: {student_total}\")"
   ]
  },
  {
   "cell_type": "markdown",
   "metadata": {},
   "source": [
    "### Example 30\n"
   ]
  },
  {
   "cell_type": "code",
   "execution_count": 37,
   "metadata": {},
   "outputs": [
    {
     "name": "stdin",
     "output_type": "stream",
     "text": [
      "Enter a password: 12345a\n"
     ]
    },
    {
     "name": "stdout",
     "output_type": "stream",
     "text": [
      "The password can only contain numbers!\n",
      "Check complete\n"
     ]
    }
   ],
   "source": [
    "password = input(\"Enter a password:\")\n",
    "\n",
    "for character in password:\n",
    "    # Break if current character is alphabetical\n",
    "    if character.isalpha():\n",
    "        print(\"The password can only contain numbers!\")\n",
    "        break\n",
    "\n",
    "print(\"Check complete\")"
   ]
  },
  {
   "cell_type": "markdown",
   "metadata": {},
   "source": [
    "### Example 31\n"
   ]
  },
  {
   "cell_type": "code",
   "execution_count": 131,
   "metadata": {},
   "outputs": [
    {
     "name": "stdout",
     "output_type": "stream",
     "text": [
      "-2.0\n",
      "-2.5\n",
      "-3.3333333333333335\n",
      "-5.0\n",
      "-10.0\n",
      "10.0\n",
      "5.0\n",
      "3.3333333333333335\n",
      "2.5\n"
     ]
    }
   ],
   "source": [
    "for number in range(-5, 5):\n",
    "    # Ignore case number is 0\n",
    "    if number == 0:\n",
    "        continue\n",
    "    print(10 / number)"
   ]
  },
  {
   "cell_type": "markdown",
   "metadata": {},
   "source": [
    "### Example 32\n"
   ]
  },
  {
   "cell_type": "code",
   "execution_count": 1,
   "metadata": {},
   "outputs": [],
   "source": [
    "import turtle\n",
    "\n",
    "turtle.speed(0)\n",
    "\n",
    "for heading in range(0, 360, 10):\n",
    "    turtle.setheading(heading)\n",
    "    # Each side of a square\n",
    "    for _ in range(4):\n",
    "        turtle.forward(50)\n",
    "        turtle.right(90)\n",
    "\n",
    "turtle.done()"
   ]
  },
  {
   "cell_type": "markdown",
   "metadata": {},
   "source": [
    "### Example 33\n"
   ]
  },
  {
   "cell_type": "code",
   "execution_count": 5,
   "metadata": {},
   "outputs": [],
   "source": [
    "import turtle\n",
    "\n",
    "turtle.speed(0)\n",
    "\n",
    "for heading in range(0, 360, 45):\n",
    "    turtle.setheading(heading)\n",
    "    turtle.forward(50)\n",
    "\n",
    "turtle.done()"
   ]
  },
  {
   "cell_type": "markdown",
   "metadata": {},
   "source": [
    "### Example 34\n"
   ]
  },
  {
   "cell_type": "code",
   "execution_count": 15,
   "metadata": {},
   "outputs": [],
   "source": [
    "import turtle\n",
    "\n",
    "turtle.speed(0)\n",
    "\n",
    "for radius in range(10, 100, 10):\n",
    "    # Pen up to avoid lines between circles\n",
    "    turtle.penup()\n",
    "    turtle.setx(0)\n",
    "    # Increase y position for new radius to surround prior\n",
    "    turtle.sety(-radius)\n",
    "    turtle.pendown()\n",
    "    turtle.circle(radius)\n",
    "\n",
    "turtle.done()"
   ]
  },
  {
   "cell_type": "markdown",
   "metadata": {},
   "source": [
    "### Example 35\n"
   ]
  },
  {
   "cell_type": "code",
   "execution_count": 1,
   "metadata": {},
   "outputs": [],
   "source": [
    "import turtle\n",
    "\n",
    "turtle.speed(0)\n",
    "\n",
    "for heading in range(0, 360, 10):\n",
    "    turtle.setheading(heading)\n",
    "    turtle.circle(50)\n",
    "\n",
    "turtle.done()"
   ]
  },
  {
   "cell_type": "markdown",
   "metadata": {},
   "source": [
    "### Example 36 (Exercise 14)\n"
   ]
  },
  {
   "cell_type": "code",
   "execution_count": 4,
   "metadata": {},
   "outputs": [
    {
     "name": "stdout",
     "output_type": "stream",
     "text": [
      "* * * * * * * \n",
      "* * * * * * \n",
      "* * * * * \n",
      "* * * * \n",
      "* * * \n",
      "* * \n",
      "* \n"
     ]
    }
   ],
   "source": [
    "for number in range(0, 7):\n",
    "    # Print star for current iteration - number times\n",
    "    for _ in range(7 - number, 0, -1):\n",
    "        print(\"* \", end=\"\")\n",
    "    print()"
   ]
  },
  {
   "cell_type": "markdown",
   "metadata": {},
   "source": [
    "### Example 37 (Exercise 15)\n"
   ]
  },
  {
   "cell_type": "code",
   "execution_count": 5,
   "metadata": {},
   "outputs": [
    {
     "name": "stdout",
     "output_type": "stream",
     "text": [
      "##\n",
      "# #\n",
      "#  #\n",
      "#   #\n",
      "#    #\n",
      "#     #\n"
     ]
    }
   ],
   "source": [
    "for position in range(2, 8):\n",
    "    for index in range(0, position):\n",
    "        # Print hash if the index is the first or last position\n",
    "        print(\"#\" if index == 0 or index == position - 1 else \" \", end=\"\")\n",
    "    # Newline\n",
    "    print()"
   ]
  },
  {
   "cell_type": "markdown",
   "metadata": {},
   "source": [
    "### Example 38 (Exercise 16)\n"
   ]
  },
  {
   "cell_type": "code",
   "execution_count": 17,
   "metadata": {},
   "outputs": [],
   "source": [
    "import turtle\n",
    "\n",
    "turtle.speed(0)\n",
    "turtle.setheading(90)\n",
    "\n",
    "for length in range(5, 501, 5):\n",
    "    # Square sides\n",
    "    for _ in range(4):\n",
    "        turtle.forward(length)\n",
    "        turtle.left(90)\n",
    "\n",
    "turtle.done()"
   ]
  },
  {
   "cell_type": "markdown",
   "metadata": {},
   "source": [
    "### Example 39 (Exercise 17)\n"
   ]
  },
  {
   "cell_type": "code",
   "execution_count": 5,
   "metadata": {},
   "outputs": [],
   "source": [
    "import turtle\n",
    "import math\n",
    "\n",
    "turtle.speed(0)\n",
    "turtle.setheading(90)\n",
    "\n",
    "for _ in range(0, 8):\n",
    "    turtle.forward(100)\n",
    "    # 8 pointed star interior angles are 45\n",
    "    turtle.left(180 - 45)\n",
    "\n",
    "turtle.done()"
   ]
  },
  {
   "cell_type": "markdown",
   "metadata": {},
   "source": [
    "### Example 40 (Exercise 18)\n"
   ]
  },
  {
   "cell_type": "code",
   "execution_count": 7,
   "metadata": {},
   "outputs": [
    {
     "ename": "",
     "evalue": "",
     "output_type": "error",
     "traceback": [
      "\u001b[1;31mThe Kernel crashed while executing code in the current cell or a previous cell. \n",
      "\u001b[1;31mPlease review the code in the cell(s) to identify a possible cause of the failure. \n",
      "\u001b[1;31mClick <a href='https://aka.ms/vscodeJupyterKernelCrash'>here</a> for more info. \n",
      "\u001b[1;31mView Jupyter <a href='command:jupyter.viewOutput'>log</a> for further details."
     ]
    }
   ],
   "source": [
    "import turtle\n",
    "\n",
    "turtle.speed(0)\n",
    "turtle.setheading(0)\n",
    "\n",
    "for length in range(5, 100, 5):\n",
    "    # Increasing side length\n",
    "    turtle.forward(length)\n",
    "    turtle.left(90)\n",
    "\n",
    "turtle.done()"
   ]
  },
  {
   "cell_type": "markdown",
   "metadata": {},
   "source": [
    "### Extra\n"
   ]
  },
  {
   "cell_type": "code",
   "execution_count": 5,
   "metadata": {},
   "outputs": [],
   "source": [
    "import turtle\n",
    "\n",
    "turtle.speed(0)\n",
    "turtle.setheading(270 + 10)\n",
    "\n",
    "for length in range(100, 1, -3):\n",
    "    # Square sides\n",
    "    for _ in range(4):\n",
    "        turtle.forward(length)\n",
    "        turtle.left(90)\n",
    "    turtle.left(10)\n",
    "\n",
    "turtle.done()"
   ]
  }
 ],
 "metadata": {
  "kernelspec": {
   "display_name": "Python 3 (ipykernel)",
   "language": "python",
   "name": "python3"
  },
  "language_info": {
   "codemirror_mode": {
    "name": "ipython",
    "version": 3
   },
   "file_extension": ".py",
   "mimetype": "text/x-python",
   "name": "python",
   "nbconvert_exporter": "python",
   "pygments_lexer": "ipython3",
   "version": "3.11.8"
  }
 },
 "nbformat": 4,
 "nbformat_minor": 4
}
