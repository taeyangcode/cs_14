{
 "cells": [
  {
   "cell_type": "markdown",
   "metadata": {},
   "source": [
    "### Example 1\n"
   ]
  },
  {
   "cell_type": "code",
   "execution_count": 1,
   "metadata": {},
   "outputs": [
    {
     "name": "stdout",
     "output_type": "stream",
     "text": [
      "You are not old enough.\n",
      "Drink beer.\n"
     ]
    }
   ],
   "source": [
    "while int(input(\"Enter your age:\")) < 21:\n",
    "    print(\"You are not old enough.\")\n",
    "print(\"Drink beer.\")"
   ]
  },
  {
   "cell_type": "markdown",
   "metadata": {},
   "source": [
    "### Example 2\n"
   ]
  },
  {
   "cell_type": "code",
   "execution_count": 3,
   "metadata": {},
   "outputs": [
    {
     "name": "stdout",
     "output_type": "stream",
     "text": [
      "Arrival.\n"
     ]
    }
   ],
   "source": [
    "while input(\"Are we there yet?\") == \"no\":\n",
    "    _\n",
    "print(\"Arrival\")"
   ]
  },
  {
   "cell_type": "markdown",
   "metadata": {},
   "source": [
    "### Example 3\n"
   ]
  },
  {
   "cell_type": "code",
   "execution_count": 7,
   "metadata": {},
   "outputs": [
    {
     "name": "stdout",
     "output_type": "stream",
     "text": [
      "Product: 5.0\n",
      "Product: 25.0\n",
      "Product: 125.0\n",
      "Product: 625.0\n",
      "Final Product: 3125.0\n"
     ]
    }
   ],
   "source": [
    "product = float(input(\"Enter a number:\"))\n",
    "while product < 1_000:\n",
    "    print(f\"Product: {product}\")\n",
    "    product *= 5\n",
    "print(f\"Final Product: {product}\")"
   ]
  },
  {
   "cell_type": "markdown",
   "metadata": {},
   "source": [
    "### Example 4\n"
   ]
  },
  {
   "cell_type": "code",
   "execution_count": 9,
   "metadata": {},
   "outputs": [
    {
     "name": "stdout",
     "output_type": "stream",
     "text": [
      "1\n",
      "2\n",
      "Sum: 3\n"
     ]
    }
   ],
   "source": [
    "while input(\"Would you like to enter two numbers? (Y/N)\") == \"Y\":\n",
    "    print(\n",
    "        f\"{(number_1 := float(input('Number 1:')))}\",\n",
    "        f\"{(number_2 := float(input('Number 2:')))}\",\n",
    "        f\"Sum: {number_1 + number_2}\",\n",
    "        sep=\"\\n\",\n",
    "    )"
   ]
  },
  {
   "cell_type": "markdown",
   "metadata": {},
   "source": [
    "### Example 5\n"
   ]
  },
  {
   "cell_type": "code",
   "execution_count": 16,
   "metadata": {},
   "outputs": [
    {
     "name": "stdout",
     "output_type": "stream",
     "text": [
      "Total Expenses: $100.0\n",
      "You are on budget by $100.0.\n"
     ]
    }
   ],
   "source": [
    "budget = float(input(\"Enter your budget for the month:\"))\n",
    "expense_total = 0.0\n",
    "\n",
    "while (expense := input('Enter an expense: (\"STOP\" to stop)')) != \"STOP\":\n",
    "    print(f\"Total Expenses: ${(expense_total := expense_total + float(expense))}\")\n",
    "\n",
    "print(\n",
    "    f\"You are {'over' if expense_total > budget else 'on'} budget by ${budget - expense_total if budget - expense_total >= 0 else -(budget - expense_total)}.\"\n",
    ")"
   ]
  },
  {
   "cell_type": "markdown",
   "metadata": {},
   "source": [
    "### Example 6\n"
   ]
  },
  {
   "cell_type": "code",
   "execution_count": 29,
   "metadata": {},
   "outputs": [
    {
     "name": "stdout",
     "output_type": "stream",
     "text": [
      "Total expenses: $50.0\n",
      "Total expenses: $100.0\n",
      "You have exceeded your credit card limit by: $50.0\n"
     ]
    }
   ],
   "source": [
    "limit = float(input(\"Enter your credit card limit:\"))\n",
    "total_expenses = 0.0\n",
    "\n",
    "while (\n",
    "    (expense := input('Enter the cost of the current item: (\"STOP\" to stop)')) != \"STOP\"\n",
    ") and (total_expenses := total_expenses + float(expense)) <= limit:\n",
    "    print(f\"Total expenses: ${total_expenses}\")\n",
    "\n",
    "if total_expenses > limit:\n",
    "    print(f\"You have exceeded your credit card limit by: ${total_expenses - limit}\")"
   ]
  },
  {
   "cell_type": "markdown",
   "metadata": {},
   "source": [
    "### Example 7\n"
   ]
  },
  {
   "cell_type": "code",
   "execution_count": 30,
   "metadata": {},
   "outputs": [
    {
     "name": "stdout",
     "output_type": "stream",
     "text": [
      "Guess again!\n",
      "Guess again!\n",
      "Guess again!\n",
      "Correct\n"
     ]
    }
   ],
   "source": [
    "import random\n",
    "\n",
    "choice = random.randint(1, 10)\n",
    "while int(input(\"Enter an integer in [1, 10]:\")) != choice:\n",
    "    print(\"Guess again!\")\n",
    "print(\"Correct\")"
   ]
  },
  {
   "cell_type": "markdown",
   "metadata": {},
   "source": [
    "### Example 8\n"
   ]
  },
  {
   "cell_type": "code",
   "execution_count": 2,
   "metadata": {},
   "outputs": [
    {
     "name": "stdout",
     "output_type": "stream",
     "text": [
      "Try again!\n",
      "Try again!\n",
      "Try again!\n",
      "Try again!\n",
      "Correct!\n"
     ]
    }
   ],
   "source": [
    "import random\n",
    "\n",
    "composite = random.randint(1, 3) * random.randint(1, 3)\n",
    "while (\n",
    "    int(input(\"Guess the first integer that multiplies to my hidden composite number:\"))\n",
    "    * int(input(\"And the second:\"))\n",
    "    != composite\n",
    "):\n",
    "    print(\"Try again!\")\n",
    "print(\"Correct!\")"
   ]
  },
  {
   "cell_type": "markdown",
   "metadata": {},
   "source": [
    "### Example 9\n"
   ]
  },
  {
   "cell_type": "code",
   "execution_count": 3,
   "metadata": {},
   "outputs": [
    {
     "name": "stdout",
     "output_type": "stream",
     "text": [
      "Incorrect\n",
      "Incorrect\n",
      "Incorrect\n",
      "Incorrect\n",
      "Incorrect\n",
      "Incorrect\n",
      "Incorrect\n",
      "Correct\n"
     ]
    }
   ],
   "source": [
    "correct_password = \"yzx\"\n",
    "\n",
    "while input(\"Enter password:\") != correct_password:\n",
    "    print(\"Incorrect\")\n",
    "print(\"Correct\")"
   ]
  },
  {
   "cell_type": "markdown",
   "metadata": {},
   "source": [
    "### Example 10\n"
   ]
  },
  {
   "cell_type": "code",
   "execution_count": 5,
   "metadata": {},
   "outputs": [
    {
     "name": "stdout",
     "output_type": "stream",
     "text": [
      "Launching in 10...\n",
      "Launching in 9...\n",
      "Launching in 8...\n",
      "Launching in 7...\n",
      "Launching in 6...\n",
      "Launching in 5...\n",
      "Launching in 4...\n",
      "Launching in 3...\n",
      "Launching in 2...\n",
      "Launching in 1...\n",
      "Blastoff!\n"
     ]
    }
   ],
   "source": [
    "for second in range(0, 10):\n",
    "    print(f\"Launching in {10 - second}...\")\n",
    "print(\"Blast off!\")"
   ]
  }
 ],
 "metadata": {
  "kernelspec": {
   "display_name": "Python 3",
   "language": "python",
   "name": "python3"
  },
  "language_info": {
   "codemirror_mode": {
    "name": "ipython",
    "version": 3
   },
   "file_extension": ".py",
   "mimetype": "text/x-python",
   "name": "python",
   "nbconvert_exporter": "python",
   "pygments_lexer": "ipython3",
   "version": "3.11.8"
  }
 },
 "nbformat": 4,
 "nbformat_minor": 2
}
