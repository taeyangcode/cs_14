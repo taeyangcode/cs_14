{
 "cells": [
  {
   "cell_type": "markdown",
   "metadata": {},
   "source": [
    "### Example 1\n"
   ]
  },
  {
   "cell_type": "code",
   "execution_count": 1,
   "metadata": {},
   "outputs": [
    {
     "name": "stdout",
     "output_type": "stream",
     "text": [
      "Good morning to you as well!\n"
     ]
    }
   ],
   "source": [
    "def reply():\n",
    "    print(\"Good morning to you as well!\")\n",
    "\n",
    "\n",
    "reply()"
   ]
  },
  {
   "cell_type": "markdown",
   "metadata": {},
   "source": [
    "### Example 2\n"
   ]
  },
  {
   "cell_type": "code",
   "execution_count": 3,
   "metadata": {},
   "outputs": [
    {
     "name": "stdout",
     "output_type": "stream",
     "text": [
      "The weather forecast is cloudy!\n"
     ]
    }
   ],
   "source": [
    "def rain():\n",
    "    print(\"The weather forecast is rain!\")\n",
    "\n",
    "\n",
    "def sunny():\n",
    "    print(\"The weather forecast is sunny!\")\n",
    "\n",
    "\n",
    "def cloudy():\n",
    "    print(\"The weather forecast is cloudy!\")\n",
    "\n",
    "\n",
    "forecast = input(\n",
    "    'Enter \"rain\", \"sun\", or \"cloud\" to see the respective weather forecast:'\n",
    ")\n",
    "\n",
    "if forecast == \"rain\":\n",
    "    rain()\n",
    "elif forecast == \"sun\":\n",
    "    sunny()\n",
    "else:\n",
    "    cloudy()"
   ]
  },
  {
   "cell_type": "markdown",
   "metadata": {},
   "source": [
    "### Example 3\n"
   ]
  },
  {
   "cell_type": "code",
   "execution_count": 7,
   "metadata": {},
   "outputs": [
    {
     "name": "stdout",
     "output_type": "stream",
     "text": [
      "Divide: 0.5\n"
     ]
    }
   ],
   "source": [
    "def sum_nums():\n",
    "    number_1 = float(input(\"Enter a number:\"))\n",
    "    number_2 = float(input(\"Enter a number:\"))\n",
    "    print(f\"Sum: {number_1 + number_2}\")\n",
    "\n",
    "\n",
    "def sub_nums():\n",
    "    number_1 = float(input(\"Enter a number:\"))\n",
    "    number_2 = float(input(\"Enter a number:\"))\n",
    "    print(f\"Subtract: {number_1 - number_2}\")\n",
    "\n",
    "\n",
    "def mult_nums():\n",
    "    number_1 = float(input(\"Enter a number:\"))\n",
    "    number_2 = float(input(\"Enter a number:\"))\n",
    "    print(f\"Multiply: {number_1 * number_2}\")\n",
    "\n",
    "\n",
    "def div_nums():\n",
    "    number_1 = float(input(\"Enter a number:\"))\n",
    "    number_2 = float(input(\"Enter a number:\"))\n",
    "    print(f\"Divide: {number_1 / number_2}\")\n",
    "\n",
    "\n",
    "operation = input(\n",
    "    \"Enter the operation would you like to perform: \\\n",
    "                  (S -> SUM, R -> SUBSTRACT, M -> MULTIPLY, D -> DIVIDE)\"\n",
    ")\n",
    "if operation == \"S\":\n",
    "    sum_nums()\n",
    "elif operation == \"R\":\n",
    "    sub_nums()\n",
    "elif operation == \"M\":\n",
    "    mult_nums()\n",
    "else:\n",
    "    div_nums()"
   ]
  },
  {
   "cell_type": "markdown",
   "metadata": {},
   "source": [
    "### Example 4\n"
   ]
  },
  {
   "cell_type": "code",
   "execution_count": 3,
   "metadata": {},
   "outputs": [],
   "source": [
    "import turtle\n",
    "\n",
    "\n",
    "def main():\n",
    "    if input(\"Do you want to draw a circle (C) or square (S)?\") == \"C\":\n",
    "        circle()\n",
    "    else:\n",
    "        square()\n",
    "    turtle.done()\n",
    "\n",
    "\n",
    "def circle():\n",
    "    radius = float(input(\"Enter the radius of the circle:\"))\n",
    "    turtle.circle(radius)\n",
    "\n",
    "\n",
    "def square():\n",
    "    side = float(input(\"Enter the length of a side:\"))\n",
    "    for _ in range(4):\n",
    "        turtle.forward(side)\n",
    "        turtle.left(90)\n",
    "\n",
    "\n",
    "main()"
   ]
  },
  {
   "cell_type": "markdown",
   "metadata": {},
   "source": [
    "### Example 5\n"
   ]
  },
  {
   "cell_type": "code",
   "execution_count": 6,
   "metadata": {},
   "outputs": [
    {
     "name": "stdout",
     "output_type": "stream",
     "text": [
      "Room 1: Transformers\n",
      "Room 2: Transformers 2\n",
      "Room 3: Transformers 3\n"
     ]
    }
   ],
   "source": [
    "def main():\n",
    "    room_1()\n",
    "    room_2()\n",
    "    room_3()\n",
    "\n",
    "\n",
    "def room_1():\n",
    "    print(\"Room 1: Transformers\")\n",
    "\n",
    "\n",
    "def room_2():\n",
    "    print(\"Room 2: Transformers 2\")\n",
    "\n",
    "\n",
    "def room_3():\n",
    "    print(\"Room 3: Transformers 3\")\n",
    "\n",
    "\n",
    "main()"
   ]
  },
  {
   "cell_type": "markdown",
   "metadata": {},
   "source": [
    "### Example 6\n"
   ]
  },
  {
   "cell_type": "code",
   "execution_count": 3,
   "metadata": {},
   "outputs": [],
   "source": [
    "import turtle\n",
    "\n",
    "\n",
    "def draw_square():\n",
    "    side = float(input(\"Enter the side length:\"))\n",
    "    for _ in range(4):\n",
    "        turtle.forward(side)\n",
    "        turtle.left(90)\n",
    "\n",
    "\n",
    "def draw_hexagon():\n",
    "    side = float(input(\"Enter the side length:\"))\n",
    "    for _ in range(6):\n",
    "        turtle.forward(side)\n",
    "        turtle.left(60)\n",
    "\n",
    "\n",
    "def draw_eight_with_circles():\n",
    "    radius = float(input(\"Enter radius:\"))\n",
    "    turtle.circle(radius)\n",
    "    turtle.penup()\n",
    "    turtle.sety(turtle.ycor() + 2 * radius)\n",
    "    turtle.pendown()\n",
    "    turtle.circle(radius)\n",
    "\n",
    "\n",
    "def move_turtle():\n",
    "    turtle.penup()\n",
    "    turtle.setx(float(input(\"Enter new x coordinate:\")))\n",
    "    turtle.sety(float(input(\"Enter new y coordinate:\")))\n",
    "    turtle.pendown()\n",
    "\n",
    "\n",
    "def main():\n",
    "    while True:\n",
    "        choice = input(\n",
    "            \"Would you like to draw a square (S), hexagon (H), eight (8), or move (M) the turtle? ('Q' to quit)\"\n",
    "        )\n",
    "\n",
    "        if choice == \"S\":\n",
    "            draw_square()\n",
    "        elif choice == \"H\":\n",
    "            draw_hexagon()\n",
    "        elif choice == \"8\":\n",
    "            draw_eight_with_circles()\n",
    "        elif choice == \"M\":\n",
    "            move_turtle()\n",
    "        else:\n",
    "            turtle.done()\n",
    "            return\n",
    "\n",
    "\n",
    "main()"
   ]
  },
  {
   "cell_type": "markdown",
   "metadata": {},
   "source": [
    "### Example 7\n"
   ]
  },
  {
   "cell_type": "code",
   "execution_count": 7,
   "metadata": {},
   "outputs": [
    {
     "name": "stdout",
     "output_type": "stream",
     "text": [
      "The interest rate for a substandard borrower is 7%. Thus, a $10,000 balance will incur an interest rate of amount $700.00.\n",
      "Thank you!\n"
     ]
    }
   ],
   "source": [
    "def preferred():\n",
    "    interest_rate = 0.02\n",
    "    print(\n",
    "        f\"The interest rate for a preferred borrower is 2%. Thus, a $10,000 balance will incur an interest rate of amount ${format(interest_rate * 10_000, '.2f')}.\"\n",
    "    )\n",
    "\n",
    "\n",
    "def standard():\n",
    "    interest_rate = 0.05\n",
    "    print(\n",
    "        f\"The interest rate for a standard borrower is 5%. Thus, a $10,000 balance will incur an interest rate of amount ${format(interest_rate * 10_000, '.2f')}.\"\n",
    "    )\n",
    "\n",
    "\n",
    "def substandard():\n",
    "    interest_rate = 0.07\n",
    "    print(\n",
    "        f\"The interest rate for a substandard borrower is 7%. Thus, a $10,000 balance will incur an interest rate of amount ${format(interest_rate * 10_000, '.2f')}.\"\n",
    "    )\n",
    "\n",
    "\n",
    "def main():\n",
    "    type = input(\n",
    "        \"Would you like to know about the preferred, standard, or substandard plan?\"\n",
    "    )\n",
    "    if type == \"preferred\":\n",
    "        preferred()\n",
    "    elif type == \"standard\":\n",
    "        standard()\n",
    "    elif type == \"substandard\":\n",
    "        substandard()\n",
    "\n",
    "    print(\"Thank you!\")\n",
    "\n",
    "\n",
    "main()"
   ]
  },
  {
   "cell_type": "markdown",
   "metadata": {},
   "source": [
    "### Example 8\n"
   ]
  },
  {
   "cell_type": "code",
   "execution_count": 12,
   "metadata": {},
   "outputs": [
    {
     "name": "stdout",
     "output_type": "stream",
     "text": [
      "It's the weekend! Time to not brush teeth, not take a shower, and stay in bed!\n",
      "Time to eat breakfast!\n"
     ]
    }
   ],
   "source": [
    "def breakfast():\n",
    "    print(\"Time to eat breakfast!\")\n",
    "\n",
    "\n",
    "def weekend():\n",
    "    print(\n",
    "        \"It's the weekend! Time to not brush teeth, not take a shower, and stay in bed!\"\n",
    "    )\n",
    "    breakfast()\n",
    "\n",
    "\n",
    "def weekday():\n",
    "    print(\"It's a weekday... Time to brush teeth, take a shower, and not stay in bed.\")\n",
    "    breakfast()\n",
    "\n",
    "\n",
    "def main():\n",
    "    number = int(\n",
    "        input(\"Enter a number in the range [1,7] mapping to the day of the week:\")\n",
    "    )\n",
    "    if number <= 5:\n",
    "        weekday()\n",
    "    else:\n",
    "        weekend()\n",
    "\n",
    "\n",
    "main()"
   ]
  },
  {
   "cell_type": "markdown",
   "metadata": {},
   "source": [
    "### Example 9\n"
   ]
  },
  {
   "cell_type": "code",
   "execution_count": 9,
   "metadata": {},
   "outputs": [
    {
     "name": "stdout",
     "output_type": "stream",
     "text": [
      "Happy birthday Corey!\n",
      "Happy Valentines Yuji!\n",
      "Merry Christmas Mom!\n",
      "Invalid entry.\n",
      "Invalid entry.\n",
      "Thank you!\n"
     ]
    }
   ],
   "source": [
    "def birthday():\n",
    "    name = input(\"What is the recepient's name?\")\n",
    "    print(f\"Happy birthday {name}!\")\n",
    "\n",
    "\n",
    "def valentines():\n",
    "    name = input(\"What is the recepient's name?\")\n",
    "    print(f\"Happy Valentines {name}!\")\n",
    "\n",
    "\n",
    "def christmas():\n",
    "    name = input(\"What is the recepient's name?\")\n",
    "    print(f\"Merry Christmas {name}!\")\n",
    "\n",
    "\n",
    "def main():\n",
    "    while (\n",
    "        card := input(\n",
    "            'Do you want to send a \"birthday\", \"valentines\", or \"christmas\" card? (\"S\" to stop)'\n",
    "        )\n",
    "    ) != \"S\":\n",
    "        if card == \"birthday\":\n",
    "            birthday()\n",
    "        elif card == \"valentines\":\n",
    "            valentines()\n",
    "        elif card == \"christmas\":\n",
    "            christmas()\n",
    "        else:\n",
    "            print(\"Invalid entry.\")\n",
    "    print(\"Thank you!\")\n",
    "\n",
    "\n",
    "main()"
   ]
  },
  {
   "cell_type": "markdown",
   "metadata": {},
   "source": [
    "### Example 10\n"
   ]
  },
  {
   "cell_type": "code",
   "execution_count": 12,
   "metadata": {},
   "outputs": [
    {
     "name": "stdout",
     "output_type": "stream",
     "text": [
      "Too little tickets sold for screen 1; refund.\n",
      "Welcome to screen 2!\n",
      "The movie name is: A. Here are some ads on ipads.\n",
      "Welcome to screen 3!\n",
      "The movie name is: A. Here are some ads on cars and real estate.\n"
     ]
    }
   ],
   "source": [
    "def screen_room1():\n",
    "    print(\"Welcome to screen 1!\")\n",
    "    movie_name = input(\"Enter the name of the movie:\")\n",
    "    rating = input(\"Enter the rating of the movie:\")\n",
    "\n",
    "    print(\n",
    "        f\"The movie name is: {movie_name}. Here are some ads on {'cars and real estate' if rating == 'R' else 'ipads'}.\"\n",
    "    )\n",
    "\n",
    "\n",
    "def screen_room2():\n",
    "    print(\"Welcome to screen 2!\")\n",
    "    movie_name = input(\"Enter the name of the movie:\")\n",
    "    rating = input(\"Enter the rating of the movie:\")\n",
    "\n",
    "    print(\n",
    "        f\"The movie name is: {movie_name}. Here are some ads on {'cars and real estate' if rating == 'R' else 'ipads'}.\"\n",
    "    )\n",
    "\n",
    "\n",
    "def screen_room3():\n",
    "    print(\"Welcome to screen 3!\")\n",
    "    movie_name = input(\"Enter the name of the movie:\")\n",
    "    rating = input(\"Enter the rating of the movie:\")\n",
    "\n",
    "    print(\n",
    "        f\"The movie name is: {movie_name}. Here are some ads on {'cars and real estate' if rating == 'R' else 'ipads'}.\"\n",
    "    )\n",
    "\n",
    "\n",
    "def main():\n",
    "    tickets_sold_1 = int(input(\"Enter the tickets were sold for screen room 1:\"))\n",
    "    tickets_sold_2 = int(input(\"Enter the tickets were sold for screen room 2:\"))\n",
    "    tickets_sold_3 = int(input(\"Enter the tickets were sold for screen room 3:\"))\n",
    "\n",
    "    if tickets_sold_1 >= 10:\n",
    "        screen_room1()\n",
    "    else:\n",
    "        print(\"Too little tickets sold for screen 1; refund.\")\n",
    "\n",
    "    if tickets_sold_2 >= 10:\n",
    "        screen_room2()\n",
    "    else:\n",
    "        print(\"Too little tickets sold for screen 2; refund.\")\n",
    "\n",
    "    if tickets_sold_3 >= 10:\n",
    "        screen_room3()\n",
    "    else:\n",
    "        print(\"Too little tickets sold for screen 3; refund.\")\n",
    "\n",
    "\n",
    "main()"
   ]
  },
  {
   "cell_type": "markdown",
   "metadata": {},
   "source": [
    "### Example 11\n"
   ]
  },
  {
   "cell_type": "code",
   "execution_count": 13,
   "metadata": {},
   "outputs": [
    {
     "name": "stdout",
     "output_type": "stream",
     "text": [
      "The ingredients for tacos are: ground beef, onion, tomatos, lettuce, salsa, and shells.\n",
      "The ingredients for pizza are: dough, tomato sauce, and cheese.\n",
      "THe ingredients for pasta are: pasta and tomato sauce.\n",
      "Invalid entry!\n",
      "Invalid entry!\n",
      "Invalid entry!\n",
      "Thank you!\n"
     ]
    }
   ],
   "source": [
    "def tacos():\n",
    "    print(\n",
    "        \"The ingredients for tacos are: ground beef, onion, tomatos, lettuce, salsa, and shells.\"\n",
    "    )\n",
    "\n",
    "\n",
    "def pizza():\n",
    "    print(\"The ingredients for pizza are: dough, tomato sauce, and cheese.\")\n",
    "\n",
    "\n",
    "def pasta():\n",
    "    print(\"THe ingredients for pasta are: pasta and tomato sauce.\")\n",
    "\n",
    "\n",
    "def main():\n",
    "    while (\n",
    "        food := input(\n",
    "            'Do you want the ingredients about \"tacos\", \"pizza\", or \"pasta\"? (\"S\" to STOP)'\n",
    "        )\n",
    "    ) != \"S\":\n",
    "        if food == \"tacos\":\n",
    "            tacos()\n",
    "        elif food == \"pizza\":\n",
    "            pizza()\n",
    "        elif food == \"pasta\":\n",
    "            pasta()\n",
    "        else:\n",
    "            print(\"Invalid entry!\")\n",
    "\n",
    "    print(\"Thank you!\")\n",
    "\n",
    "\n",
    "main()"
   ]
  },
  {
   "cell_type": "markdown",
   "metadata": {},
   "source": [
    "### Example 12\n"
   ]
  },
  {
   "cell_type": "code",
   "execution_count": 16,
   "metadata": {},
   "outputs": [
    {
     "name": "stdout",
     "output_type": "stream",
     "text": [
      "Your monthly cost is: $60.00. Your annual cost is $720.00.\n"
     ]
    }
   ],
   "source": [
    "def main():\n",
    "    loan_payment = float(input(\"Enter the monthly cost for your car loan payment:\"))\n",
    "    insurance = float(input(\"Enter the monthly cost for your car insurance:\"))\n",
    "    gas = float(input(\"Enter the monthly cost for your car gas:\"))\n",
    "    oil = float(input(\"Enter the monthly cost for your car oil:\"))\n",
    "    tires = float(input(\"Enter the monthly cost for your car tires:\"))\n",
    "    maintenance = float(input(\"Enter the monthly cost for your car maintenance:\"))\n",
    "\n",
    "    monthly_cost = loan_payment + insurance + gas + oil + tires + maintenance\n",
    "\n",
    "    print(\n",
    "        f\"Your monthly cost is: ${format(monthly_cost, '.2f')}. Your annual cost is ${format(12 * monthly_cost, '.2f')}.\"\n",
    "    )\n",
    "\n",
    "\n",
    "main()"
   ]
  },
  {
   "cell_type": "markdown",
   "metadata": {},
   "source": [
    "### Example 13\n"
   ]
  },
  {
   "cell_type": "markdown",
   "metadata": {},
   "source": [
    "```\n",
    ".\n",
    "└── main()/\n",
    "    ├── say_hello()\n",
    "    ├── forecast()/\n",
    "    │   └── location()\n",
    "    └── add_numbers()\n",
    "```\n"
   ]
  },
  {
   "cell_type": "markdown",
   "metadata": {},
   "source": [
    "### Example 14\n"
   ]
  },
  {
   "cell_type": "code",
   "execution_count": 26,
   "metadata": {},
   "outputs": [
    {
     "name": "stdout",
     "output_type": "stream",
     "text": [
      "This program tells you how to disassemble an ACME laundry dryer.\n",
      "There are 4 steps in the process.\n",
      "Step 1: Unplug the dryer and move it away from the wall.\n",
      "Step 2: Remove the six screws from the back of the dryer. \n",
      "Step 3: Remove the back panel from the dryer.\n",
      "Step 4: Pull the top of the dryer straight up.\n"
     ]
    }
   ],
   "source": [
    "def startup_message():\n",
    "    print(\n",
    "        f\"This program tells you how to disassemble an ACME laundry dryer.\",\n",
    "        f\"There are 4 steps in the process.\",\n",
    "        sep=\"\\n\",\n",
    "    )\n",
    "\n",
    "\n",
    "def step1():\n",
    "    _ = input(\"Press Enter to see Step 1.\")\n",
    "    print(\"Step 1: Unplug the dryer and move it away from the wall.\")\n",
    "\n",
    "\n",
    "def step2():\n",
    "    _ = input(\"Press Enter to see Step 2.\")\n",
    "    print(\"Step 2: Remove the six screws from the back of the dryer. \")\n",
    "\n",
    "\n",
    "def step3():\n",
    "    _ = input(\"Press Enter to see Step 3.\")\n",
    "    print(\"Step 3: Remove the back panel from the dryer.\")\n",
    "\n",
    "\n",
    "def step4():\n",
    "    _ = input(\"Press Enter to see Step 4.\")\n",
    "    print(\"Step 4: Pull the top of the dryer straight up.\")\n",
    "\n",
    "\n",
    "def main():\n",
    "    startup_message()\n",
    "    step1()\n",
    "    step2()\n",
    "    step3()\n",
    "    step4()\n",
    "\n",
    "\n",
    "main()"
   ]
  },
  {
   "cell_type": "markdown",
   "metadata": {},
   "source": [
    "### Example 15\n"
   ]
  },
  {
   "cell_type": "code",
   "execution_count": 28,
   "metadata": {},
   "outputs": [
    {
     "name": "stdout",
     "output_type": "stream",
     "text": [
      "The difference of 1.0 - 2.0 = -1.0\n"
     ]
    }
   ],
   "source": [
    "def main():\n",
    "    subtract()\n",
    "\n",
    "\n",
    "def subtract():\n",
    "    number_1 = float(input(\"Enter a number:\"))\n",
    "    number_2 = float(input(\"Enter a number:\"))\n",
    "    print(f\"The difference of {number_1} - {number_2} = {number_1 - number_2}\")\n",
    "\n",
    "\n",
    "main()"
   ]
  },
  {
   "cell_type": "markdown",
   "metadata": {},
   "source": [
    "### Example 16\n"
   ]
  },
  {
   "cell_type": "code",
   "execution_count": 32,
   "metadata": {},
   "outputs": [
    {
     "name": "stdout",
     "output_type": "stream",
     "text": [
      "The difference of 5.0 - 5.0 = 0.0\n"
     ]
    }
   ],
   "source": [
    "def main():\n",
    "    subtract(float(input(\"Enter a number:\")), float(input(\"Enter a number:\")))\n",
    "\n",
    "\n",
    "def subtract(number_1, number_2):\n",
    "    print(f\"The difference of {number_1} - {number_2} = {number_1 - number_2}\")\n",
    "\n",
    "\n",
    "main()"
   ]
  },
  {
   "cell_type": "markdown",
   "metadata": {},
   "source": [
    "### Example 17\n"
   ]
  },
  {
   "cell_type": "code",
   "execution_count": 42,
   "metadata": {},
   "outputs": [
    {
     "name": "stdout",
     "output_type": "stream",
     "text": [
      "Result: 1024.0\n"
     ]
    }
   ],
   "source": [
    "def main():\n",
    "    print(\n",
    "        f\"Result: {raise_exponent(float(input('Enter the base:')), int(input('Enter the exponent:')))}\"\n",
    "    )\n",
    "\n",
    "\n",
    "def raise_exponent(base, exponent):\n",
    "    result = base\n",
    "    for _ in range(exponent - 1):\n",
    "        result *= base\n",
    "    return result\n",
    "\n",
    "\n",
    "main()"
   ]
  },
  {
   "cell_type": "markdown",
   "metadata": {},
   "source": [
    "### Example 18\n"
   ]
  },
  {
   "cell_type": "code",
   "execution_count": 1,
   "metadata": {},
   "outputs": [
    {
     "ename": "",
     "evalue": "",
     "output_type": "error",
     "traceback": [
      "\u001b[1;31mThe Kernel crashed while executing code in the current cell or a previous cell. \n",
      "\u001b[1;31mPlease review the code in the cell(s) to identify a possible cause of the failure. \n",
      "\u001b[1;31mClick <a href='https://aka.ms/vscodeJupyterKernelCrash'>here</a> for more info. \n",
      "\u001b[1;31mView Jupyter <a href='command:jupyter.viewOutput'>log</a> for further details."
     ]
    }
   ],
   "source": [
    "import random\n",
    "import turtle\n",
    "\n",
    "\n",
    "def main():\n",
    "    turtle.speed(0)\n",
    "\n",
    "    while input(\"Would you like to draw a circle? (Y/N)\") == \"Y\":\n",
    "        x = int(input(\"Enter an 'x' value [-255, 255]:\"))\n",
    "        y = int(input(\"Enter an 'y' value [-255, 255]:\"))\n",
    "        z = random.randint(0, 255)\n",
    "        draw_colored_circle(x, y, z)\n",
    "\n",
    "    turtle.done()\n",
    "\n",
    "\n",
    "def draw_colored_circle(x, y, z):\n",
    "    turtle.penup()\n",
    "\n",
    "    turtle.goto(x, y)\n",
    "    turtle.colormode(255)\n",
    "    turtle.color(abs(x), abs(y), z)\n",
    "\n",
    "    turtle.pendown()\n",
    "    turtle.begin_fill()\n",
    "    turtle.circle(25.0)\n",
    "    turtle.end_fill()\n",
    "\n",
    "\n",
    "main()"
   ]
  },
  {
   "cell_type": "markdown",
   "metadata": {},
   "source": [
    "### Example 19\n"
   ]
  },
  {
   "cell_type": "code",
   "execution_count": 2,
   "metadata": {},
   "outputs": [
    {
     "name": "stdout",
     "output_type": "stream",
     "text": [
      "The minimum amount of insurance you should buy is: $80.00\n"
     ]
    }
   ],
   "source": [
    "def insurance_recommendation(cost):\n",
    "    recommendation = 0.80\n",
    "\n",
    "    return cost * recommendation\n",
    "\n",
    "\n",
    "def main():\n",
    "    replacement_cost = float(input(\"Enter the replacement cost of your building:\"))\n",
    "    print(\n",
    "        f\"The minimum amount of insurance you should buy is: ${format(insurance_recommendation(replacement_cost), '.2f')}\"\n",
    "    )\n",
    "\n",
    "\n",
    "main()"
   ]
  },
  {
   "cell_type": "markdown",
   "metadata": {},
   "source": [
    "### Example 20\n"
   ]
  },
  {
   "cell_type": "code",
   "execution_count": 1,
   "metadata": {},
   "outputs": [
    {
     "name": "stdout",
     "output_type": "stream",
     "text": [
      "0.5\n"
     ]
    }
   ],
   "source": [
    "def main():\n",
    "    number_1 = float(input(\"Enter a number:\"))\n",
    "    number_2 = float(input(\"Enter a number:\"))\n",
    "\n",
    "    operation = input(\n",
    "        'Would you like to divide (\"D\"), multiply (\"M\"), add (\"A\"), or subtact (\"S\") two numbers?'\n",
    "    )\n",
    "    if operation == \"D\":\n",
    "        if number_2 == 0.0:\n",
    "            print(\"You cannot divide by zero!\")\n",
    "        else:\n",
    "            print(div_nums(number_1, number_2))\n",
    "    elif operation == \"M\":\n",
    "        print(mult_nums(number_1, number_2))\n",
    "    elif operation == \"A\":\n",
    "        print(sum_nums(number_1, number_2))\n",
    "    elif operation == \"S\":\n",
    "        print(sub_nums(number_1, number_2))\n",
    "    else:\n",
    "        print(\"Invalid entry!\")\n",
    "\n",
    "\n",
    "def div_nums(number_1, number_2):\n",
    "    return number_1 / number_2\n",
    "\n",
    "\n",
    "def mult_nums(number_1, number_2):\n",
    "    return number_1 * number_2\n",
    "\n",
    "\n",
    "def sum_nums(number_1, number_2):\n",
    "    return number_1 + number_2\n",
    "\n",
    "\n",
    "def sub_nums(number_1, number_2):\n",
    "    return number_1 - number_2\n",
    "\n",
    "\n",
    "main()"
   ]
  },
  {
   "cell_type": "markdown",
   "metadata": {},
   "source": [
    "### Example 21\n"
   ]
  },
  {
   "cell_type": "code",
   "execution_count": 3,
   "metadata": {},
   "outputs": [
    {
     "name": "stdout",
     "output_type": "stream",
     "text": [
      "Property: $10000.00\n",
      "Assessment Value: $6000.00\n",
      "Property Tax: $43.20\n"
     ]
    }
   ],
   "source": [
    "def calculate_property_tax(assessment_value):\n",
    "    return assessment_value / 100 * 0.72\n",
    "\n",
    "\n",
    "def main():\n",
    "    property_price = float(input(\"Enter the price of your property ($):\"))\n",
    "    assessment_value = property_price * 0.60\n",
    "    print(\n",
    "        f\"Property: ${format(property_price, '.2f')}\",\n",
    "        f\"Assessment Value: ${format(assessment_value, '.2f')}\",\n",
    "        f\"Property Tax: ${format(calculate_property_tax(assessment_value), '.2f')}\",\n",
    "        sep=\"\\n\",\n",
    "    )\n",
    "\n",
    "\n",
    "main()"
   ]
  },
  {
   "cell_type": "markdown",
   "metadata": {},
   "source": [
    "### Example 22\n"
   ]
  },
  {
   "cell_type": "code",
   "execution_count": 6,
   "metadata": {},
   "outputs": [
    {
     "name": "stdout",
     "output_type": "stream",
     "text": [
      "County Sales Tax: $2.50\n",
      "State Sales Tax: $5.00\n",
      "Total Sales Tax: $7.50\n"
     ]
    }
   ],
   "source": [
    "def _format(money):\n",
    "    return format(money, \".2f\")\n",
    "\n",
    "\n",
    "def state_sales_tax(sales):\n",
    "    return sales * 0.05\n",
    "\n",
    "\n",
    "def county_sales_tax(sales):\n",
    "    return sales * 0.025\n",
    "\n",
    "\n",
    "def main():\n",
    "    total_sales = float(input(\"Enter the total sales of the month:\"))\n",
    "    print(\n",
    "        f\"County Sales Tax: ${(county := _format(county_sales_tax(total_sales)))}\",\n",
    "        f\"State Sales Tax: ${(state := _format(state_sales_tax(total_sales)))}\",\n",
    "        f\"Total Sales Tax: ${_format(float(county) + float(state))}\",\n",
    "        sep=\"\\n\",\n",
    "    )\n",
    "\n",
    "\n",
    "main()"
   ]
  },
  {
   "cell_type": "markdown",
   "metadata": {},
   "source": [
    "### Example 23\n"
   ]
  },
  {
   "cell_type": "code",
   "execution_count": 63,
   "metadata": {},
   "outputs": [
    {
     "name": "stdout",
     "output_type": "stream",
     "text": [
      "2: is a prime.\n"
     ]
    }
   ],
   "source": [
    "def main():\n",
    "    number = int(input(\"Enter a whole number:\"))\n",
    "    print(f\"{number}: {'is' if is_prime(number) else 'is not'} a prime.\")\n",
    "\n",
    "\n",
    "def is_prime(number):\n",
    "    if number <= 3:\n",
    "        return True\n",
    "\n",
    "    if number % 2 == 0:\n",
    "        return False\n",
    "\n",
    "    for multiple_1 in range(1, (number // 2) + 1):\n",
    "        for multiple_2 in range(1, (number // 2) + 1):\n",
    "            if multiple_1 * multiple_2 == number:\n",
    "                return False\n",
    "    return True\n",
    "\n",
    "\n",
    "main()"
   ]
  },
  {
   "cell_type": "code",
   "execution_count": 3,
   "metadata": {},
   "outputs": [
    {
     "name": "stdout",
     "output_type": "stream",
     "text": [
      "You drew a box around the dot!\n"
     ]
    }
   ],
   "source": [
    "import turtle\n",
    "import random\n",
    "\n",
    "\n",
    "def main():\n",
    "    turtle.speed(0)\n",
    "\n",
    "    random_x = random.randint(-100, 100)\n",
    "    random_y = random.randint(-100, 100)\n",
    "    draw_dot(random_x, random_y)\n",
    "\n",
    "    user_x = input_x()\n",
    "    user_y = input_y()\n",
    "    side_length = input_side()\n",
    "\n",
    "    draw_box(user_x, user_y, side_length)\n",
    "\n",
    "    if (user_x <= random_x and user_x + side_length >= random_x) and (\n",
    "        user_y <= random_y and user_y + side_length >= random_y\n",
    "    ):\n",
    "        print(\"You drew a box around the dot!\")\n",
    "    else:\n",
    "        print(\"You did not draw a box around the dot..\")\n",
    "\n",
    "    turtle.done()\n",
    "\n",
    "\n",
    "def draw_dot(x, y):\n",
    "    turtle.penup()\n",
    "    turtle.setposition(x, y)\n",
    "    turtle.pendown()\n",
    "    turtle.fillcolor(\"black\")\n",
    "    turtle.begin_fill()\n",
    "    turtle.circle(2)\n",
    "    turtle.end_fill()\n",
    "\n",
    "\n",
    "def input_x():\n",
    "    return float(input(\"Enter the x coordinate of the lower-left corner of your box:\"))\n",
    "\n",
    "\n",
    "def input_y():\n",
    "    return float(input(\"Enter the y coordinate of the lower-left corner of your box:\"))\n",
    "\n",
    "\n",
    "def input_side():\n",
    "    return float(input(\"Enter the side length of your box:\"))\n",
    "\n",
    "\n",
    "def draw_box(lower_left_x, lower_left_y, side_length):\n",
    "    turtle.penup()\n",
    "    turtle.setposition(lower_left_x, lower_left_y)\n",
    "    turtle.pendown()\n",
    "    turtle.setheading(90)\n",
    "    turtle.forward(side_length)\n",
    "    turtle.right(90)\n",
    "    turtle.forward(side_length)\n",
    "    turtle.right(90)\n",
    "    turtle.forward(side_length)\n",
    "    turtle.right(90)\n",
    "    turtle.forward(side_length)\n",
    "\n",
    "\n",
    "main()"
   ]
  },
  {
   "cell_type": "markdown",
   "metadata": {},
   "source": [
    "### Example 25\n"
   ]
  },
  {
   "cell_type": "code",
   "execution_count": 4,
   "metadata": {},
   "outputs": [
    {
     "name": "stdout",
     "output_type": "stream",
     "text": [
      "Weekly Wage: $200.0\n",
      "Weekly Wage: $400.0\n"
     ]
    }
   ],
   "source": [
    "hourly_rate = 10.0\n",
    "\n",
    "\n",
    "def wage_20():\n",
    "    print(f\"Weekly Wage: ${hourly_rate * 20.0}\")\n",
    "\n",
    "\n",
    "def wage_40():\n",
    "    print(f\"Weekly Wage: ${hourly_rate * 40.0}\")\n",
    "\n",
    "\n",
    "wage_20()\n",
    "wage_40()"
   ]
  },
  {
   "cell_type": "markdown",
   "metadata": {},
   "source": [
    "### Example 26\n"
   ]
  },
  {
   "cell_type": "code",
   "execution_count": 6,
   "metadata": {},
   "outputs": [
    {
     "name": "stdout",
     "output_type": "stream",
     "text": [
      "You need 40 mangos for 20 cakes.\n"
     ]
    }
   ],
   "source": [
    "num_mangos = 2\n",
    "num_cakes = int(input(\"Enter the number of cakes you would like:\"))\n",
    "\n",
    "\n",
    "def cake():\n",
    "    global num_mangos\n",
    "    num_mangos = num_mangos * num_cakes\n",
    "    print(f\"You need {num_mangos} mangos for {num_cakes} cakes.\")\n",
    "\n",
    "\n",
    "cake()"
   ]
  },
  {
   "cell_type": "markdown",
   "metadata": {},
   "source": [
    "### Example 27\n"
   ]
  },
  {
   "cell_type": "code",
   "execution_count": 12,
   "metadata": {},
   "outputs": [
    {
     "name": "stdout",
     "output_type": "stream",
     "text": [
      "The interest charged is: $4.00\n"
     ]
    }
   ],
   "source": [
    "INTEREST_RATE_PRIME = 0.02\n",
    "INTEREST_RATE_STANDARD = 0.04\n",
    "INTEREST_RATE_SUBPRIME = 0.06\n",
    "\n",
    "\n",
    "def main():\n",
    "    loan_amount = float(input(\"Enter the loan amount:\"))\n",
    "    borrow_type = input(\"Enter your borrow type (P, S, R):\")\n",
    "    print(\n",
    "        f\"The interest charged is: ${format(calculate_interest(loan_amount, borrow_type), '.2f')}\"\n",
    "    )\n",
    "\n",
    "\n",
    "def calculate_interest(loan_amount, borrow_type):\n",
    "    return loan_amount * (\n",
    "        INTEREST_RATE_PRIME\n",
    "        if borrow_type == \"P\"\n",
    "        else INTEREST_RATE_STANDARD if borrow_type == \"S\" else INTEREST_RATE_SUBPRIME\n",
    "    )\n",
    "\n",
    "\n",
    "main()"
   ]
  },
  {
   "cell_type": "markdown",
   "metadata": {},
   "source": [
    "### Example 28\n"
   ]
  },
  {
   "cell_type": "code",
   "execution_count": 13,
   "metadata": {},
   "outputs": [
    {
     "name": "stdout",
     "output_type": "stream",
     "text": [
      "The coin is tails!\n",
      "The coin is heads!\n",
      "The coin is tails!\n",
      "The coin is tails!\n",
      "The coin is heads!\n",
      "The coin is tails!\n",
      "The coin is heads!\n",
      "Bye!\n"
     ]
    }
   ],
   "source": [
    "import random\n",
    "\n",
    "\n",
    "def main():\n",
    "    while input(\"Do you want to flip a coin (Y/N)?\") == \"Y\":\n",
    "        print(f\"The coin is {'heads' if random.randint(0, 1) else 'tails'}!\")\n",
    "    print(\"Bye!\")\n",
    "\n",
    "\n",
    "main()"
   ]
  },
  {
   "cell_type": "markdown",
   "metadata": {},
   "source": [
    "### Example 29\n"
   ]
  },
  {
   "cell_type": "code",
   "execution_count": 15,
   "metadata": {},
   "outputs": [
    {
     "name": "stdout",
     "output_type": "stream",
     "text": [
      "The result of the `randint` function is: 3.\n",
      "The result of the `randrange` function is: 6.\n",
      "The result of the `random` function is: 0.1596454538338774.\n",
      "The result of the `uniform` function is: 3.0610046507822206.\n"
     ]
    }
   ],
   "source": [
    "def main():\n",
    "    bound_lower = 0\n",
    "    bound_upper = 10\n",
    "\n",
    "    random_print(\"randint\", random.randint(bound_lower, bound_upper))\n",
    "    random_print(\"randrange\", random.randrange(bound_lower, bound_upper))\n",
    "    random_print(\"random\", random.random())\n",
    "    random_print(\"uniform\", random.uniform(bound_lower, bound_upper))\n",
    "\n",
    "\n",
    "def random_print(function_name, result):\n",
    "    print(f\"The result of the `{function_name}` function is: {result}.\")\n",
    "\n",
    "\n",
    "main()"
   ]
  },
  {
   "cell_type": "markdown",
   "metadata": {},
   "source": [
    "### Example 30\n"
   ]
  },
  {
   "cell_type": "code",
   "execution_count": 19,
   "metadata": {},
   "outputs": [
    {
     "name": "stdout",
     "output_type": "stream",
     "text": [
      "Monday: 2\n",
      "Tuesday: 5\n",
      "Wednesday: 4\n",
      "Thursday: 3\n",
      "Friday: 3\n",
      "Saturday: 1\n",
      "Sunday: 2\n"
     ]
    }
   ],
   "source": [
    "def main():\n",
    "    restaurants = int(input(\"Enter the number of restaurants:\"))\n",
    "\n",
    "    m = 0\n",
    "    t = 0\n",
    "    w = 0\n",
    "    th = 0\n",
    "    f = 0\n",
    "    s = 0\n",
    "    su = 0\n",
    "\n",
    "    for _ in range(restaurants):\n",
    "        random_number = random.randint(1, 7)\n",
    "        m += random_number == 1\n",
    "        t += random_number == 2\n",
    "        w += random_number == 3\n",
    "        th += random_number == 4\n",
    "        f += random_number == 5\n",
    "        s += random_number == 6\n",
    "        su += random_number == 7\n",
    "\n",
    "    print(\n",
    "        f\"Monday: {m}\",\n",
    "        f\"Tuesday: {t}\",\n",
    "        f\"Wednesday: {w}\",\n",
    "        f\"Thursday: {th}\",\n",
    "        f\"Friday: {f}\",\n",
    "        f\"Saturday: {s}\",\n",
    "        f\"Sunday: {su}\",\n",
    "        sep=\"\\n\",\n",
    "    )\n",
    "\n",
    "\n",
    "main()"
   ]
  },
  {
   "cell_type": "markdown",
   "metadata": {},
   "source": [
    "### Example 31\n"
   ]
  },
  {
   "cell_type": "code",
   "execution_count": 20,
   "metadata": {},
   "outputs": [
    {
     "name": "stdout",
     "output_type": "stream",
     "text": [
      "Difference: -1.0\n"
     ]
    }
   ],
   "source": [
    "def main():\n",
    "    number_1 = float(input(\"Enter a number:\"))\n",
    "    number_2 = float(input(\"Enter a number:\"))\n",
    "    print(f\"Difference: {subtract(number_1, number_2)}\")\n",
    "\n",
    "\n",
    "def subtract(number_1, number_2):\n",
    "    return number_1 - number_2\n",
    "\n",
    "\n",
    "main()"
   ]
  },
  {
   "cell_type": "markdown",
   "metadata": {},
   "source": [
    "### Example 32\n"
   ]
  },
  {
   "cell_type": "code",
   "execution_count": 21,
   "metadata": {},
   "outputs": [
    {
     "name": "stdout",
     "output_type": "stream",
     "text": [
      "One: 2\n",
      "Two: 1\n",
      "Three: 1\n",
      "Four: 1\n",
      "Five: 3\n",
      "Six: 2\n",
      "Seven: 0\n",
      "Even: 4\n",
      "Odd: 6\n"
     ]
    }
   ],
   "source": [
    "import random\n",
    "\n",
    "\n",
    "def main():\n",
    "    rolls = int(input(\"Enter the number of rolls:\"))\n",
    "    one, two, three, four, five, six, seven = 0, 0, 0, 0, 0, 0, 0\n",
    "    even, odd = 0, 0\n",
    "\n",
    "    for _ in range(rolls):\n",
    "        value, is_odd = roll_die()\n",
    "\n",
    "        one += value == 1\n",
    "        two += value == 2\n",
    "        three += value == 3\n",
    "        four += value == 4\n",
    "        five += value == 5\n",
    "        six += value == 6\n",
    "        seven += value == 7\n",
    "\n",
    "        even += is_odd == 0\n",
    "        odd += is_odd\n",
    "\n",
    "    print(\n",
    "        f\"One: {one}\",\n",
    "        f\"Two: {two}\",\n",
    "        f\"Three: {three}\",\n",
    "        f\"Four: {four}\",\n",
    "        f\"Five: {five}\",\n",
    "        f\"Six: {six}\",\n",
    "        f\"Seven: {seven}\",\n",
    "        f\"Even: {even}\",\n",
    "        f\"Odd: {odd}\",\n",
    "        sep=\"\\n\",\n",
    "    )\n",
    "\n",
    "\n",
    "def roll_die():\n",
    "    value = random.randint(1, 6)\n",
    "    return value, value % 2\n",
    "\n",
    "\n",
    "main()"
   ]
  },
  {
   "cell_type": "code",
   "execution_count": null,
   "metadata": {},
   "outputs": [],
   "source": []
  }
 ],
 "metadata": {
  "kernelspec": {
   "display_name": "Python 3",
   "language": "python",
   "name": "python3"
  },
  "language_info": {
   "codemirror_mode": {
    "name": "ipython",
    "version": 3
   },
   "file_extension": ".py",
   "mimetype": "text/x-python",
   "name": "python",
   "nbconvert_exporter": "python",
   "pygments_lexer": "ipython3",
   "version": "3.11.8"
  }
 },
 "nbformat": 4,
 "nbformat_minor": 2
}
