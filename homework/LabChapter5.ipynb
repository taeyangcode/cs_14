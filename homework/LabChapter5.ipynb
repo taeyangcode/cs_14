{
 "cells": [
  {
   "cell_type": "markdown",
   "metadata": {},
   "source": [
    "### Example 1\n"
   ]
  },
  {
   "cell_type": "code",
   "execution_count": 1,
   "metadata": {},
   "outputs": [
    {
     "name": "stdout",
     "output_type": "stream",
     "text": [
      "Good morning to you as well!\n"
     ]
    }
   ],
   "source": [
    "def reply():\n",
    "    print(\"Good morning to you as well!\")\n",
    "\n",
    "\n",
    "reply()"
   ]
  },
  {
   "cell_type": "markdown",
   "metadata": {},
   "source": [
    "### Example 2\n"
   ]
  },
  {
   "cell_type": "code",
   "execution_count": 3,
   "metadata": {},
   "outputs": [
    {
     "name": "stdout",
     "output_type": "stream",
     "text": [
      "The weather forecast is cloudy!\n"
     ]
    }
   ],
   "source": [
    "def rain():\n",
    "    print(\"The weather forecast is rain!\")\n",
    "\n",
    "\n",
    "def sunny():\n",
    "    print(\"The weather forecast is sunny!\")\n",
    "\n",
    "\n",
    "def cloudy():\n",
    "    print(\"The weather forecast is cloudy!\")\n",
    "\n",
    "\n",
    "forecast = input(\n",
    "    'Enter \"rain\", \"sun\", or \"cloud\" to see the respective weather forecast:'\n",
    ")\n",
    "\n",
    "if forecast == \"rain\":\n",
    "    rain()\n",
    "elif forecast == \"sun\":\n",
    "    sunny()\n",
    "else:\n",
    "    cloudy()"
   ]
  },
  {
   "cell_type": "markdown",
   "metadata": {},
   "source": [
    "### Example 3\n"
   ]
  },
  {
   "cell_type": "code",
   "execution_count": 7,
   "metadata": {},
   "outputs": [
    {
     "name": "stdout",
     "output_type": "stream",
     "text": [
      "Divide: 0.5\n"
     ]
    }
   ],
   "source": [
    "def sum_nums():\n",
    "    number_1 = float(input(\"Enter a number:\"))\n",
    "    number_2 = float(input(\"Enter a number:\"))\n",
    "    print(f\"Sum: {number_1 + number_2}\")\n",
    "\n",
    "\n",
    "def sub_nums():\n",
    "    number_1 = float(input(\"Enter a number:\"))\n",
    "    number_2 = float(input(\"Enter a number:\"))\n",
    "    print(f\"Subtract: {number_1 - number_2}\")\n",
    "\n",
    "\n",
    "def mult_nums():\n",
    "    number_1 = float(input(\"Enter a number:\"))\n",
    "    number_2 = float(input(\"Enter a number:\"))\n",
    "    print(f\"Multiply: {number_1 * number_2}\")\n",
    "\n",
    "\n",
    "def div_nums():\n",
    "    number_1 = float(input(\"Enter a number:\"))\n",
    "    number_2 = float(input(\"Enter a number:\"))\n",
    "    print(f\"Divide: {number_1 / number_2}\")\n",
    "\n",
    "\n",
    "operation = input(\n",
    "    \"Enter the operation would you like to perform: \\\n",
    "                  (S -> SUM, R -> SUBSTRACT, M -> MULTIPLY, D -> DIVIDE)\"\n",
    ")\n",
    "if operation == \"S\":\n",
    "    sum_nums()\n",
    "elif operation == \"R\":\n",
    "    sub_nums()\n",
    "elif operation == \"M\":\n",
    "    mult_nums()\n",
    "else:\n",
    "    div_nums()"
   ]
  },
  {
   "cell_type": "markdown",
   "metadata": {},
   "source": [
    "### Example 4\n"
   ]
  },
  {
   "cell_type": "code",
   "execution_count": 3,
   "metadata": {},
   "outputs": [],
   "source": [
    "import turtle\n",
    "\n",
    "\n",
    "def main():\n",
    "    if input(\"Do you want to draw a circle (C) or square (S)?\") == \"C\":\n",
    "        circle()\n",
    "    else:\n",
    "        square()\n",
    "    turtle.done()\n",
    "\n",
    "\n",
    "def circle():\n",
    "    radius = float(input(\"Enter the radius of the circle:\"))\n",
    "    turtle.circle(radius)\n",
    "\n",
    "\n",
    "def square():\n",
    "    side = float(input(\"Enter the length of a side:\"))\n",
    "    for _ in range(4):\n",
    "        turtle.forward(side)\n",
    "        turtle.left(90)\n",
    "\n",
    "\n",
    "main()"
   ]
  },
  {
   "cell_type": "markdown",
   "metadata": {},
   "source": [
    "### Example 5\n"
   ]
  },
  {
   "cell_type": "code",
   "execution_count": 6,
   "metadata": {},
   "outputs": [
    {
     "name": "stdout",
     "output_type": "stream",
     "text": [
      "Room 1: Transformers\n",
      "Room 2: Transformers 2\n",
      "Room 3: Transformers 3\n"
     ]
    }
   ],
   "source": [
    "def main():\n",
    "    room_1()\n",
    "    room_2()\n",
    "    room_3()\n",
    "\n",
    "\n",
    "def room_1():\n",
    "    print(\"Room 1: Transformers\")\n",
    "\n",
    "\n",
    "def room_2():\n",
    "    print(\"Room 2: Transformers 2\")\n",
    "\n",
    "\n",
    "def room_3():\n",
    "    print(\"Room 3: Transformers 3\")\n",
    "\n",
    "\n",
    "main()"
   ]
  },
  {
   "cell_type": "markdown",
   "metadata": {},
   "source": [
    "### Example 6\n"
   ]
  },
  {
   "cell_type": "code",
   "execution_count": 3,
   "metadata": {},
   "outputs": [],
   "source": [
    "import turtle\n",
    "\n",
    "\n",
    "def draw_square():\n",
    "    side = float(input(\"Enter the side length:\"))\n",
    "    for _ in range(4):\n",
    "        turtle.forward(side)\n",
    "        turtle.left(90)\n",
    "\n",
    "\n",
    "def draw_hexagon():\n",
    "    side = float(input(\"Enter the side length:\"))\n",
    "    for _ in range(6):\n",
    "        turtle.forward(side)\n",
    "        turtle.left(60)\n",
    "\n",
    "\n",
    "def draw_eight_with_circles():\n",
    "    radius = float(input(\"Enter radius:\"))\n",
    "    turtle.circle(radius)\n",
    "    turtle.penup()\n",
    "    turtle.sety(turtle.ycor() + 2 * radius)\n",
    "    turtle.pendown()\n",
    "    turtle.circle(radius)\n",
    "\n",
    "\n",
    "def move_turtle():\n",
    "    turtle.penup()\n",
    "    turtle.setx(float(input(\"Enter new x coordinate:\")))\n",
    "    turtle.sety(float(input(\"Enter new y coordinate:\")))\n",
    "    turtle.pendown()\n",
    "\n",
    "\n",
    "def main():\n",
    "    while True:\n",
    "        choice = input(\n",
    "            \"Would you like to draw a square (S), hexagon (H), eight (8), or move (M) the turtle? ('Q' to quit)\"\n",
    "        )\n",
    "\n",
    "        if choice == \"S\":\n",
    "            draw_square()\n",
    "        elif choice == \"H\":\n",
    "            draw_hexagon()\n",
    "        elif choice == \"8\":\n",
    "            draw_eight_with_circles()\n",
    "        elif choice == \"M\":\n",
    "            move_turtle()\n",
    "        else:\n",
    "            turtle.done()\n",
    "            return\n",
    "\n",
    "\n",
    "main()"
   ]
  },
  {
   "cell_type": "markdown",
   "metadata": {},
   "source": [
    "### Example 7\n"
   ]
  },
  {
   "cell_type": "code",
   "execution_count": 9,
   "metadata": {},
   "outputs": [
    {
     "name": "stdout",
     "output_type": "stream",
     "text": [
      "The interest rate for a substandard borrower is 7%. Thus, a $10,000 balance will incur an interest rate of amount $700.0000000000001.\n",
      "Thank you!\n"
     ]
    }
   ],
   "source": [
    "def preferred():\n",
    "    interest_rate = 0.02\n",
    "    print(\n",
    "        f\"The interest rate for a preferred borrower is 2%. Thus, a $10,000 balance will incur an interest rate of amount ${interest_rate * 10_000}.\"\n",
    "    )\n",
    "\n",
    "\n",
    "def standard():\n",
    "    interest_rate = 0.05\n",
    "    print(\n",
    "        f\"The interest rate for a standard borrower is 5%. Thus, a $10,000 balance will incur an interest rate of amount ${interest_rate * 10_000}.\"\n",
    "    )\n",
    "\n",
    "\n",
    "def substandard():\n",
    "    interest_rate = 0.07\n",
    "    print(\n",
    "        f\"The interest rate for a substandard borrower is 7%. Thus, a $10,000 balance will incur an interest rate of amount ${interest_rate * 10_000}.\"\n",
    "    )\n",
    "\n",
    "\n",
    "def main():\n",
    "    type = input(\n",
    "        \"Would you like to know about the preferred, standard, or substandard plan?\"\n",
    "    )\n",
    "    if type == \"preferred\":\n",
    "        preferred()\n",
    "    elif type == \"standard\":\n",
    "        standard()\n",
    "    elif type == \"substandard\":\n",
    "        substandard()\n",
    "\n",
    "    print(\"Thank you!\")\n",
    "\n",
    "\n",
    "main()"
   ]
  },
  {
   "cell_type": "markdown",
   "metadata": {},
   "source": [
    "### Example 8\n"
   ]
  },
  {
   "cell_type": "code",
   "execution_count": 12,
   "metadata": {},
   "outputs": [
    {
     "name": "stdout",
     "output_type": "stream",
     "text": [
      "It's the weekend! Time to not brush teeth, not take a shower, and stay in bed!\n",
      "Time to eat breakfast!\n"
     ]
    }
   ],
   "source": [
    "def breakfast():\n",
    "    print(\"Time to eat breakfast!\")\n",
    "\n",
    "\n",
    "def weekend():\n",
    "    print(\n",
    "        \"It's the weekend! Time to not brush teeth, not take a shower, and stay in bed!\"\n",
    "    )\n",
    "    breakfast()\n",
    "\n",
    "\n",
    "def weekday():\n",
    "    print(\"It's a weekday... Time to brush teeth, take a shower, and not stay in bed.\")\n",
    "    breakfast()\n",
    "\n",
    "\n",
    "def main():\n",
    "    number = int(\n",
    "        input(\"Enter a number in the range [1,7] mapping to the day of the week:\")\n",
    "    )\n",
    "    if number <= 5:\n",
    "        weekday()\n",
    "    else:\n",
    "        weekend()\n",
    "\n",
    "\n",
    "main()"
   ]
  }
 ],
 "metadata": {
  "kernelspec": {
   "display_name": "Python 3",
   "language": "python",
   "name": "python3"
  },
  "language_info": {
   "codemirror_mode": {
    "name": "ipython",
    "version": 3
   },
   "file_extension": ".py",
   "mimetype": "text/x-python",
   "name": "python",
   "nbconvert_exporter": "python",
   "pygments_lexer": "ipython3",
   "version": "3.11.8"
  }
 },
 "nbformat": 4,
 "nbformat_minor": 2
}
