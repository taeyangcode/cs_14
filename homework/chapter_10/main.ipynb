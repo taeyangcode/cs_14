{
 "cells": [
  {
   "cell_type": "code",
   "execution_count": 1,
   "metadata": {
    "metadata": {}
   },
   "outputs": [],
   "source": [
    "# Exercise 1\n",
    "\n",
    "\n",
    "class Circle:\n",
    "    def __init__(self, diameter):\n",
    "        self.radius = diameter / 2\n",
    "\n",
    "    def area(self):\n",
    "        return 3.1416 * (self.radius**2)"
   ]
  },
  {
   "cell_type": "code",
   "execution_count": 2,
   "metadata": {
    "metadata": {}
   },
   "outputs": [],
   "source": [
    "# Exercise 2\n",
    "\n",
    "\n",
    "def main():\n",
    "    (circle_1, circle_2) = (Circle(2.0), Circle(4.0))\n",
    "\n",
    "\n",
    "main()"
   ]
  },
  {
   "cell_type": "code",
   "execution_count": 3,
   "metadata": {
    "metadata": {}
   },
   "outputs": [],
   "source": [
    "# Exercise 3\n",
    "\n",
    "import math\n",
    "\n",
    "\n",
    "class Circle:\n",
    "    def __init__(self, diameter):\n",
    "        self.radius = diameter / 2\n",
    "\n",
    "        print(\"The radius of this circle is: \", self.radius)\n",
    "\n",
    "    def area(self):\n",
    "        return math.pi * (self.radius**2)"
   ]
  },
  {
   "cell_type": "code",
   "execution_count": 1,
   "metadata": {
    "metadata": {}
   },
   "outputs": [
    {
     "name": "stdout",
     "output_type": "stream",
     "text": [
      "The radius of this circle is:  10.0\n",
      "Area: 314.1592653589793\n",
      "Circumference: 62.83185307179586\n"
     ]
    },
    {
     "ename": "",
     "evalue": "",
     "output_type": "error",
     "traceback": [
      "\u001b[1;31mThe Kernel crashed while executing code in the current cell or a previous cell. \n",
      "\u001b[1;31mPlease review the code in the cell(s) to identify a possible cause of the failure. \n",
      "\u001b[1;31mClick <a href='https://aka.ms/vscodeJupyterKernelCrash'>here</a> for more info. \n",
      "\u001b[1;31mView Jupyter <a href='command:jupyter.viewOutput'>log</a> for further details."
     ]
    }
   ],
   "source": [
    "# Exercise 4\n",
    "\n",
    "import math\n",
    "import tkinter\n",
    "\n",
    "\n",
    "class Circle:\n",
    "    def __init__(self, diameter):\n",
    "        self.radius = diameter / 2\n",
    "\n",
    "        print(\"The radius of this circle is: \", self.radius)\n",
    "\n",
    "    def area(self):\n",
    "        return math.pi * (self.radius**2)\n",
    "\n",
    "    def circumference(self):\n",
    "        return 2 * math.pi * self.radius\n",
    "\n",
    "    def draw(self):\n",
    "        import turtle\n",
    "\n",
    "        turtle.circle(self.radius)\n",
    "        turtle.done()\n",
    "\n",
    "\n",
    "def main():\n",
    "    circle = Circle(20.0)\n",
    "\n",
    "    print(f\"Area: {circle.area()}\")\n",
    "    print(f\"Circumference: {circle.circumference()}\")\n",
    "\n",
    "    circle.draw()\n",
    "\n",
    "\n",
    "main()"
   ]
  },
  {
   "cell_type": "code",
   "execution_count": 5,
   "metadata": {},
   "outputs": [
    {
     "name": "stdout",
     "output_type": "stream",
     "text": [
      "Area: 100.0\n"
     ]
    }
   ],
   "source": [
    "# Exercise 5\n",
    "\n",
    "\n",
    "class Rectangle:\n",
    "    def __init__(self, length, width):\n",
    "        self.__length = length\n",
    "        self.__width = width\n",
    "\n",
    "    # A = l * w\n",
    "    def get_area(self):\n",
    "        return self.__length * self.__width\n",
    "\n",
    "\n",
    "def main():\n",
    "    rectangle = Rectangle(10.0, 10.0)\n",
    "    print(f\"Area: {rectangle.get_area()}\")\n",
    "\n",
    "\n",
    "main()"
   ]
  },
  {
   "cell_type": "code",
   "execution_count": 6,
   "metadata": {},
   "outputs": [],
   "source": [
    "# Exercise 6\n",
    "\n",
    "\n",
    "class TV:\n",
    "    def __init__(self, channel):\n",
    "        self.__channel = channel\n",
    "\n",
    "    def set_channel(self, channel):\n",
    "        self.__channel = channel\n",
    "\n",
    "    def get_channel(self):\n",
    "        return self.__channel"
   ]
  },
  {
   "cell_type": "code",
   "execution_count": 7,
   "metadata": {},
   "outputs": [
    {
     "name": "stdout",
     "output_type": "stream",
     "text": [
      "Channel: 95\n"
     ]
    }
   ],
   "source": [
    "# Exercise 7\n",
    "\n",
    "\n",
    "def main():\n",
    "    import random\n",
    "\n",
    "    tv2 = TV(5)\n",
    "    # random number\n",
    "    tv2.set_channel(random.randint(1, 100))\n",
    "\n",
    "    print(f\"Channel: {tv2.get_channel()}\")\n",
    "\n",
    "\n",
    "main()"
   ]
  },
  {
   "cell_type": "code",
   "execution_count": 8,
   "metadata": {},
   "outputs": [],
   "source": [
    "# Exercise 8\n",
    "\n",
    "# Robot class\n",
    "\n",
    "import random as rnd\n",
    "\n",
    "\n",
    "class Robot:\n",
    "    def __init__(self, good_or_evil):\n",
    "        self.__good_evil = good_or_evil\n",
    "\n",
    "        print(\"Greetings Master.I am here to do \", self.__good_evil, \".\", sep=\"\")\n",
    "\n",
    "        self.__name = \"\"\n",
    "\n",
    "    def set_name(self, name):  # Assign name\n",
    "        self.__name = name\n",
    "\n",
    "    def get_name(self):  # Return name of robot\n",
    "        return self.__name\n",
    "\n",
    "    def __str__(self):\n",
    "        return \"Battery level at \" + str(rnd.randint(1, 100)) + \"%\""
   ]
  },
  {
   "cell_type": "code",
   "execution_count": 9,
   "metadata": {},
   "outputs": [
    {
     "name": "stdout",
     "output_type": "stream",
     "text": [
      "Greetings Master.I am here to do Good.\n"
     ]
    }
   ],
   "source": [
    "# Exercise 9\n",
    "\n",
    "# robot_army.py\n",
    "\n",
    "import robot\n",
    "\n",
    "\n",
    "def main():\n",
    "    r1 = robot.Robot(\"Good\")\n",
    "    r1.set_name(\"Robbie\")\n",
    "\n",
    "\n",
    "main()"
   ]
  },
  {
   "cell_type": "code",
   "execution_count": 10,
   "metadata": {},
   "outputs": [],
   "source": [
    "# Exercise 10\n",
    "\n",
    "# robot.py\n",
    "\n",
    "# Robot class\n",
    "\n",
    "import random as rnd\n",
    "\n",
    "\n",
    "class Robot:\n",
    "    def __init__(self, good_or_evil):\n",
    "        self.__good_evil = good_or_evil\n",
    "\n",
    "        print(\"Greetings Master.I am here to do \", self.__good_evil, \".\", sep=\"\")\n",
    "\n",
    "        self.__name = \"\"\n",
    "\n",
    "    def set_name(self, name):  # Assign name\n",
    "        self.__name = name\n",
    "\n",
    "    def get_name(self):  # Return name of robot\n",
    "        return self.__name\n",
    "\n",
    "    def __str__(self):\n",
    "        return \"Battery level at \" + str(rnd.randint(1, 100)) + \"%\"\n",
    "\n",
    "    def wash_dishes(self):\n",
    "        print(\n",
    "            \"I washed the dishes.\"\n",
    "            if self.__good_evil.lower() == \"good\"\n",
    "            else \"I am an evil robot.\"\n",
    "        )\n",
    "\n",
    "    def save_puppy(self):\n",
    "        print(\n",
    "            \"I saved the puppy.\"\n",
    "            if self.__good_evil.lower() == \"good\"\n",
    "            else \"I am an evil robot.\"\n",
    "        )\n",
    "\n",
    "    def rob_bank(self):\n",
    "        print(\n",
    "            \"I robbed $xx.xx.\" if self.__good_evil == \"evil\" else \"I am a good robot.\"\n",
    "        )\n",
    "\n",
    "    def kick_puppy(self):\n",
    "        print(\n",
    "            \"I kicked a puppy.\" if self.__good_evil == \"evil\" else \"I am a good robot.\"\n",
    "        )"
   ]
  },
  {
   "cell_type": "code",
   "execution_count": 11,
   "metadata": {},
   "outputs": [
    {
     "name": "stdout",
     "output_type": "stream",
     "text": [
      "Greetings Master.I am here to do good.\n",
      "Greetings Master.I am here to do evil.\n",
      "I am a good robot.\n",
      "I am a good robot.\n",
      "I saved the puppy.\n",
      "I washed the dishes.\n",
      "I kicked a puppy.\n",
      "I robbed $xx.xx.\n",
      "I am an evil robot.\n",
      "I am an evil robot.\n"
     ]
    }
   ],
   "source": [
    "# Exercise 11\n",
    "\n",
    "# robot_army.py\n",
    "\n",
    "import robot\n",
    "\n",
    "\n",
    "def main():\n",
    "    good = Robot(\"good\")\n",
    "    evil = Robot(\"evil\")\n",
    "\n",
    "    good.kick_puppy()\n",
    "    good.rob_bank()\n",
    "    good.save_puppy()\n",
    "    good.wash_dishes()\n",
    "\n",
    "    evil.kick_puppy()\n",
    "    evil.rob_bank()\n",
    "    evil.save_puppy()\n",
    "    evil.wash_dishes()\n",
    "\n",
    "\n",
    "main()"
   ]
  },
  {
   "cell_type": "code",
   "execution_count": 12,
   "metadata": {},
   "outputs": [
    {
     "name": "stdout",
     "output_type": "stream",
     "text": [
      "Greetings Master.I am here to do good.\n",
      "Good serial #: 1\n",
      "Good color: red\n",
      "Greetings Master.I am here to do evil.\n",
      "Evil serial #: 2\n",
      "Evil color: blue\n"
     ]
    }
   ],
   "source": [
    "# Exercise 12\n",
    "\n",
    "# robot.py\n",
    "\n",
    "# Robot class\n",
    "\n",
    "import random as rnd\n",
    "\n",
    "\n",
    "class Robot:\n",
    "    def __init__(self, good_or_evil):\n",
    "        self.__good_evil = good_or_evil\n",
    "\n",
    "        print(\"Greetings Master.I am here to do \", self.__good_evil, \".\", sep=\"\")\n",
    "\n",
    "        self.__name = \"\"\n",
    "\n",
    "    def set_name(self, name):  # Assign name\n",
    "        self.__name = name\n",
    "\n",
    "    def get_name(self):  # Return name of robot\n",
    "        return self.__name\n",
    "\n",
    "    def __str__(self):\n",
    "        return \"Battery level at \" + str(rnd.randint(1, 100)) + \"%\"\n",
    "\n",
    "    def wash_dishes(self):\n",
    "        print(\n",
    "            \"I washed the dishes.\"\n",
    "            if self.__good_evil.lower() == \"good\"\n",
    "            else \"I am an evil robot.\"\n",
    "        )\n",
    "\n",
    "    def save_puppy(self):\n",
    "        print(\n",
    "            \"I saved the puppy.\"\n",
    "            if self.__good_evil.lower() == \"good\"\n",
    "            else \"I am an evil robot.\"\n",
    "        )\n",
    "\n",
    "    def rob_bank(self):\n",
    "        print(\n",
    "            \"I robbed $xx.xx.\" if self.__good_evil == \"evil\" else \"I am a good robot.\"\n",
    "        )\n",
    "\n",
    "    def kick_puppy(self):\n",
    "        print(\n",
    "            \"I kicked a puppy.\" if self.__good_evil == \"evil\" else \"I am a good robot.\"\n",
    "        )\n",
    "\n",
    "    def set_serial_number(self, serial_number):\n",
    "        self.__serial_number = serial_number\n",
    "\n",
    "    def get_serial_number(self):\n",
    "        return self.__serial_number\n",
    "\n",
    "    def set_color(self, color):\n",
    "        self.__color = color\n",
    "\n",
    "    def get_color(self):\n",
    "        return self.__color\n",
    "\n",
    "\n",
    "def main():\n",
    "    good = Robot(\"good\")\n",
    "    good.set_serial_number(1)\n",
    "    good.set_color(\"red\")\n",
    "\n",
    "    print(f\"Good serial #: {good.get_serial_number()}\")\n",
    "    print(f\"Good color: {good.get_color()}\")\n",
    "\n",
    "    evil = Robot(\"evil\")\n",
    "    evil.set_serial_number(2)\n",
    "    evil.set_color(\"blue\")\n",
    "\n",
    "    print(f\"Evil serial #: {evil.get_serial_number()}\")\n",
    "    print(f\"Evil color: {evil.get_color()}\")\n",
    "\n",
    "\n",
    "main()"
   ]
  },
  {
   "cell_type": "code",
   "execution_count": 13,
   "metadata": {},
   "outputs": [
    {
     "name": "stdout",
     "output_type": "stream",
     "text": [
      "Name: Susan Meyers\n",
      "ID: 47899\n",
      "Department: Accounting\n",
      "Title: Vice President\n",
      "\n",
      "Name: Mark Jones\n",
      "ID: 39119\n",
      "Department: IT\n",
      "Title: Programmer\n",
      "\n",
      "Name: Joy Rogers\n",
      "ID: 81774\n",
      "Department: Manufacturing\n",
      "Title: Engineer\n"
     ]
    }
   ],
   "source": [
    "# Exercise 13 (Exercise 4)\n",
    "\n",
    "\n",
    "class Employee:\n",
    "    def __init__(self, name, id, department, title):\n",
    "        self.name = name\n",
    "        self.id = id\n",
    "        self.department = department\n",
    "        self.title = title\n",
    "\n",
    "    # helper method to print employee data\n",
    "    def __str__(self):\n",
    "        return (\n",
    "            f\"Name: {self.name}\\n\"\n",
    "            f\"ID: {self.id}\\n\"\n",
    "            f\"Department: {self.department}\\n\"\n",
    "            f\"Title: {self.title}\"\n",
    "        )\n",
    "\n",
    "\n",
    "def main():\n",
    "    employee_1 = Employee(\"Susan Meyers\", 47899, \"Accounting\", \"Vice President\")\n",
    "    employee_2 = Employee(\"Mark Jones\", 39119, \"IT\", \"Programmer\")\n",
    "    employee_3 = Employee(\"Joy Rogers\", 81774, \"Manufacturing\", \"Engineer\")\n",
    "\n",
    "    print(employee_1, employee_2, employee_3, sep=\"\\n\\n\")\n",
    "\n",
    "\n",
    "main()"
   ]
  },
  {
   "cell_type": "code",
   "execution_count": 14,
   "metadata": {},
   "outputs": [
    {
     "name": "stdout",
     "output_type": "stream",
     "text": [
      "Lookup: \"L\", Add: \"A\", Change: \"C\", Delete: \"D\", Quit: \"Q\" L\n",
      "Enter the employee ID number: 47899\n"
     ]
    },
    {
     "name": "stdout",
     "output_type": "stream",
     "text": [
      "Name: Susan Meyers\n",
      "ID: 47899\n",
      "Department: Accounting\n",
      "Title: Vice President\n"
     ]
    },
    {
     "name": "stdout",
     "output_type": "stream",
     "text": [
      "Lookup: \"L\", Add: \"A\", Change: \"C\", Delete: \"D\", Quit: \"Q\" A\n",
      "ID: 11111\n",
      "Name: A\n",
      "Department: A\n",
      "Title: A\n",
      "Lookup: \"L\", Add: \"A\", Change: \"C\", Delete: \"D\", Quit: \"Q\" L\n",
      "Enter the employee ID number: 11111\n"
     ]
    },
    {
     "name": "stdout",
     "output_type": "stream",
     "text": [
      "Name: A\n",
      "ID: 11111\n",
      "Department: A\n",
      "Title: A\n"
     ]
    },
    {
     "name": "stdout",
     "output_type": "stream",
     "text": [
      "Lookup: \"L\", Add: \"A\", Change: \"C\", Delete: \"D\", Quit: \"Q\" C\n",
      "ID: 00000\n"
     ]
    },
    {
     "name": "stdout",
     "output_type": "stream",
     "text": [
      "ERROR: Employee does not exist.\n"
     ]
    },
    {
     "name": "stdout",
     "output_type": "stream",
     "text": [
      "Lookup: \"L\", Add: \"A\", Change: \"C\", Delete: \"D\", Quit: \"Q\" A\n",
      "ID: 11111\n"
     ]
    },
    {
     "name": "stdout",
     "output_type": "stream",
     "text": [
      "ERROR: Employee already exists.\n"
     ]
    },
    {
     "name": "stdout",
     "output_type": "stream",
     "text": [
      "Lookup: \"L\", Add: \"A\", Change: \"C\", Delete: \"D\", Quit: \"Q\" C\n",
      "ID: 11111\n",
      "Name: B\n",
      "Department: B\n",
      "Title: B\n",
      "Lookup: \"L\", Add: \"A\", Change: \"C\", Delete: \"D\", Quit: \"Q\" D\n",
      "ID: 00000\n"
     ]
    },
    {
     "name": "stdout",
     "output_type": "stream",
     "text": [
      "ERROR: Employee does not exist.\n"
     ]
    },
    {
     "name": "stdout",
     "output_type": "stream",
     "text": [
      "Lookup: \"L\", Add: \"A\", Change: \"C\", Delete: \"D\", Quit: \"Q\" D\n",
      "ID: 11111\n",
      "Lookup: \"L\", Add: \"A\", Change: \"C\", Delete: \"D\", Quit: \"Q\" L\n",
      "Enter the employee ID number: 11111\n"
     ]
    },
    {
     "name": "stdout",
     "output_type": "stream",
     "text": [
      "ERROR: Could not lookup employee.\n"
     ]
    },
    {
     "name": "stdout",
     "output_type": "stream",
     "text": [
      "Lookup: \"L\", Add: \"A\", Change: \"C\", Delete: \"D\", Quit: \"Q\" Q\n"
     ]
    },
    {
     "name": "stdout",
     "output_type": "stream",
     "text": [
      "Session quit.\n"
     ]
    }
   ],
   "source": [
    "# Exercise 13 (Exercise 7)\n",
    "\n",
    "import pickle\n",
    "\n",
    "\n",
    "def main():\n",
    "    employee_1 = Employee(\"Susan Meyers\", 47899, \"Accounting\", \"Vice President\")\n",
    "    employee_2 = Employee(\"Mark Jones\", 39119, \"IT\", \"Programmer\")\n",
    "    employee_3 = Employee(\"Joy Rogers\", 81774, \"Manufacturing\", \"Engineer\")\n",
    "\n",
    "    # dictionary of employees\n",
    "    employees = {\n",
    "        employee.id: employee for employee in [employee_1, employee_2, employee_3]\n",
    "    }\n",
    "\n",
    "    # helper function\n",
    "    def retrieve():\n",
    "        return employees[int(input(\"Enter the employee ID number:\"))]\n",
    "\n",
    "    # run while input is not \"Q\"\n",
    "    while decision := input(\n",
    "        'Lookup: \"L\", Add: \"A\", Change: \"C\", Delete: \"D\", Quit: \"Q\"'\n",
    "    ):\n",
    "        # handle lookup\n",
    "        if decision == \"L\":\n",
    "            try:\n",
    "                print(retrieve())\n",
    "            except:\n",
    "                print(\"ERROR: Could not lookup employee.\")\n",
    "        # handle add\n",
    "        elif decision == \"A\":\n",
    "            id = int(input(\"ID:\"))\n",
    "            # check if employee does not exist\n",
    "            if not employees.get(id):\n",
    "                employees[id] = Employee(\n",
    "                    input(\"Name:\"), id, input(\"Department:\"), input(\"Title:\")\n",
    "                )\n",
    "            else:\n",
    "                print(\"ERROR: Employee already exists.\")\n",
    "        # handle change\n",
    "        elif decision == \"C\":\n",
    "            id = int(input(\"ID:\"))\n",
    "            # handle if employee exists\n",
    "            if employees.get(id):\n",
    "                employees[id] = Employee(\n",
    "                    input(\"Name:\"), id, input(\"Department:\"), input(\"Title:\")\n",
    "                )\n",
    "            else:\n",
    "                print(\"ERROR: Employee does not exist.\")\n",
    "        # handle delete\n",
    "        elif decision == \"D\":\n",
    "            # attempt to delete employee\n",
    "            try:\n",
    "                employees.pop(int(input(\"ID:\")))\n",
    "            except:\n",
    "                print(\"ERROR: Employee does not exist.\")\n",
    "        # handle quit\n",
    "        elif decision == \"Q\":\n",
    "            print(\"Session quit.\")\n",
    "            with open(\"serialization.pickle\", \"wb\") as s_f:\n",
    "                pickle.dump(employees, s_f)\n",
    "            print(\"Dictionary dumped.\")\n",
    "            return\n",
    "        # handle invalid input\n",
    "        else:\n",
    "            print(\"ERROR: Invalid input.\")\n",
    "\n",
    "\n",
    "main()"
   ]
  },
  {
   "cell_type": "code",
   "execution_count": 3,
   "metadata": {},
   "outputs": [
    {
     "name": "stdin",
     "output_type": "stream",
     "text": [
      "Enter the customer's name:  Jose Alberto Macias\n",
      "Enter the customer's address:  1234 AnyStreet St\n",
      "Enter the customer's phone number:  323-123-4567\n",
      "Enter car's make:  Tesla\n",
      "Enter the car's model:  Model 3\n",
      "Enter the car's model year:  2022\n",
      "Add another Vehicle? Y for yes, any other key for no:  Y\n",
      "Enter car's make:  Audi\n",
      "Enter the car's model:  Etron\n",
      "Enter the car's model year:  2017\n",
      "Add another Vehicle? Y for yes, any other key for no:  N\n",
      "Input the repair type:  Tire rotation\n",
      "Enter the cost of labor for this repair: $ 10\n",
      "Enter the cost of the parts for this repair: $ 100\n",
      "Enter another quote? Y for yes, any other key for no:  Y\n",
      "Input the repair type:  Fender repair\n",
      "Enter the cost of labor for this repair: $ 20\n",
      "Enter the cost of the parts for this repair: $ 200\n",
      "Enter another quote? Y for yes, any other key for no:  Y\n",
      "Input the repair type:  Cracked windshield replacement\n",
      "Enter the cost of labor for this repair: $ 30\n",
      "Enter the cost of the parts for this repair: $ 300\n",
      "Enter another quote? Y for yes, any other key for no:  Y\n",
      "Input the repair type:  Air conditioning maintenance\n",
      "Enter the cost of labor for this repair: $ 40\n",
      "Enter the cost of the parts for this repair: $ 400\n",
      "Enter another quote? Y for yes, any other key for no:  N\n"
     ]
    },
    {
     "name": "stdout",
     "output_type": "stream",
     "text": [
      "Estimation Quotes\n",
      "Customer name: Jose Alberto Macias | Adress: 1234 AnyStreet St | Phone: 323-123-4567\n",
      "Car number 1: Tesla Model 3, 2022\n",
      "Car number 2: Audi Etron, 2017\n",
      "These are the repairs requested for all vehicles:\n",
      "| Tire rotation\n",
      "| Fender repair\n",
      "| Cracked windshield replacement\n",
      "| Air conditioning maintenance\n",
      "The total cost of labor is $100.00, the total cost of parts is $1000.00, and the cost for labor and parts is $1100.00.\n"
     ]
    }
   ],
   "source": [
    "# Question 15\n",
    "\n",
    "# Boilerplate\n",
    "\n",
    "\n",
    "class Customer:\n",
    "    def __init__(self, name, address, phone):\n",
    "        self.__name = name\n",
    "        self.__address = address\n",
    "        self.__phone = phone\n",
    "\n",
    "    def get_name(self):\n",
    "        return self.__name\n",
    "\n",
    "    def set_name(self, name):\n",
    "        self.__name = name\n",
    "\n",
    "    def get_address(self):\n",
    "        return self.__address\n",
    "\n",
    "    def set_address(self, address):\n",
    "        self.__address = address\n",
    "\n",
    "    def get_phone(self):\n",
    "        return self.__phone\n",
    "\n",
    "    def set_phone(self, phone):\n",
    "        self.__phone = phone\n",
    "\n",
    "\n",
    "class Car:\n",
    "    def __init__(self, make, model, year):\n",
    "        self.__make = make\n",
    "        self.__model = model\n",
    "        self.__year = year\n",
    "\n",
    "    def get_make(self):\n",
    "        return self.__make\n",
    "\n",
    "    def set_make(self, make):\n",
    "        self.__make = make\n",
    "\n",
    "    def get_model(self):\n",
    "        return self.__model\n",
    "\n",
    "    def set_model(self, model):\n",
    "        self.__model = model\n",
    "\n",
    "    def get_year(self):\n",
    "        return self.__year\n",
    "\n",
    "    def set_year(self, year):\n",
    "        self.__year = year\n",
    "\n",
    "\n",
    "class Quote:\n",
    "    def __init__(self, repair_type, p_charge, l_charge):\n",
    "        self.__repair_type = repair_type\n",
    "        self.__p_charge = p_charge\n",
    "        self.__l_charge = l_charge\n",
    "\n",
    "    def get_repair_type(self):\n",
    "        return self.__repair_type\n",
    "\n",
    "    def set_repair_type(self, repair_type):\n",
    "        self.__repair_type = repair_type\n",
    "\n",
    "    def get_p_charge(self):\n",
    "        return self.__p_charge\n",
    "\n",
    "    def set_p_charge(self, p_charge):\n",
    "        self.__p_charge = p_charge\n",
    "\n",
    "    def get_l_charge(self):\n",
    "        return self.__l_charge\n",
    "\n",
    "    def set_l_charge(self, l_charge):\n",
    "        self.__l_charge = l_charge\n",
    "\n",
    "\n",
    "def main():\n",
    "    # customer info\n",
    "    customer_name = input(\"Enter the customer's name: \")\n",
    "    customer_address = input(\"Enter the customer's address: \")\n",
    "    customer_phone = input(\"Enter the customer's phone number: \")\n",
    "\n",
    "    customer = Customer(customer_name, customer_address, customer_phone)\n",
    "\n",
    "    # append car information\n",
    "    cars = []\n",
    "    while True:\n",
    "        car_make = input(\"Enter car's make: \")\n",
    "        car_model = input(\"Enter the car's model: \")\n",
    "        car_year = input(\"Enter the car's model year: \")\n",
    "\n",
    "        cars.append(Car(car_make, car_model, car_year))\n",
    "\n",
    "        if input(\"Add another Vehicle? Y for yes, any other key for no: \") != 'Y':\n",
    "            break\n",
    "\n",
    "    # append quote information\n",
    "    quotes = []\n",
    "    while True:\n",
    "        repair_type = input(\"Input the repair type: \")\n",
    "        l_charge = float(input(\"Enter the cost of labor for this repair: $\"))\n",
    "        p_charge = float(input(\"Enter the cost of the parts for this repair: $\"))\n",
    "\n",
    "        quotes.append(Quote(repair_type, p_charge, l_charge))\n",
    "        \n",
    "        if input(\"Enter another quote? Y for yes, any other key for no: \") != 'Y':\n",
    "            break\n",
    "\n",
    "    # print customer info\n",
    "    print(\"Estimation Quotes\")\n",
    "    print(\n",
    "        f\"Customer name: {customer.get_name()} | Adress: {customer.get_address()} | Phone: {customer.get_phone()}\"\n",
    "    )\n",
    "\n",
    "    # print car(s) info\n",
    "    car_index = 1\n",
    "    for car in cars:\n",
    "        print(\n",
    "            f\"Car number {car_index}: {car.get_make()} {car.get_model()}, {car.get_year()}\"\n",
    "        )\n",
    "        car_index += 1\n",
    "\n",
    "    # track and display quote info\n",
    "    l_total = 0.0\n",
    "    p_total = 0.0\n",
    "    print(\"These are the repairs requested for all vehicles:\")\n",
    "    for quote in quotes:\n",
    "        print(f\"| {quote.get_repair_type()}\")\n",
    "        l_total += quote.get_l_charge()\n",
    "        p_total += quote.get_p_charge()\n",
    "    print(\n",
    "        f\"The total cost of labor is ${format(l_total, '.2f')}, the total cost of parts is ${format(p_total, '.2f')}, and the cost for labor and parts is ${format(l_total + p_total, '.2f')}.\"\n",
    "    )\n",
    "\n",
    "\n",
    "main()"
   ]
  },
  {
   "cell_type": "code",
   "execution_count": null,
   "metadata": {},
   "outputs": [],
   "source": []
  }
 ],
 "metadata": {
  "kernelspec": {
   "display_name": "Python 3 (ipykernel)",
   "language": "python",
   "name": "python3"
  },
  "language_info": {
   "codemirror_mode": {
    "name": "ipython",
    "version": 3
   },
   "file_extension": ".py",
   "mimetype": "text/x-python",
   "name": "python",
   "nbconvert_exporter": "python",
   "pygments_lexer": "ipython3",
   "version": "3.11.0"
  }
 },
 "nbformat": 4,
 "nbformat_minor": 4
}
