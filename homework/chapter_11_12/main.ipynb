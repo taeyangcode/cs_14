{
 "cells": [
  {
   "cell_type": "code",
   "execution_count": 1,
   "metadata": {},
   "outputs": [],
   "source": [
    "# Question 1\n",
    "\n",
    "import turtle as tr\n",
    "\n",
    "\n",
    "class Shape:\n",
    "    def __init__(self, amount):\n",
    "        self.__amount = amount\n",
    "\n",
    "    def draw_circle(self):\n",
    "        tr.circle(self.__amount)"
   ]
  },
  {
   "cell_type": "code",
   "execution_count": 2,
   "metadata": {},
   "outputs": [],
   "source": [
    "# Question 2\n",
    "\n",
    "\n",
    "class BetterShape(Shape):\n",
    "    def __init__(self, amount):\n",
    "        super().__init__(amount)\n",
    "        self.__amount = amount\n",
    "\n",
    "    def draw_square(self):\n",
    "        tr.backward(self.__amount)\n",
    "\n",
    "        for _ in range(4):\n",
    "            tr.forward(self.__amount * 2)\n",
    "            tr.left(90)\n",
    "\n",
    "        tr.done()\n",
    "\n",
    "    def draw_triangle(self):\n",
    "        # equilateral triangle\n",
    "        for _ in range(3):\n",
    "            tr.forward(self.__amount)\n",
    "            tr.left(120)\n",
    "\n",
    "        tr.done()\n",
    "\n",
    "\n",
    "def main():\n",
    "    BetterShape(100).draw_triangle()\n",
    "\n",
    "\n",
    "main()"
   ]
  },
  {
   "cell_type": "code",
   "execution_count": 3,
   "metadata": {},
   "outputs": [],
   "source": [
    "# Question 3\n",
    "\n",
    "\n",
    "class BasicCalculator:\n",
    "    def add_nums(self, n1, n2):\n",
    "        return n1 + n2\n",
    "\n",
    "    def subtract_nums(self, n1, n2):\n",
    "        return n1 - n2\n",
    "\n",
    "    def multiply_nums(self, n1, n2):\n",
    "        return n1 * n2\n",
    "\n",
    "    def divide_nums(self, n1, n2):\n",
    "        # handle denominator being 0\n",
    "        if n2 != 0:\n",
    "            return n1 + n2\n",
    "\n",
    "\n",
    "class ScientificCalculator(BasicCalculator):\n",
    "    def square_nums(self, n1, n2):\n",
    "        return n1**n2\n",
    "\n",
    "    def square_root_nums(self, n1):\n",
    "        if n1 < 0:\n",
    "            # imaginary number if n1 < 0\n",
    "            return f\"{(-n1) ** 0.5}i\"\n",
    "        return n1**0.5"
   ]
  },
  {
   "cell_type": "code",
   "execution_count": 43,
   "metadata": {},
   "outputs": [
    {
     "name": "stdout",
     "output_type": "stream",
     "text": [
      "I am a generic mammal\n",
      "I am a generic mammal\n",
      "I am a tiger!\n",
      "I am a generic mammal\n",
      "I am a cow!\n",
      "Hear me ...\n",
      "I like to eat ...\n",
      "Hear me roar\n",
      "I like to ear zebras\n",
      "Hear me mooo!\n",
      "I like to ear grass\n"
     ]
    }
   ],
   "source": [
    "# Question 4\n",
    "\n",
    "\n",
    "class Mammal:\n",
    "    def __init__(self) -> None:\n",
    "        print(\"I am a generic mammal\")\n",
    "\n",
    "    def sound(self):\n",
    "        print(\"Hear me ...\")\n",
    "\n",
    "    def diet(self):\n",
    "        print(\"I like to eat ...\")\n",
    "\n",
    "\n",
    "class Tiger(Mammal):\n",
    "    def __init__(self) -> None:\n",
    "        super().__init__()\n",
    "        print(\"I am a tiger!\")\n",
    "\n",
    "    # override\n",
    "    def sound(self):\n",
    "        print(\"Hear me roar\")\n",
    "\n",
    "    def diet(self):\n",
    "        print(\"I like to ear zebras\")\n",
    "\n",
    "\n",
    "class Cow(Mammal):\n",
    "    def __init__(self) -> None:\n",
    "        super().__init__()\n",
    "        print(\"I am a cow!\")\n",
    "\n",
    "    # override\n",
    "    def sound(self):\n",
    "        print(\"Hear me mooo!\")\n",
    "\n",
    "    def diet(self):\n",
    "        print(\"I like to ear grass\")\n",
    "\n",
    "\n",
    "def main():\n",
    "    # instantiate and test\n",
    "    for animal in [Mammal(), Tiger(), Cow()]:\n",
    "        animal.sound()\n",
    "        animal.diet()\n",
    "\n",
    "\n",
    "main()"
   ]
  },
  {
   "cell_type": "code",
   "execution_count": 10,
   "metadata": {},
   "outputs": [
    {
     "name": "stdout",
     "output_type": "stream",
     "text": [
      "1 : This is a recursive function\n",
      "2 : This is a recursive function\n",
      "3 : This is a recursive function\n",
      "4 : This is a recursive function\n",
      "5 : This is a recursive function\n"
     ]
    }
   ],
   "source": [
    "# Question 5\n",
    "\n",
    "\n",
    "def main():\n",
    "    message(1)\n",
    "\n",
    "\n",
    "def message(num):\n",
    "    if num < 6:  # When condition fails, we stop\n",
    "        print(num, \": This is a recursive function\")\n",
    "        message(num + 1)\n",
    "\n",
    "\n",
    "main()"
   ]
  },
  {
   "cell_type": "code",
   "execution_count": 12,
   "metadata": {},
   "outputs": [
    {
     "name": "stdout",
     "output_type": "stream",
     "text": [
      "10\n"
     ]
    }
   ],
   "source": [
    "# Question 6\n",
    "\n",
    "# Response:\n",
    "# 10\n",
    "\n",
    "\n",
    "def main():\n",
    "    num = 0\n",
    "    show_me(num)\n",
    "\n",
    "\n",
    "def show_me(arg):\n",
    "    if arg < 10:\n",
    "        show_me(arg + 1)\n",
    "    else:\n",
    "        print(arg)\n",
    "\n",
    "\n",
    "main()"
   ]
  },
  {
   "cell_type": "code",
   "execution_count": 44,
   "metadata": {},
   "outputs": [
    {
     "name": "stdout",
     "output_type": "stream",
     "text": [
      "0\n"
     ]
    }
   ],
   "source": [
    "# Question 7\n",
    "\n",
    "# Response:\n",
    "# 0\n",
    "\n",
    "\n",
    "def main():\n",
    "    num = 0\n",
    "    show_me(num)\n",
    "\n",
    "\n",
    "def show_me(arg):\n",
    "    print(arg)\n",
    "\n",
    "    if arg == 10:\n",
    "        show_me(arg + 1)\n",
    "\n",
    "\n",
    "main()"
   ]
  },
  {
   "cell_type": "code",
   "execution_count": 13,
   "metadata": {},
   "outputs": [
    {
     "name": "stdout",
     "output_type": "stream",
     "text": [
      "55\n"
     ]
    }
   ],
   "source": [
    "# Question 8\n",
    "\n",
    "\n",
    "def add_n(n):\n",
    "    # add a_n + a_(n-1) while a_n > 0\n",
    "    return n + add_n(n - 1) if n > 0 else 0"
   ]
  },
  {
   "cell_type": "code",
   "execution_count": 45,
   "metadata": {},
   "outputs": [
    {
     "name": "stdout",
     "output_type": "stream",
     "text": [
      "No parking\n",
      "No parking\n",
      "No parking\n",
      "No parking\n",
      "No parking\n"
     ]
    }
   ],
   "source": [
    "# Question 9\n",
    "\n",
    "\n",
    "def main():\n",
    "    traffic_sign(5)\n",
    "\n",
    "\n",
    "def traffic_sign(n):\n",
    "    # print \"No parking\" while n > 0 using boolean logic\n",
    "    n > 0 and (print(\"No parking\"), traffic_sign(n - 1))\n",
    "\n",
    "\n",
    "main()"
   ]
  },
  {
   "cell_type": "code",
   "execution_count": 46,
   "metadata": {},
   "outputs": [],
   "source": [
    "# Question 10\n",
    "\n",
    "\n",
    "# accept default argument for input\n",
    "def countdown(n=int(input(\"Enter a whole number:\"))):\n",
    "    # boolean logic to print while: n >= 0\n",
    "    n >= 0 and (print(f\"Countdown: {n}\"), countdown(n - 1))"
   ]
  },
  {
   "cell_type": "code",
   "execution_count": 24,
   "metadata": {},
   "outputs": [
    {
     "name": "stdout",
     "output_type": "stream",
     "text": [
      "15\n"
     ]
    }
   ],
   "source": [
    "# Question 11\n",
    "\n",
    "\n",
    "def sum_list(list):\n",
    "    # add first item to continuing sum while list has more than one element\n",
    "    # and recursively sum starting at index 1\n",
    "    return 0 if len(list) <= 0 else list[0] + sum_list(list[1:])"
   ]
  },
  {
   "cell_type": "code",
   "execution_count": 42,
   "metadata": {},
   "outputs": [
    {
     "data": {
      "text/plain": [
       "15"
      ]
     },
     "execution_count": 42,
     "metadata": {},
     "output_type": "execute_result"
    }
   ],
   "source": [
    "# Question 12\n",
    "\n",
    "\n",
    "def sum_list(list, start_index, end_index):\n",
    "    # sum value at current index and next value unless next value is after end index\n",
    "    return list[start_index - 1] + (\n",
    "        sum_list(list, start_index + 1, end_index) if start_index < end_index else 0\n",
    "    )\n",
    "\n",
    "\n",
    "sum_list([1, 2, 3, 4, 5, 6, 7, 8, 9, 10], 1, 5)"
   ]
  },
  {
   "cell_type": "code",
   "execution_count": 32,
   "metadata": {},
   "outputs": [
    {
     "data": {
      "text/plain": [
       "5"
      ]
     },
     "execution_count": 32,
     "metadata": {},
     "output_type": "execute_result"
    }
   ],
   "source": [
    "# Question 13\n",
    "\n",
    "\n",
    "# if n is the nth term in the fibonacci sequence starting from 0\n",
    "def fibonacci(n):\n",
    "    return n if n <= 1 else fibonacci(n - 1) + fibonacci(n - 2)\n",
    "\n",
    "\n",
    "fibonacci(5)"
   ]
  },
  {
   "cell_type": "code",
   "execution_count": 34,
   "metadata": {},
   "outputs": [],
   "source": [
    "# Question 14 (Question 1)\n",
    "\n",
    "\n",
    "def print_until(n):\n",
    "    # print n but prioritize recursion\n",
    "    n >= 1 and (print_until(n - 1), print(n))"
   ]
  },
  {
   "cell_type": "code",
   "execution_count": 36,
   "metadata": {},
   "outputs": [
    {
     "data": {
      "text/plain": [
       "28"
      ]
     },
     "execution_count": 36,
     "metadata": {},
     "output_type": "execute_result"
    }
   ],
   "source": [
    "# Question 15 (Question 2)\n",
    "\n",
    "\n",
    "def multiply(x, y):\n",
    "    # repeat addition while `y` > 0, else decrement and recurse\n",
    "    return x + multiply(x, y - 1) if y > 0 else 0"
   ]
  },
  {
   "cell_type": "code",
   "execution_count": 47,
   "metadata": {},
   "outputs": [],
   "source": [
    "# Question 16 (Question 3)\n",
    "\n",
    "\n",
    "def print_asterisks(n):\n",
    "    # print n asterisks but prioritize recursion\n",
    "    n >= 1 and (print_asterisks(n - 1), print(\"*\" * n))"
   ]
  }
 ],
 "metadata": {
  "kernelspec": {
   "display_name": "Python 3 (ipykernel)",
   "language": "python",
   "name": "python3"
  },
  "language_info": {
   "codemirror_mode": {
    "name": "ipython",
    "version": 3
   },
   "file_extension": ".py",
   "mimetype": "text/x-python",
   "name": "python",
   "nbconvert_exporter": "python",
   "pygments_lexer": "ipython3",
   "version": "3.11.9"
  }
 },
 "nbformat": 4,
 "nbformat_minor": 4
}
