{
 "cells": [
  {
   "cell_type": "markdown",
   "id": "6b900a7f-c782-4a62-9fe6-a30e141046a6",
   "metadata": {},
   "source": [
    "Exercise1] PersonalAssistant: Have a robotic assistant write a night time routine for you using comments."
   ]
  },
  {
   "cell_type": "code",
   "execution_count": null,
   "id": "bb5b98a4-4a0d-4ac3-892e-76d13f5e27ee",
   "metadata": {},
   "outputs": [],
   "source": [
    "# Dinner\n",
    "print(\"Make sure you finished eating dinner.\")\n",
    "\n",
    "# Homework\n",
    "print(\"Make sure you completed all assignments due today.\")\n",
    "\n",
    "# Sleep\n",
    "print(\"Good night.\")"
   ]
  },
  {
   "cell_type": "markdown",
   "id": "52d749dd-05ae-4b89-8d7c-b1e4432588df",
   "metadata": {},
   "source": [
    "Exercise2] IceCream: Design a shopping cart program that allows the user to choose from 10 different ice cream flavors sold as scoops, and guides the shopper as they pay for their purchase. Present a plan, draw an appropriate flow chart for the main compone, and then implement your design using comments. Assume all ice cream scoops sell for the same price of $1."
   ]
  },
  {
   "cell_type": "code",
   "execution_count": null,
   "id": "2e0add0a-b55e-4832-892c-df39332646fb",
   "metadata": {},
   "outputs": [],
   "source": [
    "# Design:\n",
    "# Begin program\n",
    "# Prompt the user with a welcome message along with the 10 possible ice cream flavors.\n",
    "# Accept input for the types of ice cream they would like, as well as the amount of scoops.\n",
    "# Calculate the final cost based on the user input, and ouptut the final cost.\n",
    "# Prompt user with welcome message\n",
    "# Prompt user with 10 possible ice cream flavors\n",
    "# Accept input for type of ice cream\n",
    "# Accept input for amount of scoops\n",
    "# Calculate total cost\n",
    "# Output total cost\n",
    "# End program"
   ]
  },
  {
   "cell_type": "markdown",
   "id": "01c40abd-985c-4b03-8c51-ee0cc4b8564f",
   "metadata": {},
   "source": [
    "Exercise3] Ask the user to give you their street address number and assign the information to a variable called address_number. Then convert the input to integer. Then ask for the street address name and assign it to a variable called address_name."
   ]
  },
  {
   "cell_type": "code",
   "execution_count": null,
   "id": "0d840e07-3865-47ad-8a00-1692b864ba48",
   "metadata": {},
   "outputs": [],
   "source": [
    "address_number = int(input(\"Please enter your street address number:\"))\n",
    "adress_name = input(\"Please enter your street address name:\")"
   ]
  },
  {
   "cell_type": "markdown",
   "id": "86e3fee9-a57c-44a1-a848-28e901718e64",
   "metadata": {},
   "source": [
    "Exercise4] Write Python code prompting the user to enter their height and assign the height to a variable called height."
   ]
  },
  {
   "cell_type": "code",
   "execution_count": null,
   "id": "402d5b25-adba-4ebd-808a-58087fa2c0ef",
   "metadata": {},
   "outputs": [],
   "source": [
    "height = input(\"Please enter your height:\")"
   ]
  },
  {
   "cell_type": "markdown",
   "id": "79a7c7b2-a8df-404f-aee8-33c2562e0a4e",
   "metadata": {},
   "source": [
    "Exercise5] Assign to the variable var1 the integer value var1 = 10. Now ask Python what data type is var1 by typing type(var1).  Now multiply var1 = 10 * 0.01 and ask Python what type of data var1 is now."
   ]
  },
  {
   "cell_type": "code",
   "execution_count": null,
   "id": "d24a12eb-8fe8-45b1-8b50-7c3caa670b9d",
   "metadata": {},
   "outputs": [],
   "source": [
    "var1 = 10\n",
    "# I expect the type of var1 to be an integer\n",
    "print(type(var1))\n",
    "\n",
    "var1 = 10 * 0.01\n",
    "# As the result is now a floating point number, I expect the type to be a float\n",
    "print(type(var1))"
   ]
  },
  {
   "cell_type": "markdown",
   "id": "30661fe8-b51f-4d5c-a262-fbb903007c36",
   "metadata": {},
   "source": [
    "Exercise6] Write a program that displays the following info:  1] Your name 2] Your (fake) address 3] Your (fake) phone number 4] Your college major"
   ]
  },
  {
   "cell_type": "code",
   "execution_count": null,
   "id": "53cee3a5-a3ac-43a7-9f21-e1d1192add51",
   "metadata": {},
   "outputs": [],
   "source": [
    "# Name\n",
    "print(\"Corey Mostero\")\n",
    "# Address\n",
    "print(\"1902 Orange Street, Applewood CA\")\n",
    "# Phone Number\n",
    "print(\"(310) 123-4567\")\n",
    "# Major\n",
    "print(\"Computer Science/Data Science\")"
   ]
  },
  {
   "cell_type": "markdown",
   "id": "742e659b-b318-4d8e-8434-fc7109b44633",
   "metadata": {},
   "source": [
    "Exercise7] A company has determined that its annual profit is typically 23 percent of total sales. Write a program that asks the user to enter the projected amount of total sales, and displays the profit. Use profit = 0.23 * total sales"
   ]
  },
  {
   "cell_type": "code",
   "execution_count": null,
   "id": "a70eaffb-38bc-41bc-a205-a32dccdd99cf",
   "metadata": {},
   "outputs": [],
   "source": [
    "# Prompt for total sales\n",
    "total_sales = int(input(\"Enter the projected annual amount of total sales:\"))\n",
    "# Calculate profit\n",
    "profit = 0.23 * total_sales\n",
    "# Display proft\n",
    "print(profit)"
   ]
  },
  {
   "cell_type": "markdown",
   "id": "0f350d76-05b4-42c4-b80c-70ac00cac6ab",
   "metadata": {},
   "source": [
    "Exercise8] Ask the user to enter the model year of their car into the variable model_year. Then ask Python to add 1 to car_year as follows: model_year = model_year + 1 What happened and why?"
   ]
  },
  {
   "cell_type": "code",
   "execution_count": null,
   "id": "fe44e438-b728-47aa-9a6b-320f9eb16aa4",
   "metadata": {},
   "outputs": [],
   "source": [
    "model_year = int(input(\"Enter the model year of your car:\"))\n",
    "model_year = model_year + 1"
   ]
  },
  {
   "cell_type": "markdown",
   "id": "f54f8d4f-1665-4389-94a3-05b7885fdf54",
   "metadata": {},
   "source": [
    "Exercise9] I wrote a program to shave 10 years from my age as follows, but something is wrong. What is the problem? \n",
    "true_age = input(\"Hey gorgeous, how old are you? \")\n",
    "print(\"Amazing! You do look\", true_age - 10)"
   ]
  },
  {
   "cell_type": "markdown",
   "id": "3d2f8086-e849-41c1-b838-431ec62a07cb",
   "metadata": {},
   "source": [
    "The type of `true_age` is `string`, and performing mathematical operations on `string`s is not defined behavior (is an error)."
   ]
  },
  {
   "cell_type": "markdown",
   "id": "7cf952b0-0331-4f8f-b20f-40b8b5c00737",
   "metadata": {},
   "source": [
    "Exercise10] Create an algorithm and write its implementation using comments and pseudocode that mimics the process of a person using a remote control to turn on a TV, change the channel, and turn off the TV. Include appropriate variables to hold needed information. Where needed, indicate sections of the algorithm that may need to be repeated, or segments to execute based on decisions."
   ]
  },
  {
   "cell_type": "markdown",
   "id": "0af8dbd4-4151-4353-a1b8-d8c4c9a552b5",
   "metadata": {},
   "source": [
    "```\n",
    "Psuedocode:\n",
    "\n",
    "# Begin program\n",
    "# Initialize remote\n",
    "remote = remote_control()\n",
    "# Change the channel to channel 23\n",
    "remote.change_channel(23)\n",
    "# Turn off TV\n",
    "remote.press_off()\n",
    "```"
   ]
  },
  {
   "cell_type": "markdown",
   "id": "11fa80c7-8913-4b81-bae3-222484643e00",
   "metadata": {},
   "source": [
    "Exercise11] Create an algorithm and write its implementation using comments and pseudocode that will guide an online shopping customer to purchase 3 items. Where needed, indicate sections of the algorithm that may need to be repeated, or segments to execute based on decisions."
   ]
  },
  {
   "cell_type": "markdown",
   "id": "df1bd568-8917-4f43-82bd-6f1062169e22",
   "metadata": {},
   "source": [
    "```\n",
    "Psuedocode:\n",
    "\n",
    "# Initialize online shopping customer\n",
    "customer = online_shopping_customer()\n",
    "# Purchase 3 items\n",
    "For [0, 2]\n",
    "    customer.purchase_item()"
   ]
  },
  {
   "cell_type": "markdown",
   "id": "5fcb6148-ac20-4853-964e-3db38ed4f494",
   "metadata": {},
   "source": [
    "Exercise12] Create an algorithm and write its implementation using comments and pseudocode that will safely navigate a vehicle from the college to your house. Where needed, indicate sections of the algorithm that may need to be repeated, or segments to execute based on decisions. "
   ]
  },
  {
   "cell_type": "markdown",
   "id": "6d93a108-272e-4c75-9633-636a03395916",
   "metadata": {},
   "source": [
    "```\n",
    "Psuedocode:\n",
    "\n",
    "# Initialize vehicle\n",
    "car = vehicle()\n",
    "# Input address into GPS\n",
    "car.set_gps(\"1011 Apple Street, Orange City\")\n",
    "# Drive and follow GPS\n",
    "car.drive(follow_gps = True)\n",
    "```"
   ]
  },
  {
   "cell_type": "markdown",
   "id": "221883de-8044-4f34-8eab-85658bdf345b",
   "metadata": {},
   "source": [
    "Exercise 13] Torch and bridge: Design an algorithm solution for the following problem and write it using Python comments (this is a classic problem; see if you can make figure it out on your own before looking for suggestions online. The point is to have fun while you think of solutions to problems). \n",
    "\n",
    "Four people come to a river in the night. There is a narrow bridge, and it can only hold two people at a time. They have one torch and, because it's night, the torch has to be used when crossing the bridge. Person A can cross the bridge in 1 minute, B in 2 minutes, C in 5 minutes, and D in 8 minutes. When two people cross the bridge together, they must move at the slower person's pace. The question is, can they all get across the bridge if the torch lasts only 15 minutes?"
   ]
  },
  {
   "cell_type": "markdown",
   "id": "ba6a5166-80ea-418d-9895-a3ace1dfd2c9",
   "metadata": {},
   "source": [
    "```\n",
    "Psuedocode:\n",
    "\n",
    "# Initialize persons and torch\n",
    "person_A = person(time = 1)\n",
    "person_B = person(time = 2)\n",
    "person_C = person(time = 5)\n",
    "person_D = person(time = 8)\n",
    "torch = torch()\n",
    "\n",
    "# Give torch to person_A\n",
    "person_A.give(torch)\n",
    "\n",
    "# person_A enters and person_B crosses bridge - total time: 2 minutes\n",
    "person_A.enter_bridge()\n",
    "person_B.cross_bridge()\n",
    "\n",
    "# person_C crosses bridge - total time: 2 + 5 minutes, 7 minutes\n",
    "person_C.cross_bridge()\n",
    "\n",
    "# person_A and person_D crosses bridge - total time: 7 + 8 minutes, 15 minutes\n",
    "person_A.cross_bridge()\n",
    "person_D.cross_bridge()\n",
    "```"
   ]
  },
  {
   "cell_type": "markdown",
   "id": "8806d4ab-bf0d-4385-8f05-244144d0837e",
   "metadata": {},
   "source": [
    "Exercise14] Use the print() function to print your name, once with  \n",
    "\n",
    "single quotes and once with double quotes. \n",
    "\n",
    "Now use the print() function to denote that something (a book?) \n",
    "\n",
    "belongs to you as follows: \n",
    "\n",
    "Jose Alberto's book \n",
    "\n",
    "What happened? When you use the print() function, you have the choice of single or double quotes; choose what you find more appropriate. In the example above, \n",
    "\n",
    "I can use \n",
    "\n",
    "print(\"Jose Alberto's book\")     \n",
    "\n",
    "to get the single quote, but there are other ways to \n",
    "\n",
    "get the job done, as we will see later. OK, here is another way:  \n",
    "\n",
    "print(\"Jose Alberto\\'s book\")     #This uses an escape character,  \\' \n",
    "Now use the len() function to find the number of characters in your name, i.e. \n",
    "\n",
    "len(\"Jose Alberto Macias\") \n",
    "\n",
    "Does the returned value match your expectations? "
   ]
  },
  {
   "cell_type": "code",
   "execution_count": null,
   "id": "ea4dad61-84e6-4603-bcd3-c46f47f101bd",
   "metadata": {},
   "outputs": [],
   "source": [
    "# Print my name\n",
    "print('Corey Mostero')\n",
    "print(\"Corey Mostero\")\n",
    "\n",
    "# Book\n",
    "print(\"Corey's Bible\")\n",
    "\n",
    "# Length of above string\n",
    "assert len(\"Corey's Bible\") == 13"
   ]
  },
  {
   "cell_type": "markdown",
   "id": "a29b43b8-2c3e-41c0-bc8d-28031b8cb0ec",
   "metadata": {},
   "source": [
    "Exercise15] Use the print() function with multiple strings and print your  \n",
    "\n",
    "first, middle, and last names along with your year in school."
   ]
  },
  {
   "cell_type": "code",
   "execution_count": null,
   "id": "c4f14373-bf25-4088-8885-ebdabf068b95",
   "metadata": {},
   "outputs": [],
   "source": [
    "print(\"Corey\", \"Ryan\", \"Mostero\", \"Sophomore\")"
   ]
  },
  {
   "cell_type": "markdown",
   "id": "366bdbd5-6a8e-4a73-b1cb-1c70b5fddf6f",
   "metadata": {},
   "source": [
    "Exercise16] Print the following countdown \n",
    "\n",
    "10…9…8…7…6…5…4…3..2..1…Blast off! \n",
    "\n",
    "but do not just use this statement \n",
    "\n",
    "print('10…9…8…7…6…5…4…3..2..1…Blast off!') "
   ]
  },
  {
   "cell_type": "code",
   "execution_count": null,
   "id": "dde56f5a-f09e-410f-91c8-3aa10cdf7ea8",
   "metadata": {},
   "outputs": [],
   "source": [
    "print(10, 9, 8, 7, 6, 5, 4, 3, 2, 1, \"Blast off!\", sep = \"...\")"
   ]
  },
  {
   "cell_type": "markdown",
   "id": "f81e11ec-a330-4dda-bb8f-f09739f25f6a",
   "metadata": {},
   "source": [
    "Exercise17] Create a variable total = 10 and use it in a print() statement \n",
    "\n",
    "to print the following message. Pay attention to spacing format. \n",
    "\n",
    "Your total is $10. Come again! "
   ]
  },
  {
   "cell_type": "code",
   "execution_count": null,
   "id": "b573eefe-f7e6-4f7b-af50-3d59b013eed1",
   "metadata": {},
   "outputs": [],
   "source": [
    "total = 10\n",
    "print(\"Your total is $\", total, \". Come again!\", sep = \"\")"
   ]
  },
  {
   "cell_type": "markdown",
   "id": "2da9a641-f916-4d0d-853e-8b1dc33ad721",
   "metadata": {},
   "source": [
    "Exercise18] Print the following statements using multiple print()  \n",
    "\n",
    "functions, each print() function containing one single word. \n",
    "\n",
    "The water is just fine! \n",
    "\n",
    "Jump in! "
   ]
  },
  {
   "cell_type": "code",
   "execution_count": null,
   "id": "9eb710d2-2451-405d-96f4-efbdeff0911e",
   "metadata": {},
   "outputs": [],
   "source": [
    "print(\"The\", end = \" \")\n",
    "print(\"water\", end = \" \")\n",
    "print(\"is\", end = \" \")\n",
    "print(\"just\", end = \" \")\n",
    "print(\"fine\", end = \"!\\n\")\n",
    "\n",
    "print(\"Jump\", end = \" \")\n",
    "print(\"in\", end = \"!\")"
   ]
  },
  {
   "cell_type": "markdown",
   "id": "b925350a-e479-44fa-ae9f-e61cc8c4a31d",
   "metadata": {},
   "source": [
    "Exercise19] To prepare you to recognize the versatility of operators  \n",
    "\n",
    "depending on context, try the following: \n",
    "\n",
    "var1 = 10 \n",
    "\n",
    "var2 = 20 \n",
    "\n",
    "var3 = 'ten' \n",
    "\n",
    "var4 = 'twenty' \n",
    "\n",
    "print(var1+var2) \n",
    "\n",
    "print(var3+var4) \n",
    "\n",
    "print(var1*10) \n",
    "\n",
    "print(var3*10) \n",
    "\n",
    "You try it: \n",
    "\n",
    "Write the following calculations in the interactive shell. \n",
    "\n",
    "1] price is 100, sales tax is 5%. How would you calculate the sales tax? \n",
    "\n",
    "2] price is 100, sales tax is 5%. How would you calculate the total amount to pay? "
   ]
  },
  {
   "cell_type": "code",
   "execution_count": null,
   "id": "a5001fd5-9f67-452a-a46f-e6ca733b83db",
   "metadata": {},
   "outputs": [],
   "source": [
    "var1 = 10\n",
    "var2 = 20\n",
    "var3 = \"ten\"\n",
    "var4 = \"twenty\"\n",
    "\n",
    "print(var1 + var2)\n",
    "print(var3 + var4)\n",
    "print(var1 * 10)\n",
    "print(var3 * 10)\n",
    "\n",
    "# Part 1]\n",
    "price = 100\n",
    "sales_tax = 0.05\n",
    "print(price * sales_tax)\n",
    "\n",
    "# Part 2]\n",
    "price = 100\n",
    "sales_tax = 0.05\n",
    "print(price + price * sales_tax)"
   ]
  },
  {
   "cell_type": "markdown",
   "id": "cb58ba27-aa4c-4393-ac31-070cbb517fad",
   "metadata": {},
   "source": [
    "Exercise20] Look at the following definitions \n",
    "\n",
    "P = principal \n",
    "\n",
    "R = interest rate (as a decimal) \n",
    "\n",
    "T = time duration (in years) \n",
    "\n",
    "Simple Interest is (Principal) times (Interest rate) times (Time) \n",
    "\n",
    "Use Python to calculate the simple interest earned in 1 year. Use an initial amount of $10,000 for the principal and use the current prime rate paid by the U.S. government for the rate. (look it up) . Note: do not use P,R, T for variable names. Instead use principal, interest_rate, and so on. "
   ]
  },
  {
   "cell_type": "code",
   "execution_count": null,
   "id": "d4bf2941-26ad-4fdf-9b4e-85061cda0c86",
   "metadata": {},
   "outputs": [],
   "source": [
    "principal = 10_000\n",
    "interest_rate = 0.085\n",
    "time_duration = 1\n",
    "\n",
    "principal * interest_rate * time_duration"
   ]
  },
  {
   "cell_type": "markdown",
   "id": "c84270e0-fa26-4f98-b016-19f7b0de6257",
   "metadata": {},
   "source": [
    "Exercise21] Use the prior problem above and calculate the Amount held after T years, defined as \n",
    "\n",
    "Amount equals Principal times ( 1 plus R times T) "
   ]
  },
  {
   "cell_type": "code",
   "execution_count": null,
   "id": "8e0c2d97-b8d9-42df-89c6-d08609d4bfe0",
   "metadata": {},
   "outputs": [],
   "source": [
    "amount = principal * (1 + interest_rate * time_duration)\n",
    "amount"
   ]
  },
  {
   "cell_type": "markdown",
   "id": "caa3aa20-1051-430d-be99-dc539bbfc89e",
   "metadata": {},
   "source": [
    "Exercise22] HorchataDrinks:Your favorite drink recipe calls for 1 glass of horchata (100 calories) with cinnamon (0 calories) and shots of mezcal (10 calories). Create a formula that will ask the user how many drinks they want, how many mezcal shots per drink, and calculate the number of calories in those drinks. "
   ]
  },
  {
   "cell_type": "code",
   "execution_count": null,
   "id": "bb86529d-9bc5-45e2-a91a-7fb2f8170dab",
   "metadata": {},
   "outputs": [],
   "source": [
    "drink_amount = int(input(\"How many drinks would you like?\"))\n",
    "mezcal_shots = int(input(\"How many mezcal shots would you like per drink?\"))\n",
    "\n",
    "horchata_calories = 100\n",
    "mezcal_shot_calories = 10\n",
    "\n",
    "total_calories = drink_amount * horchata_calories + drink_amount * mezcal_shots * mezcal_shot_calories\n",
    "total_calories"
   ]
  },
  {
   "cell_type": "markdown",
   "id": "54e766a0-985c-4280-bc4a-01762df5c809",
   "metadata": {},
   "source": [
    "Exercise23] Write a program asking the user to supply an integer, then  \n",
    "inform the user the number is odd or even (hint: use the % operator). At this point, feel free to describe the algorithm using comments only. If you already know if-statements, you may write the actual program. "
   ]
  },
  {
   "cell_type": "code",
   "execution_count": null,
   "id": "1736bd11-468c-45b7-b1f6-4e55d43cd6c5",
   "metadata": {},
   "outputs": [],
   "source": [
    "print([\"Your number is even!\", \"Your number is odd!\"][int(input(\"Enter an integer:\")) % 2])\n",
    "\n",
    "# Expanded:\n",
    "# Ask the user for an integer and cast the input to an int\n",
    "# Mod the integer by 2 to receive a result: [0, 1]\n",
    "# Print the value in the array at index result"
   ]
  },
  {
   "cell_type": "markdown",
   "id": "39257e67-8234-4de2-bede-a170de1e5741",
   "metadata": {},
   "source": [
    "Exercise24] PaintCans: You need to purchase cans of paint for your room. Write a program that asks the user for the number of square feet to paint and outputs the number of cans of paint to use (no decimals). To be on the safe side, add 1 can of paint to the calculation (Use the // operator. 1 can = 50 square feet)."
   ]
  },
  {
   "cell_type": "code",
   "execution_count": null,
   "id": "2b48f950-1259-4b8b-ae16-b155523c42fe",
   "metadata": {},
   "outputs": [],
   "source": [
    "print(\"You need to purchase\", int(input(\"How many square feet is your room?\")) // 50 + 1, \"can(s) of paint.\")\n",
    "\n",
    "# Expanded:\n",
    "# Ask the user for the amount of square feet their room is\n",
    "# Perform arithmetic on result and print it amongst the other output"
   ]
  },
  {
   "cell_type": "markdown",
   "id": "6c73ac23-be9d-4f51-9390-a2476b024163",
   "metadata": {},
   "source": [
    "Exercise 25] Guesstimation: We all tend to guesstimate prices when shopping for items. For example, if my total bar tab was \\\\$1243.23, I may say it was \\\\$1243 or \\\\$1244 ( it is a guesstimate, not rounding off). Write a program that asks the user to enter the price for 5 items; each price gets assigned to a different variable. Add the total of the 5 items, calculate the tax on the five items (10% rate), and find the total to pay, but print the total to pay as a guesstimate using integer notation (hint: divide the total by 1 using integer division)."
   ]
  },
  {
   "cell_type": "code",
   "execution_count": null,
   "id": "c58c1a43-d520-41ea-b9ce-6238db269c8e",
   "metadata": {},
   "outputs": [],
   "source": [
    "price_1 = int(input(\"Enter item price:\"))\n",
    "price_2 = int(input(\"Enter item price:\"))\n",
    "price_3 = int(input(\"Enter item price:\"))\n",
    "price_4 = int(input(\"Enter item price:\"))\n",
    "price_5 = int(input(\"Enter item price:\"))\n",
    "\n",
    "total_price = price_1 + price_2 + price_3 + price_4 + price_5\n",
    "\n",
    "rate = 0.1\n",
    "\n",
    "print(\"The guesstimation of the total is about:\", int(total_price + total_price * rate))"
   ]
  },
  {
   "cell_type": "markdown",
   "id": "87e42699-1fb1-4979-a29b-ca2acd51d139",
   "metadata": {},
   "source": [
    "Exercise26] Reformat the output so the result of the following calculation is a dollar amount rounded to the nearest cent. "
   ]
  },
  {
   "cell_type": "code",
   "execution_count": 8,
   "id": "928ef8bb-fe65-40d6-a7ff-a0b639928e77",
   "metadata": {},
   "outputs": [
    {
     "name": "stdout",
     "output_type": "stream",
     "text": [
      "$3.33\n"
     ]
    }
   ],
   "source": [
    "cost_of_ride = 10\n",
    "number_of_passengers = 3\n",
    "cost_per_passenger = cost_of_ride / number_of_passengers\n",
    "print(\"$\", format(cost_per_passenger, \".2f\"), sep = \"\")"
   ]
  },
  {
   "cell_type": "markdown",
   "id": "065d335e-2b1f-4060-8337-1f4f4839048b",
   "metadata": {},
   "source": [
    "Exercise27] Write a program asking the user to enter the age of 3 people you know \n",
    "and map each entered age to a variable. Display the total age of the people \n",
    "using an f-string in a print() function; evaluate the sum within the f-string"
   ]
  },
  {
   "cell_type": "code",
   "execution_count": 2,
   "id": "39fc5b71-dd4c-4de6-be67-5624b50d1c0a",
   "metadata": {},
   "outputs": [
    {
     "name": "stdout",
     "output_type": "stream",
     "text": [
      "Enter the age of a person you know: 5\n",
      "Enter the age of a person you know: 10\n",
      "Enter the age of a person you know: 15\n"
     ]
    },
    {
     "name": "stdout",
     "output_type": "stream",
     "text": [
      "The total age is: 30\n"
     ]
    }
   ],
   "source": [
    "age_1 = int(input(\"Enter the age of a person you know:\"))\n",
    "age_2 = int(input(\"Enter the age of a person you know:\"))\n",
    "age_3 = int(input(\"Enter the age of a person you know:\"))\n",
    "\n",
    "print(f\"The total age is: {age_1 + age_2 + age_3}\")"
   ]
  },
  {
   "cell_type": "markdown",
   "id": "b95bd883-e490-4cc5-a6fc-d2247c3c2f97",
   "metadata": {},
   "source": [
    "Exercise28] Problem 3"
   ]
  },
  {
   "cell_type": "markdown",
   "id": "6d9ab6a2-9d77-47f7-845e-1bff4dd24a55",
   "metadata": {},
   "source": [
    "```py\n",
    "# a.\n",
    "b = a + 2\n",
    "# b.\n",
    "a = b * 4\n",
    "# c.\n",
    "b = a / 3.14\n",
    "# d.\n",
    "a = b - 8\n",
    "```"
   ]
  },
  {
   "cell_type": "markdown",
   "id": "189ef1b5-c044-4afa-94c2-04c14b175e5d",
   "metadata": {},
   "source": [
    "Exercise29] Problem 4"
   ]
  },
  {
   "cell_type": "code",
   "execution_count": 7,
   "id": "14ead852-6f81-4dce-9c06-e2070f167326",
   "metadata": {},
   "outputs": [
    {
     "name": "stdout",
     "output_type": "stream",
     "text": [
      "12\n",
      "4\n",
      "2.0\n",
      "6\n",
      "2\n"
     ]
    }
   ],
   "source": [
    "w = 5\n",
    "x = 4\n",
    "y = 8\n",
    "z = 2\n",
    "\n",
    "# a.\n",
    "result = x + y\n",
    "print(result)\n",
    "\n",
    "# b.\n",
    "result = z * 2\n",
    "print(result)\n",
    "\n",
    "# c.\n",
    "result = y / x\n",
    "print(result)\n",
    "\n",
    "# d.\n",
    "result = y - z\n",
    "print(result)\n",
    "\n",
    "# e.\n",
    "result = w // z\n",
    "print(result)"
   ]
  },
  {
   "cell_type": "markdown",
   "id": "b259e168-1b7b-40c9-898a-e53e7d4f753c",
   "metadata": {},
   "source": [
    "Exercise30] Problem 6"
   ]
  },
  {
   "cell_type": "markdown",
   "id": "7db7aa66-ed63-447d-81df-aa02b78dd4bc",
   "metadata": {},
   "source": [
    "```py\n",
    "due = total - down_payment\n",
    "```"
   ]
  },
  {
   "cell_type": "markdown",
   "id": "2b729519-3997-40da-9d8e-30af82e38b33",
   "metadata": {},
   "source": [
    "Exercise31] Problem 8"
   ]
  },
  {
   "cell_type": "code",
   "execution_count": 8,
   "id": "d7ff81ea-ead9-42ce-8045-21964b6c57b8",
   "metadata": {},
   "outputs": [
    {
     "name": "stdout",
     "output_type": "stream",
     "text": [
      "11\n"
     ]
    }
   ],
   "source": [
    "a = 5\n",
    "b = 2\n",
    "c = 3\n",
    "result = a + b * c\n",
    "print(result)"
   ]
  },
  {
   "cell_type": "markdown",
   "id": "2607c1a4-c76e-4ded-bdef-a1a84cce4017",
   "metadata": {},
   "source": [
    "Exercise32] Problem 10"
   ]
  },
  {
   "cell_type": "markdown",
   "id": "e5e01270-e196-4c6a-bdd1-74f048251680",
   "metadata": {},
   "source": [
    "```py\n",
    "print(format(sales, \".2f\"))\n",
    "```"
   ]
  },
  {
   "cell_type": "markdown",
   "id": "9e1d8160-adec-4617-8968-63ce65140463",
   "metadata": {},
   "source": [
    "Exercise33] Problem 11"
   ]
  },
  {
   "cell_type": "code",
   "execution_count": 12,
   "id": "f9f7ccaa-c807-4e46-b63d-3b1c63655f26",
   "metadata": {},
   "outputs": [
    {
     "name": "stdout",
     "output_type": "stream",
     "text": [
      "1,234,567.5\n"
     ]
    }
   ],
   "source": [
    "number = 1234567.456\n",
    "\n",
    "print(format(number, \",.1f\"))"
   ]
  },
  {
   "cell_type": "markdown",
   "id": "41c0f99f-3304-4ab6-8f61-177318a11ffd",
   "metadata": {},
   "source": [
    "Exercise34] Problem 12"
   ]
  },
  {
   "cell_type": "code",
   "execution_count": 13,
   "id": "108aa0d1-f796-4f2b-8557-82135eeeaace",
   "metadata": {},
   "outputs": [
    {
     "name": "stdout",
     "output_type": "stream",
     "text": [
      "George@John@Paul@Ringo\n"
     ]
    }
   ],
   "source": [
    "print(\"George\", \"John\", \"Paul\", \"Ringo\", sep = \"@\")"
   ]
  },
  {
   "cell_type": "markdown",
   "id": "f06e80e2-1787-420f-bd21-1dbce82dca8e",
   "metadata": {},
   "source": [
    "Exercise35] Problem 2"
   ]
  },
  {
   "cell_type": "code",
   "execution_count": 15,
   "id": "d90989dd-b1da-472d-8709-f969910beed5",
   "metadata": {},
   "outputs": [
    {
     "name": "stdout",
     "output_type": "stream",
     "text": [
      "Enter the projected amount of total sales: 230\n"
     ]
    },
    {
     "name": "stdout",
     "output_type": "stream",
     "text": [
      "The profit that will be made from that amount is: 52.900000000000006\n"
     ]
    }
   ],
   "source": [
    "profit_margin = 0.23\n",
    "print(\"The profit that will be made from that amount is:\", profit_margin * int(input(\"Enter the projected amount of total sales:\")))"
   ]
  },
  {
   "cell_type": "markdown",
   "id": "7e0252de-f131-445a-b21d-7b23181dc029",
   "metadata": {},
   "source": [
    "Exercise36] Problem 3"
   ]
  },
  {
   "cell_type": "code",
   "execution_count": 17,
   "id": "34d7a47b-6ea3-48c3-8dcf-305d3fd5c016",
   "metadata": {},
   "outputs": [
    {
     "name": "stdout",
     "output_type": "stream",
     "text": [
      "Enter the total square feet in a tract of land: 43390\n"
     ]
    },
    {
     "name": "stdout",
     "output_type": "stream",
     "text": [
      "Number of acres in the tract: 0.9960973370064279\n"
     ]
    }
   ],
   "source": [
    "acre_as_square_feet = 43_560\n",
    "print(\"Number of acres in the tract:\", int(input(\"Enter the total square feet in a tract of land:\")) / acre_as_square_feet)"
   ]
  },
  {
   "cell_type": "markdown",
   "id": "0450a331-1eb6-478b-b4b2-62dc1571678c",
   "metadata": {},
   "source": [
    "Exercise37] Problem 4"
   ]
  },
  {
   "cell_type": "code",
   "execution_count": 18,
   "id": "f7b75bd3-0d42-41db-97b5-7b5b4d2516f2",
   "metadata": {},
   "outputs": [
    {
     "name": "stdout",
     "output_type": "stream",
     "text": [
      "Enter the price of the item: 5\n",
      "Enter the price of the item: 5\n",
      "Enter the price of the item: 5\n",
      "Enter the price of the item: 5\n",
      "Enter the price of the item: 5\n"
     ]
    },
    {
     "name": "stdout",
     "output_type": "stream",
     "text": [
      "Subtotal: 25 Sales tax: 1.7500000000000002 Total: 26.75\n"
     ]
    }
   ],
   "source": [
    "item_1 = int(input(\"Enter the price of the item:\"))\n",
    "item_2 = int(input(\"Enter the price of the item:\"))\n",
    "item_3 = int(input(\"Enter the price of the item:\"))\n",
    "item_4 = int(input(\"Enter the price of the item:\"))\n",
    "item_5 = int(input(\"Enter the price of the item:\"))\n",
    "\n",
    "subtotal = item_1 + item_2 + item_3 + item_4 + item_5\n",
    "sales_tax = 0.07\n",
    "\n",
    "print(\"Subtotal:\", subtotal, \"Sales tax:\", subtotal * sales_tax, \"Total:\", subtotal + subtotal * sales_tax)"
   ]
  },
  {
   "cell_type": "markdown",
   "id": "77dcc599-2f1b-4ff6-a217-4f0a66c0b3dd",
   "metadata": {},
   "source": [
    "Exercise38] Problem 5"
   ]
  },
  {
   "cell_type": "code",
   "execution_count": 20,
   "id": "cdc1e662-c6c6-4347-8d3d-91a671119442",
   "metadata": {},
   "outputs": [
    {
     "name": "stdout",
     "output_type": "stream",
     "text": [
      "Distance in 6 hours: 420\n",
      "Distance in 10 hours: 700\n",
      "Distance in 15 hours: 1050\n"
     ]
    }
   ],
   "source": [
    "speed = 70\n",
    "\n",
    "print(\"Distance in 6 hours:\", speed * 6)\n",
    "print(\"Distance in 10 hours:\", speed * 10)\n",
    "print(\"Distance in 15 hours:\", speed * 15)"
   ]
  },
  {
   "cell_type": "markdown",
   "id": "c549d582-7526-4498-aa32-a51b382fbcf4",
   "metadata": {},
   "source": [
    "Exercise39] Problem 7"
   ]
  },
  {
   "cell_type": "code",
   "execution_count": 21,
   "id": "73033606-795f-4c7f-8219-fcb9c5d134fc",
   "metadata": {},
   "outputs": [
    {
     "name": "stdout",
     "output_type": "stream",
     "text": [
      "Enter the number of miles driven: 10\n",
      "Enter the amount of gallons used: 1\n"
     ]
    },
    {
     "name": "stdout",
     "output_type": "stream",
     "text": [
      "MPG: 10.0\n"
     ]
    }
   ],
   "source": [
    "miles_driven = int(input(\"Enter the number of miles driven:\"))\n",
    "gallons_used = int(input(\"Enter the amount of gallons used:\"))\n",
    "\n",
    "print(\"MPG:\", miles_driven / gallons_used)"
   ]
  },
  {
   "cell_type": "markdown",
   "id": "c8f466b1-1454-4aa2-873c-a018b1598867",
   "metadata": {},
   "source": [
    "Exercise40] Problem 8"
   ]
  },
  {
   "cell_type": "code",
   "execution_count": 24,
   "id": "3847e65d-ad77-4467-96f0-93433e77f22f",
   "metadata": {},
   "outputs": [
    {
     "name": "stdout",
     "output_type": "stream",
     "text": [
      "Enter the charge for the food: 50\n"
     ]
    },
    {
     "name": "stdout",
     "output_type": "stream",
     "text": [
      "Charge: 50 \n",
      "Tip: 9.0 \n",
      "Sales tax: 3.5000000000000004 \n",
      "Total: 62.5\n"
     ]
    }
   ],
   "source": [
    "charge = int(input(\"Enter the charge for the food:\"))\n",
    "\n",
    "tip_amount = 0.18\n",
    "sales_tax = 0.07\n",
    "\n",
    "print(\"Charge:\", charge, \"\\nTip:\", charge * tip_amount, \"\\nSales tax:\", charge * sales_tax, \"\\nTotal:\", charge + charge * tip_amount + charge * sales_tax)"
   ]
  },
  {
   "cell_type": "markdown",
   "id": "f32740e8-0bf7-45cd-9a0f-a8c8093775b8",
   "metadata": {},
   "source": [
    "Exercise41] Problem 12"
   ]
  },
  {
   "cell_type": "code",
   "execution_count": 26,
   "id": "01bcf663-d0e4-4fcd-b691-068b03ef5ed6",
   "metadata": {},
   "outputs": [
    {
     "name": "stdout",
     "output_type": "stream",
     "text": [
      "80000\n",
      "2400.0\n",
      "85500.0\n"
     ]
    }
   ],
   "source": [
    "# Stock purchase\n",
    "\n",
    "share_amount = 2_000\n",
    "purchase_share_price = 40\n",
    "commission = 0.03\n",
    "\n",
    "# Amount paid\n",
    "print(share_amount * purchase_share_price)\n",
    "# Amount of commission when Joe *bought* the stock\n",
    "print(share_amount * purchase_share_price * commission)\n",
    "\n",
    "# Stock selling\n",
    "\n",
    "sell_share_price = 42.75\n",
    "\n",
    "# Amount Joe sold stock\n",
    "print(share_amount * sell_share_price)"
   ]
  },
  {
   "cell_type": "markdown",
   "id": "0c3343e9-0b6d-4f78-9055-76576eb1748e",
   "metadata": {},
   "source": [
    "Exercise42] Write a program that asks user for original price. The program \n",
    "\n",
    "   will calculate the tax and the total amount to be paid. Pay attention \n",
    "\n",
    "   to the formatting, ensuring no gap between dollar values and the  \n",
    "\n",
    "   $ sign. Round values to two decimals.  \n",
    "\n",
    "   Use a tax rate of TAX_RATE = 0.33333333333.  \n",
    "\n",
    "   The output should look like this: \n",
    "\n",
    "    \n",
    "\n",
    "--------------- \n",
    "\n",
    "The original price is $100.00 \n",
    "\n",
    "The tax amount is $33.33 \n",
    "\n",
    "The final amount is $133.33"
   ]
  },
  {
   "cell_type": "code",
   "execution_count": 1,
   "id": "c951318a-c0ef-42e9-bac6-6b2ed4b7d270",
   "metadata": {},
   "outputs": [
    {
     "name": "stdin",
     "output_type": "stream",
     "text": [
      "Enter the original price: 100\n"
     ]
    },
    {
     "name": "stdout",
     "output_type": "stream",
     "text": [
      "The original price is $100.00\n",
      "The tax amount is $33.33\n",
      "The final amount is $133.33\n"
     ]
    }
   ],
   "source": [
    "TAX_RATE = 0.33333333333\n",
    "\n",
    "original_price = float(input(\"Enter the original price:\"))\n",
    "tax_amount = original_price * TAX_RATE\n",
    "final_amount = original_price + tax_amount\n",
    "\n",
    "print(f\"The original price is ${format(original_price, '.2f')}\")\n",
    "print(f\"The tax amount is ${format(tax_amount, '.2f')}\")\n",
    "print(f\"The final amount is ${format(final_amount, '.2f')}\")"
   ]
  },
  {
   "cell_type": "markdown",
   "id": "adf24187-305e-4686-807d-22ec482337c9",
   "metadata": {},
   "source": [
    "Exercise43] Use the commands shown above to draw a square."
   ]
  },
  {
   "cell_type": "code",
   "execution_count": 3,
   "id": "54033919-6515-4bc7-94a3-b095d77abb38",
   "metadata": {},
   "outputs": [],
   "source": [
    "import turtle\n",
    "\n",
    "turtle.setheading(90)\n",
    "turtle.forward(50)\n",
    "turtle.left(90)\n",
    "turtle.forward(50)\n",
    "turtle.left(90)\n",
    "turtle.forward(50)\n",
    "turtle.left(90)\n",
    "turtle.forward(50)\n",
    "turtle.left(90)\n",
    "\n",
    "turtle.done()"
   ]
  },
  {
   "cell_type": "markdown",
   "id": "a1e635f2-276f-476d-b755-db6cf27ddee0",
   "metadata": {},
   "source": [
    "Exercise44] Draw an octagon with the turtle "
   ]
  },
  {
   "cell_type": "code",
   "execution_count": 5,
   "id": "00f3b488-1eb3-4721-8090-bbe0695edd13",
   "metadata": {},
   "outputs": [],
   "source": [
    "import turtle\n",
    "\n",
    "turtle.setheading(180)\n",
    "turtle.forward(50)\n",
    "turtle.left(45)\n",
    "turtle.forward(50)\n",
    "turtle.left(45)\n",
    "turtle.forward(50)\n",
    "turtle.left(45)\n",
    "turtle.forward(50)\n",
    "turtle.left(45)\n",
    "turtle.forward(50)\n",
    "turtle.left(45)\n",
    "turtle.forward(50)\n",
    "turtle.left(45)\n",
    "turtle.forward(50)\n",
    "turtle.left(45)\n",
    "turtle.forward(50)\n",
    "turtle.left(45)\n",
    "\n",
    "turtle.done()"
   ]
  },
  {
   "cell_type": "markdown",
   "id": "992bc699-dd88-4c2c-95e7-e0aba9f1692a",
   "metadata": {},
   "source": [
    "Exercise45]Draw the following  \n",
    "\n",
    "two squares: "
   ]
  },
  {
   "cell_type": "code",
   "execution_count": 9,
   "id": "46eac8d2-92a9-4053-a4a7-72dd47abaade",
   "metadata": {},
   "outputs": [],
   "source": [
    "import turtle\n",
    "\n",
    "# Square 1\n",
    "\n",
    "turtle.setheading(90)\n",
    "turtle.forward(50)\n",
    "turtle.left(90)\n",
    "turtle.forward(50)\n",
    "turtle.left(90)\n",
    "turtle.forward(50)\n",
    "turtle.left(90)\n",
    "turtle.forward(50)\n",
    "turtle.left(90)\n",
    "\n",
    "turtle.penup()\n",
    "turtle.goto(60, 0)\n",
    "turtle.pendown()\n",
    "\n",
    "# Square 2\n",
    "\n",
    "turtle.setheading(90)\n",
    "turtle.forward(50)\n",
    "turtle.left(90)\n",
    "turtle.forward(50)\n",
    "turtle.left(90)\n",
    "turtle.forward(50)\n",
    "turtle.left(90)\n",
    "turtle.forward(50)\n",
    "turtle.left(90)\n",
    "\n",
    "turtle.done()"
   ]
  },
  {
   "cell_type": "markdown",
   "id": "353659fe-667d-413e-ad9b-b5df35751266",
   "metadata": {},
   "source": [
    "Exercise46] Can you circumscribe  \n",
    "\n",
    "a circle within a square? "
   ]
  },
  {
   "cell_type": "code",
   "execution_count": 15,
   "id": "67fbadb9-c086-444f-bec7-6be7cb072044",
   "metadata": {},
   "outputs": [],
   "source": [
    "import turtle\n",
    "\n",
    "turtle.goto(0, 0)\n",
    "turtle.setheading(180)\n",
    "\n",
    "# Square\n",
    "\n",
    "turtle.forward(25)\n",
    "turtle.left(90)\n",
    "turtle.forward(50)\n",
    "turtle.left(90)\n",
    "turtle.forward(50)\n",
    "turtle.left(90)\n",
    "turtle.forward(50)\n",
    "turtle.left(90)\n",
    "turtle.forward(25)\n",
    "\n",
    "# Circle\n",
    "\n",
    "turtle.circle(25)\n",
    "\n",
    "turtle.done()"
   ]
  },
  {
   "cell_type": "markdown",
   "id": "47a683fa",
   "metadata": {},
   "source": [
    "Exercise47]Can you draw the following? It uses  \n",
    "\n",
    "the statements shown in prior \n",
    "\n",
    "examples: "
   ]
  },
  {
   "cell_type": "code",
   "execution_count": 17,
   "id": "af9e8c58",
   "metadata": {},
   "outputs": [],
   "source": [
    "import turtle\n",
    "\n",
    "# Circle 1\n",
    "\n",
    "turtle.setpos(0, 0)\n",
    "turtle.color(\"purple\")\n",
    "turtle.begin_fill()\n",
    "turtle.circle(25)\n",
    "turtle.end_fill()\n",
    "\n",
    "turtle.penup()\n",
    "turtle.goto(50, 0)\n",
    "turtle.pendown()\n",
    "\n",
    "# Circle 2\n",
    "\n",
    "turtle.color(\"purple\")\n",
    "turtle.begin_fill()\n",
    "turtle.circle(25)\n",
    "turtle.end_fill()\n",
    "\n",
    "turtle.penup()\n",
    "turtle.goto(0, 0)\n",
    "turtle.pendown()\n",
    "\n",
    "# Center Rectangle\n",
    "\n",
    "turtle.color(\"white\")\n",
    "turtle.begin_fill()\n",
    "turtle.goto(50, 0)\n",
    "turtle.goto(50, 50)\n",
    "turtle.goto(0, 50)\n",
    "turtle.goto(0, 0)\n",
    "turtle.end_fill()\n",
    "\n",
    "turtle.done()"
   ]
  },
  {
   "cell_type": "markdown",
   "id": "2742f285",
   "metadata": {},
   "source": [
    "Exercise48] Copy the following lines into your code; they place the \n",
    "\n",
    "turtle in a random position and make it invisible. Have the turtle announce its position on the x-y coordinate plane. \n",
    "\n",
    " \n",
    "\n",
    "import turtle as trt   #import turtle \n",
    "\n",
    "import random         #used for random values \n",
    "\n",
    " \n",
    "\n",
    "#Hide and move turtle \n",
    "\n",
    "trt.hideturtle() \n",
    "\n",
    "trt.penup() \n",
    "\n",
    "trt.goto(random.randint(-100,100),random.randint(-100,100)) "
   ]
  },
  {
   "cell_type": "code",
   "execution_count": 15,
   "id": "193bf268",
   "metadata": {},
   "outputs": [],
   "source": [
    "import turtle\n",
    "import random \n",
    "\n",
    "#Hide and move turtle \n",
    "turtle.hideturtle() \n",
    "turtle.penup() \n",
    "turtle.goto(random.randint(-100,100),random.randint(-100,100)) \n",
    "\n",
    "turtle.write(f\"My coordinates: ({turtle.xcor()}, {turtle.ycor()})\")\n",
    "\n",
    "turtle.done()"
   ]
  },
  {
   "cell_type": "markdown",
   "id": "6673e18e",
   "metadata": {},
   "source": [
    "Exercise 49] Problem 15"
   ]
  },
  {
   "cell_type": "code",
   "execution_count": 26,
   "id": "24b4de57",
   "metadata": {},
   "outputs": [],
   "source": [
    "# Design #1\n",
    "\n",
    "import turtle\n",
    "\n",
    "# Diamond 1\n",
    "\n",
    "turtle.setheading(135)\n",
    "turtle.forward(50)\n",
    "turtle.setheading(135 + 90)\n",
    "turtle.forward(50)\n",
    "turtle.setheading(135 + 180)\n",
    "turtle.forward(50)\n",
    "turtle.setheading(135 + 270)\n",
    "turtle.forward(50)\n",
    "\n",
    "# Diamond 2\n",
    "\n",
    "turtle.forward(50)\n",
    "turtle.setheading(turtle.heading() - 90)\n",
    "turtle.forward(50)\n",
    "turtle.setheading(turtle.heading() - 90)\n",
    "turtle.forward(50)\n",
    "turtle.setheading(turtle.heading() - 90)\n",
    "turtle.forward(50)\n",
    "turtle.setheading(turtle.heading() - 90)\n",
    "\n",
    "turtle.done()"
   ]
  },
  {
   "cell_type": "code",
   "execution_count": 7,
   "id": "8693e062",
   "metadata": {},
   "outputs": [],
   "source": [
    "# Design 2\n",
    "\n",
    "import turtle\n",
    "\n",
    "# Outside Triangle\n",
    "\n",
    "turtle.color(\"grey\")\n",
    "turtle.begin_fill()\n",
    "\n",
    "turtle.setpos(25, 50)\n",
    "turtle.setpos(50, 0)\n",
    "\n",
    "turtle.end_fill()\n",
    "\n",
    "# Inside Triangle\n",
    "\n",
    "turtle.color(\"green\")\n",
    "turtle.begin_fill()\n",
    "\n",
    "turtle.setpos(0, 0)\n",
    "turtle.setpos(50, 0)\n",
    "turtle.setpos(25, 25)\n",
    "turtle.setpos(0, 0)\n",
    "\n",
    "turtle.end_fill()\n",
    "\n",
    "turtle.done()"
   ]
  },
  {
   "cell_type": "code",
   "execution_count": 19,
   "id": "26a72848",
   "metadata": {},
   "outputs": [],
   "source": [
    "# Design 3\n",
    "\n",
    "turtle.setpos(0, 0)\n",
    "\n",
    "# Square\n",
    "\n",
    "turtle.goto(0, 50)\n",
    "turtle.goto(50, 50)\n",
    "turtle.goto(50, 0)\n",
    "turtle.goto(0, 0)\n",
    "\n",
    "turtle.penup()\n",
    "turtle.goto(0, 50)\n",
    "turtle.pendown()\n",
    "\n",
    "# Square\n",
    "\n",
    "turtle.goto(0, 100)\n",
    "turtle.goto(-50, 100)\n",
    "turtle.goto(-50, 50)\n",
    "turtle.goto(0, 50)\n",
    "\n",
    "# Diagonal line\n",
    "\n",
    "turtle.penup()\n",
    "turtle.goto(-50, 100)\n",
    "turtle.pendown()\n",
    "\n",
    "turtle.goto(50, 0)\n",
    "\n",
    "# Diagonal line\n",
    "\n",
    "turtle.penup()\n",
    "turtle.goto(0, 100)\n",
    "turtle.pendown()\n",
    "\n",
    "turtle.goto(50, 50)\n",
    "\n",
    "# Diagonal line\n",
    "\n",
    "turtle.penup()\n",
    "turtle.goto(-50, 50)\n",
    "turtle.pendown()\n",
    "\n",
    "turtle.goto(0, 0)\n",
    "\n",
    "turtle.done()"
   ]
  },
  {
   "cell_type": "code",
   "execution_count": 37,
   "id": "b7e0fd93",
   "metadata": {},
   "outputs": [],
   "source": [
    "# Design 4\n",
    "\n",
    "import turtle\n",
    "\n",
    "turtle.speed(0)\n",
    "\n",
    "# Circle 1\n",
    "\n",
    "turtle.goto(0, 0)\n",
    "turtle.circle(25)\n",
    "\n",
    "turtle.penup()\n",
    "turtle.goto(turtle.xcor() + 60, 0)\n",
    "turtle.pendown()\n",
    "\n",
    "# Circle 2\n",
    "\n",
    "turtle.circle(25)\n",
    "\n",
    "turtle.penup()\n",
    "turtle.goto(turtle.xcor() + 60, 0)\n",
    "turtle.pendown()\n",
    "\n",
    "# Circle 3\n",
    "\n",
    "turtle.circle(25)\n",
    "\n",
    "turtle.penup()\n",
    "turtle.goto(30, -25)\n",
    "turtle.pendown()\n",
    "\n",
    "# Circle 4\n",
    "\n",
    "turtle.circle(25)\n",
    "\n",
    "turtle.penup()\n",
    "turtle.goto(turtle.xcor() + 60, turtle.ycor())\n",
    "turtle.pendown()\n",
    "\n",
    "# Circle 5\n",
    "\n",
    "turtle.circle(25)\n",
    "\n",
    "turtle.done()"
   ]
  },
  {
   "cell_type": "code",
   "execution_count": 2,
   "id": "27c57f6f",
   "metadata": {},
   "outputs": [],
   "source": [
    "# Design 5\n",
    "\n",
    "import turtle\n",
    "\n",
    "turtle.speed(1)\n",
    "turtle.setpos(0, -25)\n",
    "\n",
    "turtle.circle(25)\n",
    "\n",
    "turtle.setpos(0, 0)\n",
    "turtle.setpos(0, 100)\n",
    "turtle.write(\"North\")\n",
    "\n",
    "turtle.setpos(0, 0)\n",
    "turtle.setpos(0, -100)\n",
    "turtle.write(\"South\")\n",
    "\n",
    "turtle.setpos(0, 0)\n",
    "turtle.setpos(-100, 0)\n",
    "turtle.write(\"West\")\n",
    "\n",
    "turtle.setpos(0, 0)\n",
    "turtle.setpos(100, 0)\n",
    "turtle.write(\"East\")\n",
    "\n",
    "turtle.done()"
   ]
  },
  {
   "cell_type": "code",
   "execution_count": 1,
   "id": "36013f8f",
   "metadata": {},
   "outputs": [],
   "source": [
    "# Design 6\n",
    "\n",
    "import turtle\n",
    "\n",
    "# Center circle\n",
    "\n",
    "turtle.setpos(0, -5)\n",
    "turtle.color(\"black\")\n",
    "turtle.begin_fill()\n",
    "turtle.circle(5)\n",
    "turtle.end_fill()\n",
    "\n",
    "turtle.penup()\n",
    "turtle.goto(-50, 45)\n",
    "turtle.pendown()\n",
    "\n",
    "# NW Circle\n",
    "\n",
    "turtle.color(\"black\")\n",
    "turtle.begin_fill()\n",
    "turtle.circle(5)\n",
    "turtle.end_fill()\n",
    "\n",
    "turtle.penup()\n",
    "turtle.goto(50, 45)\n",
    "turtle.pendown()\n",
    "\n",
    "# NE Circle\n",
    "\n",
    "turtle.color(\"black\")\n",
    "turtle.begin_fill()\n",
    "turtle.circle(5)\n",
    "turtle.end_fill()\n",
    "\n",
    "turtle.penup()\n",
    "turtle.goto(50, -55)\n",
    "turtle.pendown()\n",
    "# SE Circle\n",
    "\n",
    "turtle.color(\"black\")\n",
    "turtle.begin_fill()\n",
    "turtle.circle(5)\n",
    "turtle.end_fill()\n",
    "\n",
    "turtle.penup()\n",
    "turtle.goto(-50, -55)\n",
    "turtle.pendown()\n",
    "\n",
    "# SW Circle\n",
    "\n",
    "turtle.color(\"black\")\n",
    "turtle.begin_fill()\n",
    "turtle.circle(5)\n",
    "turtle.end_fill()\n",
    "\n",
    "# Solid lines\n",
    "\n",
    "turtle.penup()\n",
    "turtle.goto(-50, -50)\n",
    "turtle.pendown()\n",
    "\n",
    "turtle.goto(50, 50)\n",
    "turtle.goto(50, -50)\n",
    "turtle.goto(-50, 50)\n",
    "turtle.goto(-50, -50)\n",
    "\n",
    "# S Dotted Line\n",
    "\n",
    "turtle.goto(-40, turtle.ycor())\n",
    "\n",
    "turtle.penup()\n",
    "turtle.goto(-30, turtle.ycor())\n",
    "turtle.pendown()\n",
    "\n",
    "turtle.goto(-5, turtle.ycor())\n",
    "\n",
    "turtle.penup()\n",
    "turtle.goto(5, turtle.ycor())\n",
    "turtle.pendown()\n",
    "\n",
    "turtle.goto(30, turtle.ycor())\n",
    "\n",
    "turtle.penup()\n",
    "turtle.goto(40, turtle.ycor())\n",
    "turtle.pendown()\n",
    "\n",
    "turtle.goto(50, turtle.ycor())\n",
    "\n",
    "# N Dotted Line\n",
    "\n",
    "turtle.penup()\n",
    "turtle.goto(-50, 50)\n",
    "turtle.pendown()\n",
    "\n",
    "turtle.goto(-40, turtle.ycor())\n",
    "\n",
    "turtle.penup()\n",
    "turtle.goto(-30, turtle.ycor())\n",
    "turtle.pendown()\n",
    "\n",
    "turtle.goto(-5, turtle.ycor())\n",
    "\n",
    "turtle.penup()\n",
    "turtle.goto(5, turtle.ycor())\n",
    "turtle.pendown()\n",
    "\n",
    "turtle.goto(30, turtle.ycor())\n",
    "\n",
    "turtle.penup()\n",
    "turtle.goto(40, turtle.ycor())\n",
    "turtle.pendown()\n",
    "\n",
    "turtle.goto(50, turtle.ycor())\n",
    "\n",
    "turtle.done()"
   ]
  }
 ],
 "metadata": {
  "kernelspec": {
   "display_name": "Python 3 (ipykernel)",
   "language": "python",
   "name": "python3"
  },
  "language_info": {
   "codemirror_mode": {
    "name": "ipython",
    "version": 3
   },
   "file_extension": ".py",
   "mimetype": "text/x-python",
   "name": "python",
   "nbconvert_exporter": "python",
   "pygments_lexer": "ipython3",
   "version": "3.11.8"
  }
 },
 "nbformat": 4,
 "nbformat_minor": 5
}
