{
 "cells": [
  {
   "cell_type": "markdown",
   "metadata": {},
   "source": [
    "### Exercise 1\n"
   ]
  },
  {
   "cell_type": "code",
   "execution_count": 1,
   "metadata": {},
   "outputs": [
    {
     "name": "stdout",
     "output_type": "stream",
     "text": [
      "What is your age? 21\n"
     ]
    },
    {
     "name": "stdout",
     "output_type": "stream",
     "text": [
      "You can buy beer.\n",
      "Have a nice day!\n"
     ]
    }
   ],
   "source": [
    "if int(input(\"What is your age?\")) >= 21:\n",
    "    print(\"You can buy beer.\")\n",
    "print(\"Have a nice day!\")"
   ]
  },
  {
   "cell_type": "markdown",
   "metadata": {},
   "source": [
    "### Exercise 2\n"
   ]
  },
  {
   "cell_type": "code",
   "execution_count": 2,
   "metadata": {},
   "outputs": [
    {
     "name": "stdout",
     "output_type": "stream",
     "text": [
      "It's time to go on the road trip. Does anyone need to use the restroom? Yes\n"
     ]
    },
    {
     "name": "stdout",
     "output_type": "stream",
     "text": [
      "The time is now!\n"
     ]
    }
   ],
   "source": [
    "# Compare input with \"Yes\" string to determine output\n",
    "print(\n",
    "    \"The time is now!\"\n",
    "    if input(\"It's time to go on the road trip. Does anyone need to use the restroom?\")\n",
    "    == \"Yes\"\n",
    "    else \"Get into the car!\"\n",
    ")"
   ]
  },
  {
   "cell_type": "markdown",
   "metadata": {},
   "source": [
    "### Exercise 3\n"
   ]
  },
  {
   "cell_type": "code",
   "execution_count": 5,
   "metadata": {},
   "outputs": [
    {
     "name": "stdout",
     "output_type": "stream",
     "text": [
      "Enter your sales amount for the month: 10001\n"
     ]
    },
    {
     "name": "stdout",
     "output_type": "stream",
     "text": [
      "$3000.2\n"
     ]
    }
   ],
   "source": [
    "COMMISSION_RATE = 0.20\n",
    "BONUS = 1_000\n",
    "\n",
    "sales_amount = float(input(\"Enter your sales amount for the month:\"))\n",
    "# Compute correct pay using condition in f-string\n",
    "print(\n",
    "    f\"${sales_amount * COMMISSION_RATE + BONUS if sales_amount > 10_000 else sales_amount * COMMISSION_RATE}\"\n",
    ")"
   ]
  },
  {
   "cell_type": "markdown",
   "metadata": {},
   "source": [
    "### Exercise 4\n"
   ]
  },
  {
   "cell_type": "code",
   "execution_count": 6,
   "metadata": {},
   "outputs": [
    {
     "name": "stdout",
     "output_type": "stream",
     "text": [
      "What number between 1 and 10 am I thinking of? 5\n"
     ]
    },
    {
     "name": "stdout",
     "output_type": "stream",
     "text": [
      "Thanks for playing!\n"
     ]
    }
   ],
   "source": [
    "MY_NUMBER = 5\n",
    "\n",
    "if int(input(\"What number between 1 and 10 am I thinking of?\")) != MY_NUMBER:\n",
    "    print(\"How could you not know!\")\n",
    "print(\"Thanks for playing!\")"
   ]
  },
  {
   "cell_type": "markdown",
   "metadata": {},
   "source": [
    "### Exercise 5\n"
   ]
  },
  {
   "cell_type": "code",
   "execution_count": 7,
   "metadata": {},
   "outputs": [
    {
     "name": "stdout",
     "output_type": "stream",
     "text": [
      "Enter the score of an exam (from 0 to 100 points): 95\n",
      "Enter the score of an exam (from 0 to 100 points): 95\n",
      "Enter the score of an exam (from 0 to 100 points): 96\n"
     ]
    },
    {
     "name": "stdout",
     "output_type": "stream",
     "text": [
      "Average: 95.33333333333333\n",
      "Congratulations!\n"
     ]
    }
   ],
   "source": [
    "HISTORIC_AVERAGE = 95\n",
    "\n",
    "score_1 = float(input(\"Enter the score of an exam (from 0 to 100 points):\"))\n",
    "score_2 = float(input(\"Enter the score of an exam (from 0 to 100 points):\"))\n",
    "score_3 = float(input(\"Enter the score of an exam (from 0 to 100 points):\"))\n",
    "\n",
    "average = (score_1 + score_2 + score_3) / 3\n",
    "print(f\"Average: {average}\")\n",
    "if average > HISTORIC_AVERAGE:\n",
    "    print(\"Congratulations!\")"
   ]
  },
  {
   "cell_type": "markdown",
   "metadata": {},
   "source": [
    "### Exercise 6\n"
   ]
  },
  {
   "cell_type": "code",
   "execution_count": 8,
   "metadata": {},
   "outputs": [
    {
     "name": "stdout",
     "output_type": "stream",
     "text": [
      "What is the weather? 70\n"
     ]
    },
    {
     "name": "stdout",
     "output_type": "stream",
     "text": [
      "Drink cold lemonade\n"
     ]
    }
   ],
   "source": [
    "print(\n",
    "    \"Drink hot chocolate\"\n",
    "    if float(input(\"What is the weather?\")) < 70\n",
    "    else \"Drink cold lemonade\"\n",
    ")"
   ]
  },
  {
   "cell_type": "markdown",
   "metadata": {},
   "source": [
    "### Exercise 8\n"
   ]
  },
  {
   "cell_type": "code",
   "execution_count": 9,
   "metadata": {},
   "outputs": [
    {
     "name": "stdout",
     "output_type": "stream",
     "text": [
      "Enter the length of the first rectangle: 10\n",
      "Enter the width of the first rectangle: 10\n",
      "Enter the length of the second rectangle: 20\n",
      "Enter the width of the second rectangle: 20\n"
     ]
    },
    {
     "name": "stdout",
     "output_type": "stream",
     "text": [
      "The dimensions and area of the larger rectangle are: Dimensions: (20.0, 20.0), Area: 400.0\n"
     ]
    }
   ],
   "source": [
    "length_1 = float(input(\"Enter the length of the first rectangle:\"))\n",
    "width_1 = float(input(\"Enter the width of the first rectangle:\"))\n",
    "length_2 = float(input(\"Enter the length of the second rectangle:\"))\n",
    "width_2 = float(input(\"Enter the width of the second rectangle:\"))\n",
    "\n",
    "area_1 = length_1 * width_1\n",
    "area_2 = length_2 * width_2\n",
    "\n",
    "# Use f-strings to initially find the greater area rectanglage, and then print its details\n",
    "print(\n",
    "    f\"The dimensions and area of the larger rectangle are: {f'Dimensions: ({length_1}, {width_1}), Area: {area_1}' if (area_1 > area_2) else f'Dimensions: ({length_2}, {width_2}), Area: {area_2}'}\"\n",
    ")"
   ]
  },
  {
   "cell_type": "markdown",
   "metadata": {},
   "source": [
    "### Exercise 9\n"
   ]
  },
  {
   "cell_type": "code",
   "execution_count": 10,
   "metadata": {},
   "outputs": [
    {
     "name": "stdout",
     "output_type": "stream",
     "text": [
      "Respond with \"Left\" or \"Right\": Left\n"
     ]
    },
    {
     "name": "stdout",
     "output_type": "stream",
     "text": [
      "You lost!\n"
     ]
    }
   ],
   "source": [
    "import random\n",
    "\n",
    "# Generate \"Left\" or \"Right\" randomly (if randint == 1 -> \"Left\" else \"Right\") and compare it with user input\n",
    "print(\n",
    "    \"You win!\"\n",
    "    if (\"Left\" if random.randint(0, 1) else \"Right\")\n",
    "    == input('Respond with \"Left\" or \"Right\":')\n",
    "    else \"You lost!\"\n",
    ")"
   ]
  },
  {
   "cell_type": "markdown",
   "metadata": {},
   "source": [
    "### Exercise 10\n"
   ]
  },
  {
   "cell_type": "code",
   "execution_count": 11,
   "metadata": {},
   "outputs": [
    {
     "name": "stdout",
     "output_type": "stream",
     "text": [
      "Enter the amount of hours you worked: 41\n",
      "Enter your hourly pay rate: 1\n"
     ]
    },
    {
     "name": "stdout",
     "output_type": "stream",
     "text": [
      "42.5\n"
     ]
    }
   ],
   "source": [
    "OT_MULTIPLIER = 1.5\n",
    "\n",
    "hours_worked = float(input(\"Enter the amount of hours you worked:\"))\n",
    "hourly_pay_rate = float(input(\"Enter your hourly pay rate:\"))\n",
    "\n",
    "# Handle pay depending on if they worked overtime or not\n",
    "if hours_worked > 40:\n",
    "    print(\n",
    "        hours_worked * hourly_pay_rate\n",
    "        + (hours_worked - 40) * hourly_pay_rate * OT_MULTIPLIER\n",
    "    )\n",
    "else:\n",
    "    print(hours_worked * hourly_pay_rate)"
   ]
  },
  {
   "cell_type": "markdown",
   "metadata": {},
   "source": [
    "### Exercise 11\n"
   ]
  },
  {
   "cell_type": "code",
   "execution_count": 16,
   "metadata": {},
   "outputs": [
    {
     "name": "stdout",
     "output_type": "stream",
     "text": [
      "Enter your speed (in mph): 66\n"
     ]
    },
    {
     "name": "stdout",
     "output_type": "stream",
     "text": [
      "Your fine is $220.0\n",
      "A citation will be sent to your home address.\n"
     ]
    }
   ],
   "source": [
    "speed = float(input(\"Enter your speed (in mph):\"))\n",
    "\n",
    "# Compute fine within f-string\n",
    "print(f\"Your fine is ${0 if speed <= 65 else 200 + (speed - 65) * 20}\")\n",
    "print(\"A citation will be sent to your home address.\")"
   ]
  },
  {
   "cell_type": "markdown",
   "metadata": {},
   "source": [
    "### Exercise 12\n"
   ]
  },
  {
   "cell_type": "code",
   "execution_count": 17,
   "metadata": {},
   "outputs": [
    {
     "name": "stdout",
     "output_type": "stream",
     "text": [
      "Would you like a car wash (80$)? (Y/N) Y\n",
      "Would you like to upgrade to a deluxe wash (20$)? (Y/N) Y\n",
      "Would you like to include an additional wax (50$)? (Y/N) Y\n",
      "Would you like add a graphite coat (100$)? (Y/N) N\n"
     ]
    },
    {
     "name": "stdout",
     "output_type": "stream",
     "text": [
      "Your final cost is: 150.0\n"
     ]
    }
   ],
   "source": [
    "CAR_WASH = \"Would you like a car wash (80$)? (Y/N)\"\n",
    "DELUXE_WASH = \"Would you like to upgrade to a deluxe wash (20$)? (Y/N)\"\n",
    "WAX = \"Would you like to include an additional wax (50$)? (Y/N)\"\n",
    "GRAPHITE_COAT = \"Would you like add a graphite coat (100$)? (Y/N)\"\n",
    "\n",
    "# Handle each case with short circuiting (Input is handled with strings: \"Y\" or \"N\")\n",
    "print(\n",
    "    f'Your final cost is: {0.0 if input(CAR_WASH) == \"N\" else 80.0 if input(DELUXE_WASH) == \"N\" else 100.0 if input(WAX) == \"N\" else 150.0 if input(GRAPHITE_COAT) == \"N\" else 250.0}'\n",
    ")"
   ]
  },
  {
   "cell_type": "markdown",
   "metadata": {},
   "source": [
    "### Exercise 13\n"
   ]
  },
  {
   "cell_type": "code",
   "execution_count": 18,
   "metadata": {},
   "outputs": [
    {
     "name": "stdout",
     "output_type": "stream",
     "text": [
      "Jeon is my best friend!\n"
     ]
    }
   ],
   "source": [
    "friend_1 = \"Jeon\"\n",
    "friend_2 = \"Noej\"\n",
    "\n",
    "# The friend whose name is \"less\" is my best friend\n",
    "print(f\"{friend_1 if friend_1 < friend_2 else friend_2} is my best friend!\")"
   ]
  },
  {
   "cell_type": "markdown",
   "metadata": {},
   "source": [
    "### Exercise 14\n"
   ]
  },
  {
   "cell_type": "code",
   "execution_count": 19,
   "metadata": {},
   "outputs": [
    {
     "name": "stdout",
     "output_type": "stream",
     "text": [
      "Enter the password: PASSWORD\n"
     ]
    },
    {
     "name": "stdout",
     "output_type": "stream",
     "text": [
      "Welcome to the fake vault! Police have been contacted.\n"
     ]
    }
   ],
   "source": [
    "PASSWORD = \"PASSWORD\"\n",
    "\n",
    "input_password = input(\"Enter the password:\")\n",
    "\n",
    "# Case 1: Handle real password (with space)\n",
    "# Case 2: Handle orally given password\n",
    "# Case 3: Handle incorrect input\n",
    "if input_password == f\"{PASSWORD} \":\n",
    "    print(\"You have been granted access to the main vault.\")\n",
    "elif input_password == PASSWORD:\n",
    "    print(\"Welcome to the fake vault! Police have been contacted.\")\n",
    "else:\n",
    "    print(\"The password you entered is incorrect.\")"
   ]
  },
  {
   "cell_type": "markdown",
   "metadata": {},
   "source": [
    "### Exercise 15\n"
   ]
  },
  {
   "cell_type": "code",
   "execution_count": 20,
   "metadata": {},
   "outputs": [
    {
     "name": "stdout",
     "output_type": "stream",
     "text": [
      "Enter your salary: 30000\n",
      "Enter your years on the job: 2\n"
     ]
    },
    {
     "name": "stdout",
     "output_type": "stream",
     "text": [
      "You qualify for the loan.\n"
     ]
    }
   ],
   "source": [
    "INSUFFICIENT_SALARY = \"You must earn at least $30,000 per year to qualify.\"\n",
    "INSUFFICIENT_EXPERIENCE = (\n",
    "    \"You must have been on your current job for at least two years to qualify.\"\n",
    ")\n",
    "LOAN_QUALIFY = \"You qualify for the loan.\"\n",
    "\n",
    "# Handle each case with short circuiting\n",
    "print(\n",
    "    INSUFFICIENT_SALARY\n",
    "    if float(input(\"Enter your salary:\")) < 30_000\n",
    "    else (\n",
    "        INSUFFICIENT_EXPERIENCE\n",
    "        if float(input(\"Enter your years on the job:\")) < 2\n",
    "        else LOAN_QUALIFY\n",
    "    )\n",
    ")"
   ]
  },
  {
   "cell_type": "markdown",
   "metadata": {},
   "source": [
    "### Exercise 16\n"
   ]
  },
  {
   "cell_type": "code",
   "execution_count": 21,
   "metadata": {},
   "outputs": [
    {
     "name": "stdout",
     "output_type": "stream",
     "text": [
      "Enter your test score: 59\n"
     ]
    },
    {
     "name": "stdout",
     "output_type": "stream",
     "text": [
      "Your grade is F.\n"
     ]
    }
   ],
   "source": [
    "A_SCORE = 90\n",
    "B_SCORE = 80\n",
    "C_SCORE = 70\n",
    "D_SCORE = 60\n",
    "\n",
    "test_score = int(float(input(\"Enter your test score:\")))\n",
    "\n",
    "# Explanation:\n",
    "# Handle edge-cases: score == 100 -> \"A\", score < D_SCORE -> \"F\"\n",
    "# Otherwise use function: f(score) = ascii('A' + 9) - [score // 10]\n",
    "\n",
    "# Function explanation: The range of: score // 10 is [6, 9].\n",
    "# Therefore we can subtract the result from the ascii value of 'A' + 9\n",
    "# (which turns out to be 'J') to get a result in the function's range\n",
    "# of [65, 68] which we finally convert to its ascii equivalent.\n",
    "print(\n",
    "    f'Your grade is {\"A\" if test_score >= 100 else \"F\" if test_score < D_SCORE else chr(74 - test_score // 10)}.'\n",
    ")"
   ]
  },
  {
   "cell_type": "markdown",
   "metadata": {},
   "source": [
    "### Exercise 17\n"
   ]
  },
  {
   "cell_type": "code",
   "execution_count": 22,
   "metadata": {},
   "outputs": [
    {
     "name": "stdout",
     "output_type": "stream",
     "text": [
      "stop\n"
     ]
    }
   ],
   "source": [
    "import random\n",
    "\n",
    "light_color = \"red\"\n",
    "\n",
    "# Handle each case and print unique message for unique light color\n",
    "print(\n",
    "    \"go\"\n",
    "    if light_color == \"green\"\n",
    "    else (\n",
    "        \"slow down\"\n",
    "        if light_color == \"yellow\"\n",
    "        else (\n",
    "            \"stop\"\n",
    "            if light_color == \"red\"\n",
    "            else print(\"this is a unique case; proceed with caution\")\n",
    "        )\n",
    "    )\n",
    ")"
   ]
  },
  {
   "cell_type": "markdown",
   "metadata": {},
   "source": [
    "### Exercise 18\n"
   ]
  },
  {
   "cell_type": "code",
   "execution_count": 23,
   "metadata": {},
   "outputs": [
    {
     "name": "stdout",
     "output_type": "stream",
     "text": [
      "Enter how many pounds of beans you would like: 100\n",
      "Would you like to be a wholesaler? (Y/N) Y\n"
     ]
    },
    {
     "name": "stdout",
     "output_type": "stream",
     "text": [
      "Your discount is: 41%!\n"
     ]
    }
   ],
   "source": [
    "WHOLESALER_QUESTION = \"Would you like to be a wholesaler? (Y/N)\"\n",
    "\n",
    "pounds_of_beans = float(input(\"Enter how many pounds of beans you would like:\"))\n",
    "\n",
    "# Handle each case separately with short circuiting\n",
    "print(\n",
    "    f'Your discount is: {10 if pounds_of_beans < 10 else 20 if pounds_of_beans < 30 else 30 if pounds_of_beans < 100 else 40 if input(WHOLESALER_QUESTION) == \"N\" else 41}%!'\n",
    ")"
   ]
  },
  {
   "cell_type": "markdown",
   "metadata": {},
   "source": [
    "### Exercise 20\n"
   ]
  },
  {
   "cell_type": "code",
   "execution_count": 24,
   "metadata": {},
   "outputs": [
    {
     "name": "stdout",
     "output_type": "stream",
     "text": [
      "Enter the amount of people attending the cookout: 10\n",
      "Enter the amount of hot dogs each person will be given: 2\n"
     ]
    },
    {
     "name": "stdout",
     "output_type": "stream",
     "text": [
      "Minimum number of hot dog packages: 2\n",
      "Minimum number of hot dog buns packages: 3\n",
      "Left over hot dogs: 0\n",
      "Left over hot dog buns: 4\n"
     ]
    }
   ],
   "source": [
    "HOT_DOG_PER_PACKAGE = 10\n",
    "BUNS_PER_PACKAGE = 8\n",
    "\n",
    "attendees = int(input(\"Enter the amount of people attending the cookout:\"))\n",
    "hot_dogs_per_person = int(\n",
    "    input(\"Enter the amount of hot dogs each person will be given:\")\n",
    ")\n",
    "\n",
    "total_hot_dogs = attendees * hot_dogs_per_person\n",
    "# As integer division rounds towards negative infinity, this is\n",
    "# an easy way to calculate the minimum\n",
    "minimum_hot_dog_packages = -(-total_hot_dogs // HOT_DOG_PER_PACKAGE)\n",
    "minimum_bun_packages = -(-total_hot_dogs // BUNS_PER_PACKAGE)\n",
    "\n",
    "print(\n",
    "    f\"Minimum number of hot dog packages: {minimum_hot_dog_packages}\",\n",
    "    f\"Minimum number of hot dog buns packages: {minimum_bun_packages}\",\n",
    "    f\"Left over hot dogs: {minimum_hot_dog_packages * HOT_DOG_PER_PACKAGE - total_hot_dogs}\",\n",
    "    f\"Left over hot dog buns: {minimum_bun_packages * BUNS_PER_PACKAGE - total_hot_dogs}\",\n",
    "    sep=\"\\n\",\n",
    ")"
   ]
  },
  {
   "cell_type": "markdown",
   "metadata": {},
   "source": [
    "### Exercise 21\n"
   ]
  },
  {
   "cell_type": "code",
   "execution_count": 27,
   "metadata": {},
   "outputs": [
    {
     "name": "stdout",
     "output_type": "stream",
     "text": [
      "Welcome to the dollar game! Enter the amount of different coins to try and make a dollar.\n"
     ]
    },
    {
     "name": "stdout",
     "output_type": "stream",
     "text": [
      "Enter the number of pennies: 50\n",
      "Enter the number of nickels: 3\n",
      "Enter the number of dimes: 1\n",
      "Enter the number of quarters: 1\n"
     ]
    },
    {
     "name": "stdout",
     "output_type": "stream",
     "text": [
      "You win!\n"
     ]
    }
   ],
   "source": [
    "print(\n",
    "    \"Welcome to the dollar game! Enter the amount of different coins to try and make a dollar.\"\n",
    ")\n",
    "\n",
    "pennies = int(input(\"Enter the number of pennies:\"))\n",
    "nickels = int(input(\"Enter the number of nickels:\"))\n",
    "dimes = int(input(\"Enter the number of dimes:\"))\n",
    "quarters = int(input(\"Enter the number of quarters:\"))\n",
    "\n",
    "total = pennies * 1 + nickels * 5 + dimes * 10 + quarters * 25\n",
    "\n",
    "# If the total is equal to 100 they win, else compare if total is more or less than 100 and print appropriately\n",
    "print(\n",
    "    \"You win!\"\n",
    "    if total == 100\n",
    "    else f\"Your amount was {'less' if total < 100 else 'more'} than one dollar.\"\n",
    ")"
   ]
  },
  {
   "cell_type": "markdown",
   "metadata": {},
   "source": [
    "### Exercise 22\n"
   ]
  },
  {
   "cell_type": "code",
   "execution_count": 28,
   "metadata": {},
   "outputs": [
    {
     "name": "stdout",
     "output_type": "stream",
     "text": [
      "Enter the number of books your purchased this month: 8\n"
     ]
    },
    {
     "name": "stdout",
     "output_type": "stream",
     "text": [
      "The number of points you were awarded this month is: 60!\n"
     ]
    }
   ],
   "source": [
    "books_purchased = int(input(\"Enter the number of books your purchased this month:\"))\n",
    "# Calculate points based on conditions\n",
    "points = (\n",
    "    0\n",
    "    if books_purchased < 2\n",
    "    else (\n",
    "        5\n",
    "        if books_purchased < 4\n",
    "        else 15 if books_purchased < 6 else 30 if books_purchased < 8 else 60\n",
    "    )\n",
    ")\n",
    "\n",
    "print(f\"The number of points you were awarded this month is: {points}!\")"
   ]
  },
  {
   "cell_type": "markdown",
   "metadata": {},
   "source": [
    "### Exercise 23\n"
   ]
  },
  {
   "cell_type": "code",
   "execution_count": 30,
   "metadata": {},
   "outputs": [
    {
     "name": "stdout",
     "output_type": "stream",
     "text": [
      "190 is is not odd and less than 100.\n"
     ]
    }
   ],
   "source": [
    "import random\n",
    "\n",
    "random_number = random.randint(1, 200)\n",
    "\n",
    "# Compare condition and print appropriately\n",
    "print(\n",
    "    f'{random_number} is {\"odd and less than 100\" if random_number % 2 == 1 and random_number < 100 else \"is not odd and less than 100\"}.'\n",
    ")"
   ]
  },
  {
   "cell_type": "markdown",
   "metadata": {},
   "source": [
    "### Exercise 24\n"
   ]
  },
  {
   "cell_type": "code",
   "execution_count": 31,
   "metadata": {},
   "outputs": [
    {
     "name": "stdout",
     "output_type": "stream",
     "text": [
      "The random number 19 is odd or less than 100\"\n"
     ]
    }
   ],
   "source": [
    "import random\n",
    "\n",
    "random_number = random.randint(1, 200)\n",
    "\n",
    "# Compare condition and print appropriately\n",
    "print(\n",
    "    f'The random number {random_number} {\"is\" if random_number % 2 == 1 or random_number < 100 else \"is not\"} odd or less than 100\"'\n",
    ")"
   ]
  },
  {
   "cell_type": "markdown",
   "metadata": {},
   "source": [
    "### Exercise 25\n"
   ]
  },
  {
   "cell_type": "code",
   "execution_count": 32,
   "metadata": {},
   "outputs": [
    {
     "name": "stdout",
     "output_type": "stream",
     "text": [
      "Enter your age: 66\n"
     ]
    },
    {
     "name": "stdout",
     "output_type": "stream",
     "text": [
      "You need to pay: $1.80\n"
     ]
    }
   ],
   "source": [
    "age = float(input(\"Enter your age:\"))\n",
    "# Check if user age passes condition for discount\n",
    "discount_age = age < 18 or age > 65\n",
    "\n",
    "print(f\"You need to pay: ${'1.80' if discount_age else '2.00'}\")"
   ]
  },
  {
   "cell_type": "markdown",
   "metadata": {},
   "source": [
    "### Exercise 26\n"
   ]
  },
  {
   "cell_type": "code",
   "execution_count": 33,
   "metadata": {},
   "outputs": [
    {
     "name": "stdout",
     "output_type": "stream",
     "text": [
      "Are you over 55? (Y/N) N\n",
      "Are you a PremiumPlus member? (Y/N) Y\n",
      "Do you wear glasses? (Y/N) Y\n"
     ]
    },
    {
     "name": "stdout",
     "output_type": "stream",
     "text": [
      "You need to pay: $18.00\n"
     ]
    }
   ],
   "source": [
    "# Check if user passes condition for discount\n",
    "discount = input(\"Are you over 55? (Y/N)\") == \"Y\" or (\n",
    "    input(\"Are you a PremiumPlus member? (Y/N)\") == \"Y\"\n",
    "    and input(\"Do you wear glasses? (Y/N)\") == \"Y\"\n",
    ")\n",
    "\n",
    "print(f'You need to pay: ${\"18.00\" if discount else \"20.00\"}')"
   ]
  },
  {
   "cell_type": "markdown",
   "metadata": {},
   "source": [
    "### Exercise 27\n"
   ]
  },
  {
   "cell_type": "code",
   "execution_count": 35,
   "metadata": {},
   "outputs": [
    {
     "name": "stdout",
     "output_type": "stream",
     "text": [
      "Does your cell phone plan come with a data gigabyte limit? (Y/N) Y\n"
     ]
    },
    {
     "name": "stdout",
     "output_type": "stream",
     "text": [
      "You should buy my plan!\n"
     ]
    }
   ],
   "source": [
    "# Check if the input is positive\n",
    "sales_pitch = (\n",
    "    input(\"Does your cell phone plan come with a data gigabyte limit? (Y/N)\") == \"Y\"\n",
    ")\n",
    "\n",
    "print(\"You should buy my plan!\" if sales_pitch else \"Have a happy day!\")"
   ]
  },
  {
   "cell_type": "markdown",
   "metadata": {},
   "source": [
    "### Exercise 28\n"
   ]
  },
  {
   "cell_type": "code",
   "execution_count": 37,
   "metadata": {},
   "outputs": [
    {
     "name": "stdout",
     "output_type": "stream",
     "text": [
      "Who is at the door? Alfred\n"
     ]
    },
    {
     "name": "stdout",
     "output_type": "stream",
     "text": [
      "Do open the door!\n"
     ]
    }
   ],
   "source": [
    "print(\n",
    "    f'{\"Do not\" if input(\"Who is at the door?\") == \"Chucky\" else \"Do\"} open the door!'\n",
    ")"
   ]
  },
  {
   "cell_type": "markdown",
   "metadata": {},
   "source": [
    "### Exercise 29\n"
   ]
  },
  {
   "cell_type": "code",
   "execution_count": 38,
   "metadata": {},
   "outputs": [
    {
     "name": "stdout",
     "output_type": "stream",
     "text": [
      "The sum of the variables is 150\n",
      "The average of the variables is 30.0\n"
     ]
    }
   ],
   "source": [
    "var_1 = 10\n",
    "var_2 = 20\n",
    "var_3 = 30\n",
    "var_4 = 40\n",
    "var_5 = 50\n",
    "\n",
    "print(\n",
    "    f\"The sum of the variables is {(sum := var_1 + var_2 + var_3 + var_4 + var_5)}\",\n",
    "    f\"The average of the variables is {(average := sum / 5)}\",\n",
    "    sep=\"\\n\",\n",
    ")"
   ]
  },
  {
   "cell_type": "markdown",
   "metadata": {},
   "source": [
    "### Exercise 30\n"
   ]
  },
  {
   "cell_type": "code",
   "execution_count": 39,
   "metadata": {},
   "outputs": [
    {
     "name": "stdout",
     "output_type": "stream",
     "text": [
      "The turtle is in Quadrant I with coordinates (66, 65)\n"
     ]
    }
   ],
   "source": [
    "import random\n",
    "import turtle\n",
    "\n",
    "turtle.hideturtle()\n",
    "turtle.penup()\n",
    "turtle.goto(random.randrange(-100, 100), random.randrange(-100, 100))\n",
    "\n",
    "# Handle each quandrant's conditions\n",
    "quadrant = (\n",
    "    \"I\"\n",
    "    if turtle.xcor() >= 0 and turtle.ycor() >= 0\n",
    "    else (\n",
    "        \"II\"\n",
    "        if turtle.xcor() <= 0 and turtle.ycor() >= 0\n",
    "        else \"III\" if turtle.xcor() <= 0 and turtle.ycor() <= 0 else \"IV\"\n",
    "    )\n",
    ")\n",
    "\n",
    "print(\n",
    "    f\"The turtle is in Quadrant {quadrant} with coordinates ({turtle.xcor()}, {turtle.ycor()})\"\n",
    ")\n",
    "\n",
    "turtle.done()"
   ]
  },
  {
   "cell_type": "markdown",
   "metadata": {},
   "source": [
    "### Exercise 31\n"
   ]
  },
  {
   "cell_type": "code",
   "execution_count": 40,
   "metadata": {},
   "outputs": [
    {
     "name": "stdout",
     "output_type": "stream",
     "text": [
      "Enter a primary color: red\n",
      "Enter another primary color: blue\n"
     ]
    },
    {
     "name": "stdout",
     "output_type": "stream",
     "text": [
      "When you mix red and blue, you get purple.\n"
     ]
    }
   ],
   "source": [
    "primary_color_1 = input(\"Enter a primary color:\")\n",
    "primary_color_2 = input(\"Enter another primary color:\")\n",
    "\n",
    "# Handle same color\n",
    "if primary_color_1 == primary_color_2:\n",
    "    print(primary_color_1)\n",
    "else:\n",
    "    # Handle purple\n",
    "    if (primary_color_1 == \"red\" and primary_color_2 == \"blue\") or (\n",
    "        primary_color_1 == \"blue\" and primary_color_2 == \"red\"\n",
    "    ):\n",
    "        print(f\"When you mix {primary_color_1} and {primary_color_2}, you get purple.\")\n",
    "    # Handle orange\n",
    "    elif (primary_color_1 == \"red\" and primary_color_2 == \"yellow\") or (\n",
    "        primary_color_1 == \"yellow\" and primary_color_2 == \"red\"\n",
    "    ):\n",
    "        print(f\"When you mix {primary_color_1} and {primary_color_2}, you get orange.\")\n",
    "    # Handle green\n",
    "    elif (primary_color_1 == \"blue\" and primary_color_2 == \"yellow\") or (\n",
    "        primary_color_1 == \"yellow\" and primary_color_2 == \"blue\"\n",
    "    ):\n",
    "        print(f\"When you mix {primary_color_1} and {primary_color_2}, you get green.\")\n",
    "    # Handle invalid input\n",
    "    else:\n",
    "        print(\"You did not enter a primary color in at least one of your inputs.\")"
   ]
  },
  {
   "cell_type": "markdown",
   "metadata": {},
   "source": [
    "### Exercise 32\n"
   ]
  },
  {
   "cell_type": "code",
   "execution_count": 41,
   "metadata": {},
   "outputs": [
    {
     "name": "stdout",
     "output_type": "stream",
     "text": [
      "Enter a pocket number between [0, 36]: 10\n"
     ]
    },
    {
     "name": "stdout",
     "output_type": "stream",
     "text": [
      "The pocket color is: black\n"
     ]
    }
   ],
   "source": [
    "pocket_number = int(input(\"Enter a pocket number between [0, 36]:\"))\n",
    "\n",
    "# Handle invalid input\n",
    "if pocket_number < 0 or pocket_number > 36:\n",
    "    print(\"You have entered an invalid pocket number\")\n",
    "# Handle green\n",
    "elif pocket_number == 0:\n",
    "    print(\"The pocket color is: green\")\n",
    "# Handle [1, 10] and [19, 28] as their output is the same\n",
    "elif (pocket_number >= 1 and pocket_number <= 10) or (\n",
    "    pocket_number >= 19 and pocket_number <= 28\n",
    "):\n",
    "    print(f'The pocket color is: {\"red\" if pocket_number % 2 else \"black\"}')\n",
    "# All other output must be either [11, 18] or [29, 36]\n",
    "else:\n",
    "    print(f'The pocket color is: {\"black\" if pocket_number % 2 else \"red\"}')"
   ]
  }
 ],
 "metadata": {
  "kernelspec": {
   "display_name": "Python 3 (ipykernel)",
   "language": "python",
   "name": "python3"
  },
  "language_info": {
   "codemirror_mode": {
    "name": "ipython",
    "version": 3
   },
   "file_extension": ".py",
   "mimetype": "text/x-python",
   "name": "python",
   "nbconvert_exporter": "python",
   "pygments_lexer": "ipython3",
   "version": "3.11.8"
  }
 },
 "nbformat": 4,
 "nbformat_minor": 4
}
