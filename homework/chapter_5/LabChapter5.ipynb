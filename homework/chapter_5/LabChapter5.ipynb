{
 "cells": [
  {
   "cell_type": "markdown",
   "metadata": {},
   "source": [
    "### Example 1\n"
   ]
  },
  {
   "cell_type": "code",
   "execution_count": 1,
   "metadata": {},
   "outputs": [
    {
     "name": "stdout",
     "output_type": "stream",
     "text": [
      "Good morning to you as well!\n"
     ]
    }
   ],
   "source": [
    "def reply():\n",
    "    print(\"Good morning to you as well!\")\n",
    "\n",
    "\n",
    "reply()"
   ]
  },
  {
   "cell_type": "markdown",
   "metadata": {},
   "source": [
    "### Example 2\n"
   ]
  },
  {
   "cell_type": "code",
   "execution_count": 2,
   "metadata": {},
   "outputs": [
    {
     "name": "stdin",
     "output_type": "stream",
     "text": [
      "Enter \"rain\", \"sun\", or \"cloud\" to see the respective weather forecast: rain\n"
     ]
    },
    {
     "name": "stdout",
     "output_type": "stream",
     "text": [
      "The weather forecast is rain!\n"
     ]
    }
   ],
   "source": [
    "def rain():\n",
    "    print(\"The weather forecast is rain!\")\n",
    "\n",
    "\n",
    "def sunny():\n",
    "    print(\"The weather forecast is sunny!\")\n",
    "\n",
    "\n",
    "def cloudy():\n",
    "    print(\"The weather forecast is cloudy!\")\n",
    "\n",
    "\n",
    "forecast = input(\n",
    "    'Enter \"rain\", \"sun\", or \"cloud\" to see the respective weather forecast:'\n",
    ")\n",
    "\n",
    "if forecast == \"rain\":\n",
    "    rain()\n",
    "elif forecast == \"sun\":\n",
    "    sunny()\n",
    "else:\n",
    "    cloudy()"
   ]
  },
  {
   "cell_type": "markdown",
   "metadata": {},
   "source": [
    "### Example 3\n"
   ]
  },
  {
   "cell_type": "code",
   "execution_count": 3,
   "metadata": {},
   "outputs": [
    {
     "name": "stdin",
     "output_type": "stream",
     "text": [
      "Enter the operation would you like to perform:                   (S -> SUM, R -> SUBSTRACT, M -> MULTIPLY, D -> DIVIDE) S\n",
      "Enter a number: 2\n",
      "Enter a number: 5\n"
     ]
    },
    {
     "name": "stdout",
     "output_type": "stream",
     "text": [
      "Sum: 7.0\n"
     ]
    }
   ],
   "source": [
    "def sum_nums():\n",
    "    number_1 = float(input(\"Enter a number:\"))\n",
    "    number_2 = float(input(\"Enter a number:\"))\n",
    "    print(f\"Sum: {number_1 + number_2}\")\n",
    "\n",
    "\n",
    "def sub_nums():\n",
    "    number_1 = float(input(\"Enter a number:\"))\n",
    "    number_2 = float(input(\"Enter a number:\"))\n",
    "    print(f\"Subtract: {number_1 - number_2}\")\n",
    "\n",
    "\n",
    "def mult_nums():\n",
    "    number_1 = float(input(\"Enter a number:\"))\n",
    "    number_2 = float(input(\"Enter a number:\"))\n",
    "    print(f\"Multiply: {number_1 * number_2}\")\n",
    "\n",
    "\n",
    "def div_nums():\n",
    "    number_1 = float(input(\"Enter a number:\"))\n",
    "    number_2 = float(input(\"Enter a number:\"))\n",
    "    print(f\"Divide: {number_1 / number_2}\")\n",
    "\n",
    "\n",
    "operation = input(\n",
    "    \"Enter the operation would you like to perform: \\\n",
    "                  (S -> SUM, R -> SUBSTRACT, M -> MULTIPLY, D -> DIVIDE)\"\n",
    ")\n",
    "if operation == \"S\":\n",
    "    sum_nums()\n",
    "elif operation == \"R\":\n",
    "    sub_nums()\n",
    "elif operation == \"M\":\n",
    "    mult_nums()\n",
    "else:\n",
    "    div_nums()"
   ]
  },
  {
   "cell_type": "markdown",
   "metadata": {},
   "source": [
    "### Example 4\n"
   ]
  },
  {
   "cell_type": "code",
   "execution_count": 4,
   "metadata": {},
   "outputs": [
    {
     "name": "stdin",
     "output_type": "stream",
     "text": [
      "Do you want to draw a circle (C) or square (S)? C\n",
      "Enter the radius of the circle: 5\n"
     ]
    }
   ],
   "source": [
    "import turtle\n",
    "\n",
    "\n",
    "def main():\n",
    "    if input(\"Do you want to draw a circle (C) or square (S)?\") == \"C\":\n",
    "        circle()\n",
    "    else:\n",
    "        square()\n",
    "    turtle.done()\n",
    "\n",
    "\n",
    "def circle():\n",
    "    radius = float(input(\"Enter the radius of the circle:\"))\n",
    "    turtle.circle(radius)\n",
    "\n",
    "\n",
    "def square():\n",
    "    side = float(input(\"Enter the length of a side:\"))\n",
    "    for _ in range(4):\n",
    "        turtle.forward(side)\n",
    "        turtle.left(90)\n",
    "\n",
    "\n",
    "main()"
   ]
  },
  {
   "cell_type": "markdown",
   "metadata": {},
   "source": [
    "### Example 5\n"
   ]
  },
  {
   "cell_type": "code",
   "execution_count": 5,
   "metadata": {},
   "outputs": [
    {
     "name": "stdout",
     "output_type": "stream",
     "text": [
      "Room 1: Transformers\n",
      "Room 2: Transformers 2\n",
      "Room 3: Transformers 3\n"
     ]
    }
   ],
   "source": [
    "def main():\n",
    "    room_1()\n",
    "    room_2()\n",
    "    room_3()\n",
    "\n",
    "\n",
    "def room_1():\n",
    "    print(\"Room 1: Transformers\")\n",
    "\n",
    "\n",
    "def room_2():\n",
    "    print(\"Room 2: Transformers 2\")\n",
    "\n",
    "\n",
    "def room_3():\n",
    "    print(\"Room 3: Transformers 3\")\n",
    "\n",
    "\n",
    "main()"
   ]
  },
  {
   "cell_type": "markdown",
   "metadata": {},
   "source": [
    "### Example 6\n"
   ]
  },
  {
   "cell_type": "code",
   "execution_count": 7,
   "metadata": {},
   "outputs": [
    {
     "name": "stdin",
     "output_type": "stream",
     "text": [
      "Would you like to draw a square (S), hexagon (H), eight (8), or move (M) the turtle? ('Q' to quit) 8\n",
      "Enter radius: 5\n",
      "Would you like to draw a square (S), hexagon (H), eight (8), or move (M) the turtle? ('Q' to quit) Q\n"
     ]
    }
   ],
   "source": [
    "import turtle\n",
    "\n",
    "\n",
    "def draw_square():\n",
    "    side = float(input(\"Enter the side length:\"))\n",
    "    for _ in range(4):\n",
    "        turtle.forward(side)\n",
    "        turtle.left(90)\n",
    "\n",
    "\n",
    "def draw_hexagon():\n",
    "    side = float(input(\"Enter the side length:\"))\n",
    "    for _ in range(6):\n",
    "        turtle.forward(side)\n",
    "        turtle.left(60)\n",
    "\n",
    "\n",
    "def draw_eight_with_circles():\n",
    "    radius = float(input(\"Enter radius:\"))\n",
    "    turtle.circle(radius)\n",
    "    turtle.penup()\n",
    "    turtle.sety(turtle.ycor() + 2 * radius)\n",
    "    turtle.pendown()\n",
    "    turtle.circle(radius)\n",
    "\n",
    "\n",
    "def move_turtle():\n",
    "    turtle.penup()\n",
    "    turtle.setx(float(input(\"Enter new x coordinate:\")))\n",
    "    turtle.sety(float(input(\"Enter new y coordinate:\")))\n",
    "    turtle.pendown()\n",
    "\n",
    "\n",
    "def main():\n",
    "    while True:\n",
    "        choice = input(\n",
    "            \"Would you like to draw a square (S), hexagon (H), eight (8), or move (M) the turtle? ('Q' to quit)\"\n",
    "        )\n",
    "\n",
    "        if choice == \"S\":\n",
    "            draw_square()\n",
    "        elif choice == \"H\":\n",
    "            draw_hexagon()\n",
    "        elif choice == \"8\":\n",
    "            draw_eight_with_circles()\n",
    "        elif choice == \"M\":\n",
    "            move_turtle()\n",
    "        else:\n",
    "            turtle.done()\n",
    "            return\n",
    "\n",
    "\n",
    "main()"
   ]
  },
  {
   "cell_type": "markdown",
   "metadata": {},
   "source": [
    "### Example 7\n"
   ]
  },
  {
   "cell_type": "code",
   "execution_count": 8,
   "metadata": {},
   "outputs": [
    {
     "name": "stdin",
     "output_type": "stream",
     "text": [
      "Would you like to know about the preferred, standard, or substandard plan? standard\n"
     ]
    },
    {
     "name": "stdout",
     "output_type": "stream",
     "text": [
      "The interest rate for a standard borrower is 5%. Thus, a $10,000 balance will incur an interest rate of amount $500.00.\n",
      "Thank you!\n"
     ]
    }
   ],
   "source": [
    "def preferred():\n",
    "    interest_rate = 0.02\n",
    "    print(\n",
    "        f\"The interest rate for a preferred borrower is 2%. Thus, a $10,000 balance will incur an interest rate of amount ${format(interest_rate * 10_000, '.2f')}.\"\n",
    "    )\n",
    "\n",
    "\n",
    "def standard():\n",
    "    interest_rate = 0.05\n",
    "    print(\n",
    "        f\"The interest rate for a standard borrower is 5%. Thus, a $10,000 balance will incur an interest rate of amount ${format(interest_rate * 10_000, '.2f')}.\"\n",
    "    )\n",
    "\n",
    "\n",
    "def substandard():\n",
    "    interest_rate = 0.07\n",
    "    print(\n",
    "        f\"The interest rate for a substandard borrower is 7%. Thus, a $10,000 balance will incur an interest rate of amount ${format(interest_rate * 10_000, '.2f')}.\"\n",
    "    )\n",
    "\n",
    "\n",
    "def main():\n",
    "    type = input(\n",
    "        \"Would you like to know about the preferred, standard, or substandard plan?\"\n",
    "    )\n",
    "    if type == \"preferred\":\n",
    "        preferred()\n",
    "    elif type == \"standard\":\n",
    "        standard()\n",
    "    elif type == \"substandard\":\n",
    "        substandard()\n",
    "\n",
    "    print(\"Thank you!\")\n",
    "\n",
    "\n",
    "main()"
   ]
  },
  {
   "cell_type": "markdown",
   "metadata": {},
   "source": [
    "### Example 8\n"
   ]
  },
  {
   "cell_type": "code",
   "execution_count": 9,
   "metadata": {},
   "outputs": [
    {
     "name": "stdin",
     "output_type": "stream",
     "text": [
      "Enter a number in the range [1,7] mapping to the day of the week: 4\n"
     ]
    },
    {
     "name": "stdout",
     "output_type": "stream",
     "text": [
      "It's a weekday... Time to brush teeth, take a shower, and not stay in bed.\n",
      "Time to eat breakfast!\n"
     ]
    }
   ],
   "source": [
    "def breakfast():\n",
    "    print(\"Time to eat breakfast!\")\n",
    "\n",
    "\n",
    "def weekend():\n",
    "    print(\n",
    "        \"It's the weekend! Time to not brush teeth, not take a shower, and stay in bed!\"\n",
    "    )\n",
    "    breakfast()\n",
    "\n",
    "\n",
    "def weekday():\n",
    "    print(\"It's a weekday... Time to brush teeth, take a shower, and not stay in bed.\")\n",
    "    breakfast()\n",
    "\n",
    "\n",
    "def main():\n",
    "    number = int(\n",
    "        input(\"Enter a number in the range [1,7] mapping to the day of the week:\")\n",
    "    )\n",
    "    if number <= 5:\n",
    "        weekday()\n",
    "    else:\n",
    "        weekend()\n",
    "\n",
    "\n",
    "main()"
   ]
  },
  {
   "cell_type": "markdown",
   "metadata": {},
   "source": [
    "### Example 9\n"
   ]
  },
  {
   "cell_type": "code",
   "execution_count": 10,
   "metadata": {},
   "outputs": [
    {
     "name": "stdin",
     "output_type": "stream",
     "text": [
      "Do you want to send a \"birthday\", \"valentines\", or \"christmas\" card? (\"S\" to stop) valentines\n",
      "What is the recepient's name? J\n"
     ]
    },
    {
     "name": "stdout",
     "output_type": "stream",
     "text": [
      "Happy Valentines J!\n"
     ]
    },
    {
     "name": "stdin",
     "output_type": "stream",
     "text": [
      "Do you want to send a \"birthday\", \"valentines\", or \"christmas\" card? (\"S\" to stop) christmas\n",
      "What is the recepient's name? T\n"
     ]
    },
    {
     "name": "stdout",
     "output_type": "stream",
     "text": [
      "Merry Christmas T!\n"
     ]
    },
    {
     "name": "stdin",
     "output_type": "stream",
     "text": [
      "Do you want to send a \"birthday\", \"valentines\", or \"christmas\" card? (\"S\" to stop) S\n"
     ]
    },
    {
     "name": "stdout",
     "output_type": "stream",
     "text": [
      "Thank you!\n"
     ]
    }
   ],
   "source": [
    "def birthday():\n",
    "    name = input(\"What is the recepient's name?\")\n",
    "    print(f\"Happy birthday {name}!\")\n",
    "\n",
    "\n",
    "def valentines():\n",
    "    name = input(\"What is the recepient's name?\")\n",
    "    print(f\"Happy Valentines {name}!\")\n",
    "\n",
    "\n",
    "def christmas():\n",
    "    name = input(\"What is the recepient's name?\")\n",
    "    print(f\"Merry Christmas {name}!\")\n",
    "\n",
    "\n",
    "def main():\n",
    "    while (\n",
    "        card := input(\n",
    "            'Do you want to send a \"birthday\", \"valentines\", or \"christmas\" card? (\"S\" to stop)'\n",
    "        )\n",
    "    ) != \"S\":\n",
    "        if card == \"birthday\":\n",
    "            birthday()\n",
    "        elif card == \"valentines\":\n",
    "            valentines()\n",
    "        elif card == \"christmas\":\n",
    "            christmas()\n",
    "        else:\n",
    "            print(\"Invalid entry.\")\n",
    "    print(\"Thank you!\")\n",
    "\n",
    "\n",
    "main()"
   ]
  },
  {
   "cell_type": "markdown",
   "metadata": {},
   "source": [
    "### Example 10\n"
   ]
  },
  {
   "cell_type": "code",
   "execution_count": 12,
   "metadata": {},
   "outputs": [
    {
     "name": "stdin",
     "output_type": "stream",
     "text": [
      "Enter the tickets were sold for screen room 1: 15\n",
      "Enter the tickets were sold for screen room 2: 10\n",
      "Enter the tickets were sold for screen room 3: 5\n"
     ]
    },
    {
     "name": "stdout",
     "output_type": "stream",
     "text": [
      "Welcome to screen 1!\n"
     ]
    },
    {
     "name": "stdin",
     "output_type": "stream",
     "text": [
      "Enter the name of the movie: A\n",
      "Enter the rating of the movie: T\n"
     ]
    },
    {
     "name": "stdout",
     "output_type": "stream",
     "text": [
      "The movie name is: A. Here are some ads on ipads.\n",
      "Welcome to screen 2!\n"
     ]
    },
    {
     "name": "stdin",
     "output_type": "stream",
     "text": [
      "Enter the name of the movie: B\n",
      "Enter the rating of the movie: R\n"
     ]
    },
    {
     "name": "stdout",
     "output_type": "stream",
     "text": [
      "The movie name is: B. Here are some ads on cars and real estate.\n",
      "Too little tickets sold for screen 3; refund.\n"
     ]
    }
   ],
   "source": [
    "def screen_room1():\n",
    "    print(\"Welcome to screen 1!\")\n",
    "    movie_name = input(\"Enter the name of the movie:\")\n",
    "    rating = input(\"Enter the rating of the movie:\")\n",
    "\n",
    "    print(\n",
    "        f\"The movie name is: {movie_name}. Here are some ads on {'cars and real estate' if rating == 'R' else 'ipads'}.\"\n",
    "    )\n",
    "\n",
    "\n",
    "def screen_room2():\n",
    "    print(\"Welcome to screen 2!\")\n",
    "    movie_name = input(\"Enter the name of the movie:\")\n",
    "    rating = input(\"Enter the rating of the movie:\")\n",
    "\n",
    "    print(\n",
    "        f\"The movie name is: {movie_name}. Here are some ads on {'cars and real estate' if rating == 'R' else 'ipads'}.\"\n",
    "    )\n",
    "\n",
    "\n",
    "def screen_room3():\n",
    "    print(\"Welcome to screen 3!\")\n",
    "    movie_name = input(\"Enter the name of the movie:\")\n",
    "    rating = input(\"Enter the rating of the movie:\")\n",
    "\n",
    "    print(\n",
    "        f\"The movie name is: {movie_name}. Here are some ads on {'cars and real estate' if rating == 'R' else 'ipads'}.\"\n",
    "    )\n",
    "\n",
    "\n",
    "def main():\n",
    "    tickets_sold_1 = int(input(\"Enter the tickets were sold for screen room 1:\"))\n",
    "    tickets_sold_2 = int(input(\"Enter the tickets were sold for screen room 2:\"))\n",
    "    tickets_sold_3 = int(input(\"Enter the tickets were sold for screen room 3:\"))\n",
    "\n",
    "    if tickets_sold_1 >= 10:\n",
    "        screen_room1()\n",
    "    else:\n",
    "        print(\"Too little tickets sold for screen 1; refund.\")\n",
    "\n",
    "    if tickets_sold_2 >= 10:\n",
    "        screen_room2()\n",
    "    else:\n",
    "        print(\"Too little tickets sold for screen 2; refund.\")\n",
    "\n",
    "    if tickets_sold_3 >= 10:\n",
    "        screen_room3()\n",
    "    else:\n",
    "        print(\"Too little tickets sold for screen 3; refund.\")\n",
    "\n",
    "\n",
    "main()"
   ]
  },
  {
   "cell_type": "markdown",
   "metadata": {},
   "source": [
    "### Example 11\n"
   ]
  },
  {
   "cell_type": "code",
   "execution_count": 13,
   "metadata": {},
   "outputs": [
    {
     "name": "stdin",
     "output_type": "stream",
     "text": [
      "Do you want the ingredients about \"tacos\", \"pizza\", or \"pasta\"? (\"S\" to STOP) tacos\n"
     ]
    },
    {
     "name": "stdout",
     "output_type": "stream",
     "text": [
      "The ingredients for tacos are: ground beef, onion, tomatos, lettuce, salsa, and shells.\n"
     ]
    },
    {
     "name": "stdin",
     "output_type": "stream",
     "text": [
      "Do you want the ingredients about \"tacos\", \"pizza\", or \"pasta\"? (\"S\" to STOP) pizza\n"
     ]
    },
    {
     "name": "stdout",
     "output_type": "stream",
     "text": [
      "The ingredients for pizza are: dough, tomato sauce, and cheese.\n"
     ]
    },
    {
     "name": "stdin",
     "output_type": "stream",
     "text": [
      "Do you want the ingredients about \"tacos\", \"pizza\", or \"pasta\"? (\"S\" to STOP) pasta\n"
     ]
    },
    {
     "name": "stdout",
     "output_type": "stream",
     "text": [
      "THe ingredients for pasta are: pasta and tomato sauce.\n"
     ]
    },
    {
     "name": "stdin",
     "output_type": "stream",
     "text": [
      "Do you want the ingredients about \"tacos\", \"pizza\", or \"pasta\"? (\"S\" to STOP) S\n"
     ]
    },
    {
     "name": "stdout",
     "output_type": "stream",
     "text": [
      "Thank you!\n"
     ]
    }
   ],
   "source": [
    "def tacos():\n",
    "    print(\n",
    "        \"The ingredients for tacos are: ground beef, onion, tomatos, lettuce, salsa, and shells.\"\n",
    "    )\n",
    "\n",
    "\n",
    "def pizza():\n",
    "    print(\"The ingredients for pizza are: dough, tomato sauce, and cheese.\")\n",
    "\n",
    "\n",
    "def pasta():\n",
    "    print(\"THe ingredients for pasta are: pasta and tomato sauce.\")\n",
    "\n",
    "\n",
    "def main():\n",
    "    while (\n",
    "        food := input(\n",
    "            'Do you want the ingredients about \"tacos\", \"pizza\", or \"pasta\"? (\"S\" to STOP)'\n",
    "        )\n",
    "    ) != \"S\":\n",
    "        if food == \"tacos\":\n",
    "            tacos()\n",
    "        elif food == \"pizza\":\n",
    "            pizza()\n",
    "        elif food == \"pasta\":\n",
    "            pasta()\n",
    "        else:\n",
    "            print(\"Invalid entry!\")\n",
    "\n",
    "    print(\"Thank you!\")\n",
    "\n",
    "\n",
    "main()"
   ]
  },
  {
   "cell_type": "markdown",
   "metadata": {},
   "source": [
    "### Example 12\n"
   ]
  },
  {
   "cell_type": "code",
   "execution_count": 14,
   "metadata": {},
   "outputs": [
    {
     "name": "stdin",
     "output_type": "stream",
     "text": [
      "Enter the monthly cost for your car loan payment: 50\n",
      "Enter the monthly cost for your car insurance: 50\n",
      "Enter the monthly cost for your car gas: 50\n",
      "Enter the monthly cost for your car oil: 50\n",
      "Enter the monthly cost for your car tires: 50\n",
      "Enter the monthly cost for your car maintenance: 50\n"
     ]
    },
    {
     "name": "stdout",
     "output_type": "stream",
     "text": [
      "Your monthly cost is: $300.00. Your annual cost is $3600.00.\n"
     ]
    }
   ],
   "source": [
    "def main():\n",
    "    loan_payment = float(input(\"Enter the monthly cost for your car loan payment:\"))\n",
    "    insurance = float(input(\"Enter the monthly cost for your car insurance:\"))\n",
    "    gas = float(input(\"Enter the monthly cost for your car gas:\"))\n",
    "    oil = float(input(\"Enter the monthly cost for your car oil:\"))\n",
    "    tires = float(input(\"Enter the monthly cost for your car tires:\"))\n",
    "    maintenance = float(input(\"Enter the monthly cost for your car maintenance:\"))\n",
    "\n",
    "    monthly_cost = loan_payment + insurance + gas + oil + tires + maintenance\n",
    "\n",
    "    print(\n",
    "        f\"Your monthly cost is: ${format(monthly_cost, '.2f')}. Your annual cost is ${format(12 * monthly_cost, '.2f')}.\"\n",
    "    )\n",
    "\n",
    "\n",
    "main()"
   ]
  },
  {
   "cell_type": "markdown",
   "metadata": {},
   "source": [
    "### Example 13\n"
   ]
  },
  {
   "cell_type": "markdown",
   "metadata": {},
   "source": [
    "```\n",
    ".\n",
    "└── main()/\n",
    "    ├── say_hello()\n",
    "    ├── forecast()/\n",
    "    │   └── location()\n",
    "    └── add_numbers()\n",
    "```\n"
   ]
  },
  {
   "cell_type": "markdown",
   "metadata": {},
   "source": [
    "### Example 14\n"
   ]
  },
  {
   "cell_type": "code",
   "execution_count": 15,
   "metadata": {},
   "outputs": [
    {
     "name": "stdout",
     "output_type": "stream",
     "text": [
      "This program tells you how to disassemble an ACME laundry dryer.\n",
      "There are 4 steps in the process.\n"
     ]
    },
    {
     "name": "stdin",
     "output_type": "stream",
     "text": [
      "Press Enter to see Step 1. \n"
     ]
    },
    {
     "name": "stdout",
     "output_type": "stream",
     "text": [
      "Step 1: Unplug the dryer and move it away from the wall.\n"
     ]
    },
    {
     "name": "stdin",
     "output_type": "stream",
     "text": [
      "Press Enter to see Step 2. \n"
     ]
    },
    {
     "name": "stdout",
     "output_type": "stream",
     "text": [
      "Step 2: Remove the six screws from the back of the dryer. \n"
     ]
    },
    {
     "name": "stdin",
     "output_type": "stream",
     "text": [
      "Press Enter to see Step 3. \n"
     ]
    },
    {
     "name": "stdout",
     "output_type": "stream",
     "text": [
      "Step 3: Remove the back panel from the dryer.\n"
     ]
    },
    {
     "name": "stdin",
     "output_type": "stream",
     "text": [
      "Press Enter to see Step 4. \n"
     ]
    },
    {
     "name": "stdout",
     "output_type": "stream",
     "text": [
      "Step 4: Pull the top of the dryer straight up.\n"
     ]
    }
   ],
   "source": [
    "def startup_message():\n",
    "    print(\n",
    "        f\"This program tells you how to disassemble an ACME laundry dryer.\",\n",
    "        f\"There are 4 steps in the process.\",\n",
    "        sep=\"\\n\",\n",
    "    )\n",
    "\n",
    "\n",
    "def step1():\n",
    "    _ = input(\"Press Enter to see Step 1.\")\n",
    "    print(\"Step 1: Unplug the dryer and move it away from the wall.\")\n",
    "\n",
    "\n",
    "def step2():\n",
    "    _ = input(\"Press Enter to see Step 2.\")\n",
    "    print(\"Step 2: Remove the six screws from the back of the dryer. \")\n",
    "\n",
    "\n",
    "def step3():\n",
    "    _ = input(\"Press Enter to see Step 3.\")\n",
    "    print(\"Step 3: Remove the back panel from the dryer.\")\n",
    "\n",
    "\n",
    "def step4():\n",
    "    _ = input(\"Press Enter to see Step 4.\")\n",
    "    print(\"Step 4: Pull the top of the dryer straight up.\")\n",
    "\n",
    "\n",
    "def main():\n",
    "    startup_message()\n",
    "    step1()\n",
    "    step2()\n",
    "    step3()\n",
    "    step4()\n",
    "\n",
    "\n",
    "main()"
   ]
  },
  {
   "cell_type": "markdown",
   "metadata": {},
   "source": [
    "### Example 15\n"
   ]
  },
  {
   "cell_type": "code",
   "execution_count": 16,
   "metadata": {},
   "outputs": [
    {
     "name": "stdin",
     "output_type": "stream",
     "text": [
      "Enter a number: 20\n",
      "Enter a number: 50\n"
     ]
    },
    {
     "name": "stdout",
     "output_type": "stream",
     "text": [
      "The difference of 20.0 - 50.0 = -30.0\n"
     ]
    }
   ],
   "source": [
    "def main():\n",
    "    subtract()\n",
    "\n",
    "\n",
    "def subtract():\n",
    "    number_1 = float(input(\"Enter a number:\"))\n",
    "    number_2 = float(input(\"Enter a number:\"))\n",
    "    print(f\"The difference of {number_1} - {number_2} = {number_1 - number_2}\")\n",
    "\n",
    "\n",
    "main()"
   ]
  },
  {
   "cell_type": "markdown",
   "metadata": {},
   "source": [
    "### Example 16\n"
   ]
  },
  {
   "cell_type": "code",
   "execution_count": 17,
   "metadata": {
    "scrolled": true
   },
   "outputs": [
    {
     "name": "stdin",
     "output_type": "stream",
     "text": [
      "Enter a number: 50\n",
      "Enter a number: 20\n"
     ]
    },
    {
     "name": "stdout",
     "output_type": "stream",
     "text": [
      "The difference of 50.0 - 20.0 = 30.0\n"
     ]
    }
   ],
   "source": [
    "def main():\n",
    "    subtract(float(input(\"Enter a number:\")), float(input(\"Enter a number:\")))\n",
    "\n",
    "\n",
    "def subtract(number_1, number_2):\n",
    "    print(f\"The difference of {number_1} - {number_2} = {number_1 - number_2}\")\n",
    "\n",
    "\n",
    "main()"
   ]
  },
  {
   "cell_type": "markdown",
   "metadata": {},
   "source": [
    "### Example 17\n"
   ]
  },
  {
   "cell_type": "code",
   "execution_count": 18,
   "metadata": {},
   "outputs": [
    {
     "name": "stdin",
     "output_type": "stream",
     "text": [
      "Enter the base: 10\n",
      "Enter the exponent: 10\n"
     ]
    },
    {
     "name": "stdout",
     "output_type": "stream",
     "text": [
      "Result: 10000000000.0\n"
     ]
    }
   ],
   "source": [
    "def main():\n",
    "    print(\n",
    "        f\"Result: {raise_exponent(float(input('Enter the base:')), int(input('Enter the exponent:')))}\"\n",
    "    )\n",
    "\n",
    "\n",
    "def raise_exponent(base, exponent):\n",
    "    result = base\n",
    "    for _ in range(exponent - 1):\n",
    "        result *= base\n",
    "    return result\n",
    "\n",
    "\n",
    "main()"
   ]
  },
  {
   "cell_type": "markdown",
   "metadata": {},
   "source": [
    "### Example 18\n"
   ]
  },
  {
   "cell_type": "code",
   "execution_count": 20,
   "metadata": {},
   "outputs": [
    {
     "name": "stdin",
     "output_type": "stream",
     "text": [
      "Would you like to draw a circle? (Y/N) Y\n",
      "Enter an 'x' value [-255, 255]: -20\n",
      "Enter an 'y' value [-255, 255]: -20\n",
      "Would you like to draw a circle? (Y/N) Y\n",
      "Enter an 'x' value [-255, 255]: 200\n",
      "Enter an 'y' value [-255, 255]: 200\n",
      "Would you like to draw a circle? (Y/N) N\n"
     ]
    }
   ],
   "source": [
    "import random\n",
    "import turtle\n",
    "\n",
    "\n",
    "def main():\n",
    "    turtle.speed(0)\n",
    "\n",
    "    while input(\"Would you like to draw a circle? (Y/N)\") == \"Y\":\n",
    "        x = int(input(\"Enter an 'x' value [-255, 255]:\"))\n",
    "        y = int(input(\"Enter an 'y' value [-255, 255]:\"))\n",
    "        z = random.randint(0, 255)\n",
    "        draw_colored_circle(x, y, z)\n",
    "\n",
    "    turtle.done()\n",
    "\n",
    "\n",
    "def draw_colored_circle(x, y, z):\n",
    "    turtle.penup()\n",
    "\n",
    "    turtle.goto(x, y)\n",
    "    turtle.colormode(255)\n",
    "    turtle.color(abs(x), abs(y), z)\n",
    "\n",
    "    turtle.pendown()\n",
    "    turtle.begin_fill()\n",
    "    turtle.circle(25.0)\n",
    "    turtle.end_fill()\n",
    "\n",
    "\n",
    "main()"
   ]
  },
  {
   "cell_type": "markdown",
   "metadata": {},
   "source": [
    "### Example 19\n"
   ]
  },
  {
   "cell_type": "code",
   "execution_count": 21,
   "metadata": {},
   "outputs": [
    {
     "name": "stdin",
     "output_type": "stream",
     "text": [
      "Enter the replacement cost of your building: 1000\n"
     ]
    },
    {
     "name": "stdout",
     "output_type": "stream",
     "text": [
      "The minimum amount of insurance you should buy is: $800.00\n"
     ]
    }
   ],
   "source": [
    "def insurance_recommendation(cost):\n",
    "    recommendation = 0.80\n",
    "\n",
    "    return cost * recommendation\n",
    "\n",
    "\n",
    "def main():\n",
    "    replacement_cost = float(input(\"Enter the replacement cost of your building:\"))\n",
    "    print(\n",
    "        f\"The minimum amount of insurance you should buy is: ${format(insurance_recommendation(replacement_cost), '.2f')}\"\n",
    "    )\n",
    "\n",
    "\n",
    "main()"
   ]
  },
  {
   "cell_type": "markdown",
   "metadata": {},
   "source": [
    "### Example 20\n"
   ]
  },
  {
   "cell_type": "code",
   "execution_count": 22,
   "metadata": {},
   "outputs": [
    {
     "name": "stdin",
     "output_type": "stream",
     "text": [
      "Enter a number: 20\n",
      "Enter a number: 20\n",
      "Would you like to divide (\"D\"), multiply (\"M\"), add (\"A\"), or subtact (\"S\") two numbers? D\n"
     ]
    },
    {
     "name": "stdout",
     "output_type": "stream",
     "text": [
      "1.0\n"
     ]
    }
   ],
   "source": [
    "def main():\n",
    "    number_1 = float(input(\"Enter a number:\"))\n",
    "    number_2 = float(input(\"Enter a number:\"))\n",
    "\n",
    "    operation = input(\n",
    "        'Would you like to divide (\"D\"), multiply (\"M\"), add (\"A\"), or subtact (\"S\") two numbers?'\n",
    "    )\n",
    "    if operation == \"D\":\n",
    "        if number_2 == 0.0:\n",
    "            print(\"You cannot divide by zero!\")\n",
    "        else:\n",
    "            print(div_nums(number_1, number_2))\n",
    "    elif operation == \"M\":\n",
    "        print(mult_nums(number_1, number_2))\n",
    "    elif operation == \"A\":\n",
    "        print(sum_nums(number_1, number_2))\n",
    "    elif operation == \"S\":\n",
    "        print(sub_nums(number_1, number_2))\n",
    "    else:\n",
    "        print(\"Invalid entry!\")\n",
    "\n",
    "\n",
    "def div_nums(number_1, number_2):\n",
    "    return number_1 / number_2\n",
    "\n",
    "\n",
    "def mult_nums(number_1, number_2):\n",
    "    return number_1 * number_2\n",
    "\n",
    "\n",
    "def sum_nums(number_1, number_2):\n",
    "    return number_1 + number_2\n",
    "\n",
    "\n",
    "def sub_nums(number_1, number_2):\n",
    "    return number_1 - number_2\n",
    "\n",
    "\n",
    "main()"
   ]
  },
  {
   "cell_type": "markdown",
   "metadata": {},
   "source": [
    "### Example 21\n"
   ]
  },
  {
   "cell_type": "code",
   "execution_count": 23,
   "metadata": {},
   "outputs": [
    {
     "name": "stdin",
     "output_type": "stream",
     "text": [
      "Enter the price of your property ($): 200000\n"
     ]
    },
    {
     "name": "stdout",
     "output_type": "stream",
     "text": [
      "Property: $200000.00\n",
      "Assessment Value: $120000.00\n",
      "Property Tax: $864.00\n"
     ]
    }
   ],
   "source": [
    "def calculate_property_tax(assessment_value):\n",
    "    return assessment_value / 100 * 0.72\n",
    "\n",
    "\n",
    "def main():\n",
    "    property_price = float(input(\"Enter the price of your property ($):\"))\n",
    "    assessment_value = property_price * 0.60\n",
    "    print(\n",
    "        f\"Property: ${format(property_price, '.2f')}\",\n",
    "        f\"Assessment Value: ${format(assessment_value, '.2f')}\",\n",
    "        f\"Property Tax: ${format(calculate_property_tax(assessment_value), '.2f')}\",\n",
    "        sep=\"\\n\",\n",
    "    )\n",
    "\n",
    "\n",
    "main()"
   ]
  },
  {
   "cell_type": "markdown",
   "metadata": {},
   "source": [
    "### Example 22\n"
   ]
  },
  {
   "cell_type": "code",
   "execution_count": 24,
   "metadata": {},
   "outputs": [
    {
     "name": "stdin",
     "output_type": "stream",
     "text": [
      "Enter the total sales of the month: 20000\n"
     ]
    },
    {
     "name": "stdout",
     "output_type": "stream",
     "text": [
      "County Sales Tax: $500.00\n",
      "State Sales Tax: $1000.00\n",
      "Total Sales Tax: $1500.00\n"
     ]
    }
   ],
   "source": [
    "def _format(money):\n",
    "    return format(money, \".2f\")\n",
    "\n",
    "\n",
    "def state_sales_tax(sales):\n",
    "    return sales * 0.05\n",
    "\n",
    "\n",
    "def county_sales_tax(sales):\n",
    "    return sales * 0.025\n",
    "\n",
    "\n",
    "def main():\n",
    "    total_sales = float(input(\"Enter the total sales of the month:\"))\n",
    "    print(\n",
    "        f\"County Sales Tax: ${(county := _format(county_sales_tax(total_sales)))}\",\n",
    "        f\"State Sales Tax: ${(state := _format(state_sales_tax(total_sales)))}\",\n",
    "        f\"Total Sales Tax: ${_format(float(county) + float(state))}\",\n",
    "        sep=\"\\n\",\n",
    "    )\n",
    "\n",
    "\n",
    "main()"
   ]
  },
  {
   "cell_type": "markdown",
   "metadata": {},
   "source": [
    "### Example 23\n"
   ]
  },
  {
   "cell_type": "code",
   "execution_count": 25,
   "metadata": {},
   "outputs": [
    {
     "name": "stdin",
     "output_type": "stream",
     "text": [
      "Enter a whole number: 37\n"
     ]
    },
    {
     "name": "stdout",
     "output_type": "stream",
     "text": [
      "37: is a prime.\n"
     ]
    }
   ],
   "source": [
    "def main():\n",
    "    number = int(input(\"Enter a whole number:\"))\n",
    "    print(f\"{number}: {'is' if is_prime(number) else 'is not'} a prime.\")\n",
    "\n",
    "\n",
    "# is prime algorithm is not optimal but it gets the job done\n",
    "def is_prime(number):\n",
    "    # [0,1] not prime\n",
    "    if number <= 1:\n",
    "        return False\n",
    "\n",
    "    # [2, 3] prime\n",
    "    if number <= 3:\n",
    "        return True\n",
    "\n",
    "    # n = 2k, n not prime\n",
    "    if number % 2 == 0:\n",
    "        return False\n",
    "\n",
    "    # check the product of every multiple of numbers up to (input / 2)\n",
    "    for multiple_1 in range(1, (number // 2) + 1):\n",
    "        for multiple_2 in range(1, (number // 2) + 1):\n",
    "            # if product equals input => not prime\n",
    "            if multiple_1 * multiple_2 == number:\n",
    "                return False\n",
    "    # is prime\n",
    "    return True\n",
    "\n",
    "\n",
    "main()"
   ]
  },
  {
   "cell_type": "code",
   "execution_count": 29,
   "metadata": {},
   "outputs": [
    {
     "name": "stdin",
     "output_type": "stream",
     "text": [
      "Enter the x coordinate of the lower-left corner of your box: -50\n",
      "Enter the y coordinate of the lower-left corner of your box: -50\n",
      "Enter the side length of your box: 100\n"
     ]
    },
    {
     "name": "stdout",
     "output_type": "stream",
     "text": [
      "You drew a box around the dot!\n"
     ]
    }
   ],
   "source": [
    "import turtle\n",
    "import random\n",
    "\n",
    "\n",
    "def main():\n",
    "    turtle.speed(0)\n",
    "\n",
    "    random_x = random.randint(-100, 100)\n",
    "    random_y = random.randint(-100, 100)\n",
    "    draw_dot(random_x, random_y)\n",
    "\n",
    "    user_x = input_x()\n",
    "    user_y = input_y()\n",
    "    side_length = input_side()\n",
    "\n",
    "    draw_box(user_x, user_y, side_length)\n",
    "\n",
    "    if (user_x <= random_x and user_x + side_length >= random_x) and (\n",
    "        user_y <= random_y and user_y + side_length >= random_y\n",
    "    ):\n",
    "        print(\"You drew a box around the dot!\")\n",
    "    else:\n",
    "        print(\"You did not draw a box around the dot..\")\n",
    "\n",
    "    turtle.done()\n",
    "\n",
    "\n",
    "def draw_dot(x, y):\n",
    "    turtle.penup()\n",
    "    turtle.setposition(x, y)\n",
    "    turtle.pendown()\n",
    "    turtle.fillcolor(\"black\")\n",
    "    turtle.begin_fill()\n",
    "    turtle.circle(2)\n",
    "    turtle.end_fill()\n",
    "\n",
    "\n",
    "def input_x():\n",
    "    return float(input(\"Enter the x coordinate of the lower-left corner of your box:\"))\n",
    "\n",
    "\n",
    "def input_y():\n",
    "    return float(input(\"Enter the y coordinate of the lower-left corner of your box:\"))\n",
    "\n",
    "\n",
    "def input_side():\n",
    "    return float(input(\"Enter the side length of your box:\"))\n",
    "\n",
    "\n",
    "def draw_box(lower_left_x, lower_left_y, side_length):\n",
    "    turtle.penup()\n",
    "    turtle.setposition(lower_left_x, lower_left_y)\n",
    "    turtle.pendown()\n",
    "    turtle.setheading(90)\n",
    "    turtle.forward(side_length)\n",
    "    turtle.right(90)\n",
    "    turtle.forward(side_length)\n",
    "    turtle.right(90)\n",
    "    turtle.forward(side_length)\n",
    "    turtle.right(90)\n",
    "    turtle.forward(side_length)\n",
    "\n",
    "\n",
    "main()"
   ]
  },
  {
   "cell_type": "markdown",
   "metadata": {},
   "source": [
    "### Example 25\n"
   ]
  },
  {
   "cell_type": "code",
   "execution_count": 30,
   "metadata": {},
   "outputs": [
    {
     "name": "stdout",
     "output_type": "stream",
     "text": [
      "Weekly Wage: $200.0\n",
      "Weekly Wage: $400.0\n"
     ]
    }
   ],
   "source": [
    "hourly_rate = 10.0\n",
    "\n",
    "\n",
    "def wage_20():\n",
    "    print(f\"Weekly Wage: ${hourly_rate * 20.0}\")\n",
    "\n",
    "\n",
    "def wage_40():\n",
    "    print(f\"Weekly Wage: ${hourly_rate * 40.0}\")\n",
    "\n",
    "\n",
    "wage_20()\n",
    "wage_40()"
   ]
  },
  {
   "cell_type": "markdown",
   "metadata": {},
   "source": [
    "### Example 26\n"
   ]
  },
  {
   "cell_type": "code",
   "execution_count": 31,
   "metadata": {},
   "outputs": [
    {
     "name": "stdin",
     "output_type": "stream",
     "text": [
      "Enter the number of cakes you would like: 50\n"
     ]
    },
    {
     "name": "stdout",
     "output_type": "stream",
     "text": [
      "You need 100 mangos for 50 cakes.\n"
     ]
    }
   ],
   "source": [
    "num_mangos = 2\n",
    "num_cakes = int(input(\"Enter the number of cakes you would like:\"))\n",
    "\n",
    "\n",
    "def cake():\n",
    "    global num_mangos\n",
    "    num_mangos = num_mangos * num_cakes\n",
    "    print(f\"You need {num_mangos} mangos for {num_cakes} cakes.\")\n",
    "\n",
    "\n",
    "cake()"
   ]
  },
  {
   "cell_type": "markdown",
   "metadata": {},
   "source": [
    "### Example 27\n"
   ]
  },
  {
   "cell_type": "code",
   "execution_count": 32,
   "metadata": {},
   "outputs": [
    {
     "name": "stdin",
     "output_type": "stream",
     "text": [
      "Enter the loan amount: 10000\n",
      "Enter your borrow type (P, S, R): R\n"
     ]
    },
    {
     "name": "stdout",
     "output_type": "stream",
     "text": [
      "The interest charged is: $600.00\n"
     ]
    }
   ],
   "source": [
    "INTEREST_RATE_PRIME = 0.02\n",
    "INTEREST_RATE_STANDARD = 0.04\n",
    "INTEREST_RATE_SUBPRIME = 0.06\n",
    "\n",
    "\n",
    "def main():\n",
    "    loan_amount = float(input(\"Enter the loan amount:\"))\n",
    "    borrow_type = input(\"Enter your borrow type (P, S, R):\")\n",
    "    print(\n",
    "        f\"The interest charged is: ${format(calculate_interest(loan_amount, borrow_type), '.2f')}\"\n",
    "    )\n",
    "\n",
    "\n",
    "def calculate_interest(loan_amount, borrow_type):\n",
    "    return loan_amount * (\n",
    "        INTEREST_RATE_PRIME\n",
    "        if borrow_type == \"P\"\n",
    "        else INTEREST_RATE_STANDARD if borrow_type == \"S\" else INTEREST_RATE_SUBPRIME\n",
    "    )\n",
    "\n",
    "\n",
    "main()"
   ]
  },
  {
   "cell_type": "markdown",
   "metadata": {},
   "source": [
    "### Example 28\n"
   ]
  },
  {
   "cell_type": "code",
   "execution_count": 33,
   "metadata": {},
   "outputs": [
    {
     "name": "stdin",
     "output_type": "stream",
     "text": [
      "Do you want to flip a coin (Y/N)? Y\n"
     ]
    },
    {
     "name": "stdout",
     "output_type": "stream",
     "text": [
      "The coin is tails!\n"
     ]
    },
    {
     "name": "stdin",
     "output_type": "stream",
     "text": [
      "Do you want to flip a coin (Y/N)? Y\n"
     ]
    },
    {
     "name": "stdout",
     "output_type": "stream",
     "text": [
      "The coin is tails!\n"
     ]
    },
    {
     "name": "stdin",
     "output_type": "stream",
     "text": [
      "Do you want to flip a coin (Y/N)? Y\n"
     ]
    },
    {
     "name": "stdout",
     "output_type": "stream",
     "text": [
      "The coin is heads!\n"
     ]
    },
    {
     "name": "stdin",
     "output_type": "stream",
     "text": [
      "Do you want to flip a coin (Y/N)? Y\n"
     ]
    },
    {
     "name": "stdout",
     "output_type": "stream",
     "text": [
      "The coin is tails!\n"
     ]
    },
    {
     "name": "stdin",
     "output_type": "stream",
     "text": [
      "Do you want to flip a coin (Y/N)? Y\n"
     ]
    },
    {
     "name": "stdout",
     "output_type": "stream",
     "text": [
      "The coin is heads!\n"
     ]
    },
    {
     "name": "stdin",
     "output_type": "stream",
     "text": [
      "Do you want to flip a coin (Y/N)? Y\n"
     ]
    },
    {
     "name": "stdout",
     "output_type": "stream",
     "text": [
      "The coin is tails!\n"
     ]
    },
    {
     "name": "stdin",
     "output_type": "stream",
     "text": [
      "Do you want to flip a coin (Y/N)? N\n"
     ]
    },
    {
     "name": "stdout",
     "output_type": "stream",
     "text": [
      "Bye!\n"
     ]
    }
   ],
   "source": [
    "import random\n",
    "\n",
    "\n",
    "def main():\n",
    "    while input(\"Do you want to flip a coin (Y/N)?\") == \"Y\":\n",
    "        # inline conditional to print heads or tails\n",
    "        print(f\"The coin is {'heads' if random.randint(0, 1) else 'tails'}!\")\n",
    "    print(\"Bye!\")\n",
    "\n",
    "\n",
    "main()"
   ]
  },
  {
   "cell_type": "markdown",
   "metadata": {},
   "source": [
    "### Example 29\n"
   ]
  },
  {
   "cell_type": "code",
   "execution_count": 34,
   "metadata": {},
   "outputs": [
    {
     "name": "stdout",
     "output_type": "stream",
     "text": [
      "The result of the `randint` function is: 10.\n",
      "The result of the `randrange` function is: 3.\n",
      "The result of the `random` function is: 0.8421031355296242.\n",
      "The result of the `uniform` function is: 9.55354792527476.\n"
     ]
    }
   ],
   "source": [
    "def main():\n",
    "    bound_lower = 0\n",
    "    bound_upper = 10\n",
    "\n",
    "    random_print(\"randint\", random.randint(bound_lower, bound_upper))\n",
    "    random_print(\"randrange\", random.randrange(bound_lower, bound_upper))\n",
    "    random_print(\"random\", random.random())\n",
    "    random_print(\"uniform\", random.uniform(bound_lower, bound_upper))\n",
    "\n",
    "\n",
    "def random_print(function_name, result):\n",
    "    print(f\"The result of the `{function_name}` function is: {result}.\")\n",
    "\n",
    "\n",
    "main()"
   ]
  },
  {
   "cell_type": "markdown",
   "metadata": {},
   "source": [
    "### Example 30\n"
   ]
  },
  {
   "cell_type": "code",
   "execution_count": 35,
   "metadata": {},
   "outputs": [
    {
     "name": "stdin",
     "output_type": "stream",
     "text": [
      "Enter the number of restaurants: 50\n"
     ]
    },
    {
     "name": "stdout",
     "output_type": "stream",
     "text": [
      "Monday: 8\n",
      "Tuesday: 13\n",
      "Wednesday: 5\n",
      "Thursday: 3\n",
      "Friday: 5\n",
      "Saturday: 9\n",
      "Sunday: 7\n"
     ]
    }
   ],
   "source": [
    "def main():\n",
    "    restaurants = int(input(\"Enter the number of restaurants:\"))\n",
    "\n",
    "    m = 0\n",
    "    t = 0\n",
    "    w = 0\n",
    "    th = 0\n",
    "    f = 0\n",
    "    s = 0\n",
    "    su = 0\n",
    "\n",
    "    for _ in range(restaurants):\n",
    "        random_number = random.randint(1, 7)\n",
    "        m += random_number == 1\n",
    "        t += random_number == 2\n",
    "        w += random_number == 3\n",
    "        th += random_number == 4\n",
    "        f += random_number == 5\n",
    "        s += random_number == 6\n",
    "        su += random_number == 7\n",
    "\n",
    "    print(\n",
    "        f\"Monday: {m}\",\n",
    "        f\"Tuesday: {t}\",\n",
    "        f\"Wednesday: {w}\",\n",
    "        f\"Thursday: {th}\",\n",
    "        f\"Friday: {f}\",\n",
    "        f\"Saturday: {s}\",\n",
    "        f\"Sunday: {su}\",\n",
    "        sep=\"\\n\",\n",
    "    )\n",
    "\n",
    "\n",
    "main()"
   ]
  },
  {
   "cell_type": "markdown",
   "metadata": {},
   "source": [
    "### Example 31\n"
   ]
  },
  {
   "cell_type": "code",
   "execution_count": 36,
   "metadata": {},
   "outputs": [
    {
     "name": "stdin",
     "output_type": "stream",
     "text": [
      "Enter a number: 20\n",
      "Enter a number: 20\n"
     ]
    },
    {
     "name": "stdout",
     "output_type": "stream",
     "text": [
      "Difference: 0.0\n"
     ]
    }
   ],
   "source": [
    "def main():\n",
    "    number_1 = float(input(\"Enter a number:\"))\n",
    "    number_2 = float(input(\"Enter a number:\"))\n",
    "    print(f\"Difference: {subtract(number_1, number_2)}\")\n",
    "\n",
    "\n",
    "def subtract(number_1, number_2):\n",
    "    return number_1 - number_2\n",
    "\n",
    "\n",
    "main()"
   ]
  },
  {
   "cell_type": "markdown",
   "metadata": {},
   "source": [
    "### Example 32\n"
   ]
  },
  {
   "cell_type": "code",
   "execution_count": 37,
   "metadata": {},
   "outputs": [
    {
     "name": "stdin",
     "output_type": "stream",
     "text": [
      "Enter the number of rolls: 50\n"
     ]
    },
    {
     "name": "stdout",
     "output_type": "stream",
     "text": [
      "One: 6\n",
      "Two: 8\n",
      "Three: 10\n",
      "Four: 8\n",
      "Five: 12\n",
      "Six: 6\n",
      "Seven: 0\n",
      "Even: 22\n",
      "Odd: 28\n"
     ]
    }
   ],
   "source": [
    "import random\n",
    "\n",
    "\n",
    "def main():\n",
    "    rolls = int(input(\"Enter the number of rolls:\"))\n",
    "    one, two, three, four, five, six, seven = 0, 0, 0, 0, 0, 0, 0\n",
    "    even, odd = 0, 0\n",
    "\n",
    "    for _ in range(rolls):\n",
    "        value, is_odd = roll_die()\n",
    "\n",
    "        one += value == 1\n",
    "        two += value == 2\n",
    "        three += value == 3\n",
    "        four += value == 4\n",
    "        five += value == 5\n",
    "        six += value == 6\n",
    "        seven += value == 7\n",
    "\n",
    "        even += is_odd == 0\n",
    "        odd += is_odd\n",
    "\n",
    "    print(\n",
    "        f\"One: {one}\",\n",
    "        f\"Two: {two}\",\n",
    "        f\"Three: {three}\",\n",
    "        f\"Four: {four}\",\n",
    "        f\"Five: {five}\",\n",
    "        f\"Six: {six}\",\n",
    "        f\"Seven: {seven}\",\n",
    "        f\"Even: {even}\",\n",
    "        f\"Odd: {odd}\",\n",
    "        sep=\"\\n\",\n",
    "    )\n",
    "\n",
    "\n",
    "def roll_die():\n",
    "    value = random.randint(1, 6)\n",
    "    return value, value % 2\n",
    "\n",
    "\n",
    "main()"
   ]
  },
  {
   "cell_type": "markdown",
   "metadata": {},
   "source": [
    "### Example 33\n"
   ]
  },
  {
   "cell_type": "code",
   "execution_count": 38,
   "metadata": {},
   "outputs": [
    {
     "name": "stdin",
     "output_type": "stream",
     "text": [
      "Enter the number of feet to convert to inches: 5\n"
     ]
    },
    {
     "name": "stdout",
     "output_type": "stream",
     "text": [
      "5.0 feet is 60.0 inches.\n"
     ]
    }
   ],
   "source": [
    "def main():\n",
    "    feet = float(input(\"Enter the number of feet to convert to inches:\"))\n",
    "    print(f\"{feet} feet is {feet_to_inches(feet)} inches.\")\n",
    "\n",
    "\n",
    "def feet_to_inches(feet):\n",
    "    return feet * 12.0\n",
    "\n",
    "\n",
    "main()"
   ]
  },
  {
   "cell_type": "markdown",
   "metadata": {},
   "source": [
    "### Example 34\n"
   ]
  },
  {
   "cell_type": "code",
   "execution_count": 39,
   "metadata": {},
   "outputs": [
    {
     "name": "stdin",
     "output_type": "stream",
     "text": [
      "What is the result of the following expression: 691 + 565 1256\n"
     ]
    },
    {
     "name": "stdout",
     "output_type": "stream",
     "text": [
      "Your input is correct\n"
     ]
    }
   ],
   "source": [
    "import random\n",
    "\n",
    "\n",
    "def main():\n",
    "    lower_bound = 100\n",
    "    upper_bound = 999\n",
    "\n",
    "    random_1 = generate_random_number(lower_bound, upper_bound)\n",
    "    random_2 = generate_random_number(lower_bound, upper_bound)\n",
    "\n",
    "    user_input = float(\n",
    "        input(\n",
    "            f\"What is the result of the following expression: {random_1} + {random_2}\"\n",
    "        )\n",
    "    )\n",
    "    print(\n",
    "        f\"Your input is {'correct' if user_input == random_1 + random_2 else 'incorrect'}\"\n",
    "    )\n",
    "\n",
    "\n",
    "def generate_random_number(lower_bound, upper_bound):\n",
    "    return random.randint(lower_bound, upper_bound)\n",
    "\n",
    "\n",
    "main()"
   ]
  },
  {
   "cell_type": "markdown",
   "metadata": {},
   "source": [
    "### Example 35\n"
   ]
  },
  {
   "cell_type": "code",
   "execution_count": 40,
   "metadata": {},
   "outputs": [
    {
     "name": "stdout",
     "output_type": "stream",
     "text": [
      "1s : 4.9m\n",
      "2s : 19.6m\n",
      "3s : 44.1m\n",
      "4s : 78.4m\n",
      "5s : 122.5m\n",
      "6s : 176.4m\n",
      "7s : 240.10000000000002m\n",
      "8s : 313.6m\n",
      "9s : 396.90000000000003m\n",
      "10s : 490.0m\n"
     ]
    }
   ],
   "source": [
    "def main():\n",
    "    for number in range(1, 10 + 1):\n",
    "        print(f\"{number}s : {falling_distance(number)}m\")\n",
    "\n",
    "\n",
    "def falling_distance(time):\n",
    "    return 0.5 * 9.8 * time * time\n",
    "\n",
    "\n",
    "main()"
   ]
  },
  {
   "cell_type": "markdown",
   "metadata": {},
   "source": [
    "### Example 36\n"
   ]
  },
  {
   "cell_type": "code",
   "execution_count": 41,
   "metadata": {},
   "outputs": [
    {
     "name": "stdin",
     "output_type": "stream",
     "text": [
      "Enter the mass (kg): 20\n",
      "Enter the velocity (ms^-1): 50\n"
     ]
    },
    {
     "name": "stdout",
     "output_type": "stream",
     "text": [
      "The KE of this object is: 25000.0J\n"
     ]
    }
   ],
   "source": [
    "def main():\n",
    "    mass = float(input(\"Enter the mass (kg):\"))\n",
    "    velocity = float(input(\"Enter the velocity (ms^-1):\"))\n",
    "    print(f\"The KE of this object is: {kinetic_energy(mass, velocity)}J\")\n",
    "\n",
    "\n",
    "def kinetic_energy(mass, velocity):\n",
    "    return 0.5 * mass * velocity * velocity\n",
    "\n",
    "\n",
    "main()"
   ]
  },
  {
   "cell_type": "markdown",
   "metadata": {},
   "source": [
    "### Example 37\n"
   ]
  },
  {
   "cell_type": "code",
   "execution_count": 42,
   "metadata": {},
   "outputs": [
    {
     "name": "stdin",
     "output_type": "stream",
     "text": [
      "Enter a test score: 50\n",
      "Enter a test score: 60\n",
      "Enter a test score: 70\n",
      "Enter a test score: 80\n",
      "Enter a test score: 90\n"
     ]
    },
    {
     "name": "stdout",
     "output_type": "stream",
     "text": [
      "Score 1: F\n",
      "Score 2: D\n",
      "Score 3: C\n",
      "Score 4: B\n",
      "Score 5: A\n",
      "Average: 70.0\n"
     ]
    }
   ],
   "source": [
    "def main():\n",
    "    score_1 = float(input(\"Enter a test score:\"))\n",
    "    score_2 = float(input(\"Enter a test score:\"))\n",
    "    score_3 = float(input(\"Enter a test score:\"))\n",
    "    score_4 = float(input(\"Enter a test score:\"))\n",
    "    score_5 = float(input(\"Enter a test score:\"))\n",
    "\n",
    "    print(f\"Score 1: {determine_grade(score_1)}\")\n",
    "    print(f\"Score 2: {determine_grade(score_2)}\")\n",
    "    print(f\"Score 3: {determine_grade(score_3)}\")\n",
    "    print(f\"Score 4: {determine_grade(score_4)}\")\n",
    "    print(f\"Score 5: {determine_grade(score_5)}\")\n",
    "    print(f\"Average: {calc_average(score_1, score_2, score_3, score_4, score_5)}\")\n",
    "\n",
    "\n",
    "def calc_average(score_1, score_2, score_3, score_4, score_5):\n",
    "    return (score_1 + score_2 + score_3 + score_4 + score_5) / 5\n",
    "\n",
    "\n",
    "def determine_grade(score):\n",
    "    if score >= 90:\n",
    "        return \"A\"\n",
    "    if score >= 80:\n",
    "        return \"B\"\n",
    "    if score >= 70:\n",
    "        return \"C\"\n",
    "    if score >= 60:\n",
    "        return \"D\"\n",
    "    return \"F\"\n",
    "\n",
    "\n",
    "main()"
   ]
  },
  {
   "cell_type": "markdown",
   "metadata": {},
   "source": [
    "### Example 38\n"
   ]
  },
  {
   "cell_type": "code",
   "execution_count": 43,
   "metadata": {},
   "outputs": [
    {
     "name": "stdout",
     "output_type": "stream",
     "text": [
      "In 100 iterations: 48 even, 52 odd.\n"
     ]
    }
   ],
   "source": [
    "import random\n",
    "\n",
    "\n",
    "def main():\n",
    "    even, odd = 0, 0\n",
    "    for _ in range(100):\n",
    "        number = random.randint(0, 1)\n",
    "        even += number % 2 == 0\n",
    "        odd += number % 2\n",
    "\n",
    "    print(f\"In 100 iterations: {even} even, {odd} odd.\")\n",
    "\n",
    "\n",
    "main()"
   ]
  },
  {
   "cell_type": "markdown",
   "metadata": {},
   "source": [
    "### Example 39\n"
   ]
  },
  {
   "cell_type": "code",
   "execution_count": 45,
   "metadata": {},
   "outputs": [],
   "source": [
    "import turtle\n",
    "import random\n",
    "\n",
    "\n",
    "def main():\n",
    "    turtle.speed(0)\n",
    "\n",
    "    side_length = 100\n",
    "\n",
    "    draw_background(side_length)\n",
    "    draw_buildings(side_length)\n",
    "    draw_windows(side_length)\n",
    "    draw_stars(side_length)\n",
    "\n",
    "    turtle.done()\n",
    "\n",
    "\n",
    "def draw_background(side_length):\n",
    "    turtle.penup()\n",
    "    turtle.setpos(0 - side_length / 2, 0 - side_length / 2)\n",
    "\n",
    "    turtle.fillcolor(\"black\")\n",
    "    turtle.begin_fill()\n",
    "    turtle.pendown()\n",
    "\n",
    "    turtle.setheading(90)\n",
    "    turtle.forward(side_length)\n",
    "    turtle.right(90)\n",
    "    turtle.forward(side_length)\n",
    "    turtle.right(90)\n",
    "    turtle.forward(side_length)\n",
    "    turtle.right(90)\n",
    "    turtle.forward(side_length)\n",
    "\n",
    "    turtle.end_fill()\n",
    "\n",
    "\n",
    "def draw_buildings(side_length):\n",
    "    # draw five buildings each equal width\n",
    "    width = side_length // 5\n",
    "\n",
    "    turtle.penup()\n",
    "    # background color\n",
    "    turtle.fillcolor(\"grey\")\n",
    "\n",
    "    for index in range(5):\n",
    "        turtle.setpos(-(side_length / 2) + index * width, -(side_length / 2))\n",
    "        turtle.begin_fill()\n",
    "        turtle.pendown()\n",
    "\n",
    "        # increasing height\n",
    "        height = 40 + 10 * index\n",
    "\n",
    "        turtle.setheading(90)\n",
    "        turtle.forward(height)\n",
    "        turtle.right(90)\n",
    "        turtle.forward(width)\n",
    "        turtle.right(90)\n",
    "        turtle.forward(height)\n",
    "        turtle.right(90)\n",
    "        turtle.forward(width)\n",
    "\n",
    "        turtle.end_fill()\n",
    "\n",
    "\n",
    "def draw_windows(side_length):\n",
    "    # draw a window for each building\n",
    "    width = side_length // 5\n",
    "    window_length = 5\n",
    "\n",
    "    turtle.fillcolor(\"white\")\n",
    "\n",
    "    for index in range(5):\n",
    "        turtle.penup()\n",
    "\n",
    "        # make window position random within its encompassing building\n",
    "        turtle.setpos(\n",
    "            -(side_length / 2)\n",
    "            + width * index\n",
    "            + random.randint(0, width - window_length),\n",
    "            -(side_length / 2)\n",
    "            + random.randint(20, 40 + 10 * index)\n",
    "            - window_length / 2,\n",
    "        )\n",
    "\n",
    "        turtle.begin_fill()\n",
    "        turtle.pendown()\n",
    "\n",
    "        turtle.setheading(90)\n",
    "        turtle.forward(window_length)\n",
    "        turtle.right(90)\n",
    "        turtle.forward(window_length)\n",
    "        turtle.right(90)\n",
    "        turtle.forward(window_length)\n",
    "        turtle.right(90)\n",
    "        turtle.forward(window_length)\n",
    "\n",
    "        turtle.end_fill()\n",
    "\n",
    "\n",
    "def draw_stars(side_length):\n",
    "    width = side_length // 5\n",
    "    star_length = 2\n",
    "\n",
    "    turtle.fillcolor(\"white\")\n",
    "\n",
    "    for index in range(5):\n",
    "        # draw three stars for each of the five buildings\n",
    "        for _ in range(3):\n",
    "            turtle.penup()\n",
    "\n",
    "            # draw the star in a random position\n",
    "            x = (\n",
    "                -(side_length / 2)\n",
    "                + width * index\n",
    "                + random.randint(0, width - star_length)\n",
    "            )\n",
    "            y = side_length / 2 - random.randint(0, 40 - 10 * index) - star_length\n",
    "\n",
    "            turtle.setpos(x, y)\n",
    "\n",
    "            turtle.begin_fill()\n",
    "            turtle.pendown()\n",
    "\n",
    "            turtle.setheading(90)\n",
    "            turtle.forward(star_length)\n",
    "            turtle.right(90)\n",
    "            turtle.forward(star_length)\n",
    "            turtle.right(90)\n",
    "            turtle.forward(star_length)\n",
    "            turtle.right(90)\n",
    "            turtle.forward(star_length)\n",
    "\n",
    "            turtle.end_fill()\n",
    "\n",
    "\n",
    "main()"
   ]
  },
  {
   "cell_type": "markdown",
   "metadata": {},
   "source": [
    "### Example 40\n"
   ]
  },
  {
   "cell_type": "code",
   "execution_count": 46,
   "metadata": {},
   "outputs": [
    {
     "name": "stdout",
     "output_type": "stream",
     "text": [
      "2: is prime.\n",
      "3: is prime.\n",
      "5: is prime.\n",
      "7: is prime.\n",
      "11: is prime.\n",
      "13: is prime.\n",
      "17: is prime.\n",
      "19: is prime.\n",
      "23: is prime.\n",
      "29: is prime.\n",
      "31: is prime.\n",
      "37: is prime.\n",
      "41: is prime.\n",
      "43: is prime.\n",
      "47: is prime.\n",
      "53: is prime.\n",
      "59: is prime.\n",
      "61: is prime.\n",
      "67: is prime.\n",
      "71: is prime.\n",
      "73: is prime.\n",
      "79: is prime.\n",
      "83: is prime.\n",
      "89: is prime.\n",
      "97: is prime.\n"
     ]
    }
   ],
   "source": [
    "def main():\n",
    "    for number in range(1, 100 + 1):\n",
    "        if check_prime(number):\n",
    "            print(f\"{number}: is prime.\")\n",
    "\n",
    "\n",
    "# similar algorithm from an earlier problem\n",
    "def check_prime(number):\n",
    "    if number <= 1:\n",
    "        return False\n",
    "\n",
    "    if number <= 3:\n",
    "        return True\n",
    "\n",
    "    if number % 2 == 0:\n",
    "        return False\n",
    "\n",
    "    for interval_1 in range(2, number // 2):\n",
    "        for interval_2 in range(2, interval_1 + 1):\n",
    "            if interval_1 * interval_2 == number:\n",
    "                return False\n",
    "\n",
    "    return True\n",
    "\n",
    "\n",
    "main()"
   ]
  },
  {
   "cell_type": "markdown",
   "metadata": {},
   "source": [
    "### Example 41\n"
   ]
  },
  {
   "cell_type": "code",
   "execution_count": 47,
   "metadata": {},
   "outputs": [
    {
     "name": "stdout",
     "output_type": "stream",
     "text": [
      "Suit:\n",
      "Hearts\n",
      "Value:\n",
      "2\n"
     ]
    }
   ],
   "source": [
    "import random\n",
    "\n",
    "\n",
    "def main():\n",
    "    print(\"Suit:\")\n",
    "    suit()\n",
    "    print(\"Value:\")\n",
    "    value()\n",
    "\n",
    "\n",
    "def suit():\n",
    "    suit_id = random.randint(1, 4)\n",
    "    # print respective suit using conditionals\n",
    "    print(\n",
    "        \"Hearts\"\n",
    "        if suit_id == 1\n",
    "        else \"Diamonds\" if suit_id == 2 else \"Clubs\" if suit_id == 3 else \"Spades\"\n",
    "    )\n",
    "\n",
    "\n",
    "def value():\n",
    "    value_id = random.randint(2, 14)\n",
    "\n",
    "    # [2,10] => map directly to card value, 11 => Jack, 12 => Queen, 13 => King, 14 => Ace\n",
    "    print(\n",
    "        value_id\n",
    "        if value_id <= 10\n",
    "        else (\n",
    "            \"Jack\"\n",
    "            if value_id == 11\n",
    "            else \"Queen\" if value_id == 12 else \"King\" if value_id == 13 else \"Ace\"\n",
    "        )\n",
    "    )\n",
    "\n",
    "\n",
    "main()"
   ]
  },
  {
   "cell_type": "markdown",
   "metadata": {},
   "source": [
    "### Example 42\n"
   ]
  },
  {
   "cell_type": "code",
   "execution_count": 48,
   "metadata": {},
   "outputs": [
    {
     "name": "stdin",
     "output_type": "stream",
     "text": [
      "How many servings of Hersheys would you like? 20\n"
     ]
    },
    {
     "name": "stdout",
     "output_type": "stream",
     "text": [
      "20 servings: 0.5g of sodium, 340.0g of sugar.\n"
     ]
    },
    {
     "name": "stdin",
     "output_type": "stream",
     "text": [
      "How many servings of M&M would you like? 10\n"
     ]
    },
    {
     "name": "stdout",
     "output_type": "stream",
     "text": [
      "10 servings: 0.22010000000000002g of sodium, 198.4g of sugar.\n"
     ]
    },
    {
     "name": "stdin",
     "output_type": "stream",
     "text": [
      "How many servings of Lays would you like? 30\n"
     ]
    },
    {
     "name": "stdout",
     "output_type": "stream",
     "text": [
      "30 servings: 5.646428571428572g of sodium, 33.214285714285715g of sugar.\n"
     ]
    }
   ],
   "source": [
    "import hersheys\n",
    "import mandm\n",
    "import lays\n",
    "\n",
    "\n",
    "def main():\n",
    "    snack_details(\"Hersheys\", 31, hersheys.hersheys_sodium, hersheys.hersheys_sugar)\n",
    "    snack_details(\"M&M\", 31, mandm.mandm_sodium, mandm.mandm_sugar)\n",
    "    snack_details(\"Lays\", 31, lays.lays_sodium, lays.lays_sugar)\n",
    "\n",
    "\n",
    "# name: str                 -- name of snack\n",
    "# grams_per_serving: int    -- grams per serving\n",
    "# sodium: (int) -> int      -- function that takes grams of snack, returns sodium\n",
    "# sugar: (int) -> int       -- function that takes grams of snack, returns sugar\n",
    "def snack_details(name, grams_per_serving, sodium, sugar):\n",
    "    servings = int(input(f\"How many servings of {name} would you like?\"))\n",
    "    print(\n",
    "        f\"{servings} servings: {sodium(grams_per_serving * servings)}g of sodium, {sugar(grams_per_serving * servings)}g of sugar.\"\n",
    "    )\n",
    "\n",
    "\n",
    "if __name__ == \"__main__\":\n",
    "    main()"
   ]
  },
  {
   "cell_type": "markdown",
   "metadata": {},
   "source": [
    "### Example 43\n"
   ]
  },
  {
   "cell_type": "code",
   "execution_count": null,
   "metadata": {},
   "outputs": [],
   "source": [
    "import math\n",
    "import random\n",
    "import turtle\n",
    "\n",
    "\n",
    "def main():\n",
    "    turtle.speed(0)\n",
    "\n",
    "    side_length = 100\n",
    "    radius = side_length / 2\n",
    "\n",
    "    center_x, center_y = 0, 0\n",
    "\n",
    "    draw_circle(radius, center_x, center_y)\n",
    "    draw_square(side_length, center_x, center_y)\n",
    "\n",
    "    # arbitrary amount of dots to draw (more dots -> better pi accuracy)\n",
    "    dots = 300\n",
    "    dots_in_circle = 0\n",
    "\n",
    "    for _ in range(dots):\n",
    "        # if the return value of draw_dot is 1 => dot is in circle\n",
    "        dots_in_circle += draw_dot(\n",
    "            center_y + radius, center_y - radius, center_x + radius, center_x - radius\n",
    "        )\n",
    "\n",
    "    print(f\"dots_in_circle: {dots_in_circle}\")\n",
    "    print(f\"π = {4 * dots_in_circle / dots}\")\n",
    "\n",
    "    turtle.done()\n",
    "\n",
    "\n",
    "def draw_circle(radius, center_x, center_y):\n",
    "    turtle.penup()\n",
    "    turtle.setpos(center_x, center_y - radius)\n",
    "    turtle.pendown()\n",
    "\n",
    "    turtle.circle(radius)\n",
    "\n",
    "\n",
    "def draw_square(side_length, center_x, center_y):\n",
    "    turtle.penup()\n",
    "    turtle.setpos(center_x + side_length / 2, center_y + side_length / 2)\n",
    "    turtle.pendown()\n",
    "\n",
    "    turtle.setheading(180)\n",
    "    turtle.forward(side_length)\n",
    "    turtle.left(90)\n",
    "    turtle.forward(side_length)\n",
    "    turtle.left(90)\n",
    "    turtle.forward(side_length)\n",
    "    turtle.left(90)\n",
    "    turtle.forward(side_length)\n",
    "\n",
    "\n",
    "def draw_dot(y_max_bound, y_min_bound, x_max_bound, x_min_bound):\n",
    "    turtle.penup()\n",
    "    turtle.setpos(\n",
    "        random.randint(x_min_bound, x_max_bound),\n",
    "        random.randint(y_min_bound, y_max_bound),\n",
    "    )\n",
    "    turtle.pendown()\n",
    "\n",
    "    turtle.fillcolor(\"black\")\n",
    "    turtle.begin_fill()\n",
    "    turtle.circle(1)\n",
    "    turtle.end_fill()\n",
    "\n",
    "    # return if the distance of the dot is within the radius of the circle\n",
    "    distance = math.sqrt(\n",
    "        math.pow((abs(turtle.xcor()) - x_max_bound), 2)\n",
    "        + math.pow((abs(turtle.ycor()) - y_max_bound), 2)\n",
    "    )\n",
    "    return distance <= x_max_bound\n",
    "\n",
    "\n",
    "main()"
   ]
  },
  {
   "cell_type": "markdown",
   "metadata": {},
   "source": [
    "### Example 44\n"
   ]
  },
  {
   "cell_type": "code",
   "execution_count": 3,
   "metadata": {},
   "outputs": [
    {
     "name": "stdin",
     "output_type": "stream",
     "text": [
      "How many dice would you like to match? ('S' to STOP) 1\n"
     ]
    },
    {
     "name": "stdout",
     "output_type": "stream",
     "text": [
      "It took 1 turns to roll 1 5's!\n"
     ]
    },
    {
     "name": "stdin",
     "output_type": "stream",
     "text": [
      "How many dice would you like to match? ('S' to STOP) 2\n"
     ]
    },
    {
     "name": "stdout",
     "output_type": "stream",
     "text": [
      "It took 1 turns to roll 2 4's!\n"
     ]
    },
    {
     "name": "stdin",
     "output_type": "stream",
     "text": [
      "How many dice would you like to match? ('S' to STOP) 3\n"
     ]
    },
    {
     "name": "stdout",
     "output_type": "stream",
     "text": [
      "It took 7 turns to roll 3 1's!\n"
     ]
    },
    {
     "name": "stdin",
     "output_type": "stream",
     "text": [
      "How many dice would you like to match? ('S' to STOP) 4\n"
     ]
    },
    {
     "name": "stdout",
     "output_type": "stream",
     "text": [
      "It took 132 turns to roll 4 6's!\n"
     ]
    },
    {
     "name": "stdin",
     "output_type": "stream",
     "text": [
      "How many dice would you like to match? ('S' to STOP) 5\n"
     ]
    },
    {
     "name": "stdout",
     "output_type": "stream",
     "text": [
      "It took 762 turns to roll 5 5's!\n"
     ]
    },
    {
     "name": "stdin",
     "output_type": "stream",
     "text": [
      "How many dice would you like to match? ('S' to STOP) 6\n"
     ]
    },
    {
     "name": "stdout",
     "output_type": "stream",
     "text": [
      "It took 16646 turns to roll 6 3's!\n"
     ]
    },
    {
     "name": "stdin",
     "output_type": "stream",
     "text": [
      "How many dice would you like to match? ('S' to STOP) 7\n"
     ]
    },
    {
     "name": "stdout",
     "output_type": "stream",
     "text": [
      "It took 51487 turns to roll 7 5's!\n"
     ]
    },
    {
     "name": "stdin",
     "output_type": "stream",
     "text": [
      "How many dice would you like to match? ('S' to STOP) 8\n"
     ]
    },
    {
     "name": "stdout",
     "output_type": "stream",
     "text": [
      "It took 339460 turns to roll 8 3's!\n"
     ]
    },
    {
     "name": "stdin",
     "output_type": "stream",
     "text": [
      "How many dice would you like to match? ('S' to STOP) 9\n"
     ]
    },
    {
     "name": "stdout",
     "output_type": "stream",
     "text": [
      "It took 3212405 turns to roll 9 2's!\n"
     ]
    },
    {
     "name": "stdin",
     "output_type": "stream",
     "text": [
      "How many dice would you like to match? ('S' to STOP) 10\n"
     ]
    },
    {
     "name": "stdout",
     "output_type": "stream",
     "text": [
      "It took 17601059 turns to roll 10 6's!\n"
     ]
    },
    {
     "name": "stdin",
     "output_type": "stream",
     "text": [
      "How many dice would you like to match? ('S' to STOP) S\n"
     ]
    }
   ],
   "source": [
    "import random\n",
    "\n",
    "\n",
    "def main():\n",
    "    while (\n",
    "        dice_match := input(\"How many dice would you like to match? ('S' to STOP)\")\n",
    "    ) != \"S\":\n",
    "        for turns in range(1, 2**31 - 1):\n",
    "            result = roll(int(dice_match))\n",
    "            if result != 0:\n",
    "                print(f\"It took {turns} turns to roll {dice_match} {result}'s!\")\n",
    "                break\n",
    "\n",
    "\n",
    "def roll(dice_match, previous_value=0):\n",
    "    # no more dice to match => all dice values matched => return matching value\n",
    "    if dice_match == 0:\n",
    "        return previous_value\n",
    "\n",
    "    # previous value has not been initialized => begin recursion w/ random dice value\n",
    "    if previous_value == 0:\n",
    "        # recurse with one less match and random dice value\n",
    "        return roll(dice_match - 1, random.randint(1, 6))\n",
    "\n",
    "    # (previous value initialized ^ random value matches previous) => recurse\n",
    "    if random.randint(1, 6) == previous_value:\n",
    "        return roll(dice_match - 1, previous_value)\n",
    "    # random value does not match previous => short circuit => return 0\n",
    "    return 0\n",
    "\n",
    "\n",
    "main()"
   ]
  }
 ],
 "metadata": {
  "kernelspec": {
   "display_name": "Python 3 (ipykernel)",
   "language": "python",
   "name": "python3"
  },
  "language_info": {
   "codemirror_mode": {
    "name": "ipython",
    "version": 3
   },
   "file_extension": ".py",
   "mimetype": "text/x-python",
   "name": "python",
   "nbconvert_exporter": "python",
   "pygments_lexer": "ipython3",
   "version": "3.11.8"
  }
 },
 "nbformat": 4,
 "nbformat_minor": 4
}
