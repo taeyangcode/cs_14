{
 "cells": [
  {
   "cell_type": "markdown",
   "metadata": {},
   "source": [
    "### Example 1\n"
   ]
  },
  {
   "cell_type": "code",
   "execution_count": 1,
   "metadata": {},
   "outputs": [],
   "source": [
    "def main():\n",
    "    # open file and write\n",
    "    fruit_file = open(\"fruit\", \"w\")\n",
    "\n",
    "    fruit_file.write(\"Mango\\n\")\n",
    "    fruit_file.write(\"Strawberry\\n\")\n",
    "    fruit_file.write(\"Apple\\n\")\n",
    "\n",
    "    fruit_file.close()\n",
    "\n",
    "\n",
    "main()"
   ]
  },
  {
   "cell_type": "markdown",
   "metadata": {},
   "source": [
    "### Example 2\n"
   ]
  },
  {
   "cell_type": "code",
   "execution_count": 2,
   "metadata": {},
   "outputs": [],
   "source": [
    "def main():\n",
    "    # open file and write\n",
    "    fruit_file = open(\"fruit\", \"a\")\n",
    "\n",
    "    fruit_file.write(\"Kiwi\\n\")\n",
    "    fruit_file.write(\"Pineapple\\n\")\n",
    "    fruit_file.write(\"Grapes\\n\")\n",
    "\n",
    "    fruit_file.close()\n",
    "\n",
    "\n",
    "main()"
   ]
  },
  {
   "cell_type": "markdown",
   "metadata": {},
   "source": [
    "### Example 3\n"
   ]
  },
  {
   "cell_type": "code",
   "execution_count": 3,
   "metadata": {},
   "outputs": [
    {
     "name": "stdout",
     "output_type": "stream",
     "text": [
      "['Mango\\n', 'Strawberry\\n', 'Apple\\n', 'Kiwi\\n', 'Pineapple\\n', 'Grapes\\n']\n"
     ]
    }
   ],
   "source": [
    "def main():\n",
    "    # open file and read\n",
    "    fruit_file = open(\"fruit\", \"r\")\n",
    "\n",
    "    print(fruit_file.readlines())\n",
    "\n",
    "    fruit_file.close()\n",
    "\n",
    "\n",
    "main()"
   ]
  },
  {
   "cell_type": "markdown",
   "metadata": {},
   "source": [
    "### Example 4\n"
   ]
  },
  {
   "cell_type": "code",
   "execution_count": 4,
   "metadata": {},
   "outputs": [
    {
     "name": "stdout",
     "output_type": "stream",
     "text": [
      "Mango\n",
      "Strawberry\n",
      "Apple\n"
     ]
    }
   ],
   "source": [
    "def main():\n",
    "    # open file and read w/ out new lines\n",
    "    fruit_file = open(\"fruit\", \"r\")\n",
    "\n",
    "    print(fruit_file.readline().rstrip(\"\\n\"))\n",
    "    print(fruit_file.readline().rstrip(\"\\n\"))\n",
    "    print(fruit_file.readline().rstrip(\"\\n\"))\n",
    "\n",
    "    fruit_file.close()\n",
    "\n",
    "\n",
    "main()"
   ]
  },
  {
   "cell_type": "markdown",
   "metadata": {},
   "source": [
    "### Example 5\n"
   ]
  },
  {
   "cell_type": "code",
   "execution_count": 5,
   "metadata": {},
   "outputs": [
    {
     "name": "stdin",
     "output_type": "stream",
     "text": [
      "Enter a number: 20\n",
      "Enter a number: 40\n",
      "Enter a number: 60\n"
     ]
    },
    {
     "name": "stdout",
     "output_type": "stream",
     "text": [
      "Sum: 120.0\n",
      "20\n",
      "40\n",
      "60\n"
     ]
    }
   ],
   "source": [
    "def main():\n",
    "    numbers_f = open(\"numbers\", \"w\")\n",
    "\n",
    "    number_1 = input(\"Enter a number:\")\n",
    "    number_2 = input(\"Enter a number:\")\n",
    "    number_3 = input(\"Enter a number:\")\n",
    "\n",
    "    print(f\"Sum: {float(number_1) + float(number_2) + float(number_3)}\")\n",
    "\n",
    "    # write input numbers\n",
    "    numbers_f.write(f\"{number_1}\\n\")\n",
    "    numbers_f.write(f\"{number_2}\\n\")\n",
    "    numbers_f.write(f\"{number_3}\\n\")\n",
    "\n",
    "    numbers_f.close()\n",
    "\n",
    "    numbers_f = open(\"numbers\", \"r\")\n",
    "\n",
    "    # read inputted numbers\n",
    "    print(numbers_f.readline().rstrip(\"\\n\"))\n",
    "    print(numbers_f.readline().rstrip(\"\\n\"))\n",
    "    print(numbers_f.readline().rstrip(\"\\n\"))\n",
    "\n",
    "    numbers_f.close()\n",
    "\n",
    "\n",
    "main()"
   ]
  },
  {
   "cell_type": "markdown",
   "metadata": {},
   "source": [
    "### Example 6\n"
   ]
  },
  {
   "cell_type": "code",
   "execution_count": 6,
   "metadata": {},
   "outputs": [
    {
     "name": "stdin",
     "output_type": "stream",
     "text": [
      "How many days do you have sales? 5\n",
      "Day 1 Sales: 10\n",
      "Day 2 Sales: 20\n",
      "Day 3 Sales: 30\n",
      "Day 4 Sales: 40\n",
      "Day 5 Sales: 50\n"
     ]
    },
    {
     "name": "stdout",
     "output_type": "stream",
     "text": [
      "Done\n"
     ]
    }
   ],
   "source": [
    "def main():\n",
    "    days = input(\"How many days do you have sales?\")\n",
    "\n",
    "    sales_f = open(\"sales.txt\", \"w\")\n",
    "\n",
    "    # input for each day in range\n",
    "    for day in range(1, int(days) + 1):\n",
    "        sales_f.write(f'{input(f\"Day {day} Sales:\")}\\n')\n",
    "\n",
    "    sales_f.close()\n",
    "    print(\"Done\")\n",
    "\n",
    "\n",
    "main()"
   ]
  },
  {
   "cell_type": "markdown",
   "metadata": {},
   "source": [
    "### Example 7\n"
   ]
  },
  {
   "cell_type": "code",
   "execution_count": 7,
   "metadata": {},
   "outputs": [
    {
     "name": "stdout",
     "output_type": "stream",
     "text": [
      "10.00\n",
      "20.00\n",
      "30.00\n",
      "40.00\n",
      "50.00\n"
     ]
    }
   ],
   "source": [
    "def main():\n",
    "    sales_f = open(\"sales.txt\", \"r\")\n",
    "\n",
    "    # read formatted lines\n",
    "    for line in sales_f:\n",
    "        print(format(float(line), \".2f\"))\n",
    "\n",
    "    sales_f.close()\n",
    "\n",
    "\n",
    "main()"
   ]
  },
  {
   "cell_type": "markdown",
   "metadata": {},
   "source": [
    "### Example 8\n"
   ]
  },
  {
   "cell_type": "code",
   "execution_count": 8,
   "metadata": {},
   "outputs": [
    {
     "name": "stdin",
     "output_type": "stream",
     "text": [
      "Enter amount of videos: 3\n",
      "Enter the running time of video 1: 20\n",
      "Enter the running time of video 2: 40\n",
      "Enter the running time of video 3: 60\n"
     ]
    },
    {
     "name": "stdout",
     "output_type": "stream",
     "text": [
      "Done.\n"
     ]
    }
   ],
   "source": [
    "def main():\n",
    "    videos_count = int(input(\"Enter amount of videos:\"))\n",
    "\n",
    "    running_time_f = open(\"running_time.txt\", \"w\")\n",
    "\n",
    "    # write for each video\n",
    "    for video_index in range(videos_count):\n",
    "        running_time_f.write(\n",
    "            input(f\"Enter the running time of video {video_index + 1}:\") + \"\\n\"\n",
    "        )\n",
    "\n",
    "    running_time_f.close()\n",
    "\n",
    "    print(\"Done.\")\n",
    "\n",
    "\n",
    "main()"
   ]
  },
  {
   "cell_type": "markdown",
   "metadata": {},
   "source": [
    "### Example 9\n"
   ]
  },
  {
   "cell_type": "code",
   "execution_count": 9,
   "metadata": {},
   "outputs": [
    {
     "name": "stdout",
     "output_type": "stream",
     "text": [
      "Running time: 20\n",
      "Running time: 40\n",
      "Running time: 60\n",
      "Done.\n"
     ]
    }
   ],
   "source": [
    "def main():\n",
    "    running_time_f = open(\"running_time.txt\", \"r\")\n",
    "\n",
    "    # read each line in file\n",
    "    for line in running_time_f:\n",
    "        print(\"Running time: \" + line.rstrip(\"\\n\"))\n",
    "\n",
    "    running_time_f.close()\n",
    "\n",
    "    print(\"Done.\")\n",
    "\n",
    "\n",
    "main()"
   ]
  },
  {
   "cell_type": "markdown",
   "metadata": {},
   "source": [
    "### Example 10\n"
   ]
  },
  {
   "cell_type": "code",
   "execution_count": 10,
   "metadata": {},
   "outputs": [],
   "source": [
    "def main():\n",
    "    with open(\"Oddities.txt\", \"w\") as oddities_f:\n",
    "        # write each odd number (skip by 2)\n",
    "        for odd in range(1, 19 + 1, 2):\n",
    "            oddities_f.write(str(odd) + \"\\n\")\n",
    "\n",
    "\n",
    "main()"
   ]
  },
  {
   "cell_type": "markdown",
   "metadata": {},
   "source": [
    "### Example 11\n"
   ]
  },
  {
   "cell_type": "code",
   "execution_count": 11,
   "metadata": {},
   "outputs": [
    {
     "name": "stdout",
     "output_type": "stream",
     "text": [
      "Copied.\n"
     ]
    }
   ],
   "source": [
    "def main():\n",
    "    with open(\"Oddities.txt\", \"r\") as read_f, open(\"Oddities_copy.txt\", \"w\") as write_f:\n",
    "        # copy file in one line\n",
    "        write_f.write(read_f.read())\n",
    "\n",
    "    print(\"Copied.\")\n",
    "\n",
    "\n",
    "main()"
   ]
  },
  {
   "cell_type": "markdown",
   "metadata": {},
   "source": [
    "### Example 12\n"
   ]
  },
  {
   "cell_type": "code",
   "execution_count": 12,
   "metadata": {},
   "outputs": [
    {
     "name": "stdin",
     "output_type": "stream",
     "text": [
      "Enter amount of employees: 5\n"
     ]
    },
    {
     "name": "stdout",
     "output_type": "stream",
     "text": [
      "Employee #1:\n"
     ]
    },
    {
     "name": "stdin",
     "output_type": "stream",
     "text": [
      "Name: A\n",
      "ID: 1\n",
      "Department: A\n"
     ]
    },
    {
     "name": "stdout",
     "output_type": "stream",
     "text": [
      "\n",
      "Employee #2:\n"
     ]
    },
    {
     "name": "stdin",
     "output_type": "stream",
     "text": [
      "Name: B\n",
      "ID: 2\n",
      "Department: B\n"
     ]
    },
    {
     "name": "stdout",
     "output_type": "stream",
     "text": [
      "\n",
      "Employee #3:\n"
     ]
    },
    {
     "name": "stdin",
     "output_type": "stream",
     "text": [
      "Name: C\n",
      "ID: 3\n",
      "Department: C\n"
     ]
    },
    {
     "name": "stdout",
     "output_type": "stream",
     "text": [
      "\n",
      "Employee #4:\n"
     ]
    },
    {
     "name": "stdin",
     "output_type": "stream",
     "text": [
      "Name: D\n",
      "ID: 4\n",
      "Department: D\n"
     ]
    },
    {
     "name": "stdout",
     "output_type": "stream",
     "text": [
      "\n",
      "Employee #5:\n"
     ]
    },
    {
     "name": "stdin",
     "output_type": "stream",
     "text": [
      "Name: E\n",
      "ID: 5\n",
      "Department: E\n"
     ]
    },
    {
     "name": "stdout",
     "output_type": "stream",
     "text": [
      "\n",
      "Done.\n"
     ]
    }
   ],
   "source": [
    "def main():\n",
    "    with open(\"employees.txt\", \"w\") as employees_f:\n",
    "        # loop for input amount of times\n",
    "        for index in range(int(input(\"Enter amount of employees:\"))):\n",
    "            # enter data for nth employee\n",
    "            print(f\"Employee #{index + 1}:\")\n",
    "            employees_f.write(input(\"Name:\") + \"\\n\")\n",
    "            employees_f.write(input(\"ID:\") + \"\\n\")\n",
    "            employees_f.write(input(\"Department:\") + \"\\n\")\n",
    "\n",
    "            print()\n",
    "\n",
    "    print(\"Done.\")\n",
    "\n",
    "\n",
    "main()"
   ]
  },
  {
   "cell_type": "markdown",
   "metadata": {},
   "source": [
    "### Example 13\n"
   ]
  },
  {
   "cell_type": "code",
   "execution_count": 13,
   "metadata": {},
   "outputs": [
    {
     "name": "stdout",
     "output_type": "stream",
     "text": [
      "ERROR: IO Error\n"
     ]
    }
   ],
   "source": [
    "def main():\n",
    "    # handle exception\n",
    "    try:\n",
    "        my_file = open(\"NonExistingFile.txt\", \"r\")\n",
    "        print(my_file.read())\n",
    "    except IOError:\n",
    "        print(\"ERROR: IO Error\")\n",
    "\n",
    "\n",
    "main()"
   ]
  },
  {
   "cell_type": "markdown",
   "metadata": {},
   "source": [
    "### Example 14\n"
   ]
  },
  {
   "cell_type": "code",
   "execution_count": 14,
   "metadata": {},
   "outputs": [
    {
     "name": "stdin",
     "output_type": "stream",
     "text": [
      "Enter numerator: 10\n",
      "Enter denominator: 0\n"
     ]
    },
    {
     "name": "stdout",
     "output_type": "stream",
     "text": [
      "ERROR: Divide by zero.\n"
     ]
    }
   ],
   "source": [
    "def main():\n",
    "    try:\n",
    "        numerator = float(input(\"Enter numerator:\"))\n",
    "        denominator = float(input(\"Enter denominator:\"))\n",
    "        print(f\"Result: {numerator / denominator}\")\n",
    "    except ValueError:\n",
    "        # handle error if non-number is entered\n",
    "        print(\"ERROR: Non-number supplied.\")\n",
    "    except ZeroDivisionError:\n",
    "        # handle denominator being 0\n",
    "        print(\"ERROR: Divide by zero.\")\n",
    "\n",
    "\n",
    "main()"
   ]
  },
  {
   "cell_type": "markdown",
   "metadata": {},
   "source": [
    "### Example 15\n"
   ]
  },
  {
   "cell_type": "code",
   "execution_count": 44,
   "metadata": {},
   "outputs": [],
   "source": [
    "def main():\n",
    "    with open(\"numbers.txt\", \"w\") as numbers_f:\n",
    "        # loop for input amount of times\n",
    "        for index in range(int(input(\"How many numbers would you like to input?\"))):\n",
    "            # write input number\n",
    "            numbers_f.write(input(f\"Number {index + 1}:\") + \"\\n\")\n",
    "\n",
    "\n",
    "main()"
   ]
  },
  {
   "cell_type": "markdown",
   "metadata": {},
   "source": [
    "### Example 16 (Exercise 5)\n"
   ]
  },
  {
   "cell_type": "code",
   "execution_count": 46,
   "metadata": {},
   "outputs": [
    {
     "name": "stdout",
     "output_type": "stream",
     "text": [
      "Total: 60.0\n"
     ]
    }
   ],
   "source": [
    "def main():\n",
    "    total = 0\n",
    "    with open(\"numbers.txt\", \"r\") as numbers_f:\n",
    "        for number in numbers_f:\n",
    "            # increment total for input amount of times\n",
    "            total += float(number)\n",
    "    # output total\n",
    "    print(f\"Total: {total}\")\n",
    "\n",
    "\n",
    "main()"
   ]
  },
  {
   "cell_type": "markdown",
   "metadata": {},
   "source": [
    "### Example 17 (Exercise 6)\n"
   ]
  },
  {
   "cell_type": "code",
   "execution_count": 47,
   "metadata": {},
   "outputs": [
    {
     "name": "stdout",
     "output_type": "stream",
     "text": [
      "Average: 30.0\n"
     ]
    }
   ],
   "source": [
    "def main():\n",
    "    total = 0\n",
    "    count = 0\n",
    "    with open(\"numbers.txt\", \"r\") as numbers_f:\n",
    "        for number in numbers_f:\n",
    "            # increment total and count\n",
    "            total += float(number)\n",
    "            count += 1\n",
    "    # divide total by count\n",
    "    print(f\"Average: {total / count}\")\n",
    "\n",
    "\n",
    "main()"
   ]
  },
  {
   "cell_type": "markdown",
   "metadata": {},
   "source": [
    "### Example 18 (Exercise 9)\n"
   ]
  },
  {
   "cell_type": "code",
   "execution_count": 48,
   "metadata": {},
   "outputs": [
    {
     "name": "stdout",
     "output_type": "stream",
     "text": [
      "Average: 30.0\n"
     ]
    }
   ],
   "source": [
    "def main():\n",
    "    total = 0\n",
    "    count = 0\n",
    "\n",
    "    try:\n",
    "        with open(\"numbers.txt\", \"r\") as numbers_f:\n",
    "            for number in numbers_f:\n",
    "                try:\n",
    "                    total += float(number)\n",
    "                except ValueError:\n",
    "                    # handle invalid cast\n",
    "                    print(\"ERROR: Non-number found\")\n",
    "                count += 1\n",
    "    except IOError:\n",
    "        # handle any file error\n",
    "        print(\"ERROR: IO Error\")\n",
    "\n",
    "    # print average\n",
    "    print(f\"Average: {total / count}\")\n",
    "\n",
    "\n",
    "main()"
   ]
  }
 ],
 "metadata": {
  "kernelspec": {
   "display_name": "Python 3 (ipykernel)",
   "language": "python",
   "name": "python3"
  },
  "language_info": {
   "codemirror_mode": {
    "name": "ipython",
    "version": 3
   },
   "file_extension": ".py",
   "mimetype": "text/x-python",
   "name": "python",
   "nbconvert_exporter": "python",
   "pygments_lexer": "ipython3",
   "version": "3.11.8"
  }
 },
 "nbformat": 4,
 "nbformat_minor": 4
}
