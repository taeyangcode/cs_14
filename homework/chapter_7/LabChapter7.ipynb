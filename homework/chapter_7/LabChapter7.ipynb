{
 "cells": [
  {
   "cell_type": "markdown",
   "metadata": {
    "vscode": {
     "languageId": "typescript"
    }
   },
   "source": [
    "### Example 1\n"
   ]
  },
  {
   "cell_type": "code",
   "execution_count": 1,
   "metadata": {},
   "outputs": [
    {
     "name": "stdin",
     "output_type": "stream",
     "text": [
      "Enter your zip code: 10000\n",
      "Enter the last four digits of your phone #: 1000\n"
     ]
    },
    {
     "data": {
      "text/plain": [
       "[[['Corey Mostero', 10, 0, 'KitKat'], 'Programming', 'In-N-Out'],\n",
       " '10000',\n",
       " '1000']"
      ]
     },
     "execution_count": 1,
     "metadata": {},
     "output_type": "execute_result"
    }
   ],
   "source": [
    "me = [\"Corey Mostero\", 10, 0, \"KitKat\"]\n",
    "dating_profile = [me, \"Programming\", \"In-N-Out\"]\n",
    "\n",
    "zip_code = input(\"Enter your zip code:\")\n",
    "phone_number_last_four = input(\"Enter the last four digits of your phone #:\")\n",
    "\n",
    "more_about_me = [dating_profile, zip_code, phone_number_last_four]\n",
    "more_about_me"
   ]
  },
  {
   "cell_type": "markdown",
   "metadata": {},
   "source": [
    "### Example 2\n"
   ]
  },
  {
   "cell_type": "code",
   "execution_count": 2,
   "metadata": {},
   "outputs": [
    {
     "name": "stdout",
     "output_type": "stream",
     "text": [
      "[2, 4, 6, 8, 10, 12, 14, 16, 18, 20, 22, 24, 26, 28, 30, 32, 34, 36, 38, 40, 42, 44, 46, 48, 50, 52, 54, 56, 58, 60, 62, 64, 66, 68, 70, 72, 74, 76, 78, 80, 82, 84, 86, 88, 90, 92, 94, 96, 98, 100]\n"
     ]
    }
   ],
   "source": [
    "print(list(range(2, 100 + 1, 2)))"
   ]
  },
  {
   "cell_type": "markdown",
   "metadata": {},
   "source": [
    "### Example 3\n"
   ]
  },
  {
   "cell_type": "code",
   "execution_count": 3,
   "metadata": {},
   "outputs": [
    {
     "name": "stdout",
     "output_type": "stream",
     "text": [
      "a\n",
      "b\n",
      "c\n",
      "d\n",
      "e\n"
     ]
    }
   ],
   "source": [
    "list1 = [\"a\", \"b\", \"c\", \"d\", \"e\"]\n",
    "for index in range(len(list1)):\n",
    "    print(list1[index])"
   ]
  },
  {
   "cell_type": "markdown",
   "metadata": {},
   "source": [
    "### Example 4\n"
   ]
  },
  {
   "cell_type": "code",
   "execution_count": 4,
   "metadata": {},
   "outputs": [
    {
     "name": "stdout",
     "output_type": "stream",
     "text": [
      "a\n",
      "c\n",
      "e\n"
     ]
    }
   ],
   "source": [
    "list1 = [\"a\", \"b\", \"c\", \"d\", \"e\"]\n",
    "# step by 2\n",
    "for letter in list1[::2]:\n",
    "    print(letter)"
   ]
  },
  {
   "cell_type": "markdown",
   "metadata": {},
   "source": [
    "### Example 5\n"
   ]
  },
  {
   "cell_type": "code",
   "execution_count": 5,
   "metadata": {},
   "outputs": [
    {
     "name": "stdout",
     "output_type": "stream",
     "text": [
      "a\n"
     ]
    }
   ],
   "source": [
    "list1 = [\"a\", \"b\", \"c\", \"d\", \"e\"]\n",
    "# print first letter\n",
    "print(list1[-len(list1)])"
   ]
  },
  {
   "cell_type": "markdown",
   "metadata": {},
   "source": [
    "### Example 6\n"
   ]
  },
  {
   "cell_type": "code",
   "execution_count": 13,
   "metadata": {},
   "outputs": [
    {
     "name": "stdout",
     "output_type": "stream",
     "text": [
      "1\n",
      "2\n",
      "3\n",
      "4\n",
      "5\n"
     ]
    }
   ],
   "source": [
    "list1 = [\"a\", \"b\", \"c\", \"d\", \"e\"]\n",
    "for index in range(len(list1)):\n",
    "    # \"display the number of elements in list1\"\n",
    "    print(index + 1)"
   ]
  },
  {
   "cell_type": "markdown",
   "metadata": {},
   "source": [
    "### Example 7\n"
   ]
  },
  {
   "cell_type": "code",
   "execution_count": 2,
   "metadata": {},
   "outputs": [
    {
     "data": {
      "text/plain": [
       "['A', 'B', 'C', 'D', 'E', 'F']"
      ]
     },
     "execution_count": 2,
     "metadata": {},
     "output_type": "execute_result"
    }
   ],
   "source": [
    "list1 = [\"A\", \"B\", \"C\"]\n",
    "list2 = [\"D\", \"E\", \"F\"]\n",
    "list3 = list1 + list2\n",
    "list3"
   ]
  },
  {
   "cell_type": "markdown",
   "metadata": {},
   "source": [
    "### Example 8\n"
   ]
  },
  {
   "cell_type": "code",
   "execution_count": 3,
   "metadata": {},
   "outputs": [
    {
     "name": "stdout",
     "output_type": "stream",
     "text": [
      "AD\n",
      "BE\n",
      "CF\n"
     ]
    }
   ],
   "source": [
    "list1 = [\"A\", \"B\", \"C\"]\n",
    "list2 = [\"D\", \"E\", \"F\"]\n",
    "\n",
    "for index in range(len(list1)):\n",
    "    # concatenate\n",
    "    print(list1[index] + list2[index])"
   ]
  },
  {
   "cell_type": "markdown",
   "metadata": {},
   "source": [
    "### Example 9\n"
   ]
  },
  {
   "cell_type": "code",
   "execution_count": 4,
   "metadata": {},
   "outputs": [
    {
     "name": "stdout",
     "output_type": "stream",
     "text": [
      "['Monday', 'Tuesday', 'Wednesday', 'Thursday', 'Friday']\n"
     ]
    }
   ],
   "source": [
    "days = [\"Sunday\", \"Monday\", \"Tuesday\", \"Wednesday\", \"Thursday\", \"Friday\", \"Saturday\"]\n",
    "\n",
    "# indexes [1, 5]\n",
    "print(days[1:6])"
   ]
  },
  {
   "cell_type": "markdown",
   "metadata": {},
   "source": [
    "### Example 10\n"
   ]
  },
  {
   "cell_type": "code",
   "execution_count": 5,
   "metadata": {},
   "outputs": [
    {
     "name": "stdout",
     "output_type": "stream",
     "text": [
      "['Sunday', 'Monday', 'Tuesday', 'Wednesday', 'Thursday', 'Friday', 'Saturday']\n"
     ]
    }
   ],
   "source": [
    "days = [\"Sunday\", \"Monday\", \"Tuesday\", \"Wednesday\", \"Thursday\", \"Friday\", \"Saturday\"]\n",
    "\n",
    "# print entire list\n",
    "print(days[:])"
   ]
  },
  {
   "cell_type": "markdown",
   "metadata": {},
   "source": [
    "### Example 11\n"
   ]
  },
  {
   "cell_type": "code",
   "execution_count": 6,
   "metadata": {},
   "outputs": [
    {
     "name": "stdout",
     "output_type": "stream",
     "text": [
      "5 4 0\n"
     ]
    }
   ],
   "source": [
    "numbers = [10, 20, 30, 40, 50]\n",
    "\n",
    "print(len(numbers), len(numbers) - 1, 0)"
   ]
  },
  {
   "cell_type": "markdown",
   "metadata": {},
   "source": [
    "### Example 12\n"
   ]
  },
  {
   "cell_type": "code",
   "execution_count": 7,
   "metadata": {},
   "outputs": [
    {
     "name": "stdout",
     "output_type": "stream",
     "text": [
      "3 1 2\n"
     ]
    }
   ],
   "source": [
    "numbers = [1, 2, 3]\n",
    "\n",
    "print(numbers[2], numbers[0], numbers[-2])"
   ]
  },
  {
   "cell_type": "markdown",
   "metadata": {},
   "source": [
    "### Example 13\n"
   ]
  },
  {
   "cell_type": "code",
   "execution_count": 27,
   "metadata": {},
   "outputs": [
    {
     "name": "stdout",
     "output_type": "stream",
     "text": [
      "[4, 6]\n"
     ]
    }
   ],
   "source": [
    "values = [2, 4, 6, 8, 10]\n",
    "\n",
    "print(values[1:3])"
   ]
  },
  {
   "cell_type": "markdown",
   "metadata": {},
   "source": [
    "### Example 14\n"
   ]
  },
  {
   "cell_type": "code",
   "execution_count": 28,
   "metadata": {},
   "outputs": [
    {
     "name": "stdout",
     "output_type": "stream",
     "text": [
      "[6, 7]\n"
     ]
    }
   ],
   "source": [
    "values = [1, 2, 3, 4, 5, 6, 7]\n",
    "\n",
    "print(values[5:])"
   ]
  },
  {
   "cell_type": "markdown",
   "metadata": {},
   "source": [
    "### Example 15\n"
   ]
  },
  {
   "cell_type": "code",
   "execution_count": 29,
   "metadata": {},
   "outputs": [
    {
     "name": "stdout",
     "output_type": "stream",
     "text": [
      "[5, 6, 7, 8]\n"
     ]
    }
   ],
   "source": [
    "nums = [1, 2, 3, 4, 5, 6, 7, 8]\n",
    "\n",
    "print(nums[-4:])"
   ]
  },
  {
   "cell_type": "markdown",
   "metadata": {},
   "source": [
    "### Example 16\n"
   ]
  },
  {
   "cell_type": "code",
   "execution_count": 30,
   "metadata": {},
   "outputs": [
    {
     "name": "stdout",
     "output_type": "stream",
     "text": [
      "[2, 2, 2, 2, 2]\n"
     ]
    }
   ],
   "source": [
    "print([2] * 5)"
   ]
  },
  {
   "cell_type": "markdown",
   "metadata": {},
   "source": [
    "### Example 17\n"
   ]
  },
  {
   "cell_type": "code",
   "execution_count": 10,
   "metadata": {},
   "outputs": [
    {
     "name": "stdout",
     "output_type": "stream",
     "text": [
      "[10, 9, 8, 7, 6, 5, 4, 3, 2, 1]\n"
     ]
    }
   ],
   "source": [
    "nums = [1, 2, 3, 4, 5, 6, 7, 8, 9, 10]\n",
    "\n",
    "print(nums[::-1])"
   ]
  },
  {
   "cell_type": "markdown",
   "metadata": {},
   "source": [
    "### Example 18\n"
   ]
  },
  {
   "cell_type": "code",
   "execution_count": 9,
   "metadata": {},
   "outputs": [
    {
     "name": "stdout",
     "output_type": "stream",
     "text": [
      "string does contain 'x'\n"
     ]
    }
   ],
   "source": [
    "string = \"the quick brown fox jumps over the lazy dog\"\n",
    "\n",
    "# check if 'x' is in string\n",
    "print(f\"string does {'not contain' if 'x' not in string else 'contain'} 'x'\")"
   ]
  },
  {
   "cell_type": "markdown",
   "metadata": {},
   "source": [
    "### Example 19\n"
   ]
  },
  {
   "cell_type": "code",
   "execution_count": 11,
   "metadata": {},
   "outputs": [
    {
     "name": "stdin",
     "output_type": "stream",
     "text": [
      "Enter Monday's sales: 10\n",
      "Enter Tuesday's sales: 10\n",
      "Enter Wednesday's sales: 10\n",
      "Enter Thursday's sales: 10\n",
      "Enter Friday's sales: 10\n",
      "Enter Saturday's sales: 10\n",
      "Enter Sunday's sales: 10\n"
     ]
    },
    {
     "name": "stdout",
     "output_type": "stream",
     "text": [
      "Total Sales: $70.00\n"
     ]
    }
   ],
   "source": [
    "days = [\"Monday\", \"Tuesday\", \"Wednesday\", \"Thursday\", \"Friday\", \"Saturday\", \"Sunday\"]\n",
    "\n",
    "# receive sales for each day\n",
    "sales = [float(input(f\"Enter {days[index]}'s sales:\")) for index in range(7)]\n",
    "\n",
    "total_sales = 0.0\n",
    "# summate sales\n",
    "for sale in sales:\n",
    "    total_sales += sale\n",
    "print(f\"Total Sales: ${format(total_sales, '.2f')}\")"
   ]
  },
  {
   "cell_type": "markdown",
   "metadata": {},
   "source": [
    "### Example 20\n"
   ]
  },
  {
   "cell_type": "code",
   "execution_count": 12,
   "metadata": {},
   "outputs": [
    {
     "data": {
      "text/plain": [
       "[1, 2, 3, 4, 5, 6, 7, 8, 9, 10]"
      ]
     },
     "execution_count": 12,
     "metadata": {},
     "output_type": "execute_result"
    }
   ],
   "source": [
    "numbers = [1, 2, 3, 4, 5, 6]\n",
    "\n",
    "# append in range [7, 10]\n",
    "for number in range(7, 10 + 1):\n",
    "    numbers.append(number)\n",
    "\n",
    "numbers"
   ]
  },
  {
   "cell_type": "markdown",
   "metadata": {},
   "source": [
    "### Example 21\n"
   ]
  },
  {
   "cell_type": "code",
   "execution_count": 13,
   "metadata": {},
   "outputs": [
    {
     "data": {
      "text/plain": [
       "[1, 2, 3, 4, 5, 6, 7, 8, 9, 10]"
      ]
     },
     "execution_count": 13,
     "metadata": {},
     "output_type": "execute_result"
    }
   ],
   "source": [
    "list1 = []\n",
    "\n",
    "for number in range(1, 10 + 1):\n",
    "    list1.append(number)\n",
    "\n",
    "list1"
   ]
  },
  {
   "cell_type": "markdown",
   "metadata": {},
   "source": [
    "### Example 22\n"
   ]
  },
  {
   "cell_type": "code",
   "execution_count": 15,
   "metadata": {},
   "outputs": [
    {
     "name": "stdin",
     "output_type": "stream",
     "text": [
      "Enter a snack name: Chips\n"
     ]
    },
    {
     "name": "stdout",
     "output_type": "stream",
     "text": [
      "Index: 1\n"
     ]
    }
   ],
   "source": [
    "snacks = [\"Cookies\", \"Chips\", \"Crackers\"]\n",
    "\n",
    "# try to find snack name else handle error\n",
    "try:\n",
    "    print(f'Index: {snacks.index(input(\"Enter a snack name:\"))}')\n",
    "except:\n",
    "    print(\"Not found\")"
   ]
  },
  {
   "cell_type": "markdown",
   "metadata": {},
   "source": [
    "### Example 23\n"
   ]
  },
  {
   "cell_type": "code",
   "execution_count": 17,
   "metadata": {},
   "outputs": [
    {
     "data": {
      "text/plain": [
       "['Fruit', 'Cookies', 'Chips', 'Vegetable', 'Crackers']"
      ]
     },
     "execution_count": 17,
     "metadata": {},
     "output_type": "execute_result"
    }
   ],
   "source": [
    "snacks = [\"Cookies\", \"Chips\", \"Crackers\"]\n",
    "\n",
    "snacks.insert(0, \"Fruit\")\n",
    "snacks.insert(-1, \"Vegetable\")\n",
    "\n",
    "snacks"
   ]
  },
  {
   "cell_type": "markdown",
   "metadata": {},
   "source": [
    "### Example 24\n"
   ]
  },
  {
   "cell_type": "code",
   "execution_count": 18,
   "metadata": {},
   "outputs": [
    {
     "data": {
      "text/plain": [
       "['apes', 'apps', 'bots', 'boys', 'cars', 'cats']"
      ]
     },
     "execution_count": 18,
     "metadata": {},
     "output_type": "execute_result"
    }
   ],
   "source": [
    "list1 = [\"bots\", \"apes\", \"cats\", \"apps\", \"boys\", \"cars\"]\n",
    "list1.sort()\n",
    "list1"
   ]
  },
  {
   "cell_type": "markdown",
   "metadata": {},
   "source": [
    "### Example 25\n"
   ]
  },
  {
   "cell_type": "code",
   "execution_count": 19,
   "metadata": {},
   "outputs": [
    {
     "name": "stdout",
     "output_type": "stream",
     "text": [
      "Duplicate number attempted to be removed\n"
     ]
    },
    {
     "data": {
      "text/plain": [
       "[5, 8, 5]"
      ]
     },
     "execution_count": 19,
     "metadata": {},
     "output_type": "execute_result"
    }
   ],
   "source": [
    "import random\n",
    "\n",
    "# generate numbers 1 to 10\n",
    "numbers = [number for number in range(1, 10 + 1)]\n",
    "# generate three random indexes\n",
    "remove_indexes = [random.randint(1, 10) for _ in range(3)]\n",
    "\n",
    "# remove number at random index else handle error\n",
    "for index in range(3):\n",
    "    try:\n",
    "        numbers.remove(remove_indexes[index])\n",
    "    except:\n",
    "        print(\"Duplicate number attempted to be removed\")\n",
    "\n",
    "remove_indexes"
   ]
  },
  {
   "cell_type": "markdown",
   "metadata": {},
   "source": [
    "### Example 26\n"
   ]
  },
  {
   "cell_type": "code",
   "execution_count": 43,
   "metadata": {},
   "outputs": [
    {
     "name": "stdout",
     "output_type": "stream",
     "text": [
      "1\n"
     ]
    }
   ],
   "source": [
    "phrase = [\"this\", \"is\", \"a\", \"short\", \"phrase\"]\n",
    "\n",
    "print(phrase.count(\"this\"))"
   ]
  },
  {
   "cell_type": "markdown",
   "metadata": {},
   "source": [
    "### Example 27\n"
   ]
  },
  {
   "cell_type": "code",
   "execution_count": 21,
   "metadata": {},
   "outputs": [
    {
     "name": "stdin",
     "output_type": "stream",
     "text": [
      "Enter a song name to remove: Song4\n"
     ]
    },
    {
     "name": "stdout",
     "output_type": "stream",
     "text": [
      "Songs: ['Song1', 'Song2', 'Song3']\n"
     ]
    }
   ],
   "source": [
    "def main():\n",
    "    my_hits = [\"Song1\", \"Song2\", \"Song3\", \"Song4\"]\n",
    "\n",
    "    # handle removing song\n",
    "    try:\n",
    "        my_hits.remove(input(\"Enter a song name to remove:\"))\n",
    "    except:\n",
    "        print(\"Song does not exist.\")\n",
    "\n",
    "    print(f\"Songs: {my_hits}\")\n",
    "\n",
    "\n",
    "main()"
   ]
  },
  {
   "cell_type": "markdown",
   "metadata": {},
   "source": [
    "### Example 28\n"
   ]
  },
  {
   "cell_type": "code",
   "execution_count": 22,
   "metadata": {},
   "outputs": [
    {
     "name": "stdin",
     "output_type": "stream",
     "text": [
      "Enter a number: 1\n",
      "Enter a number: 2\n",
      "Enter a number: 3\n",
      "Enter a number: 4\n",
      "Enter a number: 5\n",
      "Enter a number: 6\n",
      "Enter a number: 7\n",
      "Enter a number: 8\n",
      "Enter a number: 9\n",
      "Enter a number: 10\n",
      "Enter a number: 11\n",
      "Enter a number: 12\n",
      "Enter a number: 13\n",
      "Enter a number: 14\n",
      "Enter a number: 15\n",
      "Enter a number: 16\n",
      "Enter a number: 17\n",
      "Enter a number: 18\n",
      "Enter a number: 19\n",
      "Enter a number: 20\n"
     ]
    },
    {
     "name": "stdout",
     "output_type": "stream",
     "text": [
      "Maximum: 20.0, Minimum: 1.0, Total: 210.0, Average: 10.5\n"
     ]
    }
   ],
   "source": [
    "numbers = [float(input(\"Enter a number:\")) for _ in range(20)]\n",
    "\n",
    "print(\n",
    "    f\"Maximum: {max(numbers)}, Minimum: {min(numbers)}, Total: {(total := sum(numbers))}, Average: {total / len(numbers)}\"\n",
    ")"
   ]
  },
  {
   "cell_type": "markdown",
   "metadata": {},
   "source": [
    "### Example 29\n"
   ]
  },
  {
   "cell_type": "code",
   "execution_count": 24,
   "metadata": {},
   "outputs": [
    {
     "name": "stdout",
     "output_type": "stream",
     "text": [
      "['a', 'b', 'c', 'd', 'e'] ['z', 'b', 'c', 'd', 'e']\n"
     ]
    }
   ],
   "source": [
    "letters_1 = [\"a\", \"b\", \"c\", \"d\", \"e\"]\n",
    "letters_2 = letters_1.copy()\n",
    "# mutate\n",
    "letters_2[0] = \"z\"\n",
    "\n",
    "print(letters_1, letters_2)"
   ]
  },
  {
   "cell_type": "markdown",
   "metadata": {},
   "source": [
    "### Example 30\n"
   ]
  },
  {
   "cell_type": "code",
   "execution_count": 25,
   "metadata": {},
   "outputs": [
    {
     "name": "stdout",
     "output_type": "stream",
     "text": [
      "(['a', 'b', 'c', 'd', 'e'], 5)\n"
     ]
    }
   ],
   "source": [
    "def main():\n",
    "    print(return_list())\n",
    "\n",
    "\n",
    "def return_list():\n",
    "    list1 = [\"a\", \"b\", \"c\", \"d\", \"e\"]\n",
    "    return list1, len(list1)\n",
    "\n",
    "\n",
    "main()"
   ]
  },
  {
   "cell_type": "markdown",
   "metadata": {},
   "source": [
    "### Example 31\n"
   ]
  },
  {
   "cell_type": "code",
   "execution_count": 26,
   "metadata": {},
   "outputs": [
    {
     "name": "stdout",
     "output_type": "stream",
     "text": [
      "Winning Raffle Ticket Number: 70\n"
     ]
    }
   ],
   "source": [
    "import random\n",
    "\n",
    "tickets = [number for number in range(1, 100 + 1)]\n",
    "\n",
    "# choose 1 random ticket\n",
    "print(f\"Winning Raffle Ticket Number: {random.choice(tickets)}\")"
   ]
  },
  {
   "cell_type": "markdown",
   "metadata": {},
   "source": [
    "### Example 32\n"
   ]
  },
  {
   "cell_type": "code",
   "execution_count": 27,
   "metadata": {},
   "outputs": [
    {
     "name": "stdout",
     "output_type": "stream",
     "text": [
      "Winning Raffles: [60, 17, 34, 67, 58]\n"
     ]
    }
   ],
   "source": [
    "import random\n",
    "\n",
    "tickets = [number for number in range(1, 100 + 1)]\n",
    "\n",
    "# choose 5 unique samples\n",
    "print(f\"Winning Raffles: {random.sample(tickets, 5)}\")"
   ]
  },
  {
   "cell_type": "markdown",
   "metadata": {},
   "source": [
    "### Example 33\n"
   ]
  },
  {
   "cell_type": "code",
   "execution_count": 28,
   "metadata": {},
   "outputs": [
    {
     "name": "stdout",
     "output_type": "stream",
     "text": [
      "Meals: ['Lamb', 'Pork', 'Chicken', 'Chicken', 'Pork']\n"
     ]
    }
   ],
   "source": [
    "import random\n",
    "\n",
    "meals = [\"Chicken\", \"Pork\", \"Steak\", \"Veal\", \"Lamb\"]\n",
    "\n",
    "# choose 5 choices\n",
    "print(f\"Meals: {random.choices(meals, k=5)}\")"
   ]
  },
  {
   "cell_type": "markdown",
   "metadata": {},
   "source": [
    "### Example 34\n"
   ]
  },
  {
   "cell_type": "code",
   "execution_count": 29,
   "metadata": {},
   "outputs": [],
   "source": [
    "with open(\"songs.txt\", \"w\") as songs_f:\n",
    "    songs = [\"Song1\", \"Song2\", \"Song3\", \"Song4\", \"Song5\", \"Song6\"]\n",
    "    # write songs to file\n",
    "    for song in songs:\n",
    "        songs_f.write(song + \"\\n\")"
   ]
  },
  {
   "cell_type": "markdown",
   "metadata": {},
   "source": [
    "### Example 35\n"
   ]
  },
  {
   "cell_type": "code",
   "execution_count": 30,
   "metadata": {},
   "outputs": [
    {
     "name": "stdout",
     "output_type": "stream",
     "text": [
      "['Song1', 'Song2', 'Song3', 'Song4', 'Song5', 'Song6']\n"
     ]
    }
   ],
   "source": [
    "with open(\"songs.txt\", \"r\") as songs_f:\n",
    "    # read songs to list\n",
    "    songs = songs_f.readlines()\n",
    "    # strip new line on songs\n",
    "    for index in range(len(songs)):\n",
    "        songs[index] = songs[index].rstrip(\"\\n\")\n",
    "    print(songs)"
   ]
  },
  {
   "cell_type": "markdown",
   "metadata": {},
   "source": [
    "### Example 36\n"
   ]
  },
  {
   "cell_type": "code",
   "execution_count": 32,
   "metadata": {},
   "outputs": [
    {
     "name": "stdout",
     "output_type": "stream",
     "text": [
      "Average: 202876.17073170733, Greatest Change: 3185, Smallest Change: 1881\n"
     ]
    }
   ],
   "source": [
    "with open(\"USPopulation.txt\", \"r\") as populations_f:\n",
    "    # read populations to list\n",
    "    populations = populations_f.readlines()\n",
    "    # convert populations to type int\n",
    "    populations = [int(population) for population in populations]\n",
    "\n",
    "    # compute changes in population from the difference of population[n + 1] - population[n]\n",
    "    populations_changes = [\n",
    "        populations[index + 1] - populations[index]\n",
    "        for index in range(len(populations) - 1)\n",
    "    ]\n",
    "\n",
    "    # arithmetic\n",
    "    print(\n",
    "        f\"Average: {sum(populations) / len(populations)}, Greatest Change: {max(populations_changes)}, Smallest Change: {min(populations_changes)}\"\n",
    "    )"
   ]
  },
  {
   "cell_type": "markdown",
   "metadata": {},
   "source": [
    "### Example 37\n"
   ]
  },
  {
   "cell_type": "code",
   "execution_count": 34,
   "metadata": {},
   "outputs": [
    {
     "name": "stdout",
     "output_type": "stream",
     "text": [
      "Student has passed the exam.\n",
      "NO. Correct: 20, NO. Incorrect: 0\n"
     ]
    }
   ],
   "source": [
    "with open(\"correct-answers.txt\", \"r\") as correct_f, open(\n",
    "    \"test-answers.txt\", \"r\"\n",
    ") as test_f:\n",
    "    # generate list of booleans representing the correctness of answers (1 -> correct, 0 -> incorrect)\n",
    "    responses = [correct_f.readline() == test_f.readline() for _ in range(20)]\n",
    "    # find amount of correct responses\n",
    "    correct_responses = responses.count(1)\n",
    "\n",
    "    print(f\"Student {'has' if correct_responses >= 15 else 'has not'} passed the exam.\")\n",
    "    print(f\"NO. Correct: {correct_responses}, NO. Incorrect: {20 - correct_responses}\")\n",
    "    # print incorrect indices\n",
    "    for index in range(20):\n",
    "        if not responses[index]:\n",
    "            print(f\"Question {index} Incorrect\")"
   ]
  },
  {
   "cell_type": "markdown",
   "metadata": {},
   "source": [
    "### Example 38\n"
   ]
  },
  {
   "cell_type": "code",
   "execution_count": 35,
   "metadata": {},
   "outputs": [
    {
     "name": "stdin",
     "output_type": "stream",
     "text": [
      "Enter a number: 20\n"
     ]
    },
    {
     "name": "stdout",
     "output_type": "stream",
     "text": [
      "2 is prime\n",
      "3 is prime\n",
      "4 is not prime\n",
      "5 is prime\n",
      "6 is not prime\n",
      "7 is prime\n",
      "8 is not prime\n",
      "9 is not prime\n",
      "10 is not prime\n",
      "11 is prime\n",
      "12 is not prime\n",
      "13 is prime\n",
      "14 is not prime\n",
      "15 is not prime\n",
      "16 is not prime\n",
      "17 is prime\n",
      "18 is not prime\n",
      "19 is prime\n",
      "20 is not prime\n"
     ]
    }
   ],
   "source": [
    "def main():\n",
    "    # generate numbers up to input\n",
    "    numbers = [number for number in range(2, int(input(\"Enter a number:\")) + 1)]\n",
    "    for number in numbers:\n",
    "        is_prime(number)\n",
    "\n",
    "\n",
    "def is_prime(input):\n",
    "    if input <= 1:\n",
    "        print(f\"{input} is not prime\")\n",
    "        return\n",
    "    if input <= 3:\n",
    "        print(f\"{input} is prime\")\n",
    "        return\n",
    "\n",
    "    if input % 2 == 0:\n",
    "        print(f\"{input} is not prime\")\n",
    "        return\n",
    "\n",
    "    # check the product of all numbers up to: input // 2\n",
    "    for number_1 in range(1, input // 2):\n",
    "        for number_2 in range(1, input // 2):\n",
    "            if number_1 * number_2 == input:\n",
    "                print(f\"{input} is not prime\")\n",
    "                return\n",
    "    print(f\"{input} is prime\")\n",
    "    return\n",
    "\n",
    "\n",
    "main()"
   ]
  },
  {
   "cell_type": "markdown",
   "metadata": {},
   "source": [
    "### Example 39\n"
   ]
  },
  {
   "cell_type": "code",
   "execution_count": 36,
   "metadata": {},
   "outputs": [
    {
     "name": "stdout",
     "output_type": "stream",
     "text": [
      "[81.0, 49.0, 49.0, 49.0, 16.0, 16.0, 81.0, 81.0, 9.0, 25.0, 49.0, 1.0, 36.0, 1.0, 1.0, 81.0, 9.0, 1.0, 100.0, 49.0, 9.0, 9.0, 100.0, 100.0, 9.0, 1.0, 36.0, 81.0, 25.0, 16.0, 4.0, 36.0, 9.0, 49.0, 16.0, 49.0, 100.0, 100.0, 25.0, 100.0, 9.0, 16.0, 100.0, 16.0, 81.0, 16.0, 9.0, 49.0, 100.0, 4.0, 49.0, 9.0, 36.0, 49.0, 49.0, 81.0, 81.0, 4.0, 1.0, 4.0, 4.0, 25.0, 36.0, 16.0, 4.0, 36.0, 64.0, 64.0, 16.0, 9.0, 4.0, 25.0, 25.0, 25.0, 4.0, 36.0, 9.0, 100.0, 36.0, 4.0, 16.0, 25.0, 100.0, 36.0, 1.0, 25.0, 25.0, 1.0, 4.0, 49.0, 16.0, 9.0, 36.0, 49.0, 9.0, 9.0, 9.0, 25.0, 64.0, 64.0] [9.0, 7.0, 7.0, 7.0, 4.0, 4.0, 9.0, 9.0, 3.0, 5.0, 7.0, 1.0, 6.0, 1.0, 1.0, 9.0, 3.0, 1.0, 10.0, 7.0, 3.0, 3.0, 10.0, 10.0, 3.0, 1.0, 6.0, 9.0, 5.0, 4.0, 2.0, 6.0, 3.0, 7.0, 4.0, 7.0, 10.0, 10.0, 5.0, 10.0, 3.0, 4.0, 10.0, 4.0, 9.0, 4.0, 3.0, 7.0, 10.0, 2.0, 7.0, 3.0, 6.0, 7.0, 7.0, 9.0, 9.0, 2.0, 1.0, 2.0, 2.0, 5.0, 6.0, 4.0, 2.0, 6.0, 8.0, 8.0, 4.0, 3.0, 2.0, 5.0, 5.0, 5.0, 2.0, 6.0, 3.0, 10.0, 6.0, 2.0, 4.0, 5.0, 10.0, 6.0, 1.0, 5.0, 5.0, 1.0, 2.0, 7.0, 4.0, 3.0, 6.0, 7.0, 3.0, 3.0, 3.0, 5.0, 8.0, 8.0]\n"
     ]
    }
   ],
   "source": [
    "import random\n",
    "import math\n",
    "\n",
    "# generate 100 integers [1, 10] and square\n",
    "list1 = [math.pow(random.randint(1, 10), 2) for _ in range(100)]\n",
    "# find square roots\n",
    "list2 = [math.sqrt(number) for number in list1]\n",
    "\n",
    "print(list1, list2)"
   ]
  },
  {
   "cell_type": "markdown",
   "metadata": {},
   "source": [
    "### Example 40\n"
   ]
  },
  {
   "cell_type": "code",
   "execution_count": 37,
   "metadata": {},
   "outputs": [
    {
     "name": "stdout",
     "output_type": "stream",
     "text": [
      "[100.0, 4.0, 4.0, 1.0, 4.0, 25.0, 100.0, 16.0, 25.0, 25.0, 64.0, 64.0, 1.0, 100.0, 36.0, 49.0, 81.0, 16.0, 25.0, 25.0, 36.0, 36.0, 100.0, 81.0, 100.0, 25.0, 49.0, 4.0, 49.0, 1.0, 16.0, 9.0, 100.0, 64.0, 36.0, 4.0, 9.0, 100.0, 64.0, 36.0, 64.0, 9.0, 1.0, 64.0, 1.0, 25.0, 9.0, 1.0, 49.0, 81.0, 16.0, 9.0, 4.0, 25.0, 25.0, 4.0, 4.0, 1.0, 36.0, 16.0, 16.0, 100.0, 81.0, 100.0, 64.0, 1.0, 9.0, 64.0, 49.0, 16.0, 100.0, 36.0, 4.0, 49.0, 64.0, 36.0, 9.0, 4.0, 9.0, 4.0, 100.0, 4.0, 100.0, 36.0, 1.0, 81.0, 64.0, 36.0, 81.0, 9.0, 100.0, 25.0, 100.0, 1.0, 9.0, 100.0, 36.0, 81.0, 16.0, 25.0]\n",
      "[10.0, 2.0, 2.0, 1.0, 2.0, 5.0, 10.0, 4.0, 5.0, 5.0, 8.0, 8.0, 1.0, 10.0, 6.0, 7.0, 9.0, 4.0, 5.0, 5.0, 6.0, 6.0, 10.0, 9.0, 10.0, 5.0, 7.0, 2.0, 7.0, 1.0, 4.0, 3.0, 10.0, 8.0, 6.0, 2.0, 3.0, 10.0, 8.0, 6.0, 8.0, 3.0, 1.0, 8.0, 1.0, 5.0, 3.0, 1.0, 7.0, 9.0, 4.0, 3.0, 2.0, 5.0, 5.0, 2.0, 2.0, 1.0, 6.0, 4.0, 4.0, 10.0, 9.0, 10.0, 8.0, 1.0, 3.0, 8.0, 7.0, 4.0, 10.0, 6.0, 2.0, 7.0, 8.0, 6.0, 3.0, 2.0, 3.0, 2.0, 10.0, 2.0, 10.0, 6.0, 1.0, 9.0, 8.0, 6.0, 9.0, 3.0, 10.0, 5.0, 10.0, 1.0, 3.0, 10.0, 6.0, 9.0, 4.0, 5.0]\n",
      "[1.0, 5.0, 5.0, 5.0, 1.0, 7.0, 9.0, 5.0, 5.0, 9.0, 5.0, 7.0, 7.0, 1.0, 3.0, 3.0, 3.0, 1.0, 1.0, 5.0, 3.0, 1.0, 7.0, 9.0, 3.0, 5.0, 5.0, 1.0, 9.0, 1.0, 3.0, 7.0, 7.0, 3.0, 3.0, 1.0, 9.0, 9.0, 3.0, 5.0, 1.0, 3.0, 9.0, 5.0]\n"
     ]
    }
   ],
   "source": [
    "import random\n",
    "import math\n",
    "\n",
    "# generate 100 integers [1, 10] and square\n",
    "list1 = [math.pow(random.randint(1, 10), 2) for _ in range(100)]\n",
    "# find square roots\n",
    "list2 = [math.sqrt(number) for number in list1]\n",
    "# filter odds\n",
    "list3 = [number for number in list2 if number % 2]\n",
    "\n",
    "print(list1, list2, list3, sep=\"\\n\")"
   ]
  },
  {
   "cell_type": "markdown",
   "metadata": {},
   "source": [
    "### Example 41\n"
   ]
  },
  {
   "cell_type": "code",
   "execution_count": 38,
   "metadata": {},
   "outputs": [
    {
     "name": "stdout",
     "output_type": "stream",
     "text": [
      "True\n",
      "True\n",
      "False\n"
     ]
    }
   ],
   "source": [
    "def is_lo_shu_square(square):\n",
    "    # find sum\n",
    "    number = square[0][0] + square[0][1] + square[0][2]\n",
    "\n",
    "    column_sums = [0, 0, 0]\n",
    "    row_sums = [0, 0, 0]\n",
    "\n",
    "    for column_index in range(3):\n",
    "        for row_index in range(3):\n",
    "            # sum column\n",
    "            column_sums[column_index] += square[column_index][row_index]\n",
    "            # sum row\n",
    "            row_sums[column_index] += square[row_index][column_index]\n",
    "        # check if the column sum is equal to number\n",
    "        if column_sums[column_index] != number:\n",
    "            return False\n",
    "        # check if the row sum is equal to number\n",
    "        if row_sums[column_index] != number:\n",
    "            return False\n",
    "\n",
    "    # check diagonals\n",
    "    return (square[0][0] + square[1][1] + square[2][2] == number) and (\n",
    "        square[0][2] + square[1][1] + square[2][0] == number\n",
    "    )\n",
    "\n",
    "\n",
    "print(is_lo_shu_square([[1, 1, 1], [1, 1, 1], [1, 1, 1]]))\n",
    "print(is_lo_shu_square([[4, 9, 2], [3, 5, 7], [8, 1, 6]]))\n",
    "print(is_lo_shu_square([[4, 9, 2], [3, 5, 7], [8, 1, 7]]))"
   ]
  },
  {
   "cell_type": "markdown",
   "metadata": {},
   "source": [
    "### Example 42\n"
   ]
  },
  {
   "cell_type": "code",
   "execution_count": 1,
   "metadata": {},
   "outputs": [
    {
     "name": "stdout",
     "output_type": "stream",
     "text": [
      "<class 'tuple'>\n",
      "<class 'list'>\n",
      "<class 'tuple'>\n"
     ]
    }
   ],
   "source": [
    "numbers = (1, 2, 3, 4, 5)\n",
    "# tuple\n",
    "print(type(numbers))\n",
    "\n",
    "numbers = list(numbers)\n",
    "# list\n",
    "print(type(numbers))\n",
    "\n",
    "number = (1,)\n",
    "# tuple\n",
    "print(type(number))"
   ]
  }
 ],
 "metadata": {
  "kernelspec": {
   "display_name": "Python 3 (ipykernel)",
   "language": "python",
   "name": "python3"
  },
  "language_info": {
   "codemirror_mode": {
    "name": "ipython",
    "version": 3
   },
   "file_extension": ".py",
   "mimetype": "text/x-python",
   "name": "python",
   "nbconvert_exporter": "python",
   "pygments_lexer": "ipython3",
   "version": "3.11.8"
  }
 },
 "nbformat": 4,
 "nbformat_minor": 4
}
