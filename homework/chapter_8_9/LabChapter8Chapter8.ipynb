{
 "cells": [
  {
   "cell_type": "code",
   "execution_count": 1,
   "metadata": {},
   "outputs": [
    {
     "data": {
      "text/plain": [
       "9"
      ]
     },
     "execution_count": 1,
     "metadata": {},
     "output_type": "execute_result"
    }
   ],
   "source": [
    "# Question 1\n",
    "\n",
    "string1 = \"The quick brown fox jumps over the lazy black dog\"\n",
    "white_spaces = 0\n",
    "for character in string1:\n",
    "    # increment white_spaces if character is a space\n",
    "    white_spaces += character == \" \"\n",
    "\n",
    "white_spaces"
   ]
  },
  {
   "cell_type": "code",
   "execution_count": 5,
   "metadata": {},
   "outputs": [
    {
     "name": "stdin",
     "output_type": "stream",
     "text": [
      "Enter your password: aaaaaaa!\n"
     ]
    },
    {
     "name": "stdout",
     "output_type": "stream",
     "text": [
      "Your password is valid.\n"
     ]
    }
   ],
   "source": [
    "# Question 2\n",
    "\n",
    "\n",
    "def is_valid_password(password):\n",
    "    length = len(password)\n",
    "    # check length\n",
    "    if length < 8 or length > 20:\n",
    "        return False\n",
    "\n",
    "    special_characters = 0\n",
    "    for character in password:\n",
    "        # check whitespace\n",
    "        if character == \" \":\n",
    "            return False\n",
    "        # increment if special character\n",
    "        special_characters += character in [\"#\", \"&\", \"$\", \"!\", \"@\", \"%\", \"*\"]\n",
    "    return special_characters >= 1\n",
    "\n",
    "\n",
    "def main():\n",
    "    if is_valid_password(input(\"Enter your password:\")):\n",
    "        print(\"Your password is valid.\")\n",
    "    else:\n",
    "        print(\"Your password is not valid.\")\n",
    "\n",
    "\n",
    "main()"
   ]
  },
  {
   "cell_type": "code",
   "execution_count": 6,
   "metadata": {},
   "outputs": [
    {
     "data": {
      "text/plain": [
       "'Teqikbonfxjmsoe h aydg'"
      ]
     },
     "execution_count": 6,
     "metadata": {},
     "output_type": "execute_result"
    }
   ],
   "source": [
    "# Question 3\n",
    "\n",
    "string1 = \"The quick brown fox jumps over the lazy dog\"\n",
    "string2 = string1[::2]\n",
    "\n",
    "string2"
   ]
  },
  {
   "cell_type": "code",
   "execution_count": 7,
   "metadata": {},
   "outputs": [
    {
     "name": "stdin",
     "output_type": "stream",
     "text": [
      "Enter a position: 10\n"
     ]
    },
    {
     "name": "stdout",
     "output_type": "stream",
     "text": [
      "b\n"
     ]
    }
   ],
   "source": [
    "# Question 4\n",
    "\n",
    "string1 = \"The quick brown fox jumps over the lazy black dog\"\n",
    "try:\n",
    "    print(string1[int(input(\"Enter a position:\"))])\n",
    "except IndexError:\n",
    "    print(\"ERROR: Invalid index.\")"
   ]
  },
  {
   "cell_type": "code",
   "execution_count": 8,
   "metadata": {},
   "outputs": [
    {
     "data": {
      "text/plain": [
       "('Corey', 'Mostero')"
      ]
     },
     "execution_count": 8,
     "metadata": {},
     "output_type": "execute_result"
    }
   ],
   "source": [
    "# Question 5\n",
    "\n",
    "string1 = \"Corey Mostero\"\n",
    "first_name = string1[0:5]\n",
    "last_name = string1[6:]\n",
    "\n",
    "first_name, last_name"
   ]
  },
  {
   "cell_type": "code",
   "execution_count": 9,
   "metadata": {},
   "outputs": [
    {
     "data": {
      "text/plain": [
       "'Teqikbonfxjmsoe h aybakdg'"
      ]
     },
     "execution_count": 9,
     "metadata": {},
     "output_type": "execute_result"
    }
   ],
   "source": [
    "# Question 6\n",
    "\n",
    "string1 = \"The quick brown fox jumps over the lazy black dog\"\n",
    "string2 = string1[::2]\n",
    "\n",
    "string2"
   ]
  },
  {
   "cell_type": "code",
   "execution_count": 10,
   "metadata": {},
   "outputs": [
    {
     "name": "stdin",
     "output_type": "stream",
     "text": [
      "Enter a word to see if it is a palindrone: racecar\n"
     ]
    },
    {
     "name": "stdout",
     "output_type": "stream",
     "text": [
      "That is a palindrone!\n"
     ]
    }
   ],
   "source": [
    "# Question 7\n",
    "\n",
    "\n",
    "def is_palindrone(word):\n",
    "    return word == word[::-1]\n",
    "\n",
    "\n",
    "if is_palindrone(input(\"Enter a word to see if it is a palindrone:\")):\n",
    "    print(\"That is a palindrone!\")\n",
    "else:\n",
    "    print(\"That is not a palindrone.\")"
   ]
  },
  {
   "cell_type": "code",
   "execution_count": 11,
   "metadata": {},
   "outputs": [
    {
     "name": "stdin",
     "output_type": "stream",
     "text": [
      "Enter your car make: Toyota\n",
      "Enter your car model: Prius\n",
      "Enter your car's model year: 2001\n"
     ]
    },
    {
     "name": "stdout",
     "output_type": "stream",
     "text": [
      "License Plate: Toyius01\n"
     ]
    }
   ],
   "source": [
    "# Question 8\n",
    "\n",
    "make = input(\"Enter your car make:\")\n",
    "model = input(\"Enter your car model:\")\n",
    "year = input(\"Enter your car's model year:\")\n",
    "\n",
    "print(f\"License Plate: {make[:3] + model[-3:] + year[-2:]}\")"
   ]
  },
  {
   "cell_type": "code",
   "execution_count": 12,
   "metadata": {},
   "outputs": [
    {
     "name": "stdout",
     "output_type": "stream",
     "text": [
      "False\n"
     ]
    }
   ],
   "source": [
    "# Question 9\n",
    "\n",
    "string = \"dowaijfoigjodirbjdiojvciaojcaicboryovbairtybycniornaeycio\"\n",
    "print(\"cat\" in string)"
   ]
  },
  {
   "cell_type": "code",
   "execution_count": 13,
   "metadata": {},
   "outputs": [
    {
     "name": "stdin",
     "output_type": "stream",
     "text": [
      "Enter a string: Ab123!\n"
     ]
    },
    {
     "name": "stdout",
     "output_type": "stream",
     "text": [
      "Pass!\n"
     ]
    }
   ],
   "source": [
    "# Question 10\n",
    "\n",
    "string = input(\"Enter a string:\")\n",
    "# string = \"Ab123!\"\n",
    "\n",
    "if string.isalnum():\n",
    "    print(\"Failure.\")\n",
    "elif string.isalpha():\n",
    "    print(\"Failure.\")\n",
    "elif string.isdigit():\n",
    "    print(\"Failure.\")\n",
    "elif string.islower():\n",
    "    print(\"Failure.\")\n",
    "elif string.isspace():\n",
    "    print(\"Failure.\")\n",
    "elif string.isupper():\n",
    "    print(\"Failure.\")\n",
    "else:\n",
    "    print(\"Pass!\")"
   ]
  },
  {
   "cell_type": "code",
   "execution_count": 14,
   "metadata": {},
   "outputs": [
    {
     "name": "stdin",
     "output_type": "stream",
     "text": [
      "Enter the subject of your email: SUBJECT\n"
     ]
    },
    {
     "name": "stdout",
     "output_type": "stream",
     "text": [
      "Subject\n"
     ]
    }
   ],
   "source": [
    "# Qquestion 11\n",
    "\n",
    "print(input(\"Enter the subject of your email:\").capitalize())"
   ]
  },
  {
   "cell_type": "code",
   "execution_count": 15,
   "metadata": {},
   "outputs": [
    {
     "name": "stdin",
     "output_type": "stream",
     "text": [
      "Enter a website URL: orange.gov\n"
     ]
    },
    {
     "name": "stdout",
     "output_type": "stream",
     "text": [
      "Uh oh!\n"
     ]
    }
   ],
   "source": [
    "# Question 12\n",
    "\n",
    "print(\"Uh oh!\" if input(\"Enter a website URL:\").endswith((\"gov\", \"com\")) else \"Hack!\")"
   ]
  },
  {
   "cell_type": "code",
   "execution_count": 16,
   "metadata": {},
   "outputs": [
    {
     "data": {
      "text/plain": [
       "['12', '31', '2021']"
      ]
     },
     "execution_count": 16,
     "metadata": {},
     "output_type": "execute_result"
    }
   ],
   "source": [
    "# Question 13\n",
    "\n",
    "date = \"12/31/2021\"\n",
    "date.split(\"/\")"
   ]
  },
  {
   "cell_type": "code",
   "execution_count": 17,
   "metadata": {},
   "outputs": [
    {
     "name": "stdin",
     "output_type": "stream",
     "text": [
      "Enter your first name and last name (FIRSTNAME LASTNAME): COREY MOSTERO\n",
      "Enter your birthdate (MM/DD/YYYY): 04/24/2003\n"
     ]
    },
    {
     "name": "stdout",
     "output_type": "stream",
     "text": [
      "Your password is: MOSTEROCOREY2003\n"
     ]
    }
   ],
   "source": [
    "# Question 14\n",
    "\n",
    "full_name = input(\"Enter your first name and last name (FIRSTNAME LASTNAME):\")\n",
    "birthdate = input(\"Enter your birthdate (MM/DD/YYYY):\")\n",
    "\n",
    "print(\n",
    "    f\"Your password is: {''.join(full_name.split(' ')[::-1])}{birthdate.split('/')[-1]}\"\n",
    ")"
   ]
  },
  {
   "cell_type": "code",
   "execution_count": 18,
   "metadata": {},
   "outputs": [
    {
     "data": {
      "text/plain": [
       "['irs.gov,', 'ca.gov,', 'cdc.gov']"
      ]
     },
     "execution_count": 18,
     "metadata": {},
     "output_type": "execute_result"
    }
   ],
   "source": [
    "# Question 15\n",
    "\n",
    "string1 = \"Government websites to visit are: irs.com, ca.com, cdc.com\"\n",
    "\n",
    "corrected_sites = [\n",
    "    word.replace(\"com\", \"gov\") for word in string1.split(\" \") if \".\" in word\n",
    "]\n",
    "corrected_sites"
   ]
  },
  {
   "cell_type": "code",
   "execution_count": 19,
   "metadata": {},
   "outputs": [
    {
     "name": "stdin",
     "output_type": "stream",
     "text": [
      "Number: 10\n",
      "Present progressive action: Eating\n",
      "Present simple action: eat\n",
      "Present simplie action: eat\n",
      "Noun: apple\n",
      "Number: 10\n",
      "Adjective: awesome\n",
      "Noun: apple\n",
      "Noun: apple\n"
     ]
    },
    {
     "name": "stdout",
     "output_type": "stream",
     "text": [
      "At least 10 times a day I enjoy Eating, but before doing so I eat. To set the scene, I eat three eggs for breakfast, exercise by lifting heavy apples 10 times. If I am feeling extra awesome, I may even call my apple and feed my apple some doggy snacks.\n"
     ]
    }
   ],
   "source": [
    "# Question 16\n",
    "\n",
    "print(\n",
    "    f\"At least {input('Number:')} times a day I enjoy {input('Present progressive action:')}, but before doing so I {input('Present simple action:')}. To set the scene, I {input('Present simplie action:')} three eggs for breakfast, exercise by lifting heavy {input('Noun:')}s {input('Number:')} times. If I am feeling extra {input('Adjective:')}, I may even call my {input('Noun:')} and feed my {input('Noun:')} some doggy snacks.\"\n",
    ")"
   ]
  },
  {
   "cell_type": "code",
   "execution_count": 20,
   "metadata": {},
   "outputs": [
    {
     "name": "stdin",
     "output_type": "stream",
     "text": [
      "First name: Corey\n",
      "Middle Name: Ryan\n",
      "Last Name: Mostero\n"
     ]
    },
    {
     "name": "stdout",
     "output_type": "stream",
     "text": [
      "C. R. M.\n"
     ]
    }
   ],
   "source": [
    "# Question 17 - Exercise 1\n",
    "\n",
    "print(\n",
    "    f\"{input('First name:')[0]}. {input('Middle Name:')[0]}. {input('Last Name:')[0]}.\"\n",
    ")"
   ]
  },
  {
   "cell_type": "code",
   "execution_count": 21,
   "metadata": {},
   "outputs": [
    {
     "name": "stdin",
     "output_type": "stream",
     "text": [
      "Enter an integer: 100\n"
     ]
    },
    {
     "name": "stdout",
     "output_type": "stream",
     "text": [
      "Sum: 1\n"
     ]
    }
   ],
   "source": [
    "# Question 18 - Exercise 2\n",
    "\n",
    "print(f\"Sum: {sum(int(number) for number in input('Enter an integer:'))}\")"
   ]
  },
  {
   "cell_type": "code",
   "execution_count": 22,
   "metadata": {},
   "outputs": [
    {
     "name": "stdin",
     "output_type": "stream",
     "text": [
      "Enter a date (MM/DD/YYYY): 04/24/2003\n"
     ]
    },
    {
     "name": "stdout",
     "output_type": "stream",
     "text": [
      "April 24, 2003\n"
     ]
    }
   ],
   "source": [
    "# Question 19 - Exercise 3\n",
    "\n",
    "date = [int(number) for number in input(\"Enter a date (MM/DD/YYYY):\").split(\"/\")]\n",
    "months = [\n",
    "    \"January\",\n",
    "    \"February\",\n",
    "    \"March\",\n",
    "    \"April\",\n",
    "    \"May\",\n",
    "    \"June\",\n",
    "    \"July\",\n",
    "    \"August\",\n",
    "    \"September\",\n",
    "    \"October\",\n",
    "    \"November\",\n",
    "    \"December\",\n",
    "]\n",
    "print(f\"{months[date[0] - 1]} {date[1]}, {date[2]}\")"
   ]
  },
  {
   "cell_type": "code",
   "execution_count": 50,
   "metadata": {},
   "outputs": [
    {
     "name": "stdin",
     "output_type": "stream",
     "text": [
      "Enter a string to convert to morse code: corey\n"
     ]
    },
    {
     "name": "stdout",
     "output_type": "stream",
     "text": [
      "-.-.---.-..-.--\n"
     ]
    }
   ],
   "source": [
    "# Question 20 - Exercise 4\n",
    "\n",
    "# morse lookup talbe\n",
    "morse_code_table = [\n",
    "    (\" \", \" \"),\n",
    "    (\",\", \"--..--\"),\n",
    "    (\".\", \".-.-.-\"),\n",
    "    (\"?\", \"..--..\"),\n",
    "    (\"0\", \"-----\"),\n",
    "    (\"1\", \".----\"),\n",
    "    (\"2\", \"..---\"),\n",
    "    (\"3\", \"...--\"),\n",
    "    (\"4\", \"....-\"),\n",
    "    (\"5\", \".....\"),\n",
    "    (\"6\", \"-....\"),\n",
    "    (\"7\", \"--...\"),\n",
    "    (\"8\", \"---..\"),\n",
    "    (\"9\", \"----.\"),\n",
    "    (\"A\", \".-\"),\n",
    "    (\"B\", \"-...\"),\n",
    "    (\"C\", \"-.-.\"),\n",
    "    (\"D\", \"-..\"),\n",
    "    (\"E\", \".\"),\n",
    "    (\"F\", \"..-.\"),\n",
    "    (\"G\", \"--.\"),\n",
    "    (\"H\", \"....\"),\n",
    "    (\"I\", \"..\"),\n",
    "    (\"J\", \".---\"),\n",
    "    (\"K\", \"-.-\"),\n",
    "    (\"L\", \".-..\"),\n",
    "    (\"M\", \"--\"),\n",
    "    (\"N\", \"-.\"),\n",
    "    (\"O\", \"---\"),\n",
    "    (\"P\", \".--.\"),\n",
    "    (\"Q\", \"--.-\"),\n",
    "    (\"R\", \".-.\"),\n",
    "    (\"S\", \"...\"),\n",
    "    (\"T\", \"-\"),\n",
    "    (\"U\", \"..-\"),\n",
    "    (\"V\", \"...-\"),\n",
    "    (\"W\", \".--\"),\n",
    "    (\"X\", \"-..-\"),\n",
    "    (\"Y\", \"-.--\"),\n",
    "    (\"Z\", \"--..\"),\n",
    "]\n",
    "\n",
    "print(\n",
    "    \"\".join(\n",
    "        convert[1]\n",
    "        for character in input(\"Enter a string to convert to morse code:\").upper()\n",
    "        for convert in morse_code_table\n",
    "        if convert[0] == character\n",
    "    )\n",
    ")"
   ]
  },
  {
   "cell_type": "code",
   "execution_count": 24,
   "metadata": {},
   "outputs": [
    {
     "name": "stdin",
     "output_type": "stream",
     "text": [
      "Enter a 10-character telephone number (XXX-XXX-XXXX): 123-456-7890\n"
     ]
    },
    {
     "name": "stdout",
     "output_type": "stream",
     "text": [
      "123-456-7890\n"
     ]
    }
   ],
   "source": [
    "# Question 21 - Exercise 5\n",
    "\n",
    "convert_table = [\n",
    "    \"2\",\n",
    "    \"2\",\n",
    "    \"2\",\n",
    "    \"3\",\n",
    "    \"3\",\n",
    "    \"3\",\n",
    "    \"4\",\n",
    "    \"4\",\n",
    "    \"4\",\n",
    "    \"5\",\n",
    "    \"5\",\n",
    "    \"5\",\n",
    "    \"6\",\n",
    "    \"6\",\n",
    "    \"6\",\n",
    "    \"7\",\n",
    "    \"7\",\n",
    "    \"7\",\n",
    "    \"7\",\n",
    "    \"8\",\n",
    "    \"8\",\n",
    "    \"8\",\n",
    "    \"9\",\n",
    "    \"9\",\n",
    "    \"9\",\n",
    "    \"9\",\n",
    "]\n",
    "\n",
    "print(\n",
    "    \"\".join(  # 5. join string\n",
    "        (\n",
    "            letter\n",
    "            if letter.isdigit()\n",
    "            or letter == \"-\"  # 3. if letter is number or hyphen return immediately\n",
    "            else convert_table[ord(letter) - 65]  # 4. else use convert table\n",
    "        )\n",
    "        for letter in input(\n",
    "            \"Enter a 10-character telephone number (XXX-XXX-XXXX):\"  # 1. get input\n",
    "        ).upper()  # 2. convert to uppercase\n",
    "    )\n",
    ")"
   ]
  },
  {
   "cell_type": "code",
   "execution_count": 25,
   "metadata": {},
   "outputs": [
    {
     "name": "stdout",
     "output_type": "stream",
     "text": [
      "Average words per sentence: 3.25\n"
     ]
    }
   ],
   "source": [
    "# Question 22 - Exercise 6\n",
    "\n",
    "words = 0\n",
    "sentences = 0\n",
    "\n",
    "with open(\"test.txt\", \"r\") as test_f:\n",
    "    for line in test_f:\n",
    "        words += len(line.split(\" \"))\n",
    "        sentences += 1\n",
    "\n",
    "print(f\"Average words per sentence: {words / sentences}\")"
   ]
  },
  {
   "cell_type": "code",
   "execution_count": 26,
   "metadata": {},
   "outputs": [
    {
     "name": "stdin",
     "output_type": "stream",
     "text": [
      "Enter a string: apples\n"
     ]
    },
    {
     "data": {
      "text/plain": [
       "'p'"
      ]
     },
     "execution_count": 26,
     "metadata": {},
     "output_type": "execute_result"
    }
   ],
   "source": [
    "# Question 23 - Exercise 10\n",
    "\n",
    "string = input(\"Enter a string:\")\n",
    "max((string.count(char), char) for char in string.lower())[1]"
   ]
  },
  {
   "cell_type": "code",
   "execution_count": 27,
   "metadata": {},
   "outputs": [],
   "source": [
    "# Question 1\n",
    "\n",
    "phones = {\n",
    "    \"friend_1\": \"123-1234-1234\",\n",
    "    \"friend_2\": \"223-1234-1234\",\n",
    "    \"friend_3\": \"323-1234-1234\",\n",
    "}"
   ]
  },
  {
   "cell_type": "code",
   "execution_count": 28,
   "metadata": {},
   "outputs": [
    {
     "name": "stdout",
     "output_type": "stream",
     "text": [
      "friend_1 123-1234-1234\n",
      "friend_2 223-1234-1234\n",
      "friend_3 323-1234-1234\n"
     ]
    }
   ],
   "source": [
    "# Question 2\n",
    "\n",
    "for information in phones:\n",
    "    print(information, phones[information])"
   ]
  },
  {
   "cell_type": "code",
   "execution_count": 29,
   "metadata": {},
   "outputs": [
    {
     "name": "stdin",
     "output_type": "stream",
     "text": [
      "Whose # do you want? friend_2\n"
     ]
    },
    {
     "name": "stdout",
     "output_type": "stream",
     "text": [
      "223-1234-1234\n"
     ]
    }
   ],
   "source": [
    "# Question 3\n",
    "\n",
    "print(\n",
    "    phones[friend]\n",
    "    if phones.get(friend := input(\"Whose # do you want?\"))\n",
    "    else \"Not found.\"\n",
    ")"
   ]
  },
  {
   "cell_type": "code",
   "execution_count": 30,
   "metadata": {},
   "outputs": [
    {
     "name": "stdout",
     "output_type": "stream",
     "text": [
      "friend_1\n",
      "friend_2\n",
      "friend_3\n",
      "123-1234-1234\n",
      "223-1234-1234\n",
      "323-1234-1234\n",
      "friend_1 123-1234-1234\n",
      "friend_2 223-1234-1234\n",
      "friend_3 323-1234-1234\n"
     ]
    }
   ],
   "source": [
    "# Question 4\n",
    "\n",
    "for key in phones.keys():\n",
    "    print(key)\n",
    "for value in phones.values():\n",
    "    print(value)\n",
    "for key, value in phones.items():\n",
    "    print(key, value)"
   ]
  },
  {
   "cell_type": "code",
   "execution_count": 31,
   "metadata": {},
   "outputs": [
    {
     "name": "stdout",
     "output_type": "stream",
     "text": [
      "{'friend_2': '223-1234-1234', 'friend_3': '323-1234-1234'}\n",
      "{'friend_2': '223-1234-1234'}\n"
     ]
    }
   ],
   "source": [
    "# Question 5\n",
    "\n",
    "phones.pop(\"friend_1\")\n",
    "print(phones)\n",
    "\n",
    "phones.popitem()\n",
    "print(phones)"
   ]
  },
  {
   "cell_type": "code",
   "execution_count": 32,
   "metadata": {},
   "outputs": [
    {
     "data": {
      "text/plain": [
       "{'old_friend': '01/01/2001', 'new_friend': '12/12/2012'}"
      ]
     },
     "execution_count": 32,
     "metadata": {},
     "output_type": "execute_result"
    }
   ],
   "source": [
    "# Question 6\n",
    "\n",
    "old = {\"old_friend\": \"01/01/2001\"}\n",
    "new = {\"new_friend\": \"12/12/2012\"}\n",
    "\n",
    "old | new"
   ]
  },
  {
   "cell_type": "code",
   "execution_count": 33,
   "metadata": {},
   "outputs": [
    {
     "data": {
      "text/plain": [
       "{'old_friend': '01/01/2001', 'new_friend': '12/12/2012'}"
      ]
     },
     "execution_count": 33,
     "metadata": {},
     "output_type": "execute_result"
    }
   ],
   "source": [
    "# Question 7\n",
    "\n",
    "old = {\"old_friend\": \"01/01/2001\"}\n",
    "new = {\"new_friend\": \"12/12/2012\"}\n",
    "\n",
    "old |= new\n",
    "old"
   ]
  },
  {
   "cell_type": "code",
   "execution_count": 34,
   "metadata": {},
   "outputs": [
    {
     "data": {
      "text/plain": [
       "{1: 1,\n",
       " 4: 8,\n",
       " 9: 27,\n",
       " 16: 64,\n",
       " 25: 125,\n",
       " 36: 216,\n",
       " 49: 343,\n",
       " 64: 512,\n",
       " 81: 729,\n",
       " 100: 1000}"
      ]
     },
     "execution_count": 34,
     "metadata": {},
     "output_type": "execute_result"
    }
   ],
   "source": [
    "# Question 8\n",
    "\n",
    "numbers = list(range(1, 10 + 1))\n",
    "dict = {number**2: number**3 for number in numbers}\n",
    "dict"
   ]
  },
  {
   "cell_type": "code",
   "execution_count": 35,
   "metadata": {},
   "outputs": [
    {
     "data": {
      "text/plain": [
       "{'friend_1': 1}"
      ]
     },
     "execution_count": 35,
     "metadata": {},
     "output_type": "execute_result"
    }
   ],
   "source": [
    "# Question 9\n",
    "\n",
    "# create friends with name: friend_<index> and distance: <index>\n",
    "friends = {f\"friend_{number}\": number for number in list(range(1, 10 + 1))}\n",
    "close_friends = {name: distance for name, distance in friends.items() if distance < 2}\n",
    "close_friends"
   ]
  },
  {
   "cell_type": "code",
   "execution_count": 36,
   "metadata": {},
   "outputs": [
    {
     "data": {
      "text/plain": [
       "{'friend_1': 1,\n",
       " 'friend_2': 2,\n",
       " 'friend_3': 3,\n",
       " 'friend_4': 4,\n",
       " 'friend_5': 5,\n",
       " 'friend_6': 6,\n",
       " 'friend_7': 7,\n",
       " 'friend_8': 8,\n",
       " 'friend_9': 9,\n",
       " 'friend_10': 10}"
      ]
     },
     "execution_count": 36,
     "metadata": {},
     "output_type": "execute_result"
    }
   ],
   "source": [
    "# Question 10\n",
    "\n",
    "# create friends with name: friend_<index> and distance: <index>\n",
    "friends = {f\"friend_{number}\": number for number in list(range(1, 10 + 1))}\n",
    "picnic_friends = {name: distance for name, distance in friends.items() if \"f\" in name}\n",
    "picnic_friends"
   ]
  },
  {
   "cell_type": "code",
   "execution_count": 37,
   "metadata": {},
   "outputs": [],
   "source": [
    "# Question 11\n",
    "\n",
    "# Not a problem?"
   ]
  },
  {
   "cell_type": "code",
   "execution_count": 38,
   "metadata": {},
   "outputs": [
    {
     "data": {
      "text/plain": [
       "{'flavored water', 'water'}"
      ]
     },
     "execution_count": 38,
     "metadata": {},
     "output_type": "execute_result"
    }
   ],
   "source": [
    "# Question 12\n",
    "\n",
    "favorite_drinks = {\"water\"}\n",
    "favorite_drinks.add(\"flavored water\")\n",
    "favorite_drinks"
   ]
  },
  {
   "cell_type": "code",
   "execution_count": 39,
   "metadata": {},
   "outputs": [
    {
     "data": {
      "text/plain": [
       "{1, 2, 3, 'abc'}"
      ]
     },
     "execution_count": 39,
     "metadata": {},
     "output_type": "execute_result"
    }
   ],
   "source": [
    "# Question 13\n",
    "\n",
    "set1 = {1, 2, 3}\n",
    "set1.add(\"abc\")\n",
    "set1"
   ]
  },
  {
   "cell_type": "code",
   "execution_count": 40,
   "metadata": {},
   "outputs": [
    {
     "data": {
      "text/plain": [
       "{1, 2, 3}"
      ]
     },
     "execution_count": 40,
     "metadata": {},
     "output_type": "execute_result"
    }
   ],
   "source": [
    "# Question 14\n",
    "\n",
    "set1 = {1, 2, 3, \"abc\"}\n",
    "\n",
    "try:\n",
    "    set1.remove(\"XXX\")\n",
    "except:\n",
    "    pass\n",
    "set1.discard(\"XXX\")\n",
    "\n",
    "set1.remove(\"abc\")\n",
    "set1"
   ]
  },
  {
   "cell_type": "code",
   "execution_count": 41,
   "metadata": {},
   "outputs": [
    {
     "name": "stdout",
     "output_type": "stream",
     "text": [
      "35 unique even numbers.\n"
     ]
    }
   ],
   "source": [
    "# Question 15\n",
    "\n",
    "import random\n",
    "\n",
    "# 100 random integers [1, 100]\n",
    "number = {random.randint(1, 100) for _ in range(100)}\n",
    "print(\n",
    "    f\"{len({even_number for even_number in number if (even_number % 2) == 0})} unique even numbers.\"\n",
    ")"
   ]
  },
  {
   "cell_type": "code",
   "execution_count": 42,
   "metadata": {},
   "outputs": [],
   "source": [
    "# Question 16\n",
    "\n",
    "# 15: { 1, 20, 30, 40, 50, 60 }\n",
    "# 16: { 'p', 's' }\n",
    "# 17: { 'f' }\n",
    "# 18: { 'a', 'b', 'c' }\n",
    "# 19: { 1, 4 }"
   ]
  },
  {
   "cell_type": "code",
   "execution_count": 43,
   "metadata": {},
   "outputs": [
    {
     "data": {
      "text/plain": [
       "{1: 31,\n",
       " 2: 28,\n",
       " 3: 31,\n",
       " 4: 30,\n",
       " 5: 31,\n",
       " 6: 30,\n",
       " 7: 31,\n",
       " 8: 31,\n",
       " 9: 30,\n",
       " 10: 31,\n",
       " 11: 30,\n",
       " 12: 31}"
      ]
     },
     "execution_count": 43,
     "metadata": {},
     "output_type": "execute_result"
    }
   ],
   "source": [
    "# Question 17\n",
    "\n",
    "# if month is 1, 3, 5, 7, 8, 10, 12 => 31 days, if not february => 30, else 28\n",
    "months = {\n",
    "    month: 31 if month in {1, 3, 5, 7, 8, 10, 12} else 30 if month != 2 else 28\n",
    "    for month in range(1, 12 + 1)\n",
    "}\n",
    "months"
   ]
  },
  {
   "cell_type": "code",
   "execution_count": 44,
   "metadata": {},
   "outputs": [
    {
     "data": {
      "text/plain": [
       "[1, 2, 3, 4, 5, 6, 7, 8, 9, 10, 11, 12]"
      ]
     },
     "execution_count": 44,
     "metadata": {},
     "output_type": "execute_result"
    }
   ],
   "source": [
    "# Question 18\n",
    "\n",
    "months = {\n",
    "    month: 31 if month in {1, 3, 5, 7, 8, 10, 12} else 30 if month != 2 else 28\n",
    "    for month in range(1, 12 + 1)\n",
    "}\n",
    "# months\n",
    "month_keys_list = [month for month in months.keys()]\n",
    "month_keys_list"
   ]
  },
  {
   "cell_type": "code",
   "execution_count": 45,
   "metadata": {},
   "outputs": [
    {
     "data": {
      "text/plain": [
       "[31, 28, 31, 30, 31, 30, 31, 31, 30, 31, 30, 31]"
      ]
     },
     "execution_count": 45,
     "metadata": {},
     "output_type": "execute_result"
    }
   ],
   "source": [
    "# Question 19\n",
    "\n",
    "months = {\n",
    "    month: 31 if month in {1, 3, 5, 7, 8, 10, 12} else 30 if month != 2 else 28\n",
    "    for month in range(1, 12 + 1)\n",
    "}\n",
    "\n",
    "# days\n",
    "month_values_list = [days for days in months.values()]\n",
    "month_values_list"
   ]
  },
  {
   "cell_type": "code",
   "execution_count": 46,
   "metadata": {},
   "outputs": [],
   "source": [
    "# Question 20\n",
    "\n",
    "characters = [\n",
    "    \" \",\n",
    "    \"A\",\n",
    "    \"B\",\n",
    "    \"C\",\n",
    "    \"D\",\n",
    "    \"E\",\n",
    "    \"F\",\n",
    "    \"G\",\n",
    "    \"H\",\n",
    "    \"I\",\n",
    "    \"J\",\n",
    "    \"K\",\n",
    "    \"L\",\n",
    "    \"M\",\n",
    "    \"N\",\n",
    "    \"O\",\n",
    "    \"P\",\n",
    "    \"Q\",\n",
    "    \"R\",\n",
    "    \"S\",\n",
    "    \"T\",\n",
    "    \"U\",\n",
    "    \"V\",\n",
    "    \"W\",\n",
    "    \"X\",\n",
    "    \"Y\",\n",
    "    \"Z\",\n",
    "]\n",
    "\n",
    "# encryption is the following ascii character\n",
    "encryption_table = {character: chr(ord(character) + 1) for character in characters}\n",
    "# decryption is the reverse\n",
    "decryption_table = {value: key for key, value in encryption_table.items()}\n",
    "\n",
    "\n",
    "def encrypt(read_f_name, write_f_name):\n",
    "    # open files safely\n",
    "    with open(read_f_name, \"r\") as read_f, open(write_f_name, \"w\") as write_f:\n",
    "        for line in read_f.readlines():\n",
    "            # encrypt letter unless it is newline\n",
    "            encrypted_line = \"\".join(\n",
    "                encryption_table[letter] if letter != \"\\n\" else \"\\n\" for letter in line\n",
    "            )\n",
    "            # write encryption\n",
    "            write_f.write(encrypted_line)\n",
    "\n",
    "\n",
    "def decrypt(read_f_name, write_f_name):\n",
    "    # open files safely\n",
    "    with open(read_f_name, \"r\") as read_f, open(write_f_name, \"w\") as write_f:\n",
    "        for line in read_f.readlines():\n",
    "            # decrypt line\n",
    "            decrypted_line = \"\".join(\n",
    "                decryption_table[letter] if letter != \"\\n\" else \"\\n\" for letter in line\n",
    "            )\n",
    "            # write decryption\n",
    "            write_f.write(decrypted_line)\n",
    "\n",
    "\n",
    "def main():\n",
    "    encrypt(\"read.txt\", \"write.txt\")\n",
    "    decrypt(\"write.txt\", \"write2.txt\")\n",
    "\n",
    "\n",
    "main()"
   ]
  }
 ],
 "metadata": {
  "kernelspec": {
   "display_name": "Python 3 (ipykernel)",
   "language": "python",
   "name": "python3"
  },
  "language_info": {
   "codemirror_mode": {
    "name": "ipython",
    "version": 3
   },
   "file_extension": ".py",
   "mimetype": "text/x-python",
   "name": "python",
   "nbconvert_exporter": "python",
   "pygments_lexer": "ipython3",
   "version": "3.11.9"
  }
 },
 "nbformat": 4,
 "nbformat_minor": 4
}
